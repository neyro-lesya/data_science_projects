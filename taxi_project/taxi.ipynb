{
 "cells": [
  {
   "cell_type": "markdown",
   "metadata": {
    "toc": true
   },
   "source": [
    "<h1>Содержание<span class=\"tocSkip\"></span></h1>\n",
    "<div class=\"toc\"><ul class=\"toc-item\"><li><span><a href=\"#Подготовка\" data-toc-modified-id=\"Подготовка-1\"><span class=\"toc-item-num\">1&nbsp;&nbsp;</span>Подготовка</a></span></li><li><span><a href=\"#Анализ\" data-toc-modified-id=\"Анализ-2\"><span class=\"toc-item-num\">2&nbsp;&nbsp;</span>Анализ</a></span></li><li><span><a href=\"#подготовка-данных-к-обучению\" data-toc-modified-id=\"подготовка-данных-к-обучению-3\"><span class=\"toc-item-num\">3&nbsp;&nbsp;</span>подготовка данных к обучению</a></span></li><li><span><a href=\"#Обучение\" data-toc-modified-id=\"Обучение-4\"><span class=\"toc-item-num\">4&nbsp;&nbsp;</span>Обучение</a></span></li><li><span><a href=\"#Тестирование\" data-toc-modified-id=\"Тестирование-5\"><span class=\"toc-item-num\">5&nbsp;&nbsp;</span>Тестирование</a></span></li><li><span><a href=\"#Чек-лист-проверки\" data-toc-modified-id=\"Чек-лист-проверки-6\"><span class=\"toc-item-num\">6&nbsp;&nbsp;</span>Чек-лист проверки</a></span></li></ul></div>"
   ]
  },
  {
   "cell_type": "markdown",
   "metadata": {},
   "source": [
    "#  Прогнозирование заказов такси"
   ]
  },
  {
   "cell_type": "markdown",
   "metadata": {},
   "source": [
    "Компания «Чётенькое такси» собрала исторические данные о заказах такси в аэропортах. Чтобы привлекать больше водителей в период пиковой нагрузки, нужно спрогнозировать количество заказов такси на следующий час. Постройте модель для такого предсказания.\n",
    "\n",
    "Значение метрики *RMSE* на тестовой выборке должно быть не больше 48.\n",
    "\n",
    "Вам нужно:\n",
    "\n",
    "1. Загрузить данные и выполнить их ресемплирование по одному часу.\n",
    "2. Проанализировать данные.\n",
    "3. Обучить разные модели с различными гиперпараметрами. Сделать тестовую выборку размером 10% от исходных данных.\n",
    "4. Проверить данные на тестовой выборке и сделать выводы.\n",
    "\n",
    "\n",
    "Данные лежат в файле `taxi.csv`. Количество заказов находится в столбце `num_orders` (от англ. *number of orders*, «число заказов»)."
   ]
  },
  {
   "cell_type": "code",
   "execution_count": 1,
   "metadata": {},
   "outputs": [],
   "source": [
    "import pandas as pd\n",
    "import matplotlib.pyplot as plt\n",
    "from statsmodels.tsa.seasonal import seasonal_decompose\n",
    "from sklearn.model_selection import train_test_split, cross_val_score, TimeSeriesSplit\n",
    "from sklearn.linear_model import LinearRegression\n",
    "from sklearn.tree import DecisionTreeRegressor\n",
    "from sklearn.ensemble import RandomForestRegressor\n",
    "from lightgbm import LGBMRegressor\n",
    "from sklearn.metrics import mean_squared_error"
   ]
  },
  {
   "cell_type": "markdown",
   "metadata": {},
   "source": [
    "## Подготовка"
   ]
  },
  {
   "cell_type": "code",
   "execution_count": 2,
   "metadata": {},
   "outputs": [
    {
     "data": {
      "text/html": [
       "<div>\n",
       "<style scoped>\n",
       "    .dataframe tbody tr th:only-of-type {\n",
       "        vertical-align: middle;\n",
       "    }\n",
       "\n",
       "    .dataframe tbody tr th {\n",
       "        vertical-align: top;\n",
       "    }\n",
       "\n",
       "    .dataframe thead th {\n",
       "        text-align: right;\n",
       "    }\n",
       "</style>\n",
       "<table border=\"1\" class=\"dataframe\">\n",
       "  <thead>\n",
       "    <tr style=\"text-align: right;\">\n",
       "      <th></th>\n",
       "      <th>datetime</th>\n",
       "      <th>num_orders</th>\n",
       "    </tr>\n",
       "  </thead>\n",
       "  <tbody>\n",
       "    <tr>\n",
       "      <th>0</th>\n",
       "      <td>2018-03-01 00:00:00</td>\n",
       "      <td>9</td>\n",
       "    </tr>\n",
       "    <tr>\n",
       "      <th>1</th>\n",
       "      <td>2018-03-01 00:10:00</td>\n",
       "      <td>14</td>\n",
       "    </tr>\n",
       "    <tr>\n",
       "      <th>2</th>\n",
       "      <td>2018-03-01 00:20:00</td>\n",
       "      <td>28</td>\n",
       "    </tr>\n",
       "    <tr>\n",
       "      <th>3</th>\n",
       "      <td>2018-03-01 00:30:00</td>\n",
       "      <td>20</td>\n",
       "    </tr>\n",
       "    <tr>\n",
       "      <th>4</th>\n",
       "      <td>2018-03-01 00:40:00</td>\n",
       "      <td>32</td>\n",
       "    </tr>\n",
       "  </tbody>\n",
       "</table>\n",
       "</div>"
      ],
      "text/plain": [
       "              datetime  num_orders\n",
       "0  2018-03-01 00:00:00           9\n",
       "1  2018-03-01 00:10:00          14\n",
       "2  2018-03-01 00:20:00          28\n",
       "3  2018-03-01 00:30:00          20\n",
       "4  2018-03-01 00:40:00          32"
      ]
     },
     "metadata": {},
     "output_type": "display_data"
    }
   ],
   "source": [
    "data=None\n",
    "try:\n",
    "    data=pd.read_csv('/datasets/taxi.csv')\n",
    "    display(data.head())\n",
    "except:\n",
    "    print('Something went wrong')"
   ]
  },
  {
   "cell_type": "code",
   "execution_count": 3,
   "metadata": {},
   "outputs": [
    {
     "name": "stdout",
     "output_type": "stream",
     "text": [
      "<class 'pandas.core.frame.DataFrame'>\n",
      "RangeIndex: 26496 entries, 0 to 26495\n",
      "Data columns (total 2 columns):\n",
      " #   Column      Non-Null Count  Dtype \n",
      "---  ------      --------------  ----- \n",
      " 0   datetime    26496 non-null  object\n",
      " 1   num_orders  26496 non-null  int64 \n",
      "dtypes: int64(1), object(1)\n",
      "memory usage: 414.1+ KB\n",
      "None\n"
     ]
    }
   ],
   "source": [
    "print(data.info())"
   ]
  },
  {
   "cell_type": "markdown",
   "metadata": {},
   "source": [
    "как мы увидели выше, столбец \"datetime\" хранит в себе конкретное время, а его тип данных - object, что не правильно, стоит привести этот столбец к типу DateTime"
   ]
  },
  {
   "cell_type": "code",
   "execution_count": 4,
   "metadata": {},
   "outputs": [
    {
     "name": "stdout",
     "output_type": "stream",
     "text": [
      "<class 'pandas.core.frame.DataFrame'>\n",
      "RangeIndex: 26496 entries, 0 to 26495\n",
      "Data columns (total 2 columns):\n",
      " #   Column      Non-Null Count  Dtype         \n",
      "---  ------      --------------  -----         \n",
      " 0   datetime    26496 non-null  datetime64[ns]\n",
      " 1   num_orders  26496 non-null  int64         \n",
      "dtypes: datetime64[ns](1), int64(1)\n",
      "memory usage: 414.1 KB\n",
      "None\n"
     ]
    }
   ],
   "source": [
    "data['datetime']= pd.to_datetime(data['datetime'])\n",
    "print(data.info())"
   ]
  },
  {
   "cell_type": "markdown",
   "metadata": {},
   "source": [
    "поскольку столбец num_orders показывает кол-во заказов за последние 10 минут, это значение может быть только int, что мы и видим, так что со стороны типов данных, эта таблица чиста."
   ]
  },
  {
   "cell_type": "markdown",
   "metadata": {},
   "source": [
    "проверим данные на пропуски. Это важно, поскольку на вход модели могут поступать только признаки не имеющие пропущенных значений. "
   ]
  },
  {
   "cell_type": "code",
   "execution_count": 5,
   "metadata": {},
   "outputs": [
    {
     "name": "stdout",
     "output_type": "stream",
     "text": [
      "datetime      0\n",
      "num_orders    0\n",
      "dtype: int64\n"
     ]
    }
   ],
   "source": [
    "print(data.isna().sum())"
   ]
  },
  {
   "cell_type": "markdown",
   "metadata": {},
   "source": [
    "пропусков нет, что очень хорошо, можем переходить к проверке на дубликаты (явные и неявные), но для начала явные:"
   ]
  },
  {
   "cell_type": "code",
   "execution_count": 6,
   "metadata": {},
   "outputs": [
    {
     "name": "stdout",
     "output_type": "stream",
     "text": [
      "0\n"
     ]
    }
   ],
   "source": [
    "print(data.duplicated().sum())"
   ]
  },
  {
   "cell_type": "markdown",
   "metadata": {},
   "source": [
    "отлично, явных дубликатов у нас нет, но стоит проверить нет ли дубликатов среди моментов времени, поскольку у нас не может быть такого, что один и тот же момент времени наступил несколько раз и выдал разные значения. "
   ]
  },
  {
   "cell_type": "code",
   "execution_count": 7,
   "metadata": {},
   "outputs": [
    {
     "name": "stdout",
     "output_type": "stream",
     "text": [
      "0\n"
     ]
    }
   ],
   "source": [
    "print(data['datetime'].duplicated().sum())"
   ]
  },
  {
   "cell_type": "markdown",
   "metadata": {},
   "source": [
    "отлично! Дубликатов нет. Данные чисты. Теперь, поскольку у нас предоставляются данные по моментам времени, мы должны будем анализировать временной ряд, но для этого данные должны быть разбиты на равные промежутки времени, проверим, так ли это. Как можно заметить по выведенным данным, временной шаг составляет 10 минут, проверим так ли это на всем промежутке.  "
   ]
  },
  {
   "cell_type": "code",
   "execution_count": 8,
   "metadata": {},
   "outputs": [],
   "source": [
    "last_val=data.iloc[0]['datetime'].minute\n",
    "new_val=0\n",
    "count=1\n",
    "for i in range (1, len(data['datetime'].unique())):\n",
    "    new_val=data.iloc[i]['datetime'].minute\n",
    "    if not(new_val-last_val==10 or last_val-new_val==50 and count==6):\n",
    "        print(last_val,new_val, i, count,'NO')\n",
    "        break\n",
    "    if count==6:\n",
    "        count=0\n",
    "    count+=1\n",
    "    last_val=new_val"
   ]
  },
  {
   "cell_type": "markdown",
   "metadata": {},
   "source": [
    "Поскольку ничего не вывелось, можно сказать, что шаг всегда один и тот же (10 минут)\n",
    "но стоит понимать,что мы анализировали только минуты, стоит еще проверить, действительно ли данные расположены в хронологическом порядке."
   ]
  },
  {
   "cell_type": "code",
   "execution_count": 9,
   "metadata": {},
   "outputs": [
    {
     "name": "stdout",
     "output_type": "stream",
     "text": [
      "True\n"
     ]
    }
   ],
   "source": [
    "print(data.index.is_monotonic)"
   ]
  },
  {
   "cell_type": "markdown",
   "metadata": {},
   "source": [
    "Данные расположены в хронологическом порядке. \n",
    "Так что можного говорить, что данные проверены, подготовим их к дальнейшему анализу (то есть индексами сделаем время) "
   ]
  },
  {
   "cell_type": "code",
   "execution_count": 10,
   "metadata": {},
   "outputs": [
    {
     "data": {
      "text/html": [
       "<div>\n",
       "<style scoped>\n",
       "    .dataframe tbody tr th:only-of-type {\n",
       "        vertical-align: middle;\n",
       "    }\n",
       "\n",
       "    .dataframe tbody tr th {\n",
       "        vertical-align: top;\n",
       "    }\n",
       "\n",
       "    .dataframe thead th {\n",
       "        text-align: right;\n",
       "    }\n",
       "</style>\n",
       "<table border=\"1\" class=\"dataframe\">\n",
       "  <thead>\n",
       "    <tr style=\"text-align: right;\">\n",
       "      <th></th>\n",
       "      <th>num_orders</th>\n",
       "    </tr>\n",
       "    <tr>\n",
       "      <th>datetime</th>\n",
       "      <th></th>\n",
       "    </tr>\n",
       "  </thead>\n",
       "  <tbody>\n",
       "    <tr>\n",
       "      <th>2018-03-01 00:00:00</th>\n",
       "      <td>9</td>\n",
       "    </tr>\n",
       "    <tr>\n",
       "      <th>2018-03-01 00:10:00</th>\n",
       "      <td>14</td>\n",
       "    </tr>\n",
       "    <tr>\n",
       "      <th>2018-03-01 00:20:00</th>\n",
       "      <td>28</td>\n",
       "    </tr>\n",
       "    <tr>\n",
       "      <th>2018-03-01 00:30:00</th>\n",
       "      <td>20</td>\n",
       "    </tr>\n",
       "    <tr>\n",
       "      <th>2018-03-01 00:40:00</th>\n",
       "      <td>32</td>\n",
       "    </tr>\n",
       "  </tbody>\n",
       "</table>\n",
       "</div>"
      ],
      "text/plain": [
       "                     num_orders\n",
       "datetime                       \n",
       "2018-03-01 00:00:00           9\n",
       "2018-03-01 00:10:00          14\n",
       "2018-03-01 00:20:00          28\n",
       "2018-03-01 00:30:00          20\n",
       "2018-03-01 00:40:00          32"
      ]
     },
     "metadata": {},
     "output_type": "display_data"
    }
   ],
   "source": [
    "data=data.set_index('datetime')\n",
    "display(data.head())"
   ]
  },
  {
   "cell_type": "markdown",
   "metadata": {},
   "source": [
    "все готово, можно преступать к анализу.\n",
    "\n",
    "**Вывод по данному этапу** На этапе подготовки мы загрузили данные, изменили формат данных столбца datetime и проверили, что данные не иммеют дубликатов, пропусков и равномерно распределены на временной оси. "
   ]
  },
  {
   "cell_type": "markdown",
   "metadata": {},
   "source": [
    "## Анализ"
   ]
  },
  {
   "cell_type": "markdown",
   "metadata": {},
   "source": [
    "построим график временного ряда."
   ]
  },
  {
   "cell_type": "code",
   "execution_count": 11,
   "metadata": {},
   "outputs": [
    {
     "data": {
      "image/png": "[encoded data removed]",
      "text/plain": [
       "<Figure size 432x288 with 1 Axes>"
      ]
     },
     "metadata": {
      "needs_background": "light"
     },
     "output_type": "display_data"
    }
   ],
   "source": [
    "data.plot()\n",
    "plt.title('зависимость кол-ва автомобилей от времени')\n",
    "plt.xlabel('дата')\n",
    "plt.ylabel('кол-во вызовов машин');"
   ]
  },
  {
   "cell_type": "markdown",
   "metadata": {},
   "source": [
    "такой график весьма не информативен, так что проведем ресемплирование по крайней мере по дням, поскольку у нас используются данные за несколько месяцев"
   ]
  },
  {
   "cell_type": "code",
   "execution_count": 12,
   "metadata": {},
   "outputs": [],
   "source": [
    "new_data=data.resample('1D').sum()"
   ]
  },
  {
   "cell_type": "code",
   "execution_count": 13,
   "metadata": {},
   "outputs": [
    {
     "data": {
      "image/png": "[encoded data removed]",
      "text/plain": [
       "<Figure size 432x288 with 1 Axes>"
      ]
     },
     "metadata": {
      "needs_background": "light"
     },
     "output_type": "display_data"
    }
   ],
   "source": [
    "new_data.plot()\n",
    "plt.title('зависимость кол-ва автомобилей от времени')\n",
    "plt.xlabel('дата')\n",
    "plt.ylabel('кол-во вызовов машин');"
   ]
  },
  {
   "cell_type": "markdown",
   "metadata": {},
   "source": [
    "по данному графику видно, что в основном количество вызванных автомобилей за день растет, так что можно сказать что временной ряд у нас не стационарный, но мы так же видим колебания значений на данном графике, сгладим его"
   ]
  },
  {
   "cell_type": "code",
   "execution_count": 14,
   "metadata": {},
   "outputs": [
    {
     "data": {
      "image/png": "[encoded data removed]",
      "text/plain": [
       "<Figure size 432x288 with 1 Axes>"
      ]
     },
     "metadata": {
      "needs_background": "light"
     },
     "output_type": "display_data"
    }
   ],
   "source": [
    "new_data['rolling_mean'] = new_data.rolling(15).mean()\n",
    "new_data.plot()\n",
    "plt.title('зависимость кол-ва автомобилей от времени')\n",
    "plt.xlabel('дата')\n",
    "plt.ylabel('кол-во вызовов машин');"
   ]
  },
  {
   "cell_type": "markdown",
   "metadata": {},
   "source": [
    "как мы видим по оранжевой линии, количество вызванных автомобилей действительно постепенно возрастает.\n",
    "так же мы можем отметить, что у наших данных нет глобальной сезонности (но это мы еще проверим ниже), поскольку значения практически постоянно растут, но зато можно сказать, что данные имеют тренд в увеличении количества заказов автомобилей вне зависимости от месяца/времени года и т.д\n",
    "\n",
    "К тому же стоит отметить, что скользящее среднне отражает практически прямую, так что есть больлшая вероятность, что для этой задачи может подойти обыкновенная линейная модель."
   ]
  },
  {
   "cell_type": "markdown",
   "metadata": {},
   "source": [
    "посмотрим на сезонность и тренд на графиках."
   ]
  },
  {
   "cell_type": "code",
   "execution_count": 15,
   "metadata": {},
   "outputs": [],
   "source": [
    "decomp=seasonal_decompose(new_data['num_orders']) "
   ]
  },
  {
   "cell_type": "code",
   "execution_count": 16,
   "metadata": {},
   "outputs": [
    {
     "data": {
      "image/png": "[encoded data removed]",
      "text/plain": [
       "<Figure size 432x288 with 1 Axes>"
      ]
     },
     "metadata": {
      "needs_background": "light"
     },
     "output_type": "display_data"
    },
    {
     "data": {
      "image/png": "[encoded data removed]",
      "text/plain": [
       "<Figure size 432x288 with 1 Axes>"
      ]
     },
     "metadata": {
      "needs_background": "light"
     },
     "output_type": "display_data"
    }
   ],
   "source": [
    "decomp.trend.plot(ax=plt.gca())\n",
    "plt.title('Trend')\n",
    "plt.show()\n",
    "decomp.seasonal.plot(ax=plt.gca()) \n",
    "plt.title('Seasonality')\n",
    "plt.show()"
   ]
  },
  {
   "cell_type": "markdown",
   "metadata": {},
   "source": [
    "как мы видим, на этом графике сложно определить сезонность, попробуем ее рассмотреть на более маленьком промежутке, потому что есть вероятность, что она зависит от дня недели, поскольку в какие-то дни могут летать более популя\n",
    "рные рейсы.\n",
    "*чтобы не засорять память, удалим new_data*"
   ]
  },
  {
   "cell_type": "code",
   "execution_count": 17,
   "metadata": {},
   "outputs": [
    {
     "data": {
      "image/png": "[encoded data removed]",
      "text/plain": [
       "<Figure size 432x288 with 1 Axes>"
      ]
     },
     "metadata": {
      "needs_background": "light"
     },
     "output_type": "display_data"
    }
   ],
   "source": [
    "new_decomp=seasonal_decompose(data.resample('1D').sum()['2018-05':'2018-07']) \n",
    "new_decomp.seasonal.plot(ax=plt.gca()) \n",
    "plt.title('Seasonality')\n",
    "plt.show()"
   ]
  },
  {
   "cell_type": "markdown",
   "metadata": {},
   "source": [
    "как мы видим временная ось разделена на 4 с небольшим отрезков, что в реальности соответствует неделям, то есть, можно сделать вывод о том, что в начале недели у нас заказы резко падают, то есть прилетают самолеты с не самых популярных рейсов, после чего кол-во вызовов возрастает, то есть делаем вывод о том, что данные у нас зависят от дня недели."
   ]
  },
  {
   "cell_type": "code",
   "execution_count": 18,
   "metadata": {},
   "outputs": [],
   "source": [
    "del new_data\n",
    "del decomp"
   ]
  },
  {
   "cell_type": "markdown",
   "metadata": {},
   "source": [
    "**вывод по этапу.** На данном этапе мы проанализировали наш временной ряд, поняли, что он имеет тренд в росте количества вызванных автомобилей, но этот параметр не имеет сезонности, то есть по нашим данным нельзя сказать, зависит ли он от времени года, поскольку нам предоставлено слишком мало данных."
   ]
  },
  {
   "cell_type": "markdown",
   "metadata": {},
   "source": [
    "## подготовка данных к обучению"
   ]
  },
  {
   "cell_type": "markdown",
   "metadata": {},
   "source": [
    "перейдем к процесу обучения моделей для прогнозирования, то есть решения задачи прогнозирования временного ряда (регрессия). "
   ]
  },
  {
   "cell_type": "markdown",
   "metadata": {},
   "source": [
    "Поскольку заказчику важно, чтобы мы проводили прогноз на час, нужно будет провести ресемплирование признаков"
   ]
  },
  {
   "cell_type": "code",
   "execution_count": 19,
   "metadata": {},
   "outputs": [
    {
     "data": {
      "text/html": [
       "<div>\n",
       "<style scoped>\n",
       "    .dataframe tbody tr th:only-of-type {\n",
       "        vertical-align: middle;\n",
       "    }\n",
       "\n",
       "    .dataframe tbody tr th {\n",
       "        vertical-align: top;\n",
       "    }\n",
       "\n",
       "    .dataframe thead th {\n",
       "        text-align: right;\n",
       "    }\n",
       "</style>\n",
       "<table border=\"1\" class=\"dataframe\">\n",
       "  <thead>\n",
       "    <tr style=\"text-align: right;\">\n",
       "      <th></th>\n",
       "      <th>num_orders</th>\n",
       "    </tr>\n",
       "    <tr>\n",
       "      <th>datetime</th>\n",
       "      <th></th>\n",
       "    </tr>\n",
       "  </thead>\n",
       "  <tbody>\n",
       "    <tr>\n",
       "      <th>2018-03-01 00:00:00</th>\n",
       "      <td>124</td>\n",
       "    </tr>\n",
       "    <tr>\n",
       "      <th>2018-03-01 01:00:00</th>\n",
       "      <td>85</td>\n",
       "    </tr>\n",
       "    <tr>\n",
       "      <th>2018-03-01 02:00:00</th>\n",
       "      <td>71</td>\n",
       "    </tr>\n",
       "    <tr>\n",
       "      <th>2018-03-01 03:00:00</th>\n",
       "      <td>66</td>\n",
       "    </tr>\n",
       "    <tr>\n",
       "      <th>2018-03-01 04:00:00</th>\n",
       "      <td>43</td>\n",
       "    </tr>\n",
       "  </tbody>\n",
       "</table>\n",
       "</div>"
      ],
      "text/plain": [
       "                     num_orders\n",
       "datetime                       \n",
       "2018-03-01 00:00:00         124\n",
       "2018-03-01 01:00:00          85\n",
       "2018-03-01 02:00:00          71\n",
       "2018-03-01 03:00:00          66\n",
       "2018-03-01 04:00:00          43"
      ]
     },
     "metadata": {},
     "output_type": "display_data"
    }
   ],
   "source": [
    "data=data.resample('1H').sum()\n",
    "display(data.head())"
   ]
  },
  {
   "cell_type": "markdown",
   "metadata": {},
   "source": [
    "Поскольку в нашем датасете есть только результаты, нужно получить и признаки, так что займемся созданием признаков из индексов (каленарные признаки), значения предудущих часов и значения скользящего среднего, показывающий общий тренд временного ряда.  \n",
    "\n",
    "1. введем календарные признаки:  день, месяц и день недели, как мы выяснили выше важный признак."
   ]
  },
  {
   "cell_type": "code",
   "execution_count": 20,
   "metadata": {},
   "outputs": [
    {
     "data": {
      "text/html": [
       "<div>\n",
       "<style scoped>\n",
       "    .dataframe tbody tr th:only-of-type {\n",
       "        vertical-align: middle;\n",
       "    }\n",
       "\n",
       "    .dataframe tbody tr th {\n",
       "        vertical-align: top;\n",
       "    }\n",
       "\n",
       "    .dataframe thead th {\n",
       "        text-align: right;\n",
       "    }\n",
       "</style>\n",
       "<table border=\"1\" class=\"dataframe\">\n",
       "  <thead>\n",
       "    <tr style=\"text-align: right;\">\n",
       "      <th></th>\n",
       "      <th>num_orders</th>\n",
       "      <th>month</th>\n",
       "      <th>day</th>\n",
       "      <th>dayofweek</th>\n",
       "    </tr>\n",
       "    <tr>\n",
       "      <th>datetime</th>\n",
       "      <th></th>\n",
       "      <th></th>\n",
       "      <th></th>\n",
       "      <th></th>\n",
       "    </tr>\n",
       "  </thead>\n",
       "  <tbody>\n",
       "    <tr>\n",
       "      <th>2018-03-01 00:00:00</th>\n",
       "      <td>124</td>\n",
       "      <td>3</td>\n",
       "      <td>1</td>\n",
       "      <td>3</td>\n",
       "    </tr>\n",
       "    <tr>\n",
       "      <th>2018-03-01 01:00:00</th>\n",
       "      <td>85</td>\n",
       "      <td>3</td>\n",
       "      <td>1</td>\n",
       "      <td>3</td>\n",
       "    </tr>\n",
       "    <tr>\n",
       "      <th>2018-03-01 02:00:00</th>\n",
       "      <td>71</td>\n",
       "      <td>3</td>\n",
       "      <td>1</td>\n",
       "      <td>3</td>\n",
       "    </tr>\n",
       "    <tr>\n",
       "      <th>2018-03-01 03:00:00</th>\n",
       "      <td>66</td>\n",
       "      <td>3</td>\n",
       "      <td>1</td>\n",
       "      <td>3</td>\n",
       "    </tr>\n",
       "    <tr>\n",
       "      <th>2018-03-01 04:00:00</th>\n",
       "      <td>43</td>\n",
       "      <td>3</td>\n",
       "      <td>1</td>\n",
       "      <td>3</td>\n",
       "    </tr>\n",
       "  </tbody>\n",
       "</table>\n",
       "</div>"
      ],
      "text/plain": [
       "                     num_orders  month  day  dayofweek\n",
       "datetime                                              \n",
       "2018-03-01 00:00:00         124      3    1          3\n",
       "2018-03-01 01:00:00          85      3    1          3\n",
       "2018-03-01 02:00:00          71      3    1          3\n",
       "2018-03-01 03:00:00          66      3    1          3\n",
       "2018-03-01 04:00:00          43      3    1          3"
      ]
     },
     "metadata": {},
     "output_type": "display_data"
    }
   ],
   "source": [
    "data['month'] = data.index.month\n",
    "data['day'] = data.index.day\n",
    "data['dayofweek'] = data.index.dayofweek\n",
    "display(data.head())"
   ]
  },
  {
   "cell_type": "markdown",
   "metadata": {},
   "source": [
    "2.  значения предудущих часов, мы будем брать информацию за прошедшие сутки ( то есть 24 часа), поскольку нам особо важно, что было в это же время но сутки назад и как изменялись показатели за это время."
   ]
  },
  {
   "cell_type": "code",
   "execution_count": 21,
   "metadata": {},
   "outputs": [
    {
     "data": {
      "text/html": [
       "<div>\n",
       "<style scoped>\n",
       "    .dataframe tbody tr th:only-of-type {\n",
       "        vertical-align: middle;\n",
       "    }\n",
       "\n",
       "    .dataframe tbody tr th {\n",
       "        vertical-align: top;\n",
       "    }\n",
       "\n",
       "    .dataframe thead th {\n",
       "        text-align: right;\n",
       "    }\n",
       "</style>\n",
       "<table border=\"1\" class=\"dataframe\">\n",
       "  <thead>\n",
       "    <tr style=\"text-align: right;\">\n",
       "      <th></th>\n",
       "      <th>num_orders</th>\n",
       "      <th>month</th>\n",
       "      <th>day</th>\n",
       "      <th>dayofweek</th>\n",
       "      <th>lag_1</th>\n",
       "      <th>lag_2</th>\n",
       "      <th>lag_3</th>\n",
       "      <th>lag_4</th>\n",
       "      <th>lag_5</th>\n",
       "      <th>lag_6</th>\n",
       "      <th>...</th>\n",
       "      <th>lag_15</th>\n",
       "      <th>lag_16</th>\n",
       "      <th>lag_17</th>\n",
       "      <th>lag_18</th>\n",
       "      <th>lag_19</th>\n",
       "      <th>lag_20</th>\n",
       "      <th>lag_21</th>\n",
       "      <th>lag_22</th>\n",
       "      <th>lag_23</th>\n",
       "      <th>lag_24</th>\n",
       "    </tr>\n",
       "    <tr>\n",
       "      <th>datetime</th>\n",
       "      <th></th>\n",
       "      <th></th>\n",
       "      <th></th>\n",
       "      <th></th>\n",
       "      <th></th>\n",
       "      <th></th>\n",
       "      <th></th>\n",
       "      <th></th>\n",
       "      <th></th>\n",
       "      <th></th>\n",
       "      <th></th>\n",
       "      <th></th>\n",
       "      <th></th>\n",
       "      <th></th>\n",
       "      <th></th>\n",
       "      <th></th>\n",
       "      <th></th>\n",
       "      <th></th>\n",
       "      <th></th>\n",
       "      <th></th>\n",
       "      <th></th>\n",
       "    </tr>\n",
       "  </thead>\n",
       "  <tbody>\n",
       "    <tr>\n",
       "      <th>2018-03-01 00:00:00</th>\n",
       "      <td>124</td>\n",
       "      <td>3</td>\n",
       "      <td>1</td>\n",
       "      <td>3</td>\n",
       "      <td>NaN</td>\n",
       "      <td>NaN</td>\n",
       "      <td>NaN</td>\n",
       "      <td>NaN</td>\n",
       "      <td>NaN</td>\n",
       "      <td>NaN</td>\n",
       "      <td>...</td>\n",
       "      <td>NaN</td>\n",
       "      <td>NaN</td>\n",
       "      <td>NaN</td>\n",
       "      <td>NaN</td>\n",
       "      <td>NaN</td>\n",
       "      <td>NaN</td>\n",
       "      <td>NaN</td>\n",
       "      <td>NaN</td>\n",
       "      <td>NaN</td>\n",
       "      <td>NaN</td>\n",
       "    </tr>\n",
       "    <tr>\n",
       "      <th>2018-03-01 01:00:00</th>\n",
       "      <td>85</td>\n",
       "      <td>3</td>\n",
       "      <td>1</td>\n",
       "      <td>3</td>\n",
       "      <td>124.0</td>\n",
       "      <td>NaN</td>\n",
       "      <td>NaN</td>\n",
       "      <td>NaN</td>\n",
       "      <td>NaN</td>\n",
       "      <td>NaN</td>\n",
       "      <td>...</td>\n",
       "      <td>NaN</td>\n",
       "      <td>NaN</td>\n",
       "      <td>NaN</td>\n",
       "      <td>NaN</td>\n",
       "      <td>NaN</td>\n",
       "      <td>NaN</td>\n",
       "      <td>NaN</td>\n",
       "      <td>NaN</td>\n",
       "      <td>NaN</td>\n",
       "      <td>NaN</td>\n",
       "    </tr>\n",
       "    <tr>\n",
       "      <th>2018-03-01 02:00:00</th>\n",
       "      <td>71</td>\n",
       "      <td>3</td>\n",
       "      <td>1</td>\n",
       "      <td>3</td>\n",
       "      <td>85.0</td>\n",
       "      <td>124.0</td>\n",
       "      <td>NaN</td>\n",
       "      <td>NaN</td>\n",
       "      <td>NaN</td>\n",
       "      <td>NaN</td>\n",
       "      <td>...</td>\n",
       "      <td>NaN</td>\n",
       "      <td>NaN</td>\n",
       "      <td>NaN</td>\n",
       "      <td>NaN</td>\n",
       "      <td>NaN</td>\n",
       "      <td>NaN</td>\n",
       "      <td>NaN</td>\n",
       "      <td>NaN</td>\n",
       "      <td>NaN</td>\n",
       "      <td>NaN</td>\n",
       "    </tr>\n",
       "    <tr>\n",
       "      <th>2018-03-01 03:00:00</th>\n",
       "      <td>66</td>\n",
       "      <td>3</td>\n",
       "      <td>1</td>\n",
       "      <td>3</td>\n",
       "      <td>71.0</td>\n",
       "      <td>85.0</td>\n",
       "      <td>124.0</td>\n",
       "      <td>NaN</td>\n",
       "      <td>NaN</td>\n",
       "      <td>NaN</td>\n",
       "      <td>...</td>\n",
       "      <td>NaN</td>\n",
       "      <td>NaN</td>\n",
       "      <td>NaN</td>\n",
       "      <td>NaN</td>\n",
       "      <td>NaN</td>\n",
       "      <td>NaN</td>\n",
       "      <td>NaN</td>\n",
       "      <td>NaN</td>\n",
       "      <td>NaN</td>\n",
       "      <td>NaN</td>\n",
       "    </tr>\n",
       "    <tr>\n",
       "      <th>2018-03-01 04:00:00</th>\n",
       "      <td>43</td>\n",
       "      <td>3</td>\n",
       "      <td>1</td>\n",
       "      <td>3</td>\n",
       "      <td>66.0</td>\n",
       "      <td>71.0</td>\n",
       "      <td>85.0</td>\n",
       "      <td>124.0</td>\n",
       "      <td>NaN</td>\n",
       "      <td>NaN</td>\n",
       "      <td>...</td>\n",
       "      <td>NaN</td>\n",
       "      <td>NaN</td>\n",
       "      <td>NaN</td>\n",
       "      <td>NaN</td>\n",
       "      <td>NaN</td>\n",
       "      <td>NaN</td>\n",
       "      <td>NaN</td>\n",
       "      <td>NaN</td>\n",
       "      <td>NaN</td>\n",
       "      <td>NaN</td>\n",
       "    </tr>\n",
       "    <tr>\n",
       "      <th>2018-03-01 05:00:00</th>\n",
       "      <td>6</td>\n",
       "      <td>3</td>\n",
       "      <td>1</td>\n",
       "      <td>3</td>\n",
       "      <td>43.0</td>\n",
       "      <td>66.0</td>\n",
       "      <td>71.0</td>\n",
       "      <td>85.0</td>\n",
       "      <td>124.0</td>\n",
       "      <td>NaN</td>\n",
       "      <td>...</td>\n",
       "      <td>NaN</td>\n",
       "      <td>NaN</td>\n",
       "      <td>NaN</td>\n",
       "      <td>NaN</td>\n",
       "      <td>NaN</td>\n",
       "      <td>NaN</td>\n",
       "      <td>NaN</td>\n",
       "      <td>NaN</td>\n",
       "      <td>NaN</td>\n",
       "      <td>NaN</td>\n",
       "    </tr>\n",
       "    <tr>\n",
       "      <th>2018-03-01 06:00:00</th>\n",
       "      <td>12</td>\n",
       "      <td>3</td>\n",
       "      <td>1</td>\n",
       "      <td>3</td>\n",
       "      <td>6.0</td>\n",
       "      <td>43.0</td>\n",
       "      <td>66.0</td>\n",
       "      <td>71.0</td>\n",
       "      <td>85.0</td>\n",
       "      <td>124.0</td>\n",
       "      <td>...</td>\n",
       "      <td>NaN</td>\n",
       "      <td>NaN</td>\n",
       "      <td>NaN</td>\n",
       "      <td>NaN</td>\n",
       "      <td>NaN</td>\n",
       "      <td>NaN</td>\n",
       "      <td>NaN</td>\n",
       "      <td>NaN</td>\n",
       "      <td>NaN</td>\n",
       "      <td>NaN</td>\n",
       "    </tr>\n",
       "    <tr>\n",
       "      <th>2018-03-01 07:00:00</th>\n",
       "      <td>15</td>\n",
       "      <td>3</td>\n",
       "      <td>1</td>\n",
       "      <td>3</td>\n",
       "      <td>12.0</td>\n",
       "      <td>6.0</td>\n",
       "      <td>43.0</td>\n",
       "      <td>66.0</td>\n",
       "      <td>71.0</td>\n",
       "      <td>85.0</td>\n",
       "      <td>...</td>\n",
       "      <td>NaN</td>\n",
       "      <td>NaN</td>\n",
       "      <td>NaN</td>\n",
       "      <td>NaN</td>\n",
       "      <td>NaN</td>\n",
       "      <td>NaN</td>\n",
       "      <td>NaN</td>\n",
       "      <td>NaN</td>\n",
       "      <td>NaN</td>\n",
       "      <td>NaN</td>\n",
       "    </tr>\n",
       "    <tr>\n",
       "      <th>2018-03-01 08:00:00</th>\n",
       "      <td>34</td>\n",
       "      <td>3</td>\n",
       "      <td>1</td>\n",
       "      <td>3</td>\n",
       "      <td>15.0</td>\n",
       "      <td>12.0</td>\n",
       "      <td>6.0</td>\n",
       "      <td>43.0</td>\n",
       "      <td>66.0</td>\n",
       "      <td>71.0</td>\n",
       "      <td>...</td>\n",
       "      <td>NaN</td>\n",
       "      <td>NaN</td>\n",
       "      <td>NaN</td>\n",
       "      <td>NaN</td>\n",
       "      <td>NaN</td>\n",
       "      <td>NaN</td>\n",
       "      <td>NaN</td>\n",
       "      <td>NaN</td>\n",
       "      <td>NaN</td>\n",
       "      <td>NaN</td>\n",
       "    </tr>\n",
       "    <tr>\n",
       "      <th>2018-03-01 09:00:00</th>\n",
       "      <td>69</td>\n",
       "      <td>3</td>\n",
       "      <td>1</td>\n",
       "      <td>3</td>\n",
       "      <td>34.0</td>\n",
       "      <td>15.0</td>\n",
       "      <td>12.0</td>\n",
       "      <td>6.0</td>\n",
       "      <td>43.0</td>\n",
       "      <td>66.0</td>\n",
       "      <td>...</td>\n",
       "      <td>NaN</td>\n",
       "      <td>NaN</td>\n",
       "      <td>NaN</td>\n",
       "      <td>NaN</td>\n",
       "      <td>NaN</td>\n",
       "      <td>NaN</td>\n",
       "      <td>NaN</td>\n",
       "      <td>NaN</td>\n",
       "      <td>NaN</td>\n",
       "      <td>NaN</td>\n",
       "    </tr>\n",
       "  </tbody>\n",
       "</table>\n",
       "<p>10 rows × 28 columns</p>\n",
       "</div>"
      ],
      "text/plain": [
       "                     num_orders  month  day  dayofweek  lag_1  lag_2  lag_3  \\\n",
       "datetime                                                                      \n",
       "2018-03-01 00:00:00         124      3    1          3    NaN    NaN    NaN   \n",
       "2018-03-01 01:00:00          85      3    1          3  124.0    NaN    NaN   \n",
       "2018-03-01 02:00:00          71      3    1          3   85.0  124.0    NaN   \n",
       "2018-03-01 03:00:00          66      3    1          3   71.0   85.0  124.0   \n",
       "2018-03-01 04:00:00          43      3    1          3   66.0   71.0   85.0   \n",
       "2018-03-01 05:00:00           6      3    1          3   43.0   66.0   71.0   \n",
       "2018-03-01 06:00:00          12      3    1          3    6.0   43.0   66.0   \n",
       "2018-03-01 07:00:00          15      3    1          3   12.0    6.0   43.0   \n",
       "2018-03-01 08:00:00          34      3    1          3   15.0   12.0    6.0   \n",
       "2018-03-01 09:00:00          69      3    1          3   34.0   15.0   12.0   \n",
       "\n",
       "                     lag_4  lag_5  lag_6  ...  lag_15  lag_16  lag_17  lag_18  \\\n",
       "datetime                                  ...                                   \n",
       "2018-03-01 00:00:00    NaN    NaN    NaN  ...     NaN     NaN     NaN     NaN   \n",
       "2018-03-01 01:00:00    NaN    NaN    NaN  ...     NaN     NaN     NaN     NaN   \n",
       "2018-03-01 02:00:00    NaN    NaN    NaN  ...     NaN     NaN     NaN     NaN   \n",
       "2018-03-01 03:00:00    NaN    NaN    NaN  ...     NaN     NaN     NaN     NaN   \n",
       "2018-03-01 04:00:00  124.0    NaN    NaN  ...     NaN     NaN     NaN     NaN   \n",
       "2018-03-01 05:00:00   85.0  124.0    NaN  ...     NaN     NaN     NaN     NaN   \n",
       "2018-03-01 06:00:00   71.0   85.0  124.0  ...     NaN     NaN     NaN     NaN   \n",
       "2018-03-01 07:00:00   66.0   71.0   85.0  ...     NaN     NaN     NaN     NaN   \n",
       "2018-03-01 08:00:00   43.0   66.0   71.0  ...     NaN     NaN     NaN     NaN   \n",
       "2018-03-01 09:00:00    6.0   43.0   66.0  ...     NaN     NaN     NaN     NaN   \n",
       "\n",
       "                     lag_19  lag_20  lag_21  lag_22  lag_23  lag_24  \n",
       "datetime                                                             \n",
       "2018-03-01 00:00:00     NaN     NaN     NaN     NaN     NaN     NaN  \n",
       "2018-03-01 01:00:00     NaN     NaN     NaN     NaN     NaN     NaN  \n",
       "2018-03-01 02:00:00     NaN     NaN     NaN     NaN     NaN     NaN  \n",
       "2018-03-01 03:00:00     NaN     NaN     NaN     NaN     NaN     NaN  \n",
       "2018-03-01 04:00:00     NaN     NaN     NaN     NaN     NaN     NaN  \n",
       "2018-03-01 05:00:00     NaN     NaN     NaN     NaN     NaN     NaN  \n",
       "2018-03-01 06:00:00     NaN     NaN     NaN     NaN     NaN     NaN  \n",
       "2018-03-01 07:00:00     NaN     NaN     NaN     NaN     NaN     NaN  \n",
       "2018-03-01 08:00:00     NaN     NaN     NaN     NaN     NaN     NaN  \n",
       "2018-03-01 09:00:00     NaN     NaN     NaN     NaN     NaN     NaN  \n",
       "\n",
       "[10 rows x 28 columns]"
      ]
     },
     "metadata": {},
     "output_type": "display_data"
    }
   ],
   "source": [
    "for lag in range(1, 24 + 1):\n",
    "    data['lag_{}'.format(lag)] = data['num_orders'].shift(lag)\n",
    "display(data.head(10))"
   ]
  },
  {
   "cell_type": "markdown",
   "metadata": {},
   "source": [
    "3. значения скользящего среднего"
   ]
  },
  {
   "cell_type": "code",
   "execution_count": 22,
   "metadata": {},
   "outputs": [
    {
     "data": {
      "text/html": [
       "<div>\n",
       "<style scoped>\n",
       "    .dataframe tbody tr th:only-of-type {\n",
       "        vertical-align: middle;\n",
       "    }\n",
       "\n",
       "    .dataframe tbody tr th {\n",
       "        vertical-align: top;\n",
       "    }\n",
       "\n",
       "    .dataframe thead th {\n",
       "        text-align: right;\n",
       "    }\n",
       "</style>\n",
       "<table border=\"1\" class=\"dataframe\">\n",
       "  <thead>\n",
       "    <tr style=\"text-align: right;\">\n",
       "      <th></th>\n",
       "      <th>num_orders</th>\n",
       "      <th>month</th>\n",
       "      <th>day</th>\n",
       "      <th>dayofweek</th>\n",
       "      <th>lag_1</th>\n",
       "      <th>lag_2</th>\n",
       "      <th>lag_3</th>\n",
       "      <th>lag_4</th>\n",
       "      <th>lag_5</th>\n",
       "      <th>lag_6</th>\n",
       "      <th>...</th>\n",
       "      <th>lag_16</th>\n",
       "      <th>lag_17</th>\n",
       "      <th>lag_18</th>\n",
       "      <th>lag_19</th>\n",
       "      <th>lag_20</th>\n",
       "      <th>lag_21</th>\n",
       "      <th>lag_22</th>\n",
       "      <th>lag_23</th>\n",
       "      <th>lag_24</th>\n",
       "      <th>rolling_mean</th>\n",
       "    </tr>\n",
       "    <tr>\n",
       "      <th>datetime</th>\n",
       "      <th></th>\n",
       "      <th></th>\n",
       "      <th></th>\n",
       "      <th></th>\n",
       "      <th></th>\n",
       "      <th></th>\n",
       "      <th></th>\n",
       "      <th></th>\n",
       "      <th></th>\n",
       "      <th></th>\n",
       "      <th></th>\n",
       "      <th></th>\n",
       "      <th></th>\n",
       "      <th></th>\n",
       "      <th></th>\n",
       "      <th></th>\n",
       "      <th></th>\n",
       "      <th></th>\n",
       "      <th></th>\n",
       "      <th></th>\n",
       "      <th></th>\n",
       "    </tr>\n",
       "  </thead>\n",
       "  <tbody>\n",
       "    <tr>\n",
       "      <th>2018-03-01 00:00:00</th>\n",
       "      <td>124</td>\n",
       "      <td>3</td>\n",
       "      <td>1</td>\n",
       "      <td>3</td>\n",
       "      <td>NaN</td>\n",
       "      <td>NaN</td>\n",
       "      <td>NaN</td>\n",
       "      <td>NaN</td>\n",
       "      <td>NaN</td>\n",
       "      <td>NaN</td>\n",
       "      <td>...</td>\n",
       "      <td>NaN</td>\n",
       "      <td>NaN</td>\n",
       "      <td>NaN</td>\n",
       "      <td>NaN</td>\n",
       "      <td>NaN</td>\n",
       "      <td>NaN</td>\n",
       "      <td>NaN</td>\n",
       "      <td>NaN</td>\n",
       "      <td>NaN</td>\n",
       "      <td>NaN</td>\n",
       "    </tr>\n",
       "    <tr>\n",
       "      <th>2018-03-01 01:00:00</th>\n",
       "      <td>85</td>\n",
       "      <td>3</td>\n",
       "      <td>1</td>\n",
       "      <td>3</td>\n",
       "      <td>124.0</td>\n",
       "      <td>NaN</td>\n",
       "      <td>NaN</td>\n",
       "      <td>NaN</td>\n",
       "      <td>NaN</td>\n",
       "      <td>NaN</td>\n",
       "      <td>...</td>\n",
       "      <td>NaN</td>\n",
       "      <td>NaN</td>\n",
       "      <td>NaN</td>\n",
       "      <td>NaN</td>\n",
       "      <td>NaN</td>\n",
       "      <td>NaN</td>\n",
       "      <td>NaN</td>\n",
       "      <td>NaN</td>\n",
       "      <td>NaN</td>\n",
       "      <td>NaN</td>\n",
       "    </tr>\n",
       "    <tr>\n",
       "      <th>2018-03-01 02:00:00</th>\n",
       "      <td>71</td>\n",
       "      <td>3</td>\n",
       "      <td>1</td>\n",
       "      <td>3</td>\n",
       "      <td>85.0</td>\n",
       "      <td>124.0</td>\n",
       "      <td>NaN</td>\n",
       "      <td>NaN</td>\n",
       "      <td>NaN</td>\n",
       "      <td>NaN</td>\n",
       "      <td>...</td>\n",
       "      <td>NaN</td>\n",
       "      <td>NaN</td>\n",
       "      <td>NaN</td>\n",
       "      <td>NaN</td>\n",
       "      <td>NaN</td>\n",
       "      <td>NaN</td>\n",
       "      <td>NaN</td>\n",
       "      <td>NaN</td>\n",
       "      <td>NaN</td>\n",
       "      <td>NaN</td>\n",
       "    </tr>\n",
       "    <tr>\n",
       "      <th>2018-03-01 03:00:00</th>\n",
       "      <td>66</td>\n",
       "      <td>3</td>\n",
       "      <td>1</td>\n",
       "      <td>3</td>\n",
       "      <td>71.0</td>\n",
       "      <td>85.0</td>\n",
       "      <td>124.0</td>\n",
       "      <td>NaN</td>\n",
       "      <td>NaN</td>\n",
       "      <td>NaN</td>\n",
       "      <td>...</td>\n",
       "      <td>NaN</td>\n",
       "      <td>NaN</td>\n",
       "      <td>NaN</td>\n",
       "      <td>NaN</td>\n",
       "      <td>NaN</td>\n",
       "      <td>NaN</td>\n",
       "      <td>NaN</td>\n",
       "      <td>NaN</td>\n",
       "      <td>NaN</td>\n",
       "      <td>NaN</td>\n",
       "    </tr>\n",
       "    <tr>\n",
       "      <th>2018-03-01 04:00:00</th>\n",
       "      <td>43</td>\n",
       "      <td>3</td>\n",
       "      <td>1</td>\n",
       "      <td>3</td>\n",
       "      <td>66.0</td>\n",
       "      <td>71.0</td>\n",
       "      <td>85.0</td>\n",
       "      <td>124.0</td>\n",
       "      <td>NaN</td>\n",
       "      <td>NaN</td>\n",
       "      <td>...</td>\n",
       "      <td>NaN</td>\n",
       "      <td>NaN</td>\n",
       "      <td>NaN</td>\n",
       "      <td>NaN</td>\n",
       "      <td>NaN</td>\n",
       "      <td>NaN</td>\n",
       "      <td>NaN</td>\n",
       "      <td>NaN</td>\n",
       "      <td>NaN</td>\n",
       "      <td>NaN</td>\n",
       "    </tr>\n",
       "    <tr>\n",
       "      <th>2018-03-01 05:00:00</th>\n",
       "      <td>6</td>\n",
       "      <td>3</td>\n",
       "      <td>1</td>\n",
       "      <td>3</td>\n",
       "      <td>43.0</td>\n",
       "      <td>66.0</td>\n",
       "      <td>71.0</td>\n",
       "      <td>85.0</td>\n",
       "      <td>124.0</td>\n",
       "      <td>NaN</td>\n",
       "      <td>...</td>\n",
       "      <td>NaN</td>\n",
       "      <td>NaN</td>\n",
       "      <td>NaN</td>\n",
       "      <td>NaN</td>\n",
       "      <td>NaN</td>\n",
       "      <td>NaN</td>\n",
       "      <td>NaN</td>\n",
       "      <td>NaN</td>\n",
       "      <td>NaN</td>\n",
       "      <td>77.8</td>\n",
       "    </tr>\n",
       "    <tr>\n",
       "      <th>2018-03-01 06:00:00</th>\n",
       "      <td>12</td>\n",
       "      <td>3</td>\n",
       "      <td>1</td>\n",
       "      <td>3</td>\n",
       "      <td>6.0</td>\n",
       "      <td>43.0</td>\n",
       "      <td>66.0</td>\n",
       "      <td>71.0</td>\n",
       "      <td>85.0</td>\n",
       "      <td>124.0</td>\n",
       "      <td>...</td>\n",
       "      <td>NaN</td>\n",
       "      <td>NaN</td>\n",
       "      <td>NaN</td>\n",
       "      <td>NaN</td>\n",
       "      <td>NaN</td>\n",
       "      <td>NaN</td>\n",
       "      <td>NaN</td>\n",
       "      <td>NaN</td>\n",
       "      <td>NaN</td>\n",
       "      <td>54.2</td>\n",
       "    </tr>\n",
       "    <tr>\n",
       "      <th>2018-03-01 07:00:00</th>\n",
       "      <td>15</td>\n",
       "      <td>3</td>\n",
       "      <td>1</td>\n",
       "      <td>3</td>\n",
       "      <td>12.0</td>\n",
       "      <td>6.0</td>\n",
       "      <td>43.0</td>\n",
       "      <td>66.0</td>\n",
       "      <td>71.0</td>\n",
       "      <td>85.0</td>\n",
       "      <td>...</td>\n",
       "      <td>NaN</td>\n",
       "      <td>NaN</td>\n",
       "      <td>NaN</td>\n",
       "      <td>NaN</td>\n",
       "      <td>NaN</td>\n",
       "      <td>NaN</td>\n",
       "      <td>NaN</td>\n",
       "      <td>NaN</td>\n",
       "      <td>NaN</td>\n",
       "      <td>39.6</td>\n",
       "    </tr>\n",
       "    <tr>\n",
       "      <th>2018-03-01 08:00:00</th>\n",
       "      <td>34</td>\n",
       "      <td>3</td>\n",
       "      <td>1</td>\n",
       "      <td>3</td>\n",
       "      <td>15.0</td>\n",
       "      <td>12.0</td>\n",
       "      <td>6.0</td>\n",
       "      <td>43.0</td>\n",
       "      <td>66.0</td>\n",
       "      <td>71.0</td>\n",
       "      <td>...</td>\n",
       "      <td>NaN</td>\n",
       "      <td>NaN</td>\n",
       "      <td>NaN</td>\n",
       "      <td>NaN</td>\n",
       "      <td>NaN</td>\n",
       "      <td>NaN</td>\n",
       "      <td>NaN</td>\n",
       "      <td>NaN</td>\n",
       "      <td>NaN</td>\n",
       "      <td>28.4</td>\n",
       "    </tr>\n",
       "    <tr>\n",
       "      <th>2018-03-01 09:00:00</th>\n",
       "      <td>69</td>\n",
       "      <td>3</td>\n",
       "      <td>1</td>\n",
       "      <td>3</td>\n",
       "      <td>34.0</td>\n",
       "      <td>15.0</td>\n",
       "      <td>12.0</td>\n",
       "      <td>6.0</td>\n",
       "      <td>43.0</td>\n",
       "      <td>66.0</td>\n",
       "      <td>...</td>\n",
       "      <td>NaN</td>\n",
       "      <td>NaN</td>\n",
       "      <td>NaN</td>\n",
       "      <td>NaN</td>\n",
       "      <td>NaN</td>\n",
       "      <td>NaN</td>\n",
       "      <td>NaN</td>\n",
       "      <td>NaN</td>\n",
       "      <td>NaN</td>\n",
       "      <td>22.0</td>\n",
       "    </tr>\n",
       "  </tbody>\n",
       "</table>\n",
       "<p>10 rows × 29 columns</p>\n",
       "</div>"
      ],
      "text/plain": [
       "                     num_orders  month  day  dayofweek  lag_1  lag_2  lag_3  \\\n",
       "datetime                                                                      \n",
       "2018-03-01 00:00:00         124      3    1          3    NaN    NaN    NaN   \n",
       "2018-03-01 01:00:00          85      3    1          3  124.0    NaN    NaN   \n",
       "2018-03-01 02:00:00          71      3    1          3   85.0  124.0    NaN   \n",
       "2018-03-01 03:00:00          66      3    1          3   71.0   85.0  124.0   \n",
       "2018-03-01 04:00:00          43      3    1          3   66.0   71.0   85.0   \n",
       "2018-03-01 05:00:00           6      3    1          3   43.0   66.0   71.0   \n",
       "2018-03-01 06:00:00          12      3    1          3    6.0   43.0   66.0   \n",
       "2018-03-01 07:00:00          15      3    1          3   12.0    6.0   43.0   \n",
       "2018-03-01 08:00:00          34      3    1          3   15.0   12.0    6.0   \n",
       "2018-03-01 09:00:00          69      3    1          3   34.0   15.0   12.0   \n",
       "\n",
       "                     lag_4  lag_5  lag_6  ...  lag_16  lag_17  lag_18  lag_19  \\\n",
       "datetime                                  ...                                   \n",
       "2018-03-01 00:00:00    NaN    NaN    NaN  ...     NaN     NaN     NaN     NaN   \n",
       "2018-03-01 01:00:00    NaN    NaN    NaN  ...     NaN     NaN     NaN     NaN   \n",
       "2018-03-01 02:00:00    NaN    NaN    NaN  ...     NaN     NaN     NaN     NaN   \n",
       "2018-03-01 03:00:00    NaN    NaN    NaN  ...     NaN     NaN     NaN     NaN   \n",
       "2018-03-01 04:00:00  124.0    NaN    NaN  ...     NaN     NaN     NaN     NaN   \n",
       "2018-03-01 05:00:00   85.0  124.0    NaN  ...     NaN     NaN     NaN     NaN   \n",
       "2018-03-01 06:00:00   71.0   85.0  124.0  ...     NaN     NaN     NaN     NaN   \n",
       "2018-03-01 07:00:00   66.0   71.0   85.0  ...     NaN     NaN     NaN     NaN   \n",
       "2018-03-01 08:00:00   43.0   66.0   71.0  ...     NaN     NaN     NaN     NaN   \n",
       "2018-03-01 09:00:00    6.0   43.0   66.0  ...     NaN     NaN     NaN     NaN   \n",
       "\n",
       "                     lag_20  lag_21  lag_22  lag_23  lag_24  rolling_mean  \n",
       "datetime                                                                   \n",
       "2018-03-01 00:00:00     NaN     NaN     NaN     NaN     NaN           NaN  \n",
       "2018-03-01 01:00:00     NaN     NaN     NaN     NaN     NaN           NaN  \n",
       "2018-03-01 02:00:00     NaN     NaN     NaN     NaN     NaN           NaN  \n",
       "2018-03-01 03:00:00     NaN     NaN     NaN     NaN     NaN           NaN  \n",
       "2018-03-01 04:00:00     NaN     NaN     NaN     NaN     NaN           NaN  \n",
       "2018-03-01 05:00:00     NaN     NaN     NaN     NaN     NaN          77.8  \n",
       "2018-03-01 06:00:00     NaN     NaN     NaN     NaN     NaN          54.2  \n",
       "2018-03-01 07:00:00     NaN     NaN     NaN     NaN     NaN          39.6  \n",
       "2018-03-01 08:00:00     NaN     NaN     NaN     NaN     NaN          28.4  \n",
       "2018-03-01 09:00:00     NaN     NaN     NaN     NaN     NaN          22.0  \n",
       "\n",
       "[10 rows x 29 columns]"
      ]
     },
     "metadata": {},
     "output_type": "display_data"
    }
   ],
   "source": [
    "data['rolling_mean'] = data['num_orders'].shift().rolling(5).mean()\n",
    "display(data.head(10))"
   ]
  },
  {
   "cell_type": "markdown",
   "metadata": {},
   "source": [
    "посмтрим на типы данных"
   ]
  },
  {
   "cell_type": "code",
   "execution_count": 23,
   "metadata": {},
   "outputs": [
    {
     "name": "stdout",
     "output_type": "stream",
     "text": [
      "<class 'pandas.core.frame.DataFrame'>\n",
      "DatetimeIndex: 4416 entries, 2018-03-01 00:00:00 to 2018-08-31 23:00:00\n",
      "Freq: H\n",
      "Data columns (total 29 columns):\n",
      " #   Column        Non-Null Count  Dtype  \n",
      "---  ------        --------------  -----  \n",
      " 0   num_orders    4416 non-null   int64  \n",
      " 1   month         4416 non-null   int64  \n",
      " 2   day           4416 non-null   int64  \n",
      " 3   dayofweek     4416 non-null   int64  \n",
      " 4   lag_1         4415 non-null   float64\n",
      " 5   lag_2         4414 non-null   float64\n",
      " 6   lag_3         4413 non-null   float64\n",
      " 7   lag_4         4412 non-null   float64\n",
      " 8   lag_5         4411 non-null   float64\n",
      " 9   lag_6         4410 non-null   float64\n",
      " 10  lag_7         4409 non-null   float64\n",
      " 11  lag_8         4408 non-null   float64\n",
      " 12  lag_9         4407 non-null   float64\n",
      " 13  lag_10        4406 non-null   float64\n",
      " 14  lag_11        4405 non-null   float64\n",
      " 15  lag_12        4404 non-null   float64\n",
      " 16  lag_13        4403 non-null   float64\n",
      " 17  lag_14        4402 non-null   float64\n",
      " 18  lag_15        4401 non-null   float64\n",
      " 19  lag_16        4400 non-null   float64\n",
      " 20  lag_17        4399 non-null   float64\n",
      " 21  lag_18        4398 non-null   float64\n",
      " 22  lag_19        4397 non-null   float64\n",
      " 23  lag_20        4396 non-null   float64\n",
      " 24  lag_21        4395 non-null   float64\n",
      " 25  lag_22        4394 non-null   float64\n",
      " 26  lag_23        4393 non-null   float64\n",
      " 27  lag_24        4392 non-null   float64\n",
      " 28  rolling_mean  4411 non-null   float64\n",
      "dtypes: float64(25), int64(4)\n",
      "memory usage: 1.0 MB\n"
     ]
    }
   ],
   "source": [
    "data.info()"
   ]
  },
  {
   "cell_type": "markdown",
   "metadata": {},
   "source": [
    "отметим, что в столбце num_orders у нас хранятся целочисленные значения, а поскольку мы переносим эти данные со сдвигом в столбцы lag_1, lag_2,..., lag_24 в этих столбцах тоже должен быть тип int64, но поскольку в нашем датасете появились nan их надо удалить, чтобы была возможность обучить модель, не наткнувшись на ошибку, после чего займемся преобразованием типов данных"
   ]
  },
  {
   "cell_type": "code",
   "execution_count": 24,
   "metadata": {},
   "outputs": [
    {
     "name": "stdout",
     "output_type": "stream",
     "text": [
      "num_orders      0\n",
      "month           0\n",
      "day             0\n",
      "dayofweek       0\n",
      "lag_1           0\n",
      "lag_2           0\n",
      "lag_3           0\n",
      "lag_4           0\n",
      "lag_5           0\n",
      "lag_6           0\n",
      "lag_7           0\n",
      "lag_8           0\n",
      "lag_9           0\n",
      "lag_10          0\n",
      "lag_11          0\n",
      "lag_12          0\n",
      "lag_13          0\n",
      "lag_14          0\n",
      "lag_15          0\n",
      "lag_16          0\n",
      "lag_17          0\n",
      "lag_18          0\n",
      "lag_19          0\n",
      "lag_20          0\n",
      "lag_21          0\n",
      "lag_22          0\n",
      "lag_23          0\n",
      "lag_24          0\n",
      "rolling_mean    0\n",
      "dtype: int64\n"
     ]
    },
    {
     "data": {
      "text/html": [
       "<div>\n",
       "<style scoped>\n",
       "    .dataframe tbody tr th:only-of-type {\n",
       "        vertical-align: middle;\n",
       "    }\n",
       "\n",
       "    .dataframe tbody tr th {\n",
       "        vertical-align: top;\n",
       "    }\n",
       "\n",
       "    .dataframe thead th {\n",
       "        text-align: right;\n",
       "    }\n",
       "</style>\n",
       "<table border=\"1\" class=\"dataframe\">\n",
       "  <thead>\n",
       "    <tr style=\"text-align: right;\">\n",
       "      <th></th>\n",
       "      <th>num_orders</th>\n",
       "      <th>month</th>\n",
       "      <th>day</th>\n",
       "      <th>dayofweek</th>\n",
       "      <th>lag_1</th>\n",
       "      <th>lag_2</th>\n",
       "      <th>lag_3</th>\n",
       "      <th>lag_4</th>\n",
       "      <th>lag_5</th>\n",
       "      <th>lag_6</th>\n",
       "      <th>...</th>\n",
       "      <th>lag_16</th>\n",
       "      <th>lag_17</th>\n",
       "      <th>lag_18</th>\n",
       "      <th>lag_19</th>\n",
       "      <th>lag_20</th>\n",
       "      <th>lag_21</th>\n",
       "      <th>lag_22</th>\n",
       "      <th>lag_23</th>\n",
       "      <th>lag_24</th>\n",
       "      <th>rolling_mean</th>\n",
       "    </tr>\n",
       "    <tr>\n",
       "      <th>datetime</th>\n",
       "      <th></th>\n",
       "      <th></th>\n",
       "      <th></th>\n",
       "      <th></th>\n",
       "      <th></th>\n",
       "      <th></th>\n",
       "      <th></th>\n",
       "      <th></th>\n",
       "      <th></th>\n",
       "      <th></th>\n",
       "      <th></th>\n",
       "      <th></th>\n",
       "      <th></th>\n",
       "      <th></th>\n",
       "      <th></th>\n",
       "      <th></th>\n",
       "      <th></th>\n",
       "      <th></th>\n",
       "      <th></th>\n",
       "      <th></th>\n",
       "      <th></th>\n",
       "    </tr>\n",
       "  </thead>\n",
       "  <tbody>\n",
       "    <tr>\n",
       "      <th>2018-03-02 00:00:00</th>\n",
       "      <td>90</td>\n",
       "      <td>3</td>\n",
       "      <td>2</td>\n",
       "      <td>4</td>\n",
       "      <td>58.0</td>\n",
       "      <td>113.0</td>\n",
       "      <td>66.0</td>\n",
       "      <td>61.0</td>\n",
       "      <td>45.0</td>\n",
       "      <td>73.0</td>\n",
       "      <td>...</td>\n",
       "      <td>34.0</td>\n",
       "      <td>15.0</td>\n",
       "      <td>12.0</td>\n",
       "      <td>6.0</td>\n",
       "      <td>43.0</td>\n",
       "      <td>66.0</td>\n",
       "      <td>71.0</td>\n",
       "      <td>85.0</td>\n",
       "      <td>124.0</td>\n",
       "      <td>68.6</td>\n",
       "    </tr>\n",
       "    <tr>\n",
       "      <th>2018-03-02 01:00:00</th>\n",
       "      <td>120</td>\n",
       "      <td>3</td>\n",
       "      <td>2</td>\n",
       "      <td>4</td>\n",
       "      <td>90.0</td>\n",
       "      <td>58.0</td>\n",
       "      <td>113.0</td>\n",
       "      <td>66.0</td>\n",
       "      <td>61.0</td>\n",
       "      <td>45.0</td>\n",
       "      <td>...</td>\n",
       "      <td>69.0</td>\n",
       "      <td>34.0</td>\n",
       "      <td>15.0</td>\n",
       "      <td>12.0</td>\n",
       "      <td>6.0</td>\n",
       "      <td>43.0</td>\n",
       "      <td>66.0</td>\n",
       "      <td>71.0</td>\n",
       "      <td>85.0</td>\n",
       "      <td>77.6</td>\n",
       "    </tr>\n",
       "    <tr>\n",
       "      <th>2018-03-02 02:00:00</th>\n",
       "      <td>75</td>\n",
       "      <td>3</td>\n",
       "      <td>2</td>\n",
       "      <td>4</td>\n",
       "      <td>120.0</td>\n",
       "      <td>90.0</td>\n",
       "      <td>58.0</td>\n",
       "      <td>113.0</td>\n",
       "      <td>66.0</td>\n",
       "      <td>61.0</td>\n",
       "      <td>...</td>\n",
       "      <td>64.0</td>\n",
       "      <td>69.0</td>\n",
       "      <td>34.0</td>\n",
       "      <td>15.0</td>\n",
       "      <td>12.0</td>\n",
       "      <td>6.0</td>\n",
       "      <td>43.0</td>\n",
       "      <td>66.0</td>\n",
       "      <td>71.0</td>\n",
       "      <td>89.4</td>\n",
       "    </tr>\n",
       "    <tr>\n",
       "      <th>2018-03-02 03:00:00</th>\n",
       "      <td>64</td>\n",
       "      <td>3</td>\n",
       "      <td>2</td>\n",
       "      <td>4</td>\n",
       "      <td>75.0</td>\n",
       "      <td>120.0</td>\n",
       "      <td>90.0</td>\n",
       "      <td>58.0</td>\n",
       "      <td>113.0</td>\n",
       "      <td>66.0</td>\n",
       "      <td>...</td>\n",
       "      <td>96.0</td>\n",
       "      <td>64.0</td>\n",
       "      <td>69.0</td>\n",
       "      <td>34.0</td>\n",
       "      <td>15.0</td>\n",
       "      <td>12.0</td>\n",
       "      <td>6.0</td>\n",
       "      <td>43.0</td>\n",
       "      <td>66.0</td>\n",
       "      <td>91.2</td>\n",
       "    </tr>\n",
       "    <tr>\n",
       "      <th>2018-03-02 04:00:00</th>\n",
       "      <td>20</td>\n",
       "      <td>3</td>\n",
       "      <td>2</td>\n",
       "      <td>4</td>\n",
       "      <td>64.0</td>\n",
       "      <td>75.0</td>\n",
       "      <td>120.0</td>\n",
       "      <td>90.0</td>\n",
       "      <td>58.0</td>\n",
       "      <td>113.0</td>\n",
       "      <td>...</td>\n",
       "      <td>30.0</td>\n",
       "      <td>96.0</td>\n",
       "      <td>64.0</td>\n",
       "      <td>69.0</td>\n",
       "      <td>34.0</td>\n",
       "      <td>15.0</td>\n",
       "      <td>12.0</td>\n",
       "      <td>6.0</td>\n",
       "      <td>43.0</td>\n",
       "      <td>81.4</td>\n",
       "    </tr>\n",
       "    <tr>\n",
       "      <th>2018-03-02 05:00:00</th>\n",
       "      <td>11</td>\n",
       "      <td>3</td>\n",
       "      <td>2</td>\n",
       "      <td>4</td>\n",
       "      <td>20.0</td>\n",
       "      <td>64.0</td>\n",
       "      <td>75.0</td>\n",
       "      <td>120.0</td>\n",
       "      <td>90.0</td>\n",
       "      <td>58.0</td>\n",
       "      <td>...</td>\n",
       "      <td>32.0</td>\n",
       "      <td>30.0</td>\n",
       "      <td>96.0</td>\n",
       "      <td>64.0</td>\n",
       "      <td>69.0</td>\n",
       "      <td>34.0</td>\n",
       "      <td>15.0</td>\n",
       "      <td>12.0</td>\n",
       "      <td>6.0</td>\n",
       "      <td>73.8</td>\n",
       "    </tr>\n",
       "    <tr>\n",
       "      <th>2018-03-02 06:00:00</th>\n",
       "      <td>11</td>\n",
       "      <td>3</td>\n",
       "      <td>2</td>\n",
       "      <td>4</td>\n",
       "      <td>11.0</td>\n",
       "      <td>20.0</td>\n",
       "      <td>64.0</td>\n",
       "      <td>75.0</td>\n",
       "      <td>120.0</td>\n",
       "      <td>90.0</td>\n",
       "      <td>...</td>\n",
       "      <td>48.0</td>\n",
       "      <td>32.0</td>\n",
       "      <td>30.0</td>\n",
       "      <td>96.0</td>\n",
       "      <td>64.0</td>\n",
       "      <td>69.0</td>\n",
       "      <td>34.0</td>\n",
       "      <td>15.0</td>\n",
       "      <td>12.0</td>\n",
       "      <td>58.0</td>\n",
       "    </tr>\n",
       "    <tr>\n",
       "      <th>2018-03-02 07:00:00</th>\n",
       "      <td>7</td>\n",
       "      <td>3</td>\n",
       "      <td>2</td>\n",
       "      <td>4</td>\n",
       "      <td>11.0</td>\n",
       "      <td>11.0</td>\n",
       "      <td>20.0</td>\n",
       "      <td>64.0</td>\n",
       "      <td>75.0</td>\n",
       "      <td>120.0</td>\n",
       "      <td>...</td>\n",
       "      <td>66.0</td>\n",
       "      <td>48.0</td>\n",
       "      <td>32.0</td>\n",
       "      <td>30.0</td>\n",
       "      <td>96.0</td>\n",
       "      <td>64.0</td>\n",
       "      <td>69.0</td>\n",
       "      <td>34.0</td>\n",
       "      <td>15.0</td>\n",
       "      <td>36.2</td>\n",
       "    </tr>\n",
       "    <tr>\n",
       "      <th>2018-03-02 08:00:00</th>\n",
       "      <td>46</td>\n",
       "      <td>3</td>\n",
       "      <td>2</td>\n",
       "      <td>4</td>\n",
       "      <td>7.0</td>\n",
       "      <td>11.0</td>\n",
       "      <td>11.0</td>\n",
       "      <td>20.0</td>\n",
       "      <td>64.0</td>\n",
       "      <td>75.0</td>\n",
       "      <td>...</td>\n",
       "      <td>43.0</td>\n",
       "      <td>66.0</td>\n",
       "      <td>48.0</td>\n",
       "      <td>32.0</td>\n",
       "      <td>30.0</td>\n",
       "      <td>96.0</td>\n",
       "      <td>64.0</td>\n",
       "      <td>69.0</td>\n",
       "      <td>34.0</td>\n",
       "      <td>22.6</td>\n",
       "    </tr>\n",
       "    <tr>\n",
       "      <th>2018-03-02 09:00:00</th>\n",
       "      <td>45</td>\n",
       "      <td>3</td>\n",
       "      <td>2</td>\n",
       "      <td>4</td>\n",
       "      <td>46.0</td>\n",
       "      <td>7.0</td>\n",
       "      <td>11.0</td>\n",
       "      <td>11.0</td>\n",
       "      <td>20.0</td>\n",
       "      <td>64.0</td>\n",
       "      <td>...</td>\n",
       "      <td>44.0</td>\n",
       "      <td>43.0</td>\n",
       "      <td>66.0</td>\n",
       "      <td>48.0</td>\n",
       "      <td>32.0</td>\n",
       "      <td>30.0</td>\n",
       "      <td>96.0</td>\n",
       "      <td>64.0</td>\n",
       "      <td>69.0</td>\n",
       "      <td>19.0</td>\n",
       "    </tr>\n",
       "  </tbody>\n",
       "</table>\n",
       "<p>10 rows × 29 columns</p>\n",
       "</div>"
      ],
      "text/plain": [
       "                     num_orders  month  day  dayofweek  lag_1  lag_2  lag_3  \\\n",
       "datetime                                                                      \n",
       "2018-03-02 00:00:00          90      3    2          4   58.0  113.0   66.0   \n",
       "2018-03-02 01:00:00         120      3    2          4   90.0   58.0  113.0   \n",
       "2018-03-02 02:00:00          75      3    2          4  120.0   90.0   58.0   \n",
       "2018-03-02 03:00:00          64      3    2          4   75.0  120.0   90.0   \n",
       "2018-03-02 04:00:00          20      3    2          4   64.0   75.0  120.0   \n",
       "2018-03-02 05:00:00          11      3    2          4   20.0   64.0   75.0   \n",
       "2018-03-02 06:00:00          11      3    2          4   11.0   20.0   64.0   \n",
       "2018-03-02 07:00:00           7      3    2          4   11.0   11.0   20.0   \n",
       "2018-03-02 08:00:00          46      3    2          4    7.0   11.0   11.0   \n",
       "2018-03-02 09:00:00          45      3    2          4   46.0    7.0   11.0   \n",
       "\n",
       "                     lag_4  lag_5  lag_6  ...  lag_16  lag_17  lag_18  lag_19  \\\n",
       "datetime                                  ...                                   \n",
       "2018-03-02 00:00:00   61.0   45.0   73.0  ...    34.0    15.0    12.0     6.0   \n",
       "2018-03-02 01:00:00   66.0   61.0   45.0  ...    69.0    34.0    15.0    12.0   \n",
       "2018-03-02 02:00:00  113.0   66.0   61.0  ...    64.0    69.0    34.0    15.0   \n",
       "2018-03-02 03:00:00   58.0  113.0   66.0  ...    96.0    64.0    69.0    34.0   \n",
       "2018-03-02 04:00:00   90.0   58.0  113.0  ...    30.0    96.0    64.0    69.0   \n",
       "2018-03-02 05:00:00  120.0   90.0   58.0  ...    32.0    30.0    96.0    64.0   \n",
       "2018-03-02 06:00:00   75.0  120.0   90.0  ...    48.0    32.0    30.0    96.0   \n",
       "2018-03-02 07:00:00   64.0   75.0  120.0  ...    66.0    48.0    32.0    30.0   \n",
       "2018-03-02 08:00:00   20.0   64.0   75.0  ...    43.0    66.0    48.0    32.0   \n",
       "2018-03-02 09:00:00   11.0   20.0   64.0  ...    44.0    43.0    66.0    48.0   \n",
       "\n",
       "                     lag_20  lag_21  lag_22  lag_23  lag_24  rolling_mean  \n",
       "datetime                                                                   \n",
       "2018-03-02 00:00:00    43.0    66.0    71.0    85.0   124.0          68.6  \n",
       "2018-03-02 01:00:00     6.0    43.0    66.0    71.0    85.0          77.6  \n",
       "2018-03-02 02:00:00    12.0     6.0    43.0    66.0    71.0          89.4  \n",
       "2018-03-02 03:00:00    15.0    12.0     6.0    43.0    66.0          91.2  \n",
       "2018-03-02 04:00:00    34.0    15.0    12.0     6.0    43.0          81.4  \n",
       "2018-03-02 05:00:00    69.0    34.0    15.0    12.0     6.0          73.8  \n",
       "2018-03-02 06:00:00    64.0    69.0    34.0    15.0    12.0          58.0  \n",
       "2018-03-02 07:00:00    96.0    64.0    69.0    34.0    15.0          36.2  \n",
       "2018-03-02 08:00:00    30.0    96.0    64.0    69.0    34.0          22.6  \n",
       "2018-03-02 09:00:00    32.0    30.0    96.0    64.0    69.0          19.0  \n",
       "\n",
       "[10 rows x 29 columns]"
      ]
     },
     "metadata": {},
     "output_type": "display_data"
    }
   ],
   "source": [
    "data=data.dropna()\n",
    "print(data.isna().sum())\n",
    "display(data.head(10))"
   ]
  },
  {
   "cell_type": "code",
   "execution_count": 25,
   "metadata": {},
   "outputs": [
    {
     "name": "stdout",
     "output_type": "stream",
     "text": [
      "<class 'pandas.core.frame.DataFrame'>\n",
      "DatetimeIndex: 4392 entries, 2018-03-02 00:00:00 to 2018-08-31 23:00:00\n",
      "Freq: H\n",
      "Data columns (total 29 columns):\n",
      " #   Column        Non-Null Count  Dtype  \n",
      "---  ------        --------------  -----  \n",
      " 0   num_orders    4392 non-null   int64  \n",
      " 1   month         4392 non-null   int64  \n",
      " 2   day           4392 non-null   int64  \n",
      " 3   dayofweek     4392 non-null   int64  \n",
      " 4   lag_1         4392 non-null   int64  \n",
      " 5   lag_2         4392 non-null   int64  \n",
      " 6   lag_3         4392 non-null   int64  \n",
      " 7   lag_4         4392 non-null   int64  \n",
      " 8   lag_5         4392 non-null   int64  \n",
      " 9   lag_6         4392 non-null   int64  \n",
      " 10  lag_7         4392 non-null   int64  \n",
      " 11  lag_8         4392 non-null   int64  \n",
      " 12  lag_9         4392 non-null   int64  \n",
      " 13  lag_10        4392 non-null   int64  \n",
      " 14  lag_11        4392 non-null   int64  \n",
      " 15  lag_12        4392 non-null   int64  \n",
      " 16  lag_13        4392 non-null   int64  \n",
      " 17  lag_14        4392 non-null   int64  \n",
      " 18  lag_15        4392 non-null   int64  \n",
      " 19  lag_16        4392 non-null   int64  \n",
      " 20  lag_17        4392 non-null   int64  \n",
      " 21  lag_18        4392 non-null   int64  \n",
      " 22  lag_19        4392 non-null   int64  \n",
      " 23  lag_20        4392 non-null   int64  \n",
      " 24  lag_21        4392 non-null   int64  \n",
      " 25  lag_22        4392 non-null   int64  \n",
      " 26  lag_23        4392 non-null   int64  \n",
      " 27  lag_24        4392 non-null   int64  \n",
      " 28  rolling_mean  4392 non-null   float64\n",
      "dtypes: float64(1), int64(28)\n",
      "memory usage: 1.0 MB\n"
     ]
    }
   ],
   "source": [
    "for i in range(1, 25):\n",
    "    data['lag_{}'.format(i)]=data['lag_{}'.format(i)].astype('int64')\n",
    "data.info()"
   ]
  },
  {
   "cell_type": "markdown",
   "metadata": {},
   "source": [
    "удалились только первые 5 строк, теперь у нас есть признаки, так что можно разбивать данные на выборки."
   ]
  },
  {
   "cell_type": "code",
   "execution_count": 26,
   "metadata": {},
   "outputs": [],
   "source": [
    "targets=data['num_orders']\n",
    "values=data.drop('num_orders', axis=1)"
   ]
  },
  {
   "cell_type": "code",
   "execution_count": 27,
   "metadata": {},
   "outputs": [
    {
     "name": "stdout",
     "output_type": "stream",
     "text": [
      "начальный и конечный индексы обучающей выборки: 2018-03-02 00:00:00 2018-08-13 15:00:00\n",
      "начальный и конечный индексы тестовой выборки: 2018-08-13 16:00:00 2018-08-31 23:00:00\n"
     ]
    }
   ],
   "source": [
    "X_train, X_test, y_train, y_test= train_test_split(values, targets, shuffle=False, test_size=0.1)\n",
    "print('начальный и конечный индексы обучающей выборки:', X_train.index.min(), X_train.index.max())\n",
    "print('начальный и конечный индексы тестовой выборки:',X_test.index.min(), X_test.index.max())"
   ]
  },
  {
   "cell_type": "markdown",
   "metadata": {},
   "source": [
    "теперь данные готовы к обучению.\n",
    "\n",
    "**Вывод по данному этапу:** на данном этапе мы создали признаки, на которых будем обучать нашу модель, поняли, что анализироваьт нужно не каждые 10 минут, а по часам, поскольку заказчику нужны часы, и разделили выборку на обучающую и тестовую."
   ]
  },
  {
   "cell_type": "markdown",
   "metadata": {},
   "source": [
    "## Обучение"
   ]
  },
  {
   "cell_type": "markdown",
   "metadata": {},
   "source": [
    "**прежде всего стоит отмметить, что оценивать модели на этапе обучения мы будем с помощью кросс-валидации, после чего выберем лучшую, обучим и передадим на этап тестирования**\n",
    "\n",
    "Поскольку нам предстоит работать с несколькими моделями, напишем функцию, которая будет выводить результат кросс-валидации для переданной в нее модели."
   ]
  },
  {
   "cell_type": "code",
   "execution_count": 28,
   "metadata": {},
   "outputs": [],
   "source": [
    "def cross_val_model(model, X_train=X_train, y_train=y_train):\n",
    "    tscv = TimeSeriesSplit()\n",
    "    scores= cross_val_score(model, X_train, y_train, cv=tscv, scoring= 'neg_root_mean_squared_error')\n",
    "    print('for {} RMSE = {}'.format(model, -1*sum(scores)/len(scores)))"
   ]
  },
  {
   "cell_type": "markdown",
   "metadata": {},
   "source": [
    "прежде всего ознакомимся с линейной моделью."
   ]
  },
  {
   "cell_type": "code",
   "execution_count": 29,
   "metadata": {},
   "outputs": [
    {
     "name": "stdout",
     "output_type": "stream",
     "text": [
      "for LinearRegression() RMSE = 27.02679869295489\n"
     ]
    }
   ],
   "source": [
    "linear_model=LinearRegression()\n",
    "cross_val_model(linear_model)"
   ]
  },
  {
   "cell_type": "markdown",
   "metadata": {},
   "source": [
    "как мы видим RMSE получился очень даже неплохой, но стоит учитывать, что на этапе тестирования немного данные имеют только тренд в росте (преимущественно), в отличии от обучающей, так что там качество будет ниже, так что рассмотрим еще и другие модели и выберем лучшую, хотя есть и большая вероятность, что эта модель покажет хороший результат на этапе тестирования."
   ]
  },
  {
   "cell_type": "code",
   "execution_count": 30,
   "metadata": {},
   "outputs": [
    {
     "name": "stdout",
     "output_type": "stream",
     "text": [
      "for DecisionTreeRegressor(random_state=15684) RMSE = 36.97645385206049\n"
     ]
    }
   ],
   "source": [
    "tree_0_model=DecisionTreeRegressor(random_state=15684)\n",
    "cross_val_model(tree_0_model)"
   ]
  },
  {
   "cell_type": "markdown",
   "metadata": {},
   "source": [
    "как мы видим без подбора гиперпараметров наша модель показала слишком плохой результат по сравнению с предыдущей и вряд ли нам удасться достичь хотя бы такого же результата здесь, так что перейдем к модели случайного леса."
   ]
  },
  {
   "cell_type": "code",
   "execution_count": 31,
   "metadata": {},
   "outputs": [
    {
     "name": "stdout",
     "output_type": "stream",
     "text": [
      "for RandomForestRegressor(random_state=87456) RMSE = 25.65598871218893\n"
     ]
    }
   ],
   "source": [
    "forest_0_model=RandomForestRegressor(random_state=87456)\n",
    "cross_val_model(forest_0_model)"
   ]
  },
  {
   "cell_type": "markdown",
   "metadata": {},
   "source": [
    "Эта модель без учета гипер параметров уже выдала достаточно неплохой резульат, так что постараемся улучшить ее качества за счет их подбора.\n",
    "\n",
    "**ПРОСЬБА НЕ ОБРАЩАТЬ ВНИМАЕ НА ТО, ЧТО ВЫВОДИТСЯ ПОМИМО ИТОГА ПРИ ПОДБОРЕ ГИПЕРПАРАМЕТРОВ, ЭТО СДЕЛАНО ДЛЯ ТОГО, ЧТОБЫ ОТСЕЖИВАТЬ, ЧТО НИЧЕГО НЕ УПАЛО**"
   ]
  },
  {
   "cell_type": "code",
   "execution_count": 38,
   "metadata": {},
   "outputs": [
    {
     "name": "stdout",
     "output_type": "stream",
     "text": [
      "1\n",
      "21\n",
      "41\n",
      "61\n",
      "81\n",
      "101\n",
      "121\n",
      "141\n",
      "161\n",
      "181\n",
      "The best model is RandomForestRegressor(max_depth=20, n_estimators=101, random_state=8745610) and its RMSE is 25.60743459643094\n"
     ]
    }
   ],
   "source": [
    "best_score=5000\n",
    "best_estimator_forest=0\n",
    "best_depth_forest=0\n",
    "best_model=None\n",
    "tscv = TimeSeriesSplit()\n",
    "for estimator in range(1, 201, 20):\n",
    "    print(estimator)\n",
    "    for depth in range(10, 102, 10):\n",
    "        forest_model=RandomForestRegressor(n_estimators=estimator, max_depth=depth, random_state=8745610)\n",
    "        scores = cross_val_score(forest_model, X_train, y_train, cv=tscv, scoring='neg_root_mean_squared_error')\n",
    "        final_score=-1*sum(scores)/len(scores)\n",
    "        \n",
    "        if final_score < best_score:\n",
    "            best_score=final_score\n",
    "            best_estimator_forest=estimator\n",
    "            best_depth_forest=depth\n",
    "            best_model=forest_model\n",
    "print('The best model is {} and its RMSE is {}'.format(best_model, best_score))"
   ]
  },
  {
   "cell_type": "markdown",
   "metadata": {},
   "source": [
    "Теперь воспользуемся одним из самых популярных методов- градиенттным бустингом, причем сразу перейдем к подбору гиперпараметров"
   ]
  },
  {
   "cell_type": "code",
   "execution_count": 45,
   "metadata": {
    "scrolled": true
   },
   "outputs": [
    {
     "name": "stdout",
     "output_type": "stream",
     "text": [
      "29.96311608757735 5000\n",
      "29.458040406061333 29.96311608757735\n",
      "29.41183029796256 29.458040406061333\n",
      "29.439563945058417 29.41183029796256\n",
      "29.399757383100138 29.41183029796256\n",
      "29.39697875503027 29.399757383100138\n",
      "29.39697875503027 29.39697875503027\n",
      "29.39697875503027 29.39697875503027\n",
      "29.39697875503027 29.39697875503027\n",
      "27.22796079722092 29.39697875503027\n",
      "26.84220414649023 27.22796079722092\n",
      "26.837733125061753 26.84220414649023\n",
      "26.838497097179165 26.837733125061753\n",
      "26.828450722226886 26.837733125061753\n",
      "26.817083927538278 26.828450722226886\n",
      "26.81676796067373 26.817083927538278\n",
      "26.81676796067373 26.81676796067373\n",
      "26.81676796067373 26.81676796067373\n",
      "26.324755423062918 26.81676796067373\n",
      "25.97099606610966 26.324755423062918\n",
      "26.034912779739365 25.97099606610966\n",
      "26.123219841930375 25.97099606610966\n",
      "26.053425442182622 25.97099606610966\n",
      "25.99913951212301 25.97099606610966\n",
      "26.028038276421633 25.97099606610966\n",
      "26.028038276421633 25.97099606610966\n",
      "26.028038276421633 25.97099606610966\n",
      "25.84426580768804 25.97099606610966\n",
      "25.69624332765681 25.84426580768804\n",
      "25.75377994165037 25.69624332765681\n",
      "25.852967659112426 25.69624332765681\n",
      "25.789816443083442 25.69624332765681\n",
      "25.718133767548885 25.69624332765681\n",
      "25.725163746955154 25.69624332765681\n",
      "25.724176207176253 25.69624332765681\n",
      "25.724176207176253 25.69624332765681\n",
      "25.68527967055119 25.69624332765681\n",
      "25.55006994145056 25.68527967055119\n",
      "25.68136724959073 25.55006994145056\n",
      "25.795855485064077 25.55006994145056\n",
      "25.720536721141684 25.55006994145056\n",
      "25.66852256097714 25.55006994145056\n",
      "25.686107782536634 25.55006994145056\n",
      "25.68237237077792 25.55006994145056\n",
      "25.68237237077792 25.55006994145056\n",
      "25.550283284430634 25.55006994145056\n",
      "25.517351587982652 25.55006994145056\n",
      "25.66295481074249 25.517351587982652\n",
      "25.800188201410513 25.517351587982652\n",
      "25.706347247193513 25.517351587982652\n",
      "25.614204136967828 25.517351587982652\n",
      "25.6757263789081 25.517351587982652\n",
      "25.655932766905046 25.517351587982652\n",
      "25.655932766905046 25.517351587982652\n",
      "25.509550164941878 25.517351587982652\n",
      "25.53560859754852 25.509550164941878\n",
      "25.631558263407648 25.509550164941878\n",
      "25.74833004060064 25.509550164941878\n",
      "25.686331235335377 25.509550164941878\n",
      "25.621142874779316 25.509550164941878\n",
      "25.682537532479074 25.509550164941878\n",
      "25.664956397431695 25.509550164941878\n",
      "25.664956397431695 25.509550164941878\n",
      "25.45979214580251 25.509550164941878\n",
      "25.549965384881865 25.45979214580251\n",
      "25.655502427541393 25.45979214580251\n",
      "25.73575030122658 25.45979214580251\n",
      "25.690089760001666 25.45979214580251\n",
      "25.60177374964703 25.45979214580251\n",
      "25.734653185040706 25.45979214580251\n",
      "25.694774996402817 25.45979214580251\n",
      "25.694774996402817 25.45979214580251\n",
      "25.42528512054787 25.45979214580251\n",
      "25.534298459336885 25.42528512054787\n",
      "25.690913930987 25.42528512054787\n",
      "25.73737241745971 25.42528512054787\n",
      "25.7115028397125 25.42528512054787\n",
      "25.625434216865596 25.42528512054787\n",
      "25.742718084794166 25.42528512054787\n",
      "25.695838431566717 25.42528512054787\n",
      "25.695838431566717 25.42528512054787\n",
      "25.454207865855967 25.42528512054787\n",
      "25.54459959057014 25.42528512054787\n",
      "25.69159403757746 25.42528512054787\n",
      "25.7712707019798 25.42528512054787\n",
      "25.700990834069263 25.42528512054787\n",
      "25.630145125245882 25.42528512054787\n",
      "25.76838626331722 25.42528512054787\n",
      "25.722607855507306 25.42528512054787\n",
      "25.71750600433308 25.42528512054787\n",
      "25.486335849714926 25.42528512054787\n",
      "25.564760886687317 25.42528512054787\n",
      "25.72222307837409 25.42528512054787\n",
      "25.78286341385885 25.42528512054787\n",
      "25.727622949617672 25.42528512054787\n",
      "25.63614167683262 25.42528512054787\n",
      "25.77825792703441 25.42528512054787\n",
      "25.73703264694769 25.42528512054787\n",
      "25.723020004836638 25.42528512054787\n",
      "25.52229873188812 25.42528512054787\n",
      "25.564719217179945 25.42528512054787\n",
      "25.71697389620283 25.42528512054787\n",
      "25.797075459702405 25.42528512054787\n",
      "25.736755279638544 25.42528512054787\n",
      "25.648492932523585 25.42528512054787\n",
      "25.789002077318877 25.42528512054787\n",
      "25.744812183018347 25.42528512054787\n",
      "25.729403505873897 25.42528512054787\n",
      "25.484917371984675 25.42528512054787\n",
      "25.574857506608453 25.42528512054787\n",
      "25.728383840493382 25.42528512054787\n",
      "25.826215261745517 25.42528512054787\n",
      "25.758228720347176 25.42528512054787\n",
      "25.68086400911925 25.42528512054787\n",
      "25.836216178438498 25.42528512054787\n",
      "25.74554914026092 25.42528512054787\n",
      "25.73315449947545 25.42528512054787\n",
      "25.456519662726123 25.42528512054787\n",
      "25.590369305751217 25.42528512054787\n",
      "25.728074489995624 25.42528512054787\n",
      "25.863869528579425 25.42528512054787\n",
      "25.76079578647088 25.42528512054787\n",
      "25.697344204381544 25.42528512054787\n",
      "25.859898752979426 25.42528512054787\n",
      "25.740624286994112 25.42528512054787\n",
      "25.728832714663373 25.42528512054787\n",
      "25.457737358396894 25.42528512054787\n",
      "25.62033627871822 25.42528512054787\n",
      "25.777924600390442 25.42528512054787\n",
      "25.869501874927316 25.42528512054787\n",
      "25.790243844233977 25.42528512054787\n",
      "25.72329169452255 25.42528512054787\n",
      "25.85200905537234 25.42528512054787\n",
      "25.743026437168233 25.42528512054787\n",
      "25.735180996755606 25.42528512054787\n",
      "25.45331050434309 25.42528512054787\n",
      "25.619467326713174 25.42528512054787\n",
      "25.78851191466483 25.42528512054787\n",
      "25.88963569011213 25.42528512054787\n",
      "25.8020855059729 25.42528512054787\n",
      "25.73028594199705 25.42528512054787\n",
      "25.839635377477105 25.42528512054787\n",
      "25.73977443923105 25.42528512054787\n",
      "25.727769612091105 25.42528512054787\n",
      "25.46551348913463 25.42528512054787\n",
      "25.619310985433437 25.42528512054787\n",
      "25.787903536647413 25.42528512054787\n",
      "25.890640932723283 25.42528512054787\n",
      "25.81695460036799 25.42528512054787\n",
      "25.74623736437361 25.42528512054787\n",
      "25.834988659489415 25.42528512054787\n",
      "25.73624357273888 25.42528512054787\n",
      "25.728859416663816 25.42528512054787\n",
      "25.491808806005224 25.42528512054787\n",
      "25.62965325701423 25.42528512054787\n",
      "25.802020797467286 25.42528512054787\n",
      "25.89552678195735 25.42528512054787\n",
      "25.826326839971745 25.42528512054787\n",
      "25.758282923063042 25.42528512054787\n",
      "25.851137159086694 25.42528512054787\n",
      "25.75670154254711 25.42528512054787\n",
      "25.74485343790323 25.42528512054787\n",
      "25.50359694015293 25.42528512054787\n",
      "25.63619475223545 25.42528512054787\n",
      "25.799764822048918 25.42528512054787\n",
      "25.898021525301807 25.42528512054787\n",
      "25.844641319438306 25.42528512054787\n",
      "25.75737136771205 25.42528512054787\n",
      "25.84819367360085 25.42528512054787\n",
      "25.76544218369154 25.42528512054787\n",
      "25.746945127917847 25.42528512054787\n",
      "The best model is LGBMRegressor(max_depth=5, n_estimators=91, random_state=12713) and its RMSE is 25.42528512054787\n"
     ]
    }
   ],
   "source": [
    "best_score=5000\n",
    "best_estimator=0\n",
    "best_depth_LGBM=0\n",
    "best_model=None\n",
    "for estimator  in range (11, 201, 10):\n",
    "    for depth in range(5, 22, 2):\n",
    "        forest_model=LGBMRegressor(n_estimators =estimator , max_depth=depth, random_state=12713)\n",
    "        scores = cross_val_score(forest_model, X_train, y_train, cv=tscv, scoring='neg_root_mean_squared_error')\n",
    "        final_score=-1*sum(scores)/len(scores)\n",
    "        print(final_score, best_score)\n",
    "        \n",
    "        if final_score < best_score:\n",
    "            best_score=final_score\n",
    "            best_estimator=estimator\n",
    "            best_depth_LGBM=depth\n",
    "            best_model=forest_model\n",
    "print('The best model is {} and its RMSE is {}'.format(best_model, best_score))"
   ]
  },
  {
   "cell_type": "markdown",
   "metadata": {},
   "source": [
    "**Вывод по данному этапу:** На данном этапе мы проанализировали много моделей и постарались подобрать оптимальные для них гиперпараметры, как можно увидеть по результатам кросс-валидации лучшей моделью оказалась модель градиентного бустинга, так что стоит имеено ее обучить и отправить на этап тестирования."
   ]
  },
  {
   "cell_type": "code",
   "execution_count": 46,
   "metadata": {},
   "outputs": [
    {
     "data": {
      "text/plain": [
       "LGBMRegressor(max_depth=5, n_estimators=91, random_state=12713)"
      ]
     },
     "execution_count": 46,
     "metadata": {},
     "output_type": "execute_result"
    }
   ],
   "source": [
    "model_final= LGBMRegressor(n_estimators =best_estimator , max_depth=best_depth_LGBM, random_state=12713)\n",
    "model_final.fit(X_train, y_train)"
   ]
  },
  {
   "cell_type": "markdown",
   "metadata": {},
   "source": [
    "## Тестирование"
   ]
  },
  {
   "cell_type": "code",
   "execution_count": 47,
   "metadata": {},
   "outputs": [
    {
     "name": "stdout",
     "output_type": "stream",
     "text": [
      "41.05893613516363\n"
     ]
    }
   ],
   "source": [
    "print(mean_squared_error(y_test, model_final.predict(X_test))**0.5)"
   ]
  },
  {
   "cell_type": "markdown",
   "metadata": {},
   "source": [
    "**Вывод по проекту:** в ходе выполнения данного проекта мы загрузили данные временного ряда, проверили их на адекватность, проанализировали, сделали вывод о том, что в основном имеется тренд в росте количества заказов с апрелля и с целью повысить качество обучения на тестовой выборке, удалилии все данные до этого месяца, поняли, что количество заказанных машин так же сильно зависит от дня недели. Провели анализ нескольких моделей выделили лучшую - градиентный бустинг и отправили ее на этап тестирования, который показал, что модель действительно хорошо обучена (RMSE<48), чего и хотел заказчик"
   ]
  }
 ],
 "metadata": {
  "ExecuteTimeLog": [
   {
    "duration": 445,
    "start_time": "2023-10-11T18:47:15.035Z"
   },
   {
    "duration": 130,
    "start_time": "2023-10-11T18:47:40.849Z"
   },
   {
    "duration": 52,
    "start_time": "2023-10-11T18:48:37.287Z"
   },
   {
    "duration": 13,
    "start_time": "2023-10-11T18:49:02.722Z"
   },
   {
    "duration": 7,
    "start_time": "2023-10-11T18:53:44.315Z"
   },
   {
    "duration": 18,
    "start_time": "2023-10-11T18:58:02.283Z"
   },
   {
    "duration": 67,
    "start_time": "2023-10-11T19:07:38.499Z"
   },
   {
    "duration": 9,
    "start_time": "2023-10-11T19:08:32.005Z"
   },
   {
    "duration": 9,
    "start_time": "2023-10-11T19:08:39.818Z"
   },
   {
    "duration": 5,
    "start_time": "2023-10-11T19:10:36.444Z"
   },
   {
    "duration": 5,
    "start_time": "2023-10-11T19:26:30.229Z"
   },
   {
    "duration": 15,
    "start_time": "2023-10-11T19:31:44.744Z"
   },
   {
    "duration": 15,
    "start_time": "2023-10-11T19:32:14.864Z"
   },
   {
    "duration": 17,
    "start_time": "2023-10-11T19:32:34.202Z"
   },
   {
    "duration": 13,
    "start_time": "2023-10-11T19:32:56.733Z"
   },
   {
    "duration": 18,
    "start_time": "2023-10-11T19:33:14.698Z"
   },
   {
    "duration": 1630,
    "start_time": "2023-10-11T19:33:30.709Z"
   },
   {
    "duration": 13,
    "start_time": "2023-10-11T19:33:44.159Z"
   },
   {
    "duration": 3174,
    "start_time": "2023-10-11T19:33:52.898Z"
   },
   {
    "duration": 8574,
    "start_time": "2023-10-11T19:34:33.070Z"
   },
   {
    "duration": 8636,
    "start_time": "2023-10-11T19:34:42.831Z"
   },
   {
    "duration": 14,
    "start_time": "2023-10-11T19:40:05.194Z"
   },
   {
    "duration": 9,
    "start_time": "2023-10-11T19:42:51.866Z"
   },
   {
    "duration": 8,
    "start_time": "2023-10-11T19:43:07.941Z"
   },
   {
    "duration": 9,
    "start_time": "2023-10-11T19:43:17.730Z"
   },
   {
    "duration": 8,
    "start_time": "2023-10-11T19:44:16.549Z"
   },
   {
    "duration": 1104,
    "start_time": "2023-10-12T07:12:40.369Z"
   },
   {
    "duration": 127,
    "start_time": "2023-10-12T07:12:41.475Z"
   },
   {
    "duration": 13,
    "start_time": "2023-10-12T07:12:41.613Z"
   },
   {
    "duration": 23,
    "start_time": "2023-10-12T07:12:41.628Z"
   },
   {
    "duration": 5,
    "start_time": "2023-10-12T07:12:41.654Z"
   },
   {
    "duration": 10,
    "start_time": "2023-10-12T07:12:41.661Z"
   },
   {
    "duration": 7,
    "start_time": "2023-10-12T07:12:41.673Z"
   },
   {
    "duration": 200,
    "start_time": "2023-10-12T07:12:41.709Z"
   },
   {
    "duration": 0,
    "start_time": "2023-10-12T07:12:41.916Z"
   },
   {
    "duration": 9,
    "start_time": "2023-10-12T07:22:55.861Z"
   },
   {
    "duration": 46,
    "start_time": "2023-10-12T07:23:57.349Z"
   },
   {
    "duration": 12,
    "start_time": "2023-10-12T07:23:57.535Z"
   },
   {
    "duration": 19,
    "start_time": "2023-10-12T07:23:57.858Z"
   },
   {
    "duration": 6,
    "start_time": "2023-10-12T07:23:58.763Z"
   },
   {
    "duration": 9,
    "start_time": "2023-10-12T07:24:01.051Z"
   },
   {
    "duration": 97,
    "start_time": "2023-10-12T07:24:05.177Z"
   },
   {
    "duration": 11,
    "start_time": "2023-10-12T07:24:41.915Z"
   },
   {
    "duration": 10,
    "start_time": "2023-10-12T07:25:09.872Z"
   },
   {
    "duration": 9,
    "start_time": "2023-10-12T07:30:11.648Z"
   },
   {
    "duration": 7,
    "start_time": "2023-10-12T07:40:00.225Z"
   },
   {
    "duration": 86,
    "start_time": "2023-10-12T07:40:19.559Z"
   },
   {
    "duration": 7,
    "start_time": "2023-10-12T07:40:25.010Z"
   },
   {
    "duration": 7,
    "start_time": "2023-10-12T07:40:40.214Z"
   },
   {
    "duration": 8,
    "start_time": "2023-10-12T07:40:49.630Z"
   },
   {
    "duration": 9,
    "start_time": "2023-10-12T07:41:09.286Z"
   },
   {
    "duration": 9,
    "start_time": "2023-10-12T07:41:33.152Z"
   },
   {
    "duration": 13,
    "start_time": "2023-10-12T07:42:11.883Z"
   },
   {
    "duration": 13778,
    "start_time": "2023-10-12T07:42:30.679Z"
   },
   {
    "duration": 3548,
    "start_time": "2023-10-12T07:43:01.433Z"
   },
   {
    "duration": 9,
    "start_time": "2023-10-12T07:44:05.958Z"
   },
   {
    "duration": 49,
    "start_time": "2023-10-12T07:46:57.642Z"
   },
   {
    "duration": 20,
    "start_time": "2023-10-12T07:47:02.660Z"
   },
   {
    "duration": 3,
    "start_time": "2023-10-12T07:47:12.012Z"
   },
   {
    "duration": 10,
    "start_time": "2023-10-12T07:47:43.885Z"
   },
   {
    "duration": 1237,
    "start_time": "2023-10-12T07:48:33.666Z"
   },
   {
    "duration": 3,
    "start_time": "2023-10-12T07:49:04.254Z"
   },
   {
    "duration": 758,
    "start_time": "2023-10-12T07:50:14.815Z"
   },
   {
    "duration": 798,
    "start_time": "2023-10-12T07:50:24.482Z"
   },
   {
    "duration": 711,
    "start_time": "2023-10-12T07:50:28.700Z"
   },
   {
    "duration": 21,
    "start_time": "2023-10-12T07:53:26.129Z"
   },
   {
    "duration": 9,
    "start_time": "2023-10-12T07:53:29.176Z"
   },
   {
    "duration": 384,
    "start_time": "2023-10-12T07:53:29.337Z"
   },
   {
    "duration": 232,
    "start_time": "2023-10-12T07:55:37.288Z"
   },
   {
    "duration": 11,
    "start_time": "2023-10-12T07:56:09.701Z"
   },
   {
    "duration": 273,
    "start_time": "2023-10-12T07:56:09.880Z"
   },
   {
    "duration": 697,
    "start_time": "2023-10-12T08:01:01.164Z"
   },
   {
    "duration": 279,
    "start_time": "2023-10-12T08:01:18.978Z"
   },
   {
    "duration": 258,
    "start_time": "2023-10-12T08:01:30.816Z"
   },
   {
    "duration": 31,
    "start_time": "2023-10-12T08:08:59.925Z"
   },
   {
    "duration": 35,
    "start_time": "2023-10-12T08:09:35.398Z"
   },
   {
    "duration": 14,
    "start_time": "2023-10-12T08:09:44.910Z"
   },
   {
    "duration": 9,
    "start_time": "2023-10-12T08:10:31.916Z"
   },
   {
    "duration": 275,
    "start_time": "2023-10-12T08:10:46.381Z"
   },
   {
    "duration": 6,
    "start_time": "2023-10-12T08:11:30.823Z"
   },
   {
    "duration": 954,
    "start_time": "2023-10-12T08:12:42.239Z"
   },
   {
    "duration": 392,
    "start_time": "2023-10-12T08:14:22.866Z"
   },
   {
    "duration": 417,
    "start_time": "2023-10-12T08:14:48.878Z"
   },
   {
    "duration": 14,
    "start_time": "2023-10-12T08:39:14.752Z"
   },
   {
    "duration": 10,
    "start_time": "2023-10-12T08:40:03.664Z"
   },
   {
    "duration": 8,
    "start_time": "2023-10-12T08:40:08.419Z"
   },
   {
    "duration": 3,
    "start_time": "2023-10-12T08:47:28.315Z"
   },
   {
    "duration": 1674,
    "start_time": "2023-10-12T14:01:28.350Z"
   },
   {
    "duration": 125,
    "start_time": "2023-10-12T14:01:31.130Z"
   },
   {
    "duration": 379,
    "start_time": "2023-10-12T14:01:31.337Z"
   },
   {
    "duration": 737,
    "start_time": "2023-10-12T14:01:31.990Z"
   },
   {
    "duration": 176,
    "start_time": "2023-10-12T14:01:32.729Z"
   },
   {
    "duration": 200,
    "start_time": "2023-10-12T14:01:32.907Z"
   },
   {
    "duration": 141,
    "start_time": "2023-10-12T14:01:33.109Z"
   },
   {
    "duration": 3369,
    "start_time": "2023-10-12T14:01:33.366Z"
   },
   {
    "duration": 3,
    "start_time": "2023-10-12T14:01:36.737Z"
   },
   {
    "duration": 74,
    "start_time": "2023-10-12T14:01:36.742Z"
   },
   {
    "duration": 751,
    "start_time": "2023-10-12T14:01:36.819Z"
   },
   {
    "duration": 8,
    "start_time": "2023-10-12T14:01:37.572Z"
   },
   {
    "duration": 314,
    "start_time": "2023-10-12T14:01:37.582Z"
   },
   {
    "duration": 352,
    "start_time": "2023-10-12T14:01:37.902Z"
   },
   {
    "duration": 6,
    "start_time": "2023-10-12T14:01:38.255Z"
   },
   {
    "duration": 487,
    "start_time": "2023-10-12T14:01:38.263Z"
   },
   {
    "duration": 3,
    "start_time": "2023-10-12T14:01:38.753Z"
   },
   {
    "duration": 44,
    "start_time": "2023-10-12T14:01:38.757Z"
   },
   {
    "duration": 12,
    "start_time": "2023-10-12T14:02:04.171Z"
   },
   {
    "duration": 118,
    "start_time": "2023-10-12T14:17:11.934Z"
   },
   {
    "duration": 1489,
    "start_time": "2023-10-12T14:17:45.963Z"
   },
   {
    "duration": 210,
    "start_time": "2023-10-12T14:17:59.599Z"
   },
   {
    "duration": 190,
    "start_time": "2023-10-12T14:18:20.795Z"
   },
   {
    "duration": 13,
    "start_time": "2023-10-12T14:24:00.432Z"
   },
   {
    "duration": 23,
    "start_time": "2023-10-12T14:26:36.659Z"
   },
   {
    "duration": 17,
    "start_time": "2023-10-12T14:26:43.079Z"
   },
   {
    "duration": 6,
    "start_time": "2023-10-12T14:29:00.945Z"
   },
   {
    "duration": 719,
    "start_time": "2023-10-12T14:29:01.649Z"
   },
   {
    "duration": 271,
    "start_time": "2023-10-12T14:29:26.939Z"
   },
   {
    "duration": 275,
    "start_time": "2023-10-12T14:30:10.244Z"
   },
   {
    "duration": 5,
    "start_time": "2023-10-12T14:30:23.491Z"
   },
   {
    "duration": 264,
    "start_time": "2023-10-12T14:30:30.737Z"
   },
   {
    "duration": 18,
    "start_time": "2023-10-12T14:30:46.110Z"
   },
   {
    "duration": 19,
    "start_time": "2023-10-12T14:30:56.115Z"
   },
   {
    "duration": 20,
    "start_time": "2023-10-12T14:32:57.670Z"
   },
   {
    "duration": 23,
    "start_time": "2023-10-12T14:34:36.379Z"
   },
   {
    "duration": 19,
    "start_time": "2023-10-12T14:34:56.245Z"
   },
   {
    "duration": 5,
    "start_time": "2023-10-12T14:35:42.459Z"
   },
   {
    "duration": 12,
    "start_time": "2023-10-12T14:35:42.993Z"
   },
   {
    "duration": 8,
    "start_time": "2023-10-12T14:36:13.482Z"
   },
   {
    "duration": 8,
    "start_time": "2023-10-12T14:36:25.258Z"
   },
   {
    "duration": 11,
    "start_time": "2023-10-12T14:38:28.243Z"
   },
   {
    "duration": 15,
    "start_time": "2023-10-12T14:49:35.001Z"
   },
   {
    "duration": 25,
    "start_time": "2023-10-12T14:56:51.488Z"
   },
   {
    "duration": 4,
    "start_time": "2023-10-12T15:00:20.863Z"
   },
   {
    "duration": 37,
    "start_time": "2023-10-12T15:00:53.789Z"
   },
   {
    "duration": 71,
    "start_time": "2023-10-12T15:03:19.872Z"
   },
   {
    "duration": 146,
    "start_time": "2023-10-12T15:04:14.844Z"
   },
   {
    "duration": 3,
    "start_time": "2023-10-12T15:04:40.465Z"
   },
   {
    "duration": 33,
    "start_time": "2023-10-12T15:04:41.132Z"
   },
   {
    "duration": 154,
    "start_time": "2023-10-12T15:04:42.077Z"
   },
   {
    "duration": 8,
    "start_time": "2023-10-12T15:07:09.913Z"
   },
   {
    "duration": 17,
    "start_time": "2023-10-12T15:07:12.251Z"
   },
   {
    "duration": 7,
    "start_time": "2023-10-12T15:07:20.073Z"
   },
   {
    "duration": 7,
    "start_time": "2023-10-12T15:07:36.568Z"
   },
   {
    "duration": 35,
    "start_time": "2023-10-12T15:07:57.731Z"
   },
   {
    "duration": 9,
    "start_time": "2023-10-12T15:07:58.733Z"
   },
   {
    "duration": 7934,
    "start_time": "2023-10-12T15:09:38.539Z"
   },
   {
    "duration": 270560,
    "start_time": "2023-10-12T15:11:32.459Z"
   },
   {
    "duration": 10,
    "start_time": "2023-10-12T15:16:03.022Z"
   },
   {
    "duration": 204691,
    "start_time": "2023-10-12T15:16:20.858Z"
   },
   {
    "duration": 0,
    "start_time": "2023-10-12T15:19:45.603Z"
   },
   {
    "duration": 845993,
    "start_time": "2023-10-12T15:19:50.185Z"
   },
   {
    "duration": 61228,
    "start_time": "2023-10-12T15:33:56.181Z"
   },
   {
    "duration": 72,
    "start_time": "2023-10-12T16:18:20.810Z"
   },
   {
    "duration": 73,
    "start_time": "2023-10-12T16:18:53.383Z"
   },
   {
    "duration": 2159,
    "start_time": "2023-10-12T16:24:00.261Z"
   },
   {
    "duration": 32,
    "start_time": "2023-10-12T16:24:04.791Z"
   },
   {
    "duration": 763,
    "start_time": "2023-10-12T16:24:36.751Z"
   },
   {
    "duration": 10,
    "start_time": "2023-10-12T16:24:37.649Z"
   },
   {
    "duration": 11,
    "start_time": "2023-10-12T16:33:29.126Z"
   },
   {
    "duration": 3,
    "start_time": "2023-10-12T16:33:35.290Z"
   },
   {
    "duration": 4,
    "start_time": "2023-10-12T16:33:38.854Z"
   },
   {
    "duration": 10,
    "start_time": "2023-10-12T16:33:43.714Z"
   },
   {
    "duration": 10138,
    "start_time": "2023-10-12T16:33:51.572Z"
   },
   {
    "duration": 14,
    "start_time": "2023-10-12T16:34:37.623Z"
   },
   {
    "duration": 4657,
    "start_time": "2023-10-12T16:34:56.852Z"
   },
   {
    "duration": 10330,
    "start_time": "2023-10-12T16:35:07.082Z"
   },
   {
    "duration": 2125330,
    "start_time": "2023-10-12T16:45:45.292Z"
   },
   {
    "duration": 425,
    "start_time": "2023-10-12T17:21:46.985Z"
   },
   {
    "duration": 16,
    "start_time": "2023-10-12T17:21:49.699Z"
   },
   {
    "duration": 1632,
    "start_time": "2023-10-16T07:00:45.400Z"
   },
   {
    "duration": 145,
    "start_time": "2023-10-16T07:00:47.035Z"
   },
   {
    "duration": 11,
    "start_time": "2023-10-16T07:00:47.182Z"
   },
   {
    "duration": 37,
    "start_time": "2023-10-16T07:00:47.196Z"
   },
   {
    "duration": 28,
    "start_time": "2023-10-16T07:00:47.235Z"
   },
   {
    "duration": 20,
    "start_time": "2023-10-16T07:00:47.265Z"
   },
   {
    "duration": 36,
    "start_time": "2023-10-16T07:00:47.287Z"
   },
   {
    "duration": 2726,
    "start_time": "2023-10-16T07:00:47.325Z"
   },
   {
    "duration": 4,
    "start_time": "2023-10-16T07:00:50.053Z"
   },
   {
    "duration": 48,
    "start_time": "2023-10-16T07:00:50.060Z"
   },
   {
    "duration": 700,
    "start_time": "2023-10-16T07:00:50.110Z"
   },
   {
    "duration": 7,
    "start_time": "2023-10-16T07:00:50.812Z"
   },
   {
    "duration": 223,
    "start_time": "2023-10-16T07:00:50.820Z"
   },
   {
    "duration": 231,
    "start_time": "2023-10-16T07:00:51.046Z"
   },
   {
    "duration": 5,
    "start_time": "2023-10-16T07:00:51.279Z"
   },
   {
    "duration": 377,
    "start_time": "2023-10-16T07:00:51.286Z"
   },
   {
    "duration": 160,
    "start_time": "2023-10-16T07:00:51.664Z"
   },
   {
    "duration": 2,
    "start_time": "2023-10-16T07:00:51.826Z"
   },
   {
    "duration": 38,
    "start_time": "2023-10-16T07:00:51.830Z"
   },
   {
    "duration": 55,
    "start_time": "2023-10-16T07:00:51.869Z"
   },
   {
    "duration": 64,
    "start_time": "2023-10-16T07:00:51.925Z"
   },
   {
    "duration": 48,
    "start_time": "2023-10-16T07:00:51.991Z"
   },
   {
    "duration": 53,
    "start_time": "2023-10-16T07:00:52.040Z"
   },
   {
    "duration": 30,
    "start_time": "2023-10-16T07:00:52.095Z"
   },
   {
    "duration": 146,
    "start_time": "2023-10-16T07:00:52.127Z"
   },
   {
    "duration": 0,
    "start_time": "2023-10-16T07:00:52.275Z"
   },
   {
    "duration": 0,
    "start_time": "2023-10-16T07:00:52.276Z"
   },
   {
    "duration": 0,
    "start_time": "2023-10-16T07:00:52.277Z"
   },
   {
    "duration": 0,
    "start_time": "2023-10-16T07:00:52.278Z"
   },
   {
    "duration": 0,
    "start_time": "2023-10-16T07:00:52.279Z"
   },
   {
    "duration": 0,
    "start_time": "2023-10-16T07:00:52.280Z"
   },
   {
    "duration": 0,
    "start_time": "2023-10-16T07:00:52.281Z"
   },
   {
    "duration": 0,
    "start_time": "2023-10-16T07:00:52.282Z"
   },
   {
    "duration": 0,
    "start_time": "2023-10-16T07:00:52.283Z"
   },
   {
    "duration": 0,
    "start_time": "2023-10-16T07:00:52.284Z"
   },
   {
    "duration": 0,
    "start_time": "2023-10-16T07:00:52.285Z"
   },
   {
    "duration": 0,
    "start_time": "2023-10-16T07:00:52.286Z"
   },
   {
    "duration": 1418,
    "start_time": "2023-10-16T07:01:23.070Z"
   },
   {
    "duration": 48,
    "start_time": "2023-10-16T07:01:24.490Z"
   },
   {
    "duration": 11,
    "start_time": "2023-10-16T07:01:24.539Z"
   },
   {
    "duration": 42,
    "start_time": "2023-10-16T07:01:24.552Z"
   },
   {
    "duration": 21,
    "start_time": "2023-10-16T07:01:24.596Z"
   },
   {
    "duration": 39,
    "start_time": "2023-10-16T07:01:24.619Z"
   },
   {
    "duration": 25,
    "start_time": "2023-10-16T07:01:24.660Z"
   },
   {
    "duration": 2799,
    "start_time": "2023-10-16T07:01:24.687Z"
   },
   {
    "duration": 3,
    "start_time": "2023-10-16T07:01:27.488Z"
   },
   {
    "duration": 40,
    "start_time": "2023-10-16T07:01:27.494Z"
   },
   {
    "duration": 670,
    "start_time": "2023-10-16T07:01:27.536Z"
   },
   {
    "duration": 8,
    "start_time": "2023-10-16T07:01:28.207Z"
   },
   {
    "duration": 230,
    "start_time": "2023-10-16T07:01:28.217Z"
   },
   {
    "duration": 216,
    "start_time": "2023-10-16T07:01:28.448Z"
   },
   {
    "duration": 5,
    "start_time": "2023-10-16T07:01:28.665Z"
   },
   {
    "duration": 360,
    "start_time": "2023-10-16T07:01:28.672Z"
   },
   {
    "duration": 160,
    "start_time": "2023-10-16T07:01:29.034Z"
   },
   {
    "duration": 3,
    "start_time": "2023-10-16T07:01:29.195Z"
   },
   {
    "duration": 30,
    "start_time": "2023-10-16T07:01:29.199Z"
   },
   {
    "duration": 30,
    "start_time": "2023-10-16T07:01:29.231Z"
   },
   {
    "duration": 39,
    "start_time": "2023-10-16T07:01:29.262Z"
   },
   {
    "duration": 36,
    "start_time": "2023-10-16T07:01:29.303Z"
   },
   {
    "duration": 22,
    "start_time": "2023-10-16T07:01:29.340Z"
   },
   {
    "duration": 37,
    "start_time": "2023-10-16T07:01:29.364Z"
   },
   {
    "duration": 131,
    "start_time": "2023-10-16T07:01:29.403Z"
   },
   {
    "duration": 0,
    "start_time": "2023-10-16T07:01:29.537Z"
   },
   {
    "duration": 0,
    "start_time": "2023-10-16T07:01:29.538Z"
   },
   {
    "duration": 0,
    "start_time": "2023-10-16T07:01:29.544Z"
   },
   {
    "duration": 0,
    "start_time": "2023-10-16T07:01:29.545Z"
   },
   {
    "duration": 0,
    "start_time": "2023-10-16T07:01:29.546Z"
   },
   {
    "duration": 0,
    "start_time": "2023-10-16T07:01:29.546Z"
   },
   {
    "duration": 0,
    "start_time": "2023-10-16T07:01:29.547Z"
   },
   {
    "duration": 0,
    "start_time": "2023-10-16T07:01:29.548Z"
   },
   {
    "duration": 0,
    "start_time": "2023-10-16T07:01:29.549Z"
   },
   {
    "duration": 0,
    "start_time": "2023-10-16T07:01:29.550Z"
   },
   {
    "duration": 0,
    "start_time": "2023-10-16T07:01:29.551Z"
   },
   {
    "duration": 0,
    "start_time": "2023-10-16T07:01:29.551Z"
   },
   {
    "duration": 1343,
    "start_time": "2023-10-16T07:03:09.897Z"
   },
   {
    "duration": 48,
    "start_time": "2023-10-16T07:03:11.242Z"
   },
   {
    "duration": 11,
    "start_time": "2023-10-16T07:03:11.291Z"
   },
   {
    "duration": 23,
    "start_time": "2023-10-16T07:03:11.304Z"
   },
   {
    "duration": 4,
    "start_time": "2023-10-16T07:03:11.329Z"
   },
   {
    "duration": 14,
    "start_time": "2023-10-16T07:03:11.334Z"
   },
   {
    "duration": 32,
    "start_time": "2023-10-16T07:03:11.350Z"
   },
   {
    "duration": 2956,
    "start_time": "2023-10-16T07:03:11.383Z"
   },
   {
    "duration": 4,
    "start_time": "2023-10-16T07:03:14.343Z"
   },
   {
    "duration": 14,
    "start_time": "2023-10-16T07:03:14.350Z"
   },
   {
    "duration": 711,
    "start_time": "2023-10-16T07:03:14.366Z"
   },
   {
    "duration": 9,
    "start_time": "2023-10-16T07:03:15.079Z"
   },
   {
    "duration": 242,
    "start_time": "2023-10-16T07:03:15.090Z"
   },
   {
    "duration": 216,
    "start_time": "2023-10-16T07:03:15.334Z"
   },
   {
    "duration": 5,
    "start_time": "2023-10-16T07:03:15.551Z"
   },
   {
    "duration": 360,
    "start_time": "2023-10-16T07:03:15.557Z"
   },
   {
    "duration": 160,
    "start_time": "2023-10-16T07:03:15.919Z"
   },
   {
    "duration": 2,
    "start_time": "2023-10-16T07:03:16.081Z"
   },
   {
    "duration": 44,
    "start_time": "2023-10-16T07:03:16.084Z"
   },
   {
    "duration": 26,
    "start_time": "2023-10-16T07:03:16.130Z"
   },
   {
    "duration": 12,
    "start_time": "2023-10-16T07:03:16.157Z"
   },
   {
    "duration": 16,
    "start_time": "2023-10-16T07:03:16.170Z"
   },
   {
    "duration": 17,
    "start_time": "2023-10-16T07:03:16.188Z"
   },
   {
    "duration": 41,
    "start_time": "2023-10-16T07:03:16.206Z"
   },
   {
    "duration": 21,
    "start_time": "2023-10-16T07:03:16.249Z"
   },
   {
    "duration": 17,
    "start_time": "2023-10-16T07:03:16.271Z"
   },
   {
    "duration": 4,
    "start_time": "2023-10-16T07:03:16.289Z"
   },
   {
    "duration": 14,
    "start_time": "2023-10-16T07:03:16.296Z"
   },
   {
    "duration": 9,
    "start_time": "2023-10-16T07:03:16.311Z"
   },
   {
    "duration": 44,
    "start_time": "2023-10-16T07:03:16.321Z"
   },
   {
    "duration": 207,
    "start_time": "2023-10-16T07:03:16.366Z"
   },
   {
    "duration": 5554,
    "start_time": "2023-10-16T07:03:16.575Z"
   },
   {
    "duration": 618526,
    "start_time": "2023-10-16T07:03:22.130Z"
   },
   {
    "duration": 4193,
    "start_time": "2023-10-16T07:13:40.658Z"
   },
   {
    "duration": 779100,
    "start_time": "2023-10-16T07:13:44.852Z"
   },
   {
    "duration": 496,
    "start_time": "2023-10-16T07:26:43.954Z"
   },
   {
    "duration": 93,
    "start_time": "2023-10-16T07:26:44.452Z"
   },
   {
    "duration": 7,
    "start_time": "2023-10-16T07:27:24.898Z"
   },
   {
    "duration": 5,
    "start_time": "2023-10-16T07:27:27.681Z"
   },
   {
    "duration": 1606,
    "start_time": "2023-10-16T10:43:09.716Z"
   },
   {
    "duration": 134,
    "start_time": "2023-10-16T10:43:11.324Z"
   },
   {
    "duration": 14,
    "start_time": "2023-10-16T10:43:11.460Z"
   },
   {
    "duration": 48,
    "start_time": "2023-10-16T10:43:11.476Z"
   },
   {
    "duration": 32,
    "start_time": "2023-10-16T10:43:11.526Z"
   },
   {
    "duration": 54,
    "start_time": "2023-10-16T10:43:11.559Z"
   },
   {
    "duration": 19,
    "start_time": "2023-10-16T10:43:11.614Z"
   },
   {
    "duration": 2825,
    "start_time": "2023-10-16T10:43:11.635Z"
   },
   {
    "duration": 3,
    "start_time": "2023-10-16T10:43:14.462Z"
   },
   {
    "duration": 24,
    "start_time": "2023-10-16T10:43:14.468Z"
   },
   {
    "duration": 710,
    "start_time": "2023-10-16T10:43:14.494Z"
   },
   {
    "duration": 19,
    "start_time": "2023-10-16T10:43:15.206Z"
   },
   {
    "duration": 250,
    "start_time": "2023-10-16T10:43:15.227Z"
   },
   {
    "duration": 237,
    "start_time": "2023-10-16T10:43:15.479Z"
   },
   {
    "duration": 6,
    "start_time": "2023-10-16T10:43:15.723Z"
   },
   {
    "duration": 482,
    "start_time": "2023-10-16T10:43:15.730Z"
   },
   {
    "duration": 178,
    "start_time": "2023-10-16T10:43:16.214Z"
   },
   {
    "duration": 2,
    "start_time": "2023-10-16T10:43:16.394Z"
   },
   {
    "duration": 80,
    "start_time": "2023-10-16T10:43:16.397Z"
   },
   {
    "duration": 35,
    "start_time": "2023-10-16T10:43:16.479Z"
   },
   {
    "duration": 26,
    "start_time": "2023-10-16T10:43:16.516Z"
   },
   {
    "duration": 34,
    "start_time": "2023-10-16T10:43:16.544Z"
   },
   {
    "duration": 34,
    "start_time": "2023-10-16T10:43:16.580Z"
   },
   {
    "duration": 32,
    "start_time": "2023-10-16T10:43:16.616Z"
   },
   {
    "duration": 64,
    "start_time": "2023-10-16T10:43:16.650Z"
   },
   {
    "duration": 46,
    "start_time": "2023-10-16T10:43:16.715Z"
   },
   {
    "duration": 14,
    "start_time": "2023-10-16T10:43:16.763Z"
   },
   {
    "duration": 27,
    "start_time": "2023-10-16T10:43:16.779Z"
   },
   {
    "duration": 33,
    "start_time": "2023-10-16T10:43:16.807Z"
   },
   {
    "duration": 486,
    "start_time": "2023-10-16T10:43:16.842Z"
   },
   {
    "duration": 352,
    "start_time": "2023-10-16T10:43:17.331Z"
   },
   {
    "duration": 7211,
    "start_time": "2023-10-16T10:43:17.684Z"
   },
   {
    "duration": 0,
    "start_time": "2023-10-16T10:43:24.897Z"
   },
   {
    "duration": 0,
    "start_time": "2023-10-16T10:43:24.899Z"
   },
   {
    "duration": 0,
    "start_time": "2023-10-16T10:43:24.900Z"
   },
   {
    "duration": 0,
    "start_time": "2023-10-16T10:43:24.901Z"
   },
   {
    "duration": 0,
    "start_time": "2023-10-16T10:43:24.902Z"
   },
   {
    "duration": 10,
    "start_time": "2023-10-16T10:43:28.621Z"
   },
   {
    "duration": 6,
    "start_time": "2023-10-16T10:43:29.656Z"
   },
   {
    "duration": 19,
    "start_time": "2023-10-16T10:43:48.369Z"
   },
   {
    "duration": 1606,
    "start_time": "2023-10-16T10:43:58.422Z"
   },
   {
    "duration": 54,
    "start_time": "2023-10-16T10:44:00.030Z"
   },
   {
    "duration": 12,
    "start_time": "2023-10-16T10:44:00.086Z"
   },
   {
    "duration": 34,
    "start_time": "2023-10-16T10:44:00.100Z"
   },
   {
    "duration": 24,
    "start_time": "2023-10-16T10:44:00.136Z"
   },
   {
    "duration": 28,
    "start_time": "2023-10-16T10:44:00.161Z"
   },
   {
    "duration": 25,
    "start_time": "2023-10-16T10:44:00.191Z"
   },
   {
    "duration": 3034,
    "start_time": "2023-10-16T10:44:00.218Z"
   },
   {
    "duration": 3,
    "start_time": "2023-10-16T10:44:03.254Z"
   },
   {
    "duration": 67,
    "start_time": "2023-10-16T10:44:03.259Z"
   },
   {
    "duration": 689,
    "start_time": "2023-10-16T10:44:03.327Z"
   },
   {
    "duration": 11,
    "start_time": "2023-10-16T10:44:04.018Z"
   },
   {
    "duration": 220,
    "start_time": "2023-10-16T10:44:04.031Z"
   },
   {
    "duration": 236,
    "start_time": "2023-10-16T10:44:04.253Z"
   },
   {
    "duration": 5,
    "start_time": "2023-10-16T10:44:04.491Z"
   },
   {
    "duration": 374,
    "start_time": "2023-10-16T10:44:04.498Z"
   },
   {
    "duration": 171,
    "start_time": "2023-10-16T10:44:04.873Z"
   },
   {
    "duration": 3,
    "start_time": "2023-10-16T10:44:05.046Z"
   },
   {
    "duration": 19,
    "start_time": "2023-10-16T10:44:05.051Z"
   },
   {
    "duration": 14,
    "start_time": "2023-10-16T10:44:05.071Z"
   },
   {
    "duration": 25,
    "start_time": "2023-10-16T10:44:05.087Z"
   },
   {
    "duration": 17,
    "start_time": "2023-10-16T10:44:05.113Z"
   },
   {
    "duration": 18,
    "start_time": "2023-10-16T10:44:05.131Z"
   },
   {
    "duration": 11,
    "start_time": "2023-10-16T10:44:05.150Z"
   },
   {
    "duration": 16,
    "start_time": "2023-10-16T10:44:05.162Z"
   },
   {
    "duration": 148,
    "start_time": "2023-10-16T10:44:05.180Z"
   },
   {
    "duration": 0,
    "start_time": "2023-10-16T10:44:05.330Z"
   },
   {
    "duration": 0,
    "start_time": "2023-10-16T10:44:05.331Z"
   },
   {
    "duration": 0,
    "start_time": "2023-10-16T10:44:05.331Z"
   },
   {
    "duration": 0,
    "start_time": "2023-10-16T10:44:05.332Z"
   },
   {
    "duration": 0,
    "start_time": "2023-10-16T10:44:05.333Z"
   },
   {
    "duration": 0,
    "start_time": "2023-10-16T10:44:05.335Z"
   },
   {
    "duration": 0,
    "start_time": "2023-10-16T10:44:05.336Z"
   },
   {
    "duration": 0,
    "start_time": "2023-10-16T10:44:05.336Z"
   },
   {
    "duration": 0,
    "start_time": "2023-10-16T10:44:05.337Z"
   },
   {
    "duration": 0,
    "start_time": "2023-10-16T10:44:05.338Z"
   },
   {
    "duration": 0,
    "start_time": "2023-10-16T10:44:05.339Z"
   },
   {
    "duration": 13,
    "start_time": "2023-10-16T10:44:22.771Z"
   },
   {
    "duration": 4,
    "start_time": "2023-10-16T10:44:25.742Z"
   },
   {
    "duration": 8,
    "start_time": "2023-10-16T10:44:25.898Z"
   },
   {
    "duration": 3,
    "start_time": "2023-10-16T10:44:28.507Z"
   },
   {
    "duration": 29,
    "start_time": "2023-10-16T10:44:29.191Z"
   },
   {
    "duration": 82,
    "start_time": "2023-10-16T10:44:30.397Z"
   },
   {
    "duration": 3823,
    "start_time": "2023-10-16T10:44:34.937Z"
   },
   {
    "duration": 8,
    "start_time": "2023-10-16T10:44:44.978Z"
   },
   {
    "duration": 7,
    "start_time": "2023-10-16T10:44:45.779Z"
   },
   {
    "duration": 38,
    "start_time": "2023-10-16T10:45:00.781Z"
   },
   {
    "duration": 29,
    "start_time": "2023-10-16T10:45:02.228Z"
   },
   {
    "duration": 13,
    "start_time": "2023-10-16T10:45:02.602Z"
   },
   {
    "duration": 35,
    "start_time": "2023-10-16T10:45:02.985Z"
   },
   {
    "duration": 13,
    "start_time": "2023-10-16T10:45:03.371Z"
   },
   {
    "duration": 4,
    "start_time": "2023-10-16T10:45:04.157Z"
   },
   {
    "duration": 8,
    "start_time": "2023-10-16T10:45:12.336Z"
   },
   {
    "duration": 3,
    "start_time": "2023-10-16T10:45:14.969Z"
   },
   {
    "duration": 324,
    "start_time": "2023-10-16T10:45:15.708Z"
   },
   {
    "duration": 10,
    "start_time": "2023-10-16T10:45:20.033Z"
   },
   {
    "duration": 7,
    "start_time": "2023-10-16T10:45:20.647Z"
   },
   {
    "duration": 3,
    "start_time": "2023-10-16T10:46:01.695Z"
   },
   {
    "duration": 1571,
    "start_time": "2023-10-16T10:46:10.059Z"
   },
   {
    "duration": 51,
    "start_time": "2023-10-16T10:46:11.632Z"
   },
   {
    "duration": 12,
    "start_time": "2023-10-16T10:46:11.684Z"
   },
   {
    "duration": 23,
    "start_time": "2023-10-16T10:46:11.697Z"
   },
   {
    "duration": 5,
    "start_time": "2023-10-16T10:46:11.722Z"
   },
   {
    "duration": 21,
    "start_time": "2023-10-16T10:46:11.728Z"
   },
   {
    "duration": 5,
    "start_time": "2023-10-16T10:46:11.750Z"
   },
   {
    "duration": 2943,
    "start_time": "2023-10-16T10:46:11.757Z"
   },
   {
    "duration": 3,
    "start_time": "2023-10-16T10:46:14.701Z"
   },
   {
    "duration": 37,
    "start_time": "2023-10-16T10:46:14.706Z"
   },
   {
    "duration": 751,
    "start_time": "2023-10-16T10:46:14.745Z"
   },
   {
    "duration": 7,
    "start_time": "2023-10-16T10:46:15.498Z"
   },
   {
    "duration": 226,
    "start_time": "2023-10-16T10:46:15.507Z"
   },
   {
    "duration": 248,
    "start_time": "2023-10-16T10:46:15.735Z"
   },
   {
    "duration": 5,
    "start_time": "2023-10-16T10:46:15.984Z"
   },
   {
    "duration": 485,
    "start_time": "2023-10-16T10:46:15.991Z"
   },
   {
    "duration": 214,
    "start_time": "2023-10-16T10:46:16.478Z"
   },
   {
    "duration": 3,
    "start_time": "2023-10-16T10:46:16.693Z"
   },
   {
    "duration": 19,
    "start_time": "2023-10-16T10:46:16.698Z"
   },
   {
    "duration": 23,
    "start_time": "2023-10-16T10:46:16.718Z"
   },
   {
    "duration": 36,
    "start_time": "2023-10-16T10:46:16.743Z"
   },
   {
    "duration": 17,
    "start_time": "2023-10-16T10:46:16.782Z"
   },
   {
    "duration": 25,
    "start_time": "2023-10-16T10:46:16.801Z"
   },
   {
    "duration": 24,
    "start_time": "2023-10-16T10:46:16.828Z"
   },
   {
    "duration": 21,
    "start_time": "2023-10-16T10:46:16.854Z"
   },
   {
    "duration": 154,
    "start_time": "2023-10-16T10:46:16.877Z"
   },
   {
    "duration": 0,
    "start_time": "2023-10-16T10:46:17.034Z"
   },
   {
    "duration": 0,
    "start_time": "2023-10-16T10:46:17.036Z"
   },
   {
    "duration": 0,
    "start_time": "2023-10-16T10:46:17.038Z"
   },
   {
    "duration": 0,
    "start_time": "2023-10-16T10:46:17.039Z"
   },
   {
    "duration": 0,
    "start_time": "2023-10-16T10:46:17.040Z"
   },
   {
    "duration": 0,
    "start_time": "2023-10-16T10:46:17.042Z"
   },
   {
    "duration": 0,
    "start_time": "2023-10-16T10:46:17.043Z"
   },
   {
    "duration": 0,
    "start_time": "2023-10-16T10:46:17.045Z"
   },
   {
    "duration": 0,
    "start_time": "2023-10-16T10:46:17.046Z"
   },
   {
    "duration": 0,
    "start_time": "2023-10-16T10:46:17.047Z"
   },
   {
    "duration": 0,
    "start_time": "2023-10-16T10:46:17.048Z"
   },
   {
    "duration": 4,
    "start_time": "2023-10-16T10:46:26.218Z"
   },
   {
    "duration": 7,
    "start_time": "2023-10-16T10:46:26.502Z"
   },
   {
    "duration": 4,
    "start_time": "2023-10-16T10:46:29.361Z"
   },
   {
    "duration": 31,
    "start_time": "2023-10-16T10:46:29.916Z"
   },
   {
    "duration": 59,
    "start_time": "2023-10-16T10:46:31.731Z"
   },
   {
    "duration": 8,
    "start_time": "2023-10-16T10:46:36.531Z"
   },
   {
    "duration": 6,
    "start_time": "2023-10-16T10:46:37.281Z"
   },
   {
    "duration": 39,
    "start_time": "2023-10-16T10:47:21.598Z"
   },
   {
    "duration": 26,
    "start_time": "2023-10-16T10:47:22.722Z"
   },
   {
    "duration": 15,
    "start_time": "2023-10-16T10:47:23.181Z"
   },
   {
    "duration": 37,
    "start_time": "2023-10-16T10:47:23.577Z"
   },
   {
    "duration": 5,
    "start_time": "2023-10-16T10:47:23.780Z"
   },
   {
    "duration": 6,
    "start_time": "2023-10-16T10:47:24.178Z"
   },
   {
    "duration": 7,
    "start_time": "2023-10-16T10:47:26.946Z"
   },
   {
    "duration": 4,
    "start_time": "2023-10-16T10:47:28.229Z"
   },
   {
    "duration": 875,
    "start_time": "2023-10-16T10:47:28.956Z"
   },
   {
    "duration": 335,
    "start_time": "2023-10-16T10:47:33.132Z"
   },
   {
    "duration": 11,
    "start_time": "2023-10-16T10:47:37.251Z"
   },
   {
    "duration": 8,
    "start_time": "2023-10-16T10:47:38.136Z"
   },
   {
    "duration": 26,
    "start_time": "2023-10-16T10:48:36.278Z"
   },
   {
    "duration": 1456,
    "start_time": "2023-10-16T10:49:00.888Z"
   },
   {
    "duration": 55,
    "start_time": "2023-10-16T10:49:02.346Z"
   },
   {
    "duration": 210,
    "start_time": "2023-10-16T10:49:02.403Z"
   },
   {
    "duration": 40,
    "start_time": "2023-10-16T10:49:02.615Z"
   },
   {
    "duration": 38,
    "start_time": "2023-10-16T10:49:02.657Z"
   },
   {
    "duration": 35,
    "start_time": "2023-10-16T10:49:02.697Z"
   },
   {
    "duration": 42,
    "start_time": "2023-10-16T10:49:02.734Z"
   },
   {
    "duration": 2910,
    "start_time": "2023-10-16T10:49:02.778Z"
   },
   {
    "duration": 3,
    "start_time": "2023-10-16T10:49:05.690Z"
   },
   {
    "duration": 41,
    "start_time": "2023-10-16T10:49:05.695Z"
   },
   {
    "duration": 760,
    "start_time": "2023-10-16T10:49:05.738Z"
   },
   {
    "duration": 8,
    "start_time": "2023-10-16T10:49:06.501Z"
   },
   {
    "duration": 240,
    "start_time": "2023-10-16T10:49:06.511Z"
   },
   {
    "duration": 235,
    "start_time": "2023-10-16T10:49:06.753Z"
   },
   {
    "duration": 5,
    "start_time": "2023-10-16T10:49:06.989Z"
   },
   {
    "duration": 382,
    "start_time": "2023-10-16T10:49:06.995Z"
   },
   {
    "duration": 169,
    "start_time": "2023-10-16T10:49:07.378Z"
   },
   {
    "duration": 3,
    "start_time": "2023-10-16T10:49:07.549Z"
   },
   {
    "duration": 42,
    "start_time": "2023-10-16T10:49:07.554Z"
   },
   {
    "duration": 43,
    "start_time": "2023-10-16T10:49:07.598Z"
   },
   {
    "duration": 39,
    "start_time": "2023-10-16T10:49:07.643Z"
   },
   {
    "duration": 62,
    "start_time": "2023-10-16T10:49:07.684Z"
   },
   {
    "duration": 25,
    "start_time": "2023-10-16T10:49:07.748Z"
   },
   {
    "duration": 14,
    "start_time": "2023-10-16T10:49:07.775Z"
   },
   {
    "duration": 56,
    "start_time": "2023-10-16T10:49:07.791Z"
   },
   {
    "duration": 25,
    "start_time": "2023-10-16T10:49:07.849Z"
   },
   {
    "duration": 14,
    "start_time": "2023-10-16T10:49:07.876Z"
   },
   {
    "duration": 9,
    "start_time": "2023-10-16T10:49:07.893Z"
   },
   {
    "duration": 11,
    "start_time": "2023-10-16T10:49:07.904Z"
   },
   {
    "duration": 711,
    "start_time": "2023-10-16T10:49:07.917Z"
   },
   {
    "duration": 475,
    "start_time": "2023-10-16T10:49:08.630Z"
   },
   {
    "duration": 1147,
    "start_time": "2023-10-16T10:49:09.107Z"
   },
   {
    "duration": 0,
    "start_time": "2023-10-16T10:49:10.256Z"
   },
   {
    "duration": 0,
    "start_time": "2023-10-16T10:49:10.257Z"
   },
   {
    "duration": 0,
    "start_time": "2023-10-16T10:49:10.258Z"
   },
   {
    "duration": 0,
    "start_time": "2023-10-16T10:49:10.259Z"
   },
   {
    "duration": 0,
    "start_time": "2023-10-16T10:49:10.261Z"
   },
   {
    "duration": 12,
    "start_time": "2023-10-16T10:49:16.668Z"
   },
   {
    "duration": 7,
    "start_time": "2023-10-16T10:49:18.098Z"
   },
   {
    "duration": 1622,
    "start_time": "2023-10-16T10:49:52.926Z"
   },
   {
    "duration": 50,
    "start_time": "2023-10-16T10:49:54.550Z"
   },
   {
    "duration": 13,
    "start_time": "2023-10-16T10:49:54.602Z"
   },
   {
    "duration": 16,
    "start_time": "2023-10-16T10:49:54.617Z"
   },
   {
    "duration": 23,
    "start_time": "2023-10-16T10:49:54.636Z"
   },
   {
    "duration": 25,
    "start_time": "2023-10-16T10:49:54.661Z"
   },
   {
    "duration": 14,
    "start_time": "2023-10-16T10:49:54.688Z"
   },
   {
    "duration": 3005,
    "start_time": "2023-10-16T10:49:54.704Z"
   },
   {
    "duration": 3,
    "start_time": "2023-10-16T10:49:57.711Z"
   },
   {
    "duration": 21,
    "start_time": "2023-10-16T10:49:57.716Z"
   },
   {
    "duration": 734,
    "start_time": "2023-10-16T10:49:57.738Z"
   },
   {
    "duration": 8,
    "start_time": "2023-10-16T10:49:58.474Z"
   },
   {
    "duration": 319,
    "start_time": "2023-10-16T10:49:58.484Z"
   },
   {
    "duration": 246,
    "start_time": "2023-10-16T10:49:58.806Z"
   },
   {
    "duration": 7,
    "start_time": "2023-10-16T10:49:59.054Z"
   },
   {
    "duration": 440,
    "start_time": "2023-10-16T10:49:59.063Z"
   },
   {
    "duration": 159,
    "start_time": "2023-10-16T10:49:59.505Z"
   },
   {
    "duration": 3,
    "start_time": "2023-10-16T10:49:59.665Z"
   },
   {
    "duration": 127,
    "start_time": "2023-10-16T10:49:59.669Z"
   },
   {
    "duration": 45,
    "start_time": "2023-10-16T10:49:59.798Z"
   },
   {
    "duration": 62,
    "start_time": "2023-10-16T10:49:59.844Z"
   },
   {
    "duration": 56,
    "start_time": "2023-10-16T10:49:59.908Z"
   },
   {
    "duration": 60,
    "start_time": "2023-10-16T10:49:59.966Z"
   },
   {
    "duration": 148,
    "start_time": "2023-10-16T10:50:00.028Z"
   },
   {
    "duration": 26,
    "start_time": "2023-10-16T10:50:00.178Z"
   },
   {
    "duration": 18,
    "start_time": "2023-10-16T10:50:00.206Z"
   },
   {
    "duration": 99,
    "start_time": "2023-10-16T10:50:00.226Z"
   },
   {
    "duration": 20,
    "start_time": "2023-10-16T10:50:00.327Z"
   },
   {
    "duration": 975,
    "start_time": "2023-10-16T10:50:00.349Z"
   },
   {
    "duration": 367,
    "start_time": "2023-10-16T10:50:01.326Z"
   },
   {
    "duration": 20144,
    "start_time": "2023-10-16T10:50:01.695Z"
   },
   {
    "duration": 2240350,
    "start_time": "2023-10-16T10:50:21.840Z"
   },
   {
    "duration": 6734,
    "start_time": "2023-10-16T11:27:42.191Z"
   },
   {
    "duration": 1190711,
    "start_time": "2023-10-16T11:27:48.926Z"
   },
   {
    "duration": 93,
    "start_time": "2023-10-16T11:47:39.639Z"
   },
   {
    "duration": 193,
    "start_time": "2023-10-16T11:47:39.736Z"
   },
   {
    "duration": 136663,
    "start_time": "2023-10-16T11:54:55.870Z"
   },
   {
    "duration": 14,
    "start_time": "2023-10-16T11:57:12.535Z"
   },
   {
    "duration": 1685,
    "start_time": "2023-10-16T13:40:19.666Z"
   },
   {
    "duration": 127,
    "start_time": "2023-10-16T13:40:21.353Z"
   },
   {
    "duration": 13,
    "start_time": "2023-10-16T13:40:21.481Z"
   },
   {
    "duration": 26,
    "start_time": "2023-10-16T13:40:21.496Z"
   },
   {
    "duration": 5,
    "start_time": "2023-10-16T13:40:21.524Z"
   },
   {
    "duration": 12,
    "start_time": "2023-10-16T13:40:21.530Z"
   },
   {
    "duration": 5,
    "start_time": "2023-10-16T13:40:21.792Z"
   },
   {
    "duration": 2821,
    "start_time": "2023-10-16T13:40:22.142Z"
   },
   {
    "duration": 3,
    "start_time": "2023-10-16T13:40:24.965Z"
   },
   {
    "duration": 29,
    "start_time": "2023-10-16T13:40:24.969Z"
   },
   {
    "duration": 771,
    "start_time": "2023-10-16T13:40:25.000Z"
   },
   {
    "duration": 8,
    "start_time": "2023-10-16T13:40:25.772Z"
   },
   {
    "duration": 222,
    "start_time": "2023-10-16T13:40:27.784Z"
   },
   {
    "duration": 7,
    "start_time": "2023-10-16T13:40:36.483Z"
   },
   {
    "duration": 200,
    "start_time": "2023-10-16T13:40:37.902Z"
   },
   {
    "duration": 5,
    "start_time": "2023-10-16T13:50:37.622Z"
   },
   {
    "duration": 1429,
    "start_time": "2023-10-16T13:51:25.894Z"
   },
   {
    "duration": 51,
    "start_time": "2023-10-16T13:51:27.325Z"
   },
   {
    "duration": 12,
    "start_time": "2023-10-16T13:51:27.377Z"
   },
   {
    "duration": 41,
    "start_time": "2023-10-16T13:51:27.390Z"
   },
   {
    "duration": 23,
    "start_time": "2023-10-16T13:51:27.433Z"
   },
   {
    "duration": 25,
    "start_time": "2023-10-16T13:51:27.458Z"
   },
   {
    "duration": 15,
    "start_time": "2023-10-16T13:51:27.484Z"
   },
   {
    "duration": 2868,
    "start_time": "2023-10-16T13:51:27.501Z"
   },
   {
    "duration": 3,
    "start_time": "2023-10-16T13:51:30.371Z"
   },
   {
    "duration": 70,
    "start_time": "2023-10-16T13:51:30.375Z"
   },
   {
    "duration": 811,
    "start_time": "2023-10-16T13:51:30.447Z"
   },
   {
    "duration": 8,
    "start_time": "2023-10-16T13:51:31.260Z"
   },
   {
    "duration": 247,
    "start_time": "2023-10-16T13:51:31.270Z"
   },
   {
    "duration": 241,
    "start_time": "2023-10-16T13:51:31.525Z"
   },
   {
    "duration": 6,
    "start_time": "2023-10-16T13:51:31.768Z"
   },
   {
    "duration": 401,
    "start_time": "2023-10-16T13:51:31.776Z"
   },
   {
    "duration": 179,
    "start_time": "2023-10-16T13:51:32.179Z"
   },
   {
    "duration": 2,
    "start_time": "2023-10-16T13:51:32.360Z"
   },
   {
    "duration": 25,
    "start_time": "2023-10-16T13:51:32.364Z"
   },
   {
    "duration": 25,
    "start_time": "2023-10-16T13:51:32.390Z"
   },
   {
    "duration": 58,
    "start_time": "2023-10-16T13:51:32.417Z"
   },
   {
    "duration": 27,
    "start_time": "2023-10-16T13:51:32.476Z"
   },
   {
    "duration": 15,
    "start_time": "2023-10-16T13:51:32.505Z"
   },
   {
    "duration": 43,
    "start_time": "2023-10-16T13:51:32.523Z"
   },
   {
    "duration": 26,
    "start_time": "2023-10-16T13:51:32.568Z"
   },
   {
    "duration": 13,
    "start_time": "2023-10-16T13:51:32.595Z"
   },
   {
    "duration": 35,
    "start_time": "2023-10-16T13:51:32.610Z"
   },
   {
    "duration": 13,
    "start_time": "2023-10-16T13:51:32.646Z"
   },
   {
    "duration": 771,
    "start_time": "2023-10-16T13:51:32.661Z"
   },
   {
    "duration": 350,
    "start_time": "2023-10-16T13:51:33.434Z"
   },
   {
    "duration": 12738,
    "start_time": "2023-10-16T13:51:33.786Z"
   },
   {
    "duration": 1503,
    "start_time": "2023-10-16T14:30:27.558Z"
   },
   {
    "duration": 52,
    "start_time": "2023-10-16T14:30:29.063Z"
   },
   {
    "duration": 18,
    "start_time": "2023-10-16T14:30:29.117Z"
   },
   {
    "duration": 22,
    "start_time": "2023-10-16T14:30:29.137Z"
   },
   {
    "duration": 6,
    "start_time": "2023-10-16T14:30:29.161Z"
   },
   {
    "duration": 11,
    "start_time": "2023-10-16T14:30:29.169Z"
   },
   {
    "duration": 17,
    "start_time": "2023-10-16T14:30:29.181Z"
   },
   {
    "duration": 3374,
    "start_time": "2023-10-16T14:30:29.201Z"
   },
   {
    "duration": 4,
    "start_time": "2023-10-16T14:30:32.577Z"
   },
   {
    "duration": 125,
    "start_time": "2023-10-16T14:30:32.584Z"
   },
   {
    "duration": 800,
    "start_time": "2023-10-16T14:30:32.711Z"
   },
   {
    "duration": 23,
    "start_time": "2023-10-16T14:30:33.513Z"
   },
   {
    "duration": 250,
    "start_time": "2023-10-16T14:30:33.537Z"
   },
   {
    "duration": 277,
    "start_time": "2023-10-16T14:30:33.789Z"
   },
   {
    "duration": 5,
    "start_time": "2023-10-16T14:30:34.069Z"
   },
   {
    "duration": 473,
    "start_time": "2023-10-16T14:30:34.075Z"
   },
   {
    "duration": 286,
    "start_time": "2023-10-16T14:30:34.550Z"
   },
   {
    "duration": 3,
    "start_time": "2023-10-16T14:30:34.838Z"
   },
   {
    "duration": 59,
    "start_time": "2023-10-16T14:30:34.844Z"
   },
   {
    "duration": 41,
    "start_time": "2023-10-16T14:30:34.904Z"
   },
   {
    "duration": 59,
    "start_time": "2023-10-16T14:30:34.946Z"
   },
   {
    "duration": 34,
    "start_time": "2023-10-16T14:30:35.007Z"
   },
   {
    "duration": 24,
    "start_time": "2023-10-16T14:30:35.043Z"
   },
   {
    "duration": 65,
    "start_time": "2023-10-16T14:30:35.069Z"
   },
   {
    "duration": 47,
    "start_time": "2023-10-16T14:30:35.136Z"
   },
   {
    "duration": 7,
    "start_time": "2023-10-16T14:30:35.185Z"
   },
   {
    "duration": 22,
    "start_time": "2023-10-16T14:30:35.195Z"
   },
   {
    "duration": 14,
    "start_time": "2023-10-16T14:30:35.226Z"
   },
   {
    "duration": 988,
    "start_time": "2023-10-16T14:30:35.242Z"
   },
   {
    "duration": 337,
    "start_time": "2023-10-16T14:30:36.233Z"
   },
   {
    "duration": 13268,
    "start_time": "2023-10-16T14:30:36.572Z"
   },
   {
    "duration": 1611,
    "start_time": "2023-10-16T16:27:00.177Z"
   },
   {
    "duration": 51,
    "start_time": "2023-10-16T16:27:01.790Z"
   },
   {
    "duration": 14,
    "start_time": "2023-10-16T16:27:01.843Z"
   },
   {
    "duration": 46,
    "start_time": "2023-10-16T16:27:01.859Z"
   },
   {
    "duration": 31,
    "start_time": "2023-10-16T16:27:01.906Z"
   },
   {
    "duration": 72,
    "start_time": "2023-10-16T16:27:01.939Z"
   },
   {
    "duration": 33,
    "start_time": "2023-10-16T16:27:02.013Z"
   },
   {
    "duration": 2924,
    "start_time": "2023-10-16T16:27:02.048Z"
   },
   {
    "duration": 3,
    "start_time": "2023-10-16T16:27:04.974Z"
   },
   {
    "duration": 28,
    "start_time": "2023-10-16T16:27:04.980Z"
   },
   {
    "duration": 749,
    "start_time": "2023-10-16T16:27:05.010Z"
   },
   {
    "duration": 8,
    "start_time": "2023-10-16T16:27:05.761Z"
   },
   {
    "duration": 240,
    "start_time": "2023-10-16T16:27:05.771Z"
   },
   {
    "duration": 246,
    "start_time": "2023-10-16T16:27:06.012Z"
   },
   {
    "duration": 5,
    "start_time": "2023-10-16T16:27:06.260Z"
   },
   {
    "duration": 381,
    "start_time": "2023-10-16T16:27:06.266Z"
   },
   {
    "duration": 170,
    "start_time": "2023-10-16T16:27:06.649Z"
   },
   {
    "duration": 3,
    "start_time": "2023-10-16T16:27:06.821Z"
   },
   {
    "duration": 22,
    "start_time": "2023-10-16T16:27:06.826Z"
   },
   {
    "duration": 21,
    "start_time": "2023-10-16T16:27:06.850Z"
   },
   {
    "duration": 42,
    "start_time": "2023-10-16T16:27:06.873Z"
   },
   {
    "duration": 33,
    "start_time": "2023-10-16T16:27:06.916Z"
   },
   {
    "duration": 15,
    "start_time": "2023-10-16T16:27:06.951Z"
   },
   {
    "duration": 61,
    "start_time": "2023-10-16T16:27:06.968Z"
   },
   {
    "duration": 26,
    "start_time": "2023-10-16T16:27:07.031Z"
   },
   {
    "duration": 4,
    "start_time": "2023-10-16T16:27:07.059Z"
   },
   {
    "duration": 7,
    "start_time": "2023-10-16T16:27:07.065Z"
   },
   {
    "duration": 26,
    "start_time": "2023-10-16T16:27:07.075Z"
   },
   {
    "duration": 722,
    "start_time": "2023-10-16T16:27:07.103Z"
   },
   {
    "duration": 239,
    "start_time": "2023-10-16T16:27:07.827Z"
   },
   {
    "duration": 12796,
    "start_time": "2023-10-16T16:27:08.068Z"
   },
   {
    "duration": 2289805,
    "start_time": "2023-10-16T16:27:20.866Z"
   },
   {
    "duration": 2642,
    "start_time": "2023-10-17T08:43:31.269Z"
   },
   {
    "duration": 119,
    "start_time": "2023-10-17T08:43:33.914Z"
   },
   {
    "duration": 13,
    "start_time": "2023-10-17T08:43:34.034Z"
   },
   {
    "duration": 20,
    "start_time": "2023-10-17T08:43:34.050Z"
   },
   {
    "duration": 5,
    "start_time": "2023-10-17T08:43:34.071Z"
   },
   {
    "duration": 7,
    "start_time": "2023-10-17T08:43:34.078Z"
   },
   {
    "duration": 5,
    "start_time": "2023-10-17T08:43:34.087Z"
   },
   {
    "duration": 3407,
    "start_time": "2023-10-17T08:43:34.094Z"
   },
   {
    "duration": 3,
    "start_time": "2023-10-17T08:43:37.503Z"
   },
   {
    "duration": 12,
    "start_time": "2023-10-17T08:43:37.509Z"
   },
   {
    "duration": 809,
    "start_time": "2023-10-17T08:43:37.523Z"
   },
   {
    "duration": 15,
    "start_time": "2023-10-17T08:43:38.334Z"
   },
   {
    "duration": 243,
    "start_time": "2023-10-17T08:43:38.350Z"
   },
   {
    "duration": 265,
    "start_time": "2023-10-17T08:43:38.594Z"
   },
   {
    "duration": 6,
    "start_time": "2023-10-17T08:43:38.861Z"
   },
   {
    "duration": 450,
    "start_time": "2023-10-17T08:43:38.868Z"
   },
   {
    "duration": 180,
    "start_time": "2023-10-17T08:43:39.320Z"
   },
   {
    "duration": 2,
    "start_time": "2023-10-17T08:43:39.502Z"
   },
   {
    "duration": 30,
    "start_time": "2023-10-17T08:43:39.506Z"
   },
   {
    "duration": 15,
    "start_time": "2023-10-17T08:43:39.538Z"
   },
   {
    "duration": 42,
    "start_time": "2023-10-17T08:43:39.555Z"
   },
   {
    "duration": 26,
    "start_time": "2023-10-17T08:43:39.599Z"
   },
   {
    "duration": 16,
    "start_time": "2023-10-17T08:43:39.646Z"
   },
   {
    "duration": 62,
    "start_time": "2023-10-17T08:43:39.664Z"
   },
   {
    "duration": 37,
    "start_time": "2023-10-17T08:43:39.728Z"
   },
   {
    "duration": 6,
    "start_time": "2023-10-17T08:43:39.767Z"
   },
   {
    "duration": 33,
    "start_time": "2023-10-17T08:43:39.775Z"
   },
   {
    "duration": 15,
    "start_time": "2023-10-17T08:43:39.812Z"
   },
   {
    "duration": 819,
    "start_time": "2023-10-17T08:43:39.829Z"
   },
   {
    "duration": 353,
    "start_time": "2023-10-17T08:43:40.650Z"
   },
   {
    "duration": 13795,
    "start_time": "2023-10-17T08:43:41.004Z"
   },
   {
    "duration": 0,
    "start_time": "2023-10-17T11:08:57.221Z"
   },
   {
    "duration": 0,
    "start_time": "2023-10-17T11:08:57.223Z"
   },
   {
    "duration": 0,
    "start_time": "2023-10-17T11:08:57.224Z"
   },
   {
    "duration": 0,
    "start_time": "2023-10-17T11:08:57.225Z"
   },
   {
    "duration": 0,
    "start_time": "2023-10-17T11:08:57.246Z"
   },
   {
    "duration": 0,
    "start_time": "2023-10-17T11:08:57.247Z"
   },
   {
    "duration": 178921,
    "start_time": "2023-10-17T11:09:01.234Z"
   },
   {
    "duration": 0,
    "start_time": "2023-10-17T11:12:00.157Z"
   },
   {
    "duration": 2158740,
    "start_time": "2023-10-17T11:12:04.262Z"
   },
   {
    "duration": 461051,
    "start_time": "2023-10-17T11:48:05.282Z"
   },
   {
    "duration": 1748048,
    "start_time": "2023-10-17T11:56:16.415Z"
   },
   {
    "duration": 1142009,
    "start_time": "2023-10-17T12:25:55.063Z"
   },
   {
    "duration": 0,
    "start_time": "2023-10-17T12:44:57.149Z"
   },
   {
    "duration": 112403,
    "start_time": "2023-10-17T12:45:08.354Z"
   },
   {
    "duration": 35504,
    "start_time": "2023-10-17T12:47:02.449Z"
   },
   {
    "duration": 188643,
    "start_time": "2023-10-17T12:47:39.347Z"
   },
   {
    "duration": 2718405,
    "start_time": "2023-10-17T12:50:49.242Z"
   },
   {
    "duration": 140207,
    "start_time": "2023-10-17T13:37:43.168Z"
   },
   {
    "duration": 14831808,
    "start_time": "2023-10-17T13:40:04.539Z"
   },
   {
    "duration": 814,
    "start_time": "2023-10-17T17:47:16.351Z"
   },
   {
    "duration": 10,
    "start_time": "2023-10-17T17:47:17.248Z"
   },
   {
    "duration": 264,
    "start_time": "2023-10-17T17:47:17.259Z"
   },
   {
    "duration": 230,
    "start_time": "2023-10-17T18:05:31.453Z"
   },
   {
    "duration": 314,
    "start_time": "2023-10-17T18:05:48.662Z"
   },
   {
    "duration": 226,
    "start_time": "2023-10-17T18:05:58.993Z"
   },
   {
    "duration": 154,
    "start_time": "2023-10-17T18:06:05.398Z"
   },
   {
    "duration": 222,
    "start_time": "2023-10-17T18:06:25.353Z"
   },
   {
    "duration": 265,
    "start_time": "2023-10-17T18:06:43.056Z"
   }
  ],
  "kernelspec": {
   "display_name": "Python 3 (ipykernel)",
   "language": "python",
   "name": "python3"
  },
  "language_info": {
   "codemirror_mode": {
    "name": "ipython",
    "version": 3
   },
   "file_extension": ".py",
   "mimetype": "text/x-python",
   "name": "python",
   "nbconvert_exporter": "python",
   "pygments_lexer": "ipython3",
   "version": "3.12.0"
  },
  "toc": {
   "base_numbering": 1,
   "nav_menu": {},
   "number_sections": true,
   "sideBar": true,
   "skip_h1_title": true,
   "title_cell": "Содержание",
   "title_sidebar": "Contents",
   "toc_cell": true,
   "toc_position": {
    "height": "calc(100% - 180px)",
    "left": "10px",
    "top": "150px",
    "width": "221px"
   },
   "toc_section_display": true,
   "toc_window_display": true
  }
 },
 "nbformat": 4,
 "nbformat_minor": 4
}

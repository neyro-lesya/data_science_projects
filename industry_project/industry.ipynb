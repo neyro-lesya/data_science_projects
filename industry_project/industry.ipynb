{
 "cells": [
  {
   "cell_type": "markdown",
   "id": "135637ee",
   "metadata": {},
   "source": [
    "*прежде всего импортируем необходимые для работы библиотеки*"
   ]
  },
  {
   "cell_type": "code",
   "execution_count": 1,
   "id": "0ee7dd58",
   "metadata": {},
   "outputs": [],
   "source": [
    "import pandas as pd\n",
    "import numpy as np\n",
    "import seaborn as sns\n",
    "import matplotlib.pyplot as plt\n",
    "from sklearn.model_selection import train_test_split, GridSearchCV\n",
    "from sklearn.preprocessing import StandardScaler\n",
    "from sklearn.tree import DecisionTreeRegressor\n",
    "from sklearn.ensemble import RandomForestRegressor\n",
    "from lightgbm import LGBMRegressor\n",
    "from sklearn.dummy import DummyRegressor\n",
    "from sklearn.metrics import mean_absolute_error"
   ]
  },
  {
   "cell_type": "markdown",
   "id": "fb3862b1",
   "metadata": {},
   "source": [
    "## Загрузка данных"
   ]
  },
  {
   "cell_type": "markdown",
   "id": "cfa63ef2",
   "metadata": {},
   "source": [
    "поскольку нам придется импортировать несколько таблиц, напишем функцию, которая будет загружать, выводить в удобном нам виде и возвращать таблицу. "
   ]
  },
  {
   "cell_type": "code",
   "execution_count": 2,
   "id": "3f5222d4",
   "metadata": {},
   "outputs": [],
   "source": [
    "def get_table(path):\n",
    "    data=None\n",
    "    try:\n",
    "        data=pd.read_csv('/datasets/'+path)\n",
    "        display(data.head(10))\n",
    "    except: print('loading error')    \n",
    "    return data"
   ]
  },
  {
   "cell_type": "code",
   "execution_count": 3,
   "id": "ecc5c1db",
   "metadata": {},
   "outputs": [
    {
     "data": {
      "text/html": [
       "<div>\n",
       "<style scoped>\n",
       "    .dataframe tbody tr th:only-of-type {\n",
       "        vertical-align: middle;\n",
       "    }\n",
       "\n",
       "    .dataframe tbody tr th {\n",
       "        vertical-align: top;\n",
       "    }\n",
       "\n",
       "    .dataframe thead th {\n",
       "        text-align: right;\n",
       "    }\n",
       "</style>\n",
       "<table border=\"1\" class=\"dataframe\">\n",
       "  <thead>\n",
       "    <tr style=\"text-align: right;\">\n",
       "      <th></th>\n",
       "      <th>key</th>\n",
       "      <th>Начало нагрева дугой</th>\n",
       "      <th>Конец нагрева дугой</th>\n",
       "      <th>Активная мощность</th>\n",
       "      <th>Реактивная мощность</th>\n",
       "    </tr>\n",
       "  </thead>\n",
       "  <tbody>\n",
       "    <tr>\n",
       "      <th>0</th>\n",
       "      <td>1</td>\n",
       "      <td>2019-05-03 11:02:14</td>\n",
       "      <td>2019-05-03 11:06:02</td>\n",
       "      <td>0.305130</td>\n",
       "      <td>0.211253</td>\n",
       "    </tr>\n",
       "    <tr>\n",
       "      <th>1</th>\n",
       "      <td>1</td>\n",
       "      <td>2019-05-03 11:07:28</td>\n",
       "      <td>2019-05-03 11:10:33</td>\n",
       "      <td>0.765658</td>\n",
       "      <td>0.477438</td>\n",
       "    </tr>\n",
       "    <tr>\n",
       "      <th>2</th>\n",
       "      <td>1</td>\n",
       "      <td>2019-05-03 11:11:44</td>\n",
       "      <td>2019-05-03 11:14:36</td>\n",
       "      <td>0.580313</td>\n",
       "      <td>0.430460</td>\n",
       "    </tr>\n",
       "    <tr>\n",
       "      <th>3</th>\n",
       "      <td>1</td>\n",
       "      <td>2019-05-03 11:18:14</td>\n",
       "      <td>2019-05-03 11:24:19</td>\n",
       "      <td>0.518496</td>\n",
       "      <td>0.379979</td>\n",
       "    </tr>\n",
       "    <tr>\n",
       "      <th>4</th>\n",
       "      <td>1</td>\n",
       "      <td>2019-05-03 11:26:09</td>\n",
       "      <td>2019-05-03 11:28:37</td>\n",
       "      <td>0.867133</td>\n",
       "      <td>0.643691</td>\n",
       "    </tr>\n",
       "    <tr>\n",
       "      <th>5</th>\n",
       "      <td>2</td>\n",
       "      <td>2019-05-03 11:34:14</td>\n",
       "      <td>2019-05-03 11:36:31</td>\n",
       "      <td>0.381124</td>\n",
       "      <td>0.220351</td>\n",
       "    </tr>\n",
       "    <tr>\n",
       "      <th>6</th>\n",
       "      <td>2</td>\n",
       "      <td>2019-05-03 11:38:50</td>\n",
       "      <td>2019-05-03 11:44:28</td>\n",
       "      <td>0.261665</td>\n",
       "      <td>0.205527</td>\n",
       "    </tr>\n",
       "    <tr>\n",
       "      <th>7</th>\n",
       "      <td>2</td>\n",
       "      <td>2019-05-03 11:46:19</td>\n",
       "      <td>2019-05-03 11:48:25</td>\n",
       "      <td>0.710297</td>\n",
       "      <td>0.484962</td>\n",
       "    </tr>\n",
       "    <tr>\n",
       "      <th>8</th>\n",
       "      <td>2</td>\n",
       "      <td>2019-05-03 11:49:48</td>\n",
       "      <td>2019-05-03 11:53:18</td>\n",
       "      <td>0.786322</td>\n",
       "      <td>0.542517</td>\n",
       "    </tr>\n",
       "    <tr>\n",
       "      <th>9</th>\n",
       "      <td>3</td>\n",
       "      <td>2019-05-03 12:06:54</td>\n",
       "      <td>2019-05-03 12:11:34</td>\n",
       "      <td>1.101678</td>\n",
       "      <td>0.820856</td>\n",
       "    </tr>\n",
       "  </tbody>\n",
       "</table>\n",
       "</div>"
      ],
      "text/plain": [
       "   key Начало нагрева дугой  Конец нагрева дугой  Активная мощность  \\\n",
       "0    1  2019-05-03 11:02:14  2019-05-03 11:06:02           0.305130   \n",
       "1    1  2019-05-03 11:07:28  2019-05-03 11:10:33           0.765658   \n",
       "2    1  2019-05-03 11:11:44  2019-05-03 11:14:36           0.580313   \n",
       "3    1  2019-05-03 11:18:14  2019-05-03 11:24:19           0.518496   \n",
       "4    1  2019-05-03 11:26:09  2019-05-03 11:28:37           0.867133   \n",
       "5    2  2019-05-03 11:34:14  2019-05-03 11:36:31           0.381124   \n",
       "6    2  2019-05-03 11:38:50  2019-05-03 11:44:28           0.261665   \n",
       "7    2  2019-05-03 11:46:19  2019-05-03 11:48:25           0.710297   \n",
       "8    2  2019-05-03 11:49:48  2019-05-03 11:53:18           0.786322   \n",
       "9    3  2019-05-03 12:06:54  2019-05-03 12:11:34           1.101678   \n",
       "\n",
       "   Реактивная мощность  \n",
       "0             0.211253  \n",
       "1             0.477438  \n",
       "2             0.430460  \n",
       "3             0.379979  \n",
       "4             0.643691  \n",
       "5             0.220351  \n",
       "6             0.205527  \n",
       "7             0.484962  \n",
       "8             0.542517  \n",
       "9             0.820856  "
      ]
     },
     "metadata": {},
     "output_type": "display_data"
    }
   ],
   "source": [
    "electrode_data=get_table('data_arc_new.csv')"
   ]
  },
  {
   "cell_type": "code",
   "execution_count": 4,
   "id": "54135ab6",
   "metadata": {},
   "outputs": [
    {
     "data": {
      "text/html": [
       "<div>\n",
       "<style scoped>\n",
       "    .dataframe tbody tr th:only-of-type {\n",
       "        vertical-align: middle;\n",
       "    }\n",
       "\n",
       "    .dataframe tbody tr th {\n",
       "        vertical-align: top;\n",
       "    }\n",
       "\n",
       "    .dataframe thead th {\n",
       "        text-align: right;\n",
       "    }\n",
       "</style>\n",
       "<table border=\"1\" class=\"dataframe\">\n",
       "  <thead>\n",
       "    <tr style=\"text-align: right;\">\n",
       "      <th></th>\n",
       "      <th>key</th>\n",
       "      <th>Bulk 1</th>\n",
       "      <th>Bulk 2</th>\n",
       "      <th>Bulk 3</th>\n",
       "      <th>Bulk 4</th>\n",
       "      <th>Bulk 5</th>\n",
       "      <th>Bulk 6</th>\n",
       "      <th>Bulk 7</th>\n",
       "      <th>Bulk 8</th>\n",
       "      <th>Bulk 9</th>\n",
       "      <th>Bulk 10</th>\n",
       "      <th>Bulk 11</th>\n",
       "      <th>Bulk 12</th>\n",
       "      <th>Bulk 13</th>\n",
       "      <th>Bulk 14</th>\n",
       "      <th>Bulk 15</th>\n",
       "    </tr>\n",
       "  </thead>\n",
       "  <tbody>\n",
       "    <tr>\n",
       "      <th>0</th>\n",
       "      <td>1</td>\n",
       "      <td>NaN</td>\n",
       "      <td>NaN</td>\n",
       "      <td>NaN</td>\n",
       "      <td>43.0</td>\n",
       "      <td>NaN</td>\n",
       "      <td>NaN</td>\n",
       "      <td>NaN</td>\n",
       "      <td>NaN</td>\n",
       "      <td>NaN</td>\n",
       "      <td>NaN</td>\n",
       "      <td>NaN</td>\n",
       "      <td>206.0</td>\n",
       "      <td>NaN</td>\n",
       "      <td>150.0</td>\n",
       "      <td>154.0</td>\n",
       "    </tr>\n",
       "    <tr>\n",
       "      <th>1</th>\n",
       "      <td>2</td>\n",
       "      <td>NaN</td>\n",
       "      <td>NaN</td>\n",
       "      <td>NaN</td>\n",
       "      <td>73.0</td>\n",
       "      <td>NaN</td>\n",
       "      <td>NaN</td>\n",
       "      <td>NaN</td>\n",
       "      <td>NaN</td>\n",
       "      <td>NaN</td>\n",
       "      <td>NaN</td>\n",
       "      <td>NaN</td>\n",
       "      <td>206.0</td>\n",
       "      <td>NaN</td>\n",
       "      <td>149.0</td>\n",
       "      <td>154.0</td>\n",
       "    </tr>\n",
       "    <tr>\n",
       "      <th>2</th>\n",
       "      <td>3</td>\n",
       "      <td>NaN</td>\n",
       "      <td>NaN</td>\n",
       "      <td>NaN</td>\n",
       "      <td>34.0</td>\n",
       "      <td>NaN</td>\n",
       "      <td>NaN</td>\n",
       "      <td>NaN</td>\n",
       "      <td>NaN</td>\n",
       "      <td>NaN</td>\n",
       "      <td>NaN</td>\n",
       "      <td>NaN</td>\n",
       "      <td>205.0</td>\n",
       "      <td>NaN</td>\n",
       "      <td>152.0</td>\n",
       "      <td>153.0</td>\n",
       "    </tr>\n",
       "    <tr>\n",
       "      <th>3</th>\n",
       "      <td>4</td>\n",
       "      <td>NaN</td>\n",
       "      <td>NaN</td>\n",
       "      <td>NaN</td>\n",
       "      <td>81.0</td>\n",
       "      <td>NaN</td>\n",
       "      <td>NaN</td>\n",
       "      <td>NaN</td>\n",
       "      <td>NaN</td>\n",
       "      <td>NaN</td>\n",
       "      <td>NaN</td>\n",
       "      <td>NaN</td>\n",
       "      <td>207.0</td>\n",
       "      <td>NaN</td>\n",
       "      <td>153.0</td>\n",
       "      <td>154.0</td>\n",
       "    </tr>\n",
       "    <tr>\n",
       "      <th>4</th>\n",
       "      <td>5</td>\n",
       "      <td>NaN</td>\n",
       "      <td>NaN</td>\n",
       "      <td>NaN</td>\n",
       "      <td>78.0</td>\n",
       "      <td>NaN</td>\n",
       "      <td>NaN</td>\n",
       "      <td>NaN</td>\n",
       "      <td>NaN</td>\n",
       "      <td>NaN</td>\n",
       "      <td>NaN</td>\n",
       "      <td>NaN</td>\n",
       "      <td>203.0</td>\n",
       "      <td>NaN</td>\n",
       "      <td>151.0</td>\n",
       "      <td>152.0</td>\n",
       "    </tr>\n",
       "    <tr>\n",
       "      <th>5</th>\n",
       "      <td>6</td>\n",
       "      <td>NaN</td>\n",
       "      <td>NaN</td>\n",
       "      <td>NaN</td>\n",
       "      <td>117.0</td>\n",
       "      <td>NaN</td>\n",
       "      <td>NaN</td>\n",
       "      <td>NaN</td>\n",
       "      <td>NaN</td>\n",
       "      <td>NaN</td>\n",
       "      <td>NaN</td>\n",
       "      <td>NaN</td>\n",
       "      <td>204.0</td>\n",
       "      <td>NaN</td>\n",
       "      <td>201.0</td>\n",
       "      <td>154.0</td>\n",
       "    </tr>\n",
       "    <tr>\n",
       "      <th>6</th>\n",
       "      <td>7</td>\n",
       "      <td>NaN</td>\n",
       "      <td>NaN</td>\n",
       "      <td>NaN</td>\n",
       "      <td>117.0</td>\n",
       "      <td>NaN</td>\n",
       "      <td>NaN</td>\n",
       "      <td>NaN</td>\n",
       "      <td>NaN</td>\n",
       "      <td>NaN</td>\n",
       "      <td>NaN</td>\n",
       "      <td>NaN</td>\n",
       "      <td>204.0</td>\n",
       "      <td>NaN</td>\n",
       "      <td>152.0</td>\n",
       "      <td>154.0</td>\n",
       "    </tr>\n",
       "    <tr>\n",
       "      <th>7</th>\n",
       "      <td>8</td>\n",
       "      <td>NaN</td>\n",
       "      <td>NaN</td>\n",
       "      <td>NaN</td>\n",
       "      <td>99.0</td>\n",
       "      <td>NaN</td>\n",
       "      <td>NaN</td>\n",
       "      <td>NaN</td>\n",
       "      <td>NaN</td>\n",
       "      <td>NaN</td>\n",
       "      <td>NaN</td>\n",
       "      <td>NaN</td>\n",
       "      <td>410.0</td>\n",
       "      <td>NaN</td>\n",
       "      <td>252.0</td>\n",
       "      <td>153.0</td>\n",
       "    </tr>\n",
       "    <tr>\n",
       "      <th>8</th>\n",
       "      <td>9</td>\n",
       "      <td>NaN</td>\n",
       "      <td>NaN</td>\n",
       "      <td>NaN</td>\n",
       "      <td>117.0</td>\n",
       "      <td>NaN</td>\n",
       "      <td>NaN</td>\n",
       "      <td>NaN</td>\n",
       "      <td>NaN</td>\n",
       "      <td>NaN</td>\n",
       "      <td>NaN</td>\n",
       "      <td>NaN</td>\n",
       "      <td>107.0</td>\n",
       "      <td>NaN</td>\n",
       "      <td>99.0</td>\n",
       "      <td>203.0</td>\n",
       "    </tr>\n",
       "    <tr>\n",
       "      <th>9</th>\n",
       "      <td>10</td>\n",
       "      <td>NaN</td>\n",
       "      <td>NaN</td>\n",
       "      <td>NaN</td>\n",
       "      <td>NaN</td>\n",
       "      <td>NaN</td>\n",
       "      <td>NaN</td>\n",
       "      <td>NaN</td>\n",
       "      <td>NaN</td>\n",
       "      <td>NaN</td>\n",
       "      <td>NaN</td>\n",
       "      <td>NaN</td>\n",
       "      <td>203.0</td>\n",
       "      <td>NaN</td>\n",
       "      <td>102.0</td>\n",
       "      <td>204.0</td>\n",
       "    </tr>\n",
       "  </tbody>\n",
       "</table>\n",
       "</div>"
      ],
      "text/plain": [
       "   key  Bulk 1  Bulk 2  Bulk 3  Bulk 4  Bulk 5  Bulk 6  Bulk 7  Bulk 8  \\\n",
       "0    1     NaN     NaN     NaN    43.0     NaN     NaN     NaN     NaN   \n",
       "1    2     NaN     NaN     NaN    73.0     NaN     NaN     NaN     NaN   \n",
       "2    3     NaN     NaN     NaN    34.0     NaN     NaN     NaN     NaN   \n",
       "3    4     NaN     NaN     NaN    81.0     NaN     NaN     NaN     NaN   \n",
       "4    5     NaN     NaN     NaN    78.0     NaN     NaN     NaN     NaN   \n",
       "5    6     NaN     NaN     NaN   117.0     NaN     NaN     NaN     NaN   \n",
       "6    7     NaN     NaN     NaN   117.0     NaN     NaN     NaN     NaN   \n",
       "7    8     NaN     NaN     NaN    99.0     NaN     NaN     NaN     NaN   \n",
       "8    9     NaN     NaN     NaN   117.0     NaN     NaN     NaN     NaN   \n",
       "9   10     NaN     NaN     NaN     NaN     NaN     NaN     NaN     NaN   \n",
       "\n",
       "   Bulk 9  Bulk 10  Bulk 11  Bulk 12  Bulk 13  Bulk 14  Bulk 15  \n",
       "0     NaN      NaN      NaN    206.0      NaN    150.0    154.0  \n",
       "1     NaN      NaN      NaN    206.0      NaN    149.0    154.0  \n",
       "2     NaN      NaN      NaN    205.0      NaN    152.0    153.0  \n",
       "3     NaN      NaN      NaN    207.0      NaN    153.0    154.0  \n",
       "4     NaN      NaN      NaN    203.0      NaN    151.0    152.0  \n",
       "5     NaN      NaN      NaN    204.0      NaN    201.0    154.0  \n",
       "6     NaN      NaN      NaN    204.0      NaN    152.0    154.0  \n",
       "7     NaN      NaN      NaN    410.0      NaN    252.0    153.0  \n",
       "8     NaN      NaN      NaN    107.0      NaN     99.0    203.0  \n",
       "9     NaN      NaN      NaN    203.0      NaN    102.0    204.0  "
      ]
     },
     "metadata": {},
     "output_type": "display_data"
    }
   ],
   "source": [
    "data_bulk_materials_v=get_table('data_bulk_new.csv')"
   ]
  },
  {
   "cell_type": "code",
   "execution_count": 5,
   "id": "4d74ef14",
   "metadata": {},
   "outputs": [
    {
     "data": {
      "text/html": [
       "<div>\n",
       "<style scoped>\n",
       "    .dataframe tbody tr th:only-of-type {\n",
       "        vertical-align: middle;\n",
       "    }\n",
       "\n",
       "    .dataframe tbody tr th {\n",
       "        vertical-align: top;\n",
       "    }\n",
       "\n",
       "    .dataframe thead th {\n",
       "        text-align: right;\n",
       "    }\n",
       "</style>\n",
       "<table border=\"1\" class=\"dataframe\">\n",
       "  <thead>\n",
       "    <tr style=\"text-align: right;\">\n",
       "      <th></th>\n",
       "      <th>key</th>\n",
       "      <th>Bulk 1</th>\n",
       "      <th>Bulk 2</th>\n",
       "      <th>Bulk 3</th>\n",
       "      <th>Bulk 4</th>\n",
       "      <th>Bulk 5</th>\n",
       "      <th>Bulk 6</th>\n",
       "      <th>Bulk 7</th>\n",
       "      <th>Bulk 8</th>\n",
       "      <th>Bulk 9</th>\n",
       "      <th>Bulk 10</th>\n",
       "      <th>Bulk 11</th>\n",
       "      <th>Bulk 12</th>\n",
       "      <th>Bulk 13</th>\n",
       "      <th>Bulk 14</th>\n",
       "      <th>Bulk 15</th>\n",
       "    </tr>\n",
       "  </thead>\n",
       "  <tbody>\n",
       "    <tr>\n",
       "      <th>0</th>\n",
       "      <td>1</td>\n",
       "      <td>NaN</td>\n",
       "      <td>NaN</td>\n",
       "      <td>NaN</td>\n",
       "      <td>2019-05-03 11:28:48</td>\n",
       "      <td>NaN</td>\n",
       "      <td>NaN</td>\n",
       "      <td>NaN</td>\n",
       "      <td>NaN</td>\n",
       "      <td>NaN</td>\n",
       "      <td>NaN</td>\n",
       "      <td>NaN</td>\n",
       "      <td>2019-05-03 11:24:31</td>\n",
       "      <td>NaN</td>\n",
       "      <td>2019-05-03 11:14:50</td>\n",
       "      <td>2019-05-03 11:10:43</td>\n",
       "    </tr>\n",
       "    <tr>\n",
       "      <th>1</th>\n",
       "      <td>2</td>\n",
       "      <td>NaN</td>\n",
       "      <td>NaN</td>\n",
       "      <td>NaN</td>\n",
       "      <td>2019-05-03 11:36:50</td>\n",
       "      <td>NaN</td>\n",
       "      <td>NaN</td>\n",
       "      <td>NaN</td>\n",
       "      <td>NaN</td>\n",
       "      <td>NaN</td>\n",
       "      <td>NaN</td>\n",
       "      <td>NaN</td>\n",
       "      <td>2019-05-03 11:53:30</td>\n",
       "      <td>NaN</td>\n",
       "      <td>2019-05-03 11:48:37</td>\n",
       "      <td>2019-05-03 11:44:39</td>\n",
       "    </tr>\n",
       "    <tr>\n",
       "      <th>2</th>\n",
       "      <td>3</td>\n",
       "      <td>NaN</td>\n",
       "      <td>NaN</td>\n",
       "      <td>NaN</td>\n",
       "      <td>2019-05-03 12:32:39</td>\n",
       "      <td>NaN</td>\n",
       "      <td>NaN</td>\n",
       "      <td>NaN</td>\n",
       "      <td>NaN</td>\n",
       "      <td>NaN</td>\n",
       "      <td>NaN</td>\n",
       "      <td>NaN</td>\n",
       "      <td>2019-05-03 12:27:13</td>\n",
       "      <td>NaN</td>\n",
       "      <td>2019-05-03 12:21:01</td>\n",
       "      <td>2019-05-03 12:16:16</td>\n",
       "    </tr>\n",
       "    <tr>\n",
       "      <th>3</th>\n",
       "      <td>4</td>\n",
       "      <td>NaN</td>\n",
       "      <td>NaN</td>\n",
       "      <td>NaN</td>\n",
       "      <td>2019-05-03 12:43:22</td>\n",
       "      <td>NaN</td>\n",
       "      <td>NaN</td>\n",
       "      <td>NaN</td>\n",
       "      <td>NaN</td>\n",
       "      <td>NaN</td>\n",
       "      <td>NaN</td>\n",
       "      <td>NaN</td>\n",
       "      <td>2019-05-03 12:58:00</td>\n",
       "      <td>NaN</td>\n",
       "      <td>2019-05-03 12:51:11</td>\n",
       "      <td>2019-05-03 12:46:36</td>\n",
       "    </tr>\n",
       "    <tr>\n",
       "      <th>4</th>\n",
       "      <td>5</td>\n",
       "      <td>NaN</td>\n",
       "      <td>NaN</td>\n",
       "      <td>NaN</td>\n",
       "      <td>2019-05-03 13:30:47</td>\n",
       "      <td>NaN</td>\n",
       "      <td>NaN</td>\n",
       "      <td>NaN</td>\n",
       "      <td>NaN</td>\n",
       "      <td>NaN</td>\n",
       "      <td>NaN</td>\n",
       "      <td>NaN</td>\n",
       "      <td>2019-05-03 13:30:47</td>\n",
       "      <td>NaN</td>\n",
       "      <td>2019-05-03 13:34:12</td>\n",
       "      <td>2019-05-03 13:30:47</td>\n",
       "    </tr>\n",
       "    <tr>\n",
       "      <th>5</th>\n",
       "      <td>6</td>\n",
       "      <td>NaN</td>\n",
       "      <td>NaN</td>\n",
       "      <td>NaN</td>\n",
       "      <td>2019-05-03 13:57:27</td>\n",
       "      <td>NaN</td>\n",
       "      <td>NaN</td>\n",
       "      <td>NaN</td>\n",
       "      <td>NaN</td>\n",
       "      <td>NaN</td>\n",
       "      <td>NaN</td>\n",
       "      <td>NaN</td>\n",
       "      <td>2019-05-03 13:48:52</td>\n",
       "      <td>NaN</td>\n",
       "      <td>2019-05-03 14:09:42</td>\n",
       "      <td>2019-05-03 14:03:15</td>\n",
       "    </tr>\n",
       "    <tr>\n",
       "      <th>6</th>\n",
       "      <td>7</td>\n",
       "      <td>NaN</td>\n",
       "      <td>NaN</td>\n",
       "      <td>NaN</td>\n",
       "      <td>2019-05-03 14:18:58</td>\n",
       "      <td>NaN</td>\n",
       "      <td>NaN</td>\n",
       "      <td>NaN</td>\n",
       "      <td>NaN</td>\n",
       "      <td>NaN</td>\n",
       "      <td>NaN</td>\n",
       "      <td>NaN</td>\n",
       "      <td>2019-05-03 14:41:26</td>\n",
       "      <td>NaN</td>\n",
       "      <td>2019-05-03 14:30:50</td>\n",
       "      <td>2019-05-03 14:27:16</td>\n",
       "    </tr>\n",
       "    <tr>\n",
       "      <th>7</th>\n",
       "      <td>8</td>\n",
       "      <td>NaN</td>\n",
       "      <td>NaN</td>\n",
       "      <td>NaN</td>\n",
       "      <td>2019-05-03 15:17:58</td>\n",
       "      <td>NaN</td>\n",
       "      <td>NaN</td>\n",
       "      <td>NaN</td>\n",
       "      <td>NaN</td>\n",
       "      <td>NaN</td>\n",
       "      <td>NaN</td>\n",
       "      <td>NaN</td>\n",
       "      <td>2019-05-03 15:17:58</td>\n",
       "      <td>NaN</td>\n",
       "      <td>2019-05-03 15:13:18</td>\n",
       "      <td>2019-05-03 15:05:33</td>\n",
       "    </tr>\n",
       "    <tr>\n",
       "      <th>8</th>\n",
       "      <td>9</td>\n",
       "      <td>NaN</td>\n",
       "      <td>NaN</td>\n",
       "      <td>NaN</td>\n",
       "      <td>2019-05-03 16:03:08</td>\n",
       "      <td>NaN</td>\n",
       "      <td>NaN</td>\n",
       "      <td>NaN</td>\n",
       "      <td>NaN</td>\n",
       "      <td>NaN</td>\n",
       "      <td>NaN</td>\n",
       "      <td>NaN</td>\n",
       "      <td>2019-05-03 16:03:08</td>\n",
       "      <td>NaN</td>\n",
       "      <td>2019-05-03 16:00:16</td>\n",
       "      <td>2019-05-03 15:52:39</td>\n",
       "    </tr>\n",
       "    <tr>\n",
       "      <th>9</th>\n",
       "      <td>10</td>\n",
       "      <td>NaN</td>\n",
       "      <td>NaN</td>\n",
       "      <td>NaN</td>\n",
       "      <td>NaN</td>\n",
       "      <td>NaN</td>\n",
       "      <td>NaN</td>\n",
       "      <td>NaN</td>\n",
       "      <td>NaN</td>\n",
       "      <td>NaN</td>\n",
       "      <td>NaN</td>\n",
       "      <td>NaN</td>\n",
       "      <td>2019-05-03 16:38:11</td>\n",
       "      <td>NaN</td>\n",
       "      <td>2019-05-03 16:34:24</td>\n",
       "      <td>2019-05-03 16:29:56</td>\n",
       "    </tr>\n",
       "  </tbody>\n",
       "</table>\n",
       "</div>"
      ],
      "text/plain": [
       "   key Bulk 1 Bulk 2 Bulk 3               Bulk 4 Bulk 5 Bulk 6 Bulk 7 Bulk 8  \\\n",
       "0    1    NaN    NaN    NaN  2019-05-03 11:28:48    NaN    NaN    NaN    NaN   \n",
       "1    2    NaN    NaN    NaN  2019-05-03 11:36:50    NaN    NaN    NaN    NaN   \n",
       "2    3    NaN    NaN    NaN  2019-05-03 12:32:39    NaN    NaN    NaN    NaN   \n",
       "3    4    NaN    NaN    NaN  2019-05-03 12:43:22    NaN    NaN    NaN    NaN   \n",
       "4    5    NaN    NaN    NaN  2019-05-03 13:30:47    NaN    NaN    NaN    NaN   \n",
       "5    6    NaN    NaN    NaN  2019-05-03 13:57:27    NaN    NaN    NaN    NaN   \n",
       "6    7    NaN    NaN    NaN  2019-05-03 14:18:58    NaN    NaN    NaN    NaN   \n",
       "7    8    NaN    NaN    NaN  2019-05-03 15:17:58    NaN    NaN    NaN    NaN   \n",
       "8    9    NaN    NaN    NaN  2019-05-03 16:03:08    NaN    NaN    NaN    NaN   \n",
       "9   10    NaN    NaN    NaN                  NaN    NaN    NaN    NaN    NaN   \n",
       "\n",
       "  Bulk 9 Bulk 10 Bulk 11              Bulk 12 Bulk 13              Bulk 14  \\\n",
       "0    NaN     NaN     NaN  2019-05-03 11:24:31     NaN  2019-05-03 11:14:50   \n",
       "1    NaN     NaN     NaN  2019-05-03 11:53:30     NaN  2019-05-03 11:48:37   \n",
       "2    NaN     NaN     NaN  2019-05-03 12:27:13     NaN  2019-05-03 12:21:01   \n",
       "3    NaN     NaN     NaN  2019-05-03 12:58:00     NaN  2019-05-03 12:51:11   \n",
       "4    NaN     NaN     NaN  2019-05-03 13:30:47     NaN  2019-05-03 13:34:12   \n",
       "5    NaN     NaN     NaN  2019-05-03 13:48:52     NaN  2019-05-03 14:09:42   \n",
       "6    NaN     NaN     NaN  2019-05-03 14:41:26     NaN  2019-05-03 14:30:50   \n",
       "7    NaN     NaN     NaN  2019-05-03 15:17:58     NaN  2019-05-03 15:13:18   \n",
       "8    NaN     NaN     NaN  2019-05-03 16:03:08     NaN  2019-05-03 16:00:16   \n",
       "9    NaN     NaN     NaN  2019-05-03 16:38:11     NaN  2019-05-03 16:34:24   \n",
       "\n",
       "               Bulk 15  \n",
       "0  2019-05-03 11:10:43  \n",
       "1  2019-05-03 11:44:39  \n",
       "2  2019-05-03 12:16:16  \n",
       "3  2019-05-03 12:46:36  \n",
       "4  2019-05-03 13:30:47  \n",
       "5  2019-05-03 14:03:15  \n",
       "6  2019-05-03 14:27:16  \n",
       "7  2019-05-03 15:05:33  \n",
       "8  2019-05-03 15:52:39  \n",
       "9  2019-05-03 16:29:56  "
      ]
     },
     "metadata": {},
     "output_type": "display_data"
    }
   ],
   "source": [
    "data_bulk_materials_t=get_table('data_bulk_time_new.csv')"
   ]
  },
  {
   "cell_type": "code",
   "execution_count": 6,
   "id": "5d21221d",
   "metadata": {},
   "outputs": [
    {
     "data": {
      "text/html": [
       "<div>\n",
       "<style scoped>\n",
       "    .dataframe tbody tr th:only-of-type {\n",
       "        vertical-align: middle;\n",
       "    }\n",
       "\n",
       "    .dataframe tbody tr th {\n",
       "        vertical-align: top;\n",
       "    }\n",
       "\n",
       "    .dataframe thead th {\n",
       "        text-align: right;\n",
       "    }\n",
       "</style>\n",
       "<table border=\"1\" class=\"dataframe\">\n",
       "  <thead>\n",
       "    <tr style=\"text-align: right;\">\n",
       "      <th></th>\n",
       "      <th>key</th>\n",
       "      <th>Газ 1</th>\n",
       "    </tr>\n",
       "  </thead>\n",
       "  <tbody>\n",
       "    <tr>\n",
       "      <th>0</th>\n",
       "      <td>1</td>\n",
       "      <td>29.749986</td>\n",
       "    </tr>\n",
       "    <tr>\n",
       "      <th>1</th>\n",
       "      <td>2</td>\n",
       "      <td>12.555561</td>\n",
       "    </tr>\n",
       "    <tr>\n",
       "      <th>2</th>\n",
       "      <td>3</td>\n",
       "      <td>28.554793</td>\n",
       "    </tr>\n",
       "    <tr>\n",
       "      <th>3</th>\n",
       "      <td>4</td>\n",
       "      <td>18.841219</td>\n",
       "    </tr>\n",
       "    <tr>\n",
       "      <th>4</th>\n",
       "      <td>5</td>\n",
       "      <td>5.413692</td>\n",
       "    </tr>\n",
       "    <tr>\n",
       "      <th>5</th>\n",
       "      <td>6</td>\n",
       "      <td>11.273392</td>\n",
       "    </tr>\n",
       "    <tr>\n",
       "      <th>6</th>\n",
       "      <td>7</td>\n",
       "      <td>9.836267</td>\n",
       "    </tr>\n",
       "    <tr>\n",
       "      <th>7</th>\n",
       "      <td>8</td>\n",
       "      <td>15.171553</td>\n",
       "    </tr>\n",
       "    <tr>\n",
       "      <th>8</th>\n",
       "      <td>9</td>\n",
       "      <td>8.216623</td>\n",
       "    </tr>\n",
       "    <tr>\n",
       "      <th>9</th>\n",
       "      <td>10</td>\n",
       "      <td>6.529891</td>\n",
       "    </tr>\n",
       "  </tbody>\n",
       "</table>\n",
       "</div>"
      ],
      "text/plain": [
       "   key      Газ 1\n",
       "0    1  29.749986\n",
       "1    2  12.555561\n",
       "2    3  28.554793\n",
       "3    4  18.841219\n",
       "4    5   5.413692\n",
       "5    6  11.273392\n",
       "6    7   9.836267\n",
       "7    8  15.171553\n",
       "8    9   8.216623\n",
       "9   10   6.529891"
      ]
     },
     "metadata": {},
     "output_type": "display_data"
    }
   ],
   "source": [
    "data_with_gas=get_table('data_gas_new.csv')"
   ]
  },
  {
   "cell_type": "code",
   "execution_count": 7,
   "id": "3e3652aa",
   "metadata": {},
   "outputs": [
    {
     "data": {
      "text/html": [
       "<div>\n",
       "<style scoped>\n",
       "    .dataframe tbody tr th:only-of-type {\n",
       "        vertical-align: middle;\n",
       "    }\n",
       "\n",
       "    .dataframe tbody tr th {\n",
       "        vertical-align: top;\n",
       "    }\n",
       "\n",
       "    .dataframe thead th {\n",
       "        text-align: right;\n",
       "    }\n",
       "</style>\n",
       "<table border=\"1\" class=\"dataframe\">\n",
       "  <thead>\n",
       "    <tr style=\"text-align: right;\">\n",
       "      <th></th>\n",
       "      <th>key</th>\n",
       "      <th>Время замера</th>\n",
       "      <th>Температура</th>\n",
       "    </tr>\n",
       "  </thead>\n",
       "  <tbody>\n",
       "    <tr>\n",
       "      <th>0</th>\n",
       "      <td>1</td>\n",
       "      <td>2019-05-03 11:02:04</td>\n",
       "      <td>1571.0</td>\n",
       "    </tr>\n",
       "    <tr>\n",
       "      <th>1</th>\n",
       "      <td>1</td>\n",
       "      <td>2019-05-03 11:07:18</td>\n",
       "      <td>1604.0</td>\n",
       "    </tr>\n",
       "    <tr>\n",
       "      <th>2</th>\n",
       "      <td>1</td>\n",
       "      <td>2019-05-03 11:11:34</td>\n",
       "      <td>1618.0</td>\n",
       "    </tr>\n",
       "    <tr>\n",
       "      <th>3</th>\n",
       "      <td>1</td>\n",
       "      <td>2019-05-03 11:18:04</td>\n",
       "      <td>1601.0</td>\n",
       "    </tr>\n",
       "    <tr>\n",
       "      <th>4</th>\n",
       "      <td>1</td>\n",
       "      <td>2019-05-03 11:25:59</td>\n",
       "      <td>1606.0</td>\n",
       "    </tr>\n",
       "    <tr>\n",
       "      <th>5</th>\n",
       "      <td>1</td>\n",
       "      <td>2019-05-03 11:30:38</td>\n",
       "      <td>1613.0</td>\n",
       "    </tr>\n",
       "    <tr>\n",
       "      <th>6</th>\n",
       "      <td>2</td>\n",
       "      <td>2019-05-03 11:34:04</td>\n",
       "      <td>1581.0</td>\n",
       "    </tr>\n",
       "    <tr>\n",
       "      <th>7</th>\n",
       "      <td>2</td>\n",
       "      <td>2019-05-03 11:38:40</td>\n",
       "      <td>1577.0</td>\n",
       "    </tr>\n",
       "    <tr>\n",
       "      <th>8</th>\n",
       "      <td>2</td>\n",
       "      <td>2019-05-03 11:46:09</td>\n",
       "      <td>1589.0</td>\n",
       "    </tr>\n",
       "    <tr>\n",
       "      <th>9</th>\n",
       "      <td>2</td>\n",
       "      <td>2019-05-03 11:49:38</td>\n",
       "      <td>1604.0</td>\n",
       "    </tr>\n",
       "  </tbody>\n",
       "</table>\n",
       "</div>"
      ],
      "text/plain": [
       "   key         Время замера  Температура\n",
       "0    1  2019-05-03 11:02:04       1571.0\n",
       "1    1  2019-05-03 11:07:18       1604.0\n",
       "2    1  2019-05-03 11:11:34       1618.0\n",
       "3    1  2019-05-03 11:18:04       1601.0\n",
       "4    1  2019-05-03 11:25:59       1606.0\n",
       "5    1  2019-05-03 11:30:38       1613.0\n",
       "6    2  2019-05-03 11:34:04       1581.0\n",
       "7    2  2019-05-03 11:38:40       1577.0\n",
       "8    2  2019-05-03 11:46:09       1589.0\n",
       "9    2  2019-05-03 11:49:38       1604.0"
      ]
     },
     "metadata": {},
     "output_type": "display_data"
    }
   ],
   "source": [
    "data_with_temp=get_table('data_temp_new.csv')"
   ]
  },
  {
   "cell_type": "code",
   "execution_count": 8,
   "id": "3d7ee1e4",
   "metadata": {},
   "outputs": [
    {
     "data": {
      "text/html": [
       "<div>\n",
       "<style scoped>\n",
       "    .dataframe tbody tr th:only-of-type {\n",
       "        vertical-align: middle;\n",
       "    }\n",
       "\n",
       "    .dataframe tbody tr th {\n",
       "        vertical-align: top;\n",
       "    }\n",
       "\n",
       "    .dataframe thead th {\n",
       "        text-align: right;\n",
       "    }\n",
       "</style>\n",
       "<table border=\"1\" class=\"dataframe\">\n",
       "  <thead>\n",
       "    <tr style=\"text-align: right;\">\n",
       "      <th></th>\n",
       "      <th>key</th>\n",
       "      <th>Wire 1</th>\n",
       "      <th>Wire 2</th>\n",
       "      <th>Wire 3</th>\n",
       "      <th>Wire 4</th>\n",
       "      <th>Wire 5</th>\n",
       "      <th>Wire 6</th>\n",
       "      <th>Wire 7</th>\n",
       "      <th>Wire 8</th>\n",
       "      <th>Wire 9</th>\n",
       "    </tr>\n",
       "  </thead>\n",
       "  <tbody>\n",
       "    <tr>\n",
       "      <th>0</th>\n",
       "      <td>1</td>\n",
       "      <td>60.059998</td>\n",
       "      <td>NaN</td>\n",
       "      <td>NaN</td>\n",
       "      <td>NaN</td>\n",
       "      <td>NaN</td>\n",
       "      <td>NaN</td>\n",
       "      <td>NaN</td>\n",
       "      <td>NaN</td>\n",
       "      <td>NaN</td>\n",
       "    </tr>\n",
       "    <tr>\n",
       "      <th>1</th>\n",
       "      <td>2</td>\n",
       "      <td>96.052315</td>\n",
       "      <td>NaN</td>\n",
       "      <td>NaN</td>\n",
       "      <td>NaN</td>\n",
       "      <td>NaN</td>\n",
       "      <td>NaN</td>\n",
       "      <td>NaN</td>\n",
       "      <td>NaN</td>\n",
       "      <td>NaN</td>\n",
       "    </tr>\n",
       "    <tr>\n",
       "      <th>2</th>\n",
       "      <td>3</td>\n",
       "      <td>91.160157</td>\n",
       "      <td>NaN</td>\n",
       "      <td>NaN</td>\n",
       "      <td>NaN</td>\n",
       "      <td>NaN</td>\n",
       "      <td>NaN</td>\n",
       "      <td>NaN</td>\n",
       "      <td>NaN</td>\n",
       "      <td>NaN</td>\n",
       "    </tr>\n",
       "    <tr>\n",
       "      <th>3</th>\n",
       "      <td>4</td>\n",
       "      <td>89.063515</td>\n",
       "      <td>NaN</td>\n",
       "      <td>NaN</td>\n",
       "      <td>NaN</td>\n",
       "      <td>NaN</td>\n",
       "      <td>NaN</td>\n",
       "      <td>NaN</td>\n",
       "      <td>NaN</td>\n",
       "      <td>NaN</td>\n",
       "    </tr>\n",
       "    <tr>\n",
       "      <th>4</th>\n",
       "      <td>5</td>\n",
       "      <td>89.238236</td>\n",
       "      <td>9.114560</td>\n",
       "      <td>NaN</td>\n",
       "      <td>NaN</td>\n",
       "      <td>NaN</td>\n",
       "      <td>NaN</td>\n",
       "      <td>NaN</td>\n",
       "      <td>NaN</td>\n",
       "      <td>NaN</td>\n",
       "    </tr>\n",
       "    <tr>\n",
       "      <th>5</th>\n",
       "      <td>6</td>\n",
       "      <td>99.109917</td>\n",
       "      <td>9.114560</td>\n",
       "      <td>NaN</td>\n",
       "      <td>NaN</td>\n",
       "      <td>NaN</td>\n",
       "      <td>NaN</td>\n",
       "      <td>NaN</td>\n",
       "      <td>NaN</td>\n",
       "      <td>NaN</td>\n",
       "    </tr>\n",
       "    <tr>\n",
       "      <th>6</th>\n",
       "      <td>7</td>\n",
       "      <td>98.061600</td>\n",
       "      <td>NaN</td>\n",
       "      <td>NaN</td>\n",
       "      <td>NaN</td>\n",
       "      <td>NaN</td>\n",
       "      <td>NaN</td>\n",
       "      <td>NaN</td>\n",
       "      <td>NaN</td>\n",
       "      <td>NaN</td>\n",
       "    </tr>\n",
       "    <tr>\n",
       "      <th>7</th>\n",
       "      <td>8</td>\n",
       "      <td>155.282394</td>\n",
       "      <td>NaN</td>\n",
       "      <td>NaN</td>\n",
       "      <td>NaN</td>\n",
       "      <td>NaN</td>\n",
       "      <td>NaN</td>\n",
       "      <td>NaN</td>\n",
       "      <td>NaN</td>\n",
       "      <td>NaN</td>\n",
       "    </tr>\n",
       "    <tr>\n",
       "      <th>8</th>\n",
       "      <td>9</td>\n",
       "      <td>113.393279</td>\n",
       "      <td>9.143681</td>\n",
       "      <td>NaN</td>\n",
       "      <td>NaN</td>\n",
       "      <td>NaN</td>\n",
       "      <td>NaN</td>\n",
       "      <td>NaN</td>\n",
       "      <td>NaN</td>\n",
       "      <td>NaN</td>\n",
       "    </tr>\n",
       "    <tr>\n",
       "      <th>9</th>\n",
       "      <td>10</td>\n",
       "      <td>81.244796</td>\n",
       "      <td>12.376000</td>\n",
       "      <td>NaN</td>\n",
       "      <td>NaN</td>\n",
       "      <td>NaN</td>\n",
       "      <td>NaN</td>\n",
       "      <td>NaN</td>\n",
       "      <td>NaN</td>\n",
       "      <td>NaN</td>\n",
       "    </tr>\n",
       "  </tbody>\n",
       "</table>\n",
       "</div>"
      ],
      "text/plain": [
       "   key      Wire 1     Wire 2  Wire 3  Wire 4  Wire 5  Wire 6  Wire 7  Wire 8  \\\n",
       "0    1   60.059998        NaN     NaN     NaN     NaN     NaN     NaN     NaN   \n",
       "1    2   96.052315        NaN     NaN     NaN     NaN     NaN     NaN     NaN   \n",
       "2    3   91.160157        NaN     NaN     NaN     NaN     NaN     NaN     NaN   \n",
       "3    4   89.063515        NaN     NaN     NaN     NaN     NaN     NaN     NaN   \n",
       "4    5   89.238236   9.114560     NaN     NaN     NaN     NaN     NaN     NaN   \n",
       "5    6   99.109917   9.114560     NaN     NaN     NaN     NaN     NaN     NaN   \n",
       "6    7   98.061600        NaN     NaN     NaN     NaN     NaN     NaN     NaN   \n",
       "7    8  155.282394        NaN     NaN     NaN     NaN     NaN     NaN     NaN   \n",
       "8    9  113.393279   9.143681     NaN     NaN     NaN     NaN     NaN     NaN   \n",
       "9   10   81.244796  12.376000     NaN     NaN     NaN     NaN     NaN     NaN   \n",
       "\n",
       "   Wire 9  \n",
       "0     NaN  \n",
       "1     NaN  \n",
       "2     NaN  \n",
       "3     NaN  \n",
       "4     NaN  \n",
       "5     NaN  \n",
       "6     NaN  \n",
       "7     NaN  \n",
       "8     NaN  \n",
       "9     NaN  "
      ]
     },
     "metadata": {},
     "output_type": "display_data"
    }
   ],
   "source": [
    "data_wire_v=get_table('data_wire_new.csv')"
   ]
  },
  {
   "cell_type": "code",
   "execution_count": 9,
   "id": "6da93a1e",
   "metadata": {},
   "outputs": [
    {
     "data": {
      "text/html": [
       "<div>\n",
       "<style scoped>\n",
       "    .dataframe tbody tr th:only-of-type {\n",
       "        vertical-align: middle;\n",
       "    }\n",
       "\n",
       "    .dataframe tbody tr th {\n",
       "        vertical-align: top;\n",
       "    }\n",
       "\n",
       "    .dataframe thead th {\n",
       "        text-align: right;\n",
       "    }\n",
       "</style>\n",
       "<table border=\"1\" class=\"dataframe\">\n",
       "  <thead>\n",
       "    <tr style=\"text-align: right;\">\n",
       "      <th></th>\n",
       "      <th>key</th>\n",
       "      <th>Wire 1</th>\n",
       "      <th>Wire 2</th>\n",
       "      <th>Wire 3</th>\n",
       "      <th>Wire 4</th>\n",
       "      <th>Wire 5</th>\n",
       "      <th>Wire 6</th>\n",
       "      <th>Wire 7</th>\n",
       "      <th>Wire 8</th>\n",
       "      <th>Wire 9</th>\n",
       "    </tr>\n",
       "  </thead>\n",
       "  <tbody>\n",
       "    <tr>\n",
       "      <th>0</th>\n",
       "      <td>1</td>\n",
       "      <td>2019-05-03 11:06:19</td>\n",
       "      <td>NaN</td>\n",
       "      <td>NaN</td>\n",
       "      <td>NaN</td>\n",
       "      <td>NaN</td>\n",
       "      <td>NaN</td>\n",
       "      <td>NaN</td>\n",
       "      <td>NaN</td>\n",
       "      <td>NaN</td>\n",
       "    </tr>\n",
       "    <tr>\n",
       "      <th>1</th>\n",
       "      <td>2</td>\n",
       "      <td>2019-05-03 11:36:50</td>\n",
       "      <td>NaN</td>\n",
       "      <td>NaN</td>\n",
       "      <td>NaN</td>\n",
       "      <td>NaN</td>\n",
       "      <td>NaN</td>\n",
       "      <td>NaN</td>\n",
       "      <td>NaN</td>\n",
       "      <td>NaN</td>\n",
       "    </tr>\n",
       "    <tr>\n",
       "      <th>2</th>\n",
       "      <td>3</td>\n",
       "      <td>2019-05-03 12:11:46</td>\n",
       "      <td>NaN</td>\n",
       "      <td>NaN</td>\n",
       "      <td>NaN</td>\n",
       "      <td>NaN</td>\n",
       "      <td>NaN</td>\n",
       "      <td>NaN</td>\n",
       "      <td>NaN</td>\n",
       "      <td>NaN</td>\n",
       "    </tr>\n",
       "    <tr>\n",
       "      <th>3</th>\n",
       "      <td>4</td>\n",
       "      <td>2019-05-03 12:43:22</td>\n",
       "      <td>NaN</td>\n",
       "      <td>NaN</td>\n",
       "      <td>NaN</td>\n",
       "      <td>NaN</td>\n",
       "      <td>NaN</td>\n",
       "      <td>NaN</td>\n",
       "      <td>NaN</td>\n",
       "      <td>NaN</td>\n",
       "    </tr>\n",
       "    <tr>\n",
       "      <th>4</th>\n",
       "      <td>5</td>\n",
       "      <td>2019-05-03 13:20:44</td>\n",
       "      <td>2019-05-03 13:15:34</td>\n",
       "      <td>NaN</td>\n",
       "      <td>NaN</td>\n",
       "      <td>NaN</td>\n",
       "      <td>NaN</td>\n",
       "      <td>NaN</td>\n",
       "      <td>NaN</td>\n",
       "      <td>NaN</td>\n",
       "    </tr>\n",
       "    <tr>\n",
       "      <th>5</th>\n",
       "      <td>6</td>\n",
       "      <td>2019-05-03 13:57:27</td>\n",
       "      <td>2019-05-03 13:48:52</td>\n",
       "      <td>NaN</td>\n",
       "      <td>NaN</td>\n",
       "      <td>NaN</td>\n",
       "      <td>NaN</td>\n",
       "      <td>NaN</td>\n",
       "      <td>NaN</td>\n",
       "      <td>NaN</td>\n",
       "    </tr>\n",
       "    <tr>\n",
       "      <th>6</th>\n",
       "      <td>7</td>\n",
       "      <td>2019-05-03 14:18:58</td>\n",
       "      <td>NaN</td>\n",
       "      <td>NaN</td>\n",
       "      <td>NaN</td>\n",
       "      <td>NaN</td>\n",
       "      <td>NaN</td>\n",
       "      <td>NaN</td>\n",
       "      <td>NaN</td>\n",
       "      <td>NaN</td>\n",
       "    </tr>\n",
       "    <tr>\n",
       "      <th>7</th>\n",
       "      <td>8</td>\n",
       "      <td>2019-05-03 15:01:30</td>\n",
       "      <td>NaN</td>\n",
       "      <td>NaN</td>\n",
       "      <td>NaN</td>\n",
       "      <td>NaN</td>\n",
       "      <td>NaN</td>\n",
       "      <td>NaN</td>\n",
       "      <td>NaN</td>\n",
       "      <td>NaN</td>\n",
       "    </tr>\n",
       "    <tr>\n",
       "      <th>8</th>\n",
       "      <td>9</td>\n",
       "      <td>2019-05-03 15:45:44</td>\n",
       "      <td>2019-05-03 15:39:37</td>\n",
       "      <td>NaN</td>\n",
       "      <td>NaN</td>\n",
       "      <td>NaN</td>\n",
       "      <td>NaN</td>\n",
       "      <td>NaN</td>\n",
       "      <td>NaN</td>\n",
       "      <td>NaN</td>\n",
       "    </tr>\n",
       "    <tr>\n",
       "      <th>9</th>\n",
       "      <td>10</td>\n",
       "      <td>2019-05-03 16:27:00</td>\n",
       "      <td>2019-05-03 16:22:36</td>\n",
       "      <td>NaN</td>\n",
       "      <td>NaN</td>\n",
       "      <td>NaN</td>\n",
       "      <td>NaN</td>\n",
       "      <td>NaN</td>\n",
       "      <td>NaN</td>\n",
       "      <td>NaN</td>\n",
       "    </tr>\n",
       "  </tbody>\n",
       "</table>\n",
       "</div>"
      ],
      "text/plain": [
       "   key               Wire 1               Wire 2 Wire 3 Wire 4 Wire 5 Wire 6  \\\n",
       "0    1  2019-05-03 11:06:19                  NaN    NaN    NaN    NaN    NaN   \n",
       "1    2  2019-05-03 11:36:50                  NaN    NaN    NaN    NaN    NaN   \n",
       "2    3  2019-05-03 12:11:46                  NaN    NaN    NaN    NaN    NaN   \n",
       "3    4  2019-05-03 12:43:22                  NaN    NaN    NaN    NaN    NaN   \n",
       "4    5  2019-05-03 13:20:44  2019-05-03 13:15:34    NaN    NaN    NaN    NaN   \n",
       "5    6  2019-05-03 13:57:27  2019-05-03 13:48:52    NaN    NaN    NaN    NaN   \n",
       "6    7  2019-05-03 14:18:58                  NaN    NaN    NaN    NaN    NaN   \n",
       "7    8  2019-05-03 15:01:30                  NaN    NaN    NaN    NaN    NaN   \n",
       "8    9  2019-05-03 15:45:44  2019-05-03 15:39:37    NaN    NaN    NaN    NaN   \n",
       "9   10  2019-05-03 16:27:00  2019-05-03 16:22:36    NaN    NaN    NaN    NaN   \n",
       "\n",
       "  Wire 7 Wire 8 Wire 9  \n",
       "0    NaN    NaN    NaN  \n",
       "1    NaN    NaN    NaN  \n",
       "2    NaN    NaN    NaN  \n",
       "3    NaN    NaN    NaN  \n",
       "4    NaN    NaN    NaN  \n",
       "5    NaN    NaN    NaN  \n",
       "6    NaN    NaN    NaN  \n",
       "7    NaN    NaN    NaN  \n",
       "8    NaN    NaN    NaN  \n",
       "9    NaN    NaN    NaN  "
      ]
     },
     "metadata": {},
     "output_type": "display_data"
    }
   ],
   "source": [
    "data_wire_t=get_table('data_wire_time_new.csv')"
   ]
  },
  {
   "cell_type": "markdown",
   "id": "c70ee3bf",
   "metadata": {},
   "source": [
    "## Изучение и предобработка данных"
   ]
  },
  {
   "cell_type": "markdown",
   "id": "5befb478",
   "metadata": {},
   "source": [
    "*Прежде всего выведем основную информацию по каждой таблице, чтобы познакомится со всеми столбцами и их типами*"
   ]
  },
  {
   "cell_type": "code",
   "execution_count": 10,
   "id": "c1bdb28c",
   "metadata": {},
   "outputs": [
    {
     "name": "stdout",
     "output_type": "stream",
     "text": [
      "<class 'pandas.core.frame.DataFrame'>\n",
      "RangeIndex: 14876 entries, 0 to 14875\n",
      "Data columns (total 5 columns):\n",
      " #   Column                Non-Null Count  Dtype  \n",
      "---  ------                --------------  -----  \n",
      " 0   key                   14876 non-null  int64  \n",
      " 1   Начало нагрева дугой  14876 non-null  object \n",
      " 2   Конец нагрева дугой   14876 non-null  object \n",
      " 3   Активная мощность     14876 non-null  float64\n",
      " 4   Реактивная мощность   14876 non-null  float64\n",
      "dtypes: float64(2), int64(1), object(2)\n",
      "memory usage: 581.2+ KB\n"
     ]
    }
   ],
   "source": [
    "electrode_data.info()"
   ]
  },
  {
   "cell_type": "markdown",
   "id": "d944b0d1",
   "metadata": {},
   "source": [
    "Прежде всего стоит отметить, что столбцы таблицы написаны на разных языках, что не очень хорошо (со стилистической точки зрения), так что все, те, что написаны на русском языке придется переименовать.\n",
    "Так же, столбцам \"Начало нагрева дугой\" и \"Конец нагрева дугой\" присвоен тип object, хотя, как мы видели при выводе этой таблицы, там хранится точное время, так что типы этих столбцов нужно будет изменить на datetime.\n",
    "Типы всех остальных столбцов корректны."
   ]
  },
  {
   "cell_type": "code",
   "execution_count": 11,
   "id": "798daa19",
   "metadata": {},
   "outputs": [
    {
     "name": "stdout",
     "output_type": "stream",
     "text": [
      "<class 'pandas.core.frame.DataFrame'>\n",
      "RangeIndex: 3129 entries, 0 to 3128\n",
      "Data columns (total 16 columns):\n",
      " #   Column   Non-Null Count  Dtype  \n",
      "---  ------   --------------  -----  \n",
      " 0   key      3129 non-null   int64  \n",
      " 1   Bulk 1   252 non-null    float64\n",
      " 2   Bulk 2   22 non-null     float64\n",
      " 3   Bulk 3   1298 non-null   float64\n",
      " 4   Bulk 4   1014 non-null   float64\n",
      " 5   Bulk 5   77 non-null     float64\n",
      " 6   Bulk 6   576 non-null    float64\n",
      " 7   Bulk 7   25 non-null     float64\n",
      " 8   Bulk 8   1 non-null      float64\n",
      " 9   Bulk 9   19 non-null     float64\n",
      " 10  Bulk 10  176 non-null    float64\n",
      " 11  Bulk 11  177 non-null    float64\n",
      " 12  Bulk 12  2450 non-null   float64\n",
      " 13  Bulk 13  18 non-null     float64\n",
      " 14  Bulk 14  2806 non-null   float64\n",
      " 15  Bulk 15  2248 non-null   float64\n",
      "dtypes: float64(15), int64(1)\n",
      "memory usage: 391.2 KB\n"
     ]
    }
   ],
   "source": [
    "data_bulk_materials_v.info()"
   ]
  },
  {
   "cell_type": "markdown",
   "id": "ef9b0d16",
   "metadata": {},
   "source": [
    "Поскольку в столбце key хранится номер партии, который может быть только целочисленным, а в остальных значения объема подаваемого материала, тип float, типы даннх корректны. \n",
    "Но что касается названий столбцов, их нужно будет привести к стилю snake_case."
   ]
  },
  {
   "cell_type": "code",
   "execution_count": 12,
   "id": "0d337e95",
   "metadata": {},
   "outputs": [
    {
     "name": "stdout",
     "output_type": "stream",
     "text": [
      "<class 'pandas.core.frame.DataFrame'>\n",
      "RangeIndex: 3129 entries, 0 to 3128\n",
      "Data columns (total 16 columns):\n",
      " #   Column   Non-Null Count  Dtype \n",
      "---  ------   --------------  ----- \n",
      " 0   key      3129 non-null   int64 \n",
      " 1   Bulk 1   252 non-null    object\n",
      " 2   Bulk 2   22 non-null     object\n",
      " 3   Bulk 3   1298 non-null   object\n",
      " 4   Bulk 4   1014 non-null   object\n",
      " 5   Bulk 5   77 non-null     object\n",
      " 6   Bulk 6   576 non-null    object\n",
      " 7   Bulk 7   25 non-null     object\n",
      " 8   Bulk 8   1 non-null      object\n",
      " 9   Bulk 9   19 non-null     object\n",
      " 10  Bulk 10  176 non-null    object\n",
      " 11  Bulk 11  177 non-null    object\n",
      " 12  Bulk 12  2450 non-null   object\n",
      " 13  Bulk 13  18 non-null     object\n",
      " 14  Bulk 14  2806 non-null   object\n",
      " 15  Bulk 15  2248 non-null   object\n",
      "dtypes: int64(1), object(15)\n",
      "memory usage: 391.2+ KB\n"
     ]
    }
   ],
   "source": [
    "data_bulk_materials_t.info()"
   ]
  },
  {
   "cell_type": "markdown",
   "id": "3cd17acd",
   "metadata": {},
   "source": [
    "Аналогичная ситуация с названиями столбцов, как в прошлой таблице. \n",
    "Поскольку во всех столбцах, кроме key, должны храниться значения времени, их типы данных нужно будет из object перевести в datetime. "
   ]
  },
  {
   "cell_type": "code",
   "execution_count": 13,
   "id": "68768694",
   "metadata": {},
   "outputs": [
    {
     "name": "stdout",
     "output_type": "stream",
     "text": [
      "<class 'pandas.core.frame.DataFrame'>\n",
      "RangeIndex: 3239 entries, 0 to 3238\n",
      "Data columns (total 2 columns):\n",
      " #   Column  Non-Null Count  Dtype  \n",
      "---  ------  --------------  -----  \n",
      " 0   key     3239 non-null   int64  \n",
      " 1   Газ 1   3239 non-null   float64\n",
      "dtypes: float64(1), int64(1)\n",
      "memory usage: 50.7 KB\n"
     ]
    }
   ],
   "source": [
    "data_with_gas.info()"
   ]
  },
  {
   "cell_type": "markdown",
   "id": "c43dbba3",
   "metadata": {},
   "source": [
    "Аналогичная с первой таблицей ситуация с названиями столбцов.\n",
    "Поскольку столбец \"Газ\" отображает объём подаваемого газа, он может быть типом float. Так что приведение типов данных в этой таблице не понадобится."
   ]
  },
  {
   "cell_type": "code",
   "execution_count": 14,
   "id": "8e3fe10c",
   "metadata": {},
   "outputs": [
    {
     "name": "stdout",
     "output_type": "stream",
     "text": [
      "<class 'pandas.core.frame.DataFrame'>\n",
      "RangeIndex: 18092 entries, 0 to 18091\n",
      "Data columns (total 3 columns):\n",
      " #   Column        Non-Null Count  Dtype  \n",
      "---  ------        --------------  -----  \n",
      " 0   key           18092 non-null  int64  \n",
      " 1   Время замера  18092 non-null  object \n",
      " 2   Температура   14665 non-null  float64\n",
      "dtypes: float64(1), int64(1), object(1)\n",
      "memory usage: 424.2+ KB\n"
     ]
    }
   ],
   "source": [
    "data_with_temp.info()"
   ]
  },
  {
   "cell_type": "markdown",
   "id": "437381ed",
   "metadata": {},
   "source": [
    "Аналогичная с первой таблицей ситуация с названиями столбцов.\n",
    "Как и во всех предыдущих таблиах, время здесь представленно типом object, хотя должен быть datetime, так что это нужно будет исправить. \n",
    "Как можно увидеть по выведенной таблице, все значения в этом столбце после запятой имеют только 0, так что стоит данные из этого столбца привести к типу int64."
   ]
  },
  {
   "cell_type": "code",
   "execution_count": 15,
   "id": "70448bbf",
   "metadata": {},
   "outputs": [
    {
     "name": "stdout",
     "output_type": "stream",
     "text": [
      "<class 'pandas.core.frame.DataFrame'>\n",
      "RangeIndex: 3081 entries, 0 to 3080\n",
      "Data columns (total 10 columns):\n",
      " #   Column  Non-Null Count  Dtype  \n",
      "---  ------  --------------  -----  \n",
      " 0   key     3081 non-null   int64  \n",
      " 1   Wire 1  3055 non-null   float64\n",
      " 2   Wire 2  1079 non-null   float64\n",
      " 3   Wire 3  63 non-null     float64\n",
      " 4   Wire 4  14 non-null     float64\n",
      " 5   Wire 5  1 non-null      float64\n",
      " 6   Wire 6  73 non-null     float64\n",
      " 7   Wire 7  11 non-null     float64\n",
      " 8   Wire 8  19 non-null     float64\n",
      " 9   Wire 9  29 non-null     float64\n",
      "dtypes: float64(9), int64(1)\n",
      "memory usage: 240.8 KB\n"
     ]
    }
   ],
   "source": [
    "data_wire_v.info()"
   ]
  },
  {
   "cell_type": "markdown",
   "id": "b49da937",
   "metadata": {},
   "source": [
    "Названия столбцов в этой таблице нужно будет привести к стилю snake_case.\n",
    "За исключением \"key\", во всех столбцах хранится информация об объём подаваемых проволочных материалов, что говорит о том, что он может быть дробным, то есть тип данных float64 для него подходит, округление до int не нужно."
   ]
  },
  {
   "cell_type": "code",
   "execution_count": 16,
   "id": "1805c1b1",
   "metadata": {},
   "outputs": [
    {
     "name": "stdout",
     "output_type": "stream",
     "text": [
      "<class 'pandas.core.frame.DataFrame'>\n",
      "RangeIndex: 3081 entries, 0 to 3080\n",
      "Data columns (total 10 columns):\n",
      " #   Column  Non-Null Count  Dtype \n",
      "---  ------  --------------  ----- \n",
      " 0   key     3081 non-null   int64 \n",
      " 1   Wire 1  3055 non-null   object\n",
      " 2   Wire 2  1079 non-null   object\n",
      " 3   Wire 3  63 non-null     object\n",
      " 4   Wire 4  14 non-null     object\n",
      " 5   Wire 5  1 non-null      object\n",
      " 6   Wire 6  73 non-null     object\n",
      " 7   Wire 7  11 non-null     object\n",
      " 8   Wire 8  19 non-null     object\n",
      " 9   Wire 9  29 non-null     object\n",
      "dtypes: int64(1), object(9)\n",
      "memory usage: 240.8+ KB\n"
     ]
    }
   ],
   "source": [
    "data_wire_t.info()"
   ]
  },
  {
   "cell_type": "markdown",
   "id": "9417a31a",
   "metadata": {},
   "source": [
    "в этой таблице польностью аналогичная ситуация с таблицей data_bulk_materials_t."
   ]
  },
  {
   "cell_type": "markdown",
   "id": "370ba788",
   "metadata": {},
   "source": [
    "*Внесем описанные выше изменения*\n",
    "1. таблица electrode_data:\n",
    "        переименуем столбцы"
   ]
  },
  {
   "cell_type": "code",
   "execution_count": 17,
   "id": "70619091",
   "metadata": {},
   "outputs": [
    {
     "data": {
      "text/html": [
       "<div>\n",
       "<style scoped>\n",
       "    .dataframe tbody tr th:only-of-type {\n",
       "        vertical-align: middle;\n",
       "    }\n",
       "\n",
       "    .dataframe tbody tr th {\n",
       "        vertical-align: top;\n",
       "    }\n",
       "\n",
       "    .dataframe thead th {\n",
       "        text-align: right;\n",
       "    }\n",
       "</style>\n",
       "<table border=\"1\" class=\"dataframe\">\n",
       "  <thead>\n",
       "    <tr style=\"text-align: right;\">\n",
       "      <th></th>\n",
       "      <th>key</th>\n",
       "      <th>electrode_start</th>\n",
       "      <th>electrode_end</th>\n",
       "      <th>active_power</th>\n",
       "      <th>reactive_power</th>\n",
       "    </tr>\n",
       "  </thead>\n",
       "  <tbody>\n",
       "    <tr>\n",
       "      <th>0</th>\n",
       "      <td>1</td>\n",
       "      <td>2019-05-03 11:02:14</td>\n",
       "      <td>2019-05-03 11:06:02</td>\n",
       "      <td>0.305130</td>\n",
       "      <td>0.211253</td>\n",
       "    </tr>\n",
       "    <tr>\n",
       "      <th>1</th>\n",
       "      <td>1</td>\n",
       "      <td>2019-05-03 11:07:28</td>\n",
       "      <td>2019-05-03 11:10:33</td>\n",
       "      <td>0.765658</td>\n",
       "      <td>0.477438</td>\n",
       "    </tr>\n",
       "  </tbody>\n",
       "</table>\n",
       "</div>"
      ],
      "text/plain": [
       "   key      electrode_start        electrode_end  active_power  reactive_power\n",
       "0    1  2019-05-03 11:02:14  2019-05-03 11:06:02      0.305130        0.211253\n",
       "1    1  2019-05-03 11:07:28  2019-05-03 11:10:33      0.765658        0.477438"
      ]
     },
     "metadata": {},
     "output_type": "display_data"
    }
   ],
   "source": [
    "electrode_data=electrode_data.rename(columns = {'Начало нагрева дугой' : 'electrode_start',\\\n",
    "                                                'Конец нагрева дугой' : 'electrode_end', 'Активная мощность' : 'active_power', \\\n",
    "                                                'Реактивная мощность' : 'reactive_power'})\n",
    "display(electrode_data.head(2))"
   ]
  },
  {
   "cell_type": "markdown",
   "id": "79d2b8eb",
   "metadata": {},
   "source": [
    "изменим типы столбцов:"
   ]
  },
  {
   "cell_type": "code",
   "execution_count": 18,
   "id": "7877f76c",
   "metadata": {},
   "outputs": [
    {
     "name": "stdout",
     "output_type": "stream",
     "text": [
      "<class 'pandas.core.frame.DataFrame'>\n",
      "RangeIndex: 14876 entries, 0 to 14875\n",
      "Data columns (total 5 columns):\n",
      " #   Column           Non-Null Count  Dtype         \n",
      "---  ------           --------------  -----         \n",
      " 0   key              14876 non-null  int64         \n",
      " 1   electrode_start  14876 non-null  datetime64[ns]\n",
      " 2   electrode_end    14876 non-null  datetime64[ns]\n",
      " 3   active_power     14876 non-null  float64       \n",
      " 4   reactive_power   14876 non-null  float64       \n",
      "dtypes: datetime64[ns](2), float64(2), int64(1)\n",
      "memory usage: 581.2 KB\n"
     ]
    }
   ],
   "source": [
    "electrode_data['electrode_start']=pd.to_datetime(electrode_data['electrode_start'])\n",
    "electrode_data['electrode_end']=pd.to_datetime(electrode_data['electrode_end'])\n",
    "electrode_data.info()"
   ]
  },
  {
   "cell_type": "markdown",
   "id": "f40e91f3",
   "metadata": {},
   "source": [
    "**поскольку нам придется привовить названия столбцов к стилю snake_case одинаковым алгоритмом в нескольких таблицах, напишем для этого функцию.**"
   ]
  },
  {
   "cell_type": "code",
   "execution_count": 19,
   "id": "b6e2f20b",
   "metadata": {},
   "outputs": [],
   "source": [
    "def rename(data):\n",
    "    columns=data.columns.str.lower()\n",
    "    columns=columns.str.replace(' ', '_')\n",
    "    data.columns=columns\n",
    "    display(data.head())"
   ]
  },
  {
   "cell_type": "markdown",
   "id": "9f539dc0",
   "metadata": {},
   "source": [
    "2. data_bulk_materials_v"
   ]
  },
  {
   "cell_type": "code",
   "execution_count": 20,
   "id": "f3fad1eb",
   "metadata": {},
   "outputs": [
    {
     "data": {
      "text/html": [
       "<div>\n",
       "<style scoped>\n",
       "    .dataframe tbody tr th:only-of-type {\n",
       "        vertical-align: middle;\n",
       "    }\n",
       "\n",
       "    .dataframe tbody tr th {\n",
       "        vertical-align: top;\n",
       "    }\n",
       "\n",
       "    .dataframe thead th {\n",
       "        text-align: right;\n",
       "    }\n",
       "</style>\n",
       "<table border=\"1\" class=\"dataframe\">\n",
       "  <thead>\n",
       "    <tr style=\"text-align: right;\">\n",
       "      <th></th>\n",
       "      <th>key</th>\n",
       "      <th>bulk_1</th>\n",
       "      <th>bulk_2</th>\n",
       "      <th>bulk_3</th>\n",
       "      <th>bulk_4</th>\n",
       "      <th>bulk_5</th>\n",
       "      <th>bulk_6</th>\n",
       "      <th>bulk_7</th>\n",
       "      <th>bulk_8</th>\n",
       "      <th>bulk_9</th>\n",
       "      <th>bulk_10</th>\n",
       "      <th>bulk_11</th>\n",
       "      <th>bulk_12</th>\n",
       "      <th>bulk_13</th>\n",
       "      <th>bulk_14</th>\n",
       "      <th>bulk_15</th>\n",
       "    </tr>\n",
       "  </thead>\n",
       "  <tbody>\n",
       "    <tr>\n",
       "      <th>0</th>\n",
       "      <td>1</td>\n",
       "      <td>NaN</td>\n",
       "      <td>NaN</td>\n",
       "      <td>NaN</td>\n",
       "      <td>43.0</td>\n",
       "      <td>NaN</td>\n",
       "      <td>NaN</td>\n",
       "      <td>NaN</td>\n",
       "      <td>NaN</td>\n",
       "      <td>NaN</td>\n",
       "      <td>NaN</td>\n",
       "      <td>NaN</td>\n",
       "      <td>206.0</td>\n",
       "      <td>NaN</td>\n",
       "      <td>150.0</td>\n",
       "      <td>154.0</td>\n",
       "    </tr>\n",
       "    <tr>\n",
       "      <th>1</th>\n",
       "      <td>2</td>\n",
       "      <td>NaN</td>\n",
       "      <td>NaN</td>\n",
       "      <td>NaN</td>\n",
       "      <td>73.0</td>\n",
       "      <td>NaN</td>\n",
       "      <td>NaN</td>\n",
       "      <td>NaN</td>\n",
       "      <td>NaN</td>\n",
       "      <td>NaN</td>\n",
       "      <td>NaN</td>\n",
       "      <td>NaN</td>\n",
       "      <td>206.0</td>\n",
       "      <td>NaN</td>\n",
       "      <td>149.0</td>\n",
       "      <td>154.0</td>\n",
       "    </tr>\n",
       "    <tr>\n",
       "      <th>2</th>\n",
       "      <td>3</td>\n",
       "      <td>NaN</td>\n",
       "      <td>NaN</td>\n",
       "      <td>NaN</td>\n",
       "      <td>34.0</td>\n",
       "      <td>NaN</td>\n",
       "      <td>NaN</td>\n",
       "      <td>NaN</td>\n",
       "      <td>NaN</td>\n",
       "      <td>NaN</td>\n",
       "      <td>NaN</td>\n",
       "      <td>NaN</td>\n",
       "      <td>205.0</td>\n",
       "      <td>NaN</td>\n",
       "      <td>152.0</td>\n",
       "      <td>153.0</td>\n",
       "    </tr>\n",
       "    <tr>\n",
       "      <th>3</th>\n",
       "      <td>4</td>\n",
       "      <td>NaN</td>\n",
       "      <td>NaN</td>\n",
       "      <td>NaN</td>\n",
       "      <td>81.0</td>\n",
       "      <td>NaN</td>\n",
       "      <td>NaN</td>\n",
       "      <td>NaN</td>\n",
       "      <td>NaN</td>\n",
       "      <td>NaN</td>\n",
       "      <td>NaN</td>\n",
       "      <td>NaN</td>\n",
       "      <td>207.0</td>\n",
       "      <td>NaN</td>\n",
       "      <td>153.0</td>\n",
       "      <td>154.0</td>\n",
       "    </tr>\n",
       "    <tr>\n",
       "      <th>4</th>\n",
       "      <td>5</td>\n",
       "      <td>NaN</td>\n",
       "      <td>NaN</td>\n",
       "      <td>NaN</td>\n",
       "      <td>78.0</td>\n",
       "      <td>NaN</td>\n",
       "      <td>NaN</td>\n",
       "      <td>NaN</td>\n",
       "      <td>NaN</td>\n",
       "      <td>NaN</td>\n",
       "      <td>NaN</td>\n",
       "      <td>NaN</td>\n",
       "      <td>203.0</td>\n",
       "      <td>NaN</td>\n",
       "      <td>151.0</td>\n",
       "      <td>152.0</td>\n",
       "    </tr>\n",
       "  </tbody>\n",
       "</table>\n",
       "</div>"
      ],
      "text/plain": [
       "   key  bulk_1  bulk_2  bulk_3  bulk_4  bulk_5  bulk_6  bulk_7  bulk_8  \\\n",
       "0    1     NaN     NaN     NaN    43.0     NaN     NaN     NaN     NaN   \n",
       "1    2     NaN     NaN     NaN    73.0     NaN     NaN     NaN     NaN   \n",
       "2    3     NaN     NaN     NaN    34.0     NaN     NaN     NaN     NaN   \n",
       "3    4     NaN     NaN     NaN    81.0     NaN     NaN     NaN     NaN   \n",
       "4    5     NaN     NaN     NaN    78.0     NaN     NaN     NaN     NaN   \n",
       "\n",
       "   bulk_9  bulk_10  bulk_11  bulk_12  bulk_13  bulk_14  bulk_15  \n",
       "0     NaN      NaN      NaN    206.0      NaN    150.0    154.0  \n",
       "1     NaN      NaN      NaN    206.0      NaN    149.0    154.0  \n",
       "2     NaN      NaN      NaN    205.0      NaN    152.0    153.0  \n",
       "3     NaN      NaN      NaN    207.0      NaN    153.0    154.0  \n",
       "4     NaN      NaN      NaN    203.0      NaN    151.0    152.0  "
      ]
     },
     "metadata": {},
     "output_type": "display_data"
    }
   ],
   "source": [
    "rename(data_bulk_materials_v)"
   ]
  },
  {
   "cell_type": "markdown",
   "id": "001c2e8f",
   "metadata": {},
   "source": [
    "**поскольку нам придется привовить тип данных столбцов к datetime в нескольких таблицах, напишем для этого функцию.**"
   ]
  },
  {
   "cell_type": "code",
   "execution_count": 21,
   "id": "b71dee9b",
   "metadata": {},
   "outputs": [],
   "source": [
    "def make_datetime(data):\n",
    "    columns=data.columns\n",
    "    for col in columns:\n",
    "        if col!='key':\n",
    "            data[col]=pd.to_datetime(data[col])\n",
    "    data.info()\n",
    "    pass"
   ]
  },
  {
   "cell_type": "markdown",
   "id": "26b577c4",
   "metadata": {},
   "source": [
    "3. data_bulk_materials_t\n",
    "    \n",
    "    прежде всего переименуем столбцы"
   ]
  },
  {
   "cell_type": "code",
   "execution_count": 22,
   "id": "0ade5bb3",
   "metadata": {},
   "outputs": [
    {
     "data": {
      "text/html": [
       "<div>\n",
       "<style scoped>\n",
       "    .dataframe tbody tr th:only-of-type {\n",
       "        vertical-align: middle;\n",
       "    }\n",
       "\n",
       "    .dataframe tbody tr th {\n",
       "        vertical-align: top;\n",
       "    }\n",
       "\n",
       "    .dataframe thead th {\n",
       "        text-align: right;\n",
       "    }\n",
       "</style>\n",
       "<table border=\"1\" class=\"dataframe\">\n",
       "  <thead>\n",
       "    <tr style=\"text-align: right;\">\n",
       "      <th></th>\n",
       "      <th>key</th>\n",
       "      <th>bulk_1</th>\n",
       "      <th>bulk_2</th>\n",
       "      <th>bulk_3</th>\n",
       "      <th>bulk_4</th>\n",
       "      <th>bulk_5</th>\n",
       "      <th>bulk_6</th>\n",
       "      <th>bulk_7</th>\n",
       "      <th>bulk_8</th>\n",
       "      <th>bulk_9</th>\n",
       "      <th>bulk_10</th>\n",
       "      <th>bulk_11</th>\n",
       "      <th>bulk_12</th>\n",
       "      <th>bulk_13</th>\n",
       "      <th>bulk_14</th>\n",
       "      <th>bulk_15</th>\n",
       "    </tr>\n",
       "  </thead>\n",
       "  <tbody>\n",
       "    <tr>\n",
       "      <th>0</th>\n",
       "      <td>1</td>\n",
       "      <td>NaN</td>\n",
       "      <td>NaN</td>\n",
       "      <td>NaN</td>\n",
       "      <td>2019-05-03 11:28:48</td>\n",
       "      <td>NaN</td>\n",
       "      <td>NaN</td>\n",
       "      <td>NaN</td>\n",
       "      <td>NaN</td>\n",
       "      <td>NaN</td>\n",
       "      <td>NaN</td>\n",
       "      <td>NaN</td>\n",
       "      <td>2019-05-03 11:24:31</td>\n",
       "      <td>NaN</td>\n",
       "      <td>2019-05-03 11:14:50</td>\n",
       "      <td>2019-05-03 11:10:43</td>\n",
       "    </tr>\n",
       "    <tr>\n",
       "      <th>1</th>\n",
       "      <td>2</td>\n",
       "      <td>NaN</td>\n",
       "      <td>NaN</td>\n",
       "      <td>NaN</td>\n",
       "      <td>2019-05-03 11:36:50</td>\n",
       "      <td>NaN</td>\n",
       "      <td>NaN</td>\n",
       "      <td>NaN</td>\n",
       "      <td>NaN</td>\n",
       "      <td>NaN</td>\n",
       "      <td>NaN</td>\n",
       "      <td>NaN</td>\n",
       "      <td>2019-05-03 11:53:30</td>\n",
       "      <td>NaN</td>\n",
       "      <td>2019-05-03 11:48:37</td>\n",
       "      <td>2019-05-03 11:44:39</td>\n",
       "    </tr>\n",
       "    <tr>\n",
       "      <th>2</th>\n",
       "      <td>3</td>\n",
       "      <td>NaN</td>\n",
       "      <td>NaN</td>\n",
       "      <td>NaN</td>\n",
       "      <td>2019-05-03 12:32:39</td>\n",
       "      <td>NaN</td>\n",
       "      <td>NaN</td>\n",
       "      <td>NaN</td>\n",
       "      <td>NaN</td>\n",
       "      <td>NaN</td>\n",
       "      <td>NaN</td>\n",
       "      <td>NaN</td>\n",
       "      <td>2019-05-03 12:27:13</td>\n",
       "      <td>NaN</td>\n",
       "      <td>2019-05-03 12:21:01</td>\n",
       "      <td>2019-05-03 12:16:16</td>\n",
       "    </tr>\n",
       "    <tr>\n",
       "      <th>3</th>\n",
       "      <td>4</td>\n",
       "      <td>NaN</td>\n",
       "      <td>NaN</td>\n",
       "      <td>NaN</td>\n",
       "      <td>2019-05-03 12:43:22</td>\n",
       "      <td>NaN</td>\n",
       "      <td>NaN</td>\n",
       "      <td>NaN</td>\n",
       "      <td>NaN</td>\n",
       "      <td>NaN</td>\n",
       "      <td>NaN</td>\n",
       "      <td>NaN</td>\n",
       "      <td>2019-05-03 12:58:00</td>\n",
       "      <td>NaN</td>\n",
       "      <td>2019-05-03 12:51:11</td>\n",
       "      <td>2019-05-03 12:46:36</td>\n",
       "    </tr>\n",
       "    <tr>\n",
       "      <th>4</th>\n",
       "      <td>5</td>\n",
       "      <td>NaN</td>\n",
       "      <td>NaN</td>\n",
       "      <td>NaN</td>\n",
       "      <td>2019-05-03 13:30:47</td>\n",
       "      <td>NaN</td>\n",
       "      <td>NaN</td>\n",
       "      <td>NaN</td>\n",
       "      <td>NaN</td>\n",
       "      <td>NaN</td>\n",
       "      <td>NaN</td>\n",
       "      <td>NaN</td>\n",
       "      <td>2019-05-03 13:30:47</td>\n",
       "      <td>NaN</td>\n",
       "      <td>2019-05-03 13:34:12</td>\n",
       "      <td>2019-05-03 13:30:47</td>\n",
       "    </tr>\n",
       "  </tbody>\n",
       "</table>\n",
       "</div>"
      ],
      "text/plain": [
       "   key bulk_1 bulk_2 bulk_3               bulk_4 bulk_5 bulk_6 bulk_7 bulk_8  \\\n",
       "0    1    NaN    NaN    NaN  2019-05-03 11:28:48    NaN    NaN    NaN    NaN   \n",
       "1    2    NaN    NaN    NaN  2019-05-03 11:36:50    NaN    NaN    NaN    NaN   \n",
       "2    3    NaN    NaN    NaN  2019-05-03 12:32:39    NaN    NaN    NaN    NaN   \n",
       "3    4    NaN    NaN    NaN  2019-05-03 12:43:22    NaN    NaN    NaN    NaN   \n",
       "4    5    NaN    NaN    NaN  2019-05-03 13:30:47    NaN    NaN    NaN    NaN   \n",
       "\n",
       "  bulk_9 bulk_10 bulk_11              bulk_12 bulk_13              bulk_14  \\\n",
       "0    NaN     NaN     NaN  2019-05-03 11:24:31     NaN  2019-05-03 11:14:50   \n",
       "1    NaN     NaN     NaN  2019-05-03 11:53:30     NaN  2019-05-03 11:48:37   \n",
       "2    NaN     NaN     NaN  2019-05-03 12:27:13     NaN  2019-05-03 12:21:01   \n",
       "3    NaN     NaN     NaN  2019-05-03 12:58:00     NaN  2019-05-03 12:51:11   \n",
       "4    NaN     NaN     NaN  2019-05-03 13:30:47     NaN  2019-05-03 13:34:12   \n",
       "\n",
       "               bulk_15  \n",
       "0  2019-05-03 11:10:43  \n",
       "1  2019-05-03 11:44:39  \n",
       "2  2019-05-03 12:16:16  \n",
       "3  2019-05-03 12:46:36  \n",
       "4  2019-05-03 13:30:47  "
      ]
     },
     "metadata": {},
     "output_type": "display_data"
    }
   ],
   "source": [
    "rename(data_bulk_materials_t)"
   ]
  },
  {
   "cell_type": "markdown",
   "id": "b4f4023d",
   "metadata": {},
   "source": [
    "изменим тип данных"
   ]
  },
  {
   "cell_type": "code",
   "execution_count": 23,
   "id": "e2d06f70",
   "metadata": {},
   "outputs": [
    {
     "name": "stdout",
     "output_type": "stream",
     "text": [
      "<class 'pandas.core.frame.DataFrame'>\n",
      "RangeIndex: 3129 entries, 0 to 3128\n",
      "Data columns (total 16 columns):\n",
      " #   Column   Non-Null Count  Dtype         \n",
      "---  ------   --------------  -----         \n",
      " 0   key      3129 non-null   int64         \n",
      " 1   bulk_1   252 non-null    datetime64[ns]\n",
      " 2   bulk_2   22 non-null     datetime64[ns]\n",
      " 3   bulk_3   1298 non-null   datetime64[ns]\n",
      " 4   bulk_4   1014 non-null   datetime64[ns]\n",
      " 5   bulk_5   77 non-null     datetime64[ns]\n",
      " 6   bulk_6   576 non-null    datetime64[ns]\n",
      " 7   bulk_7   25 non-null     datetime64[ns]\n",
      " 8   bulk_8   1 non-null      datetime64[ns]\n",
      " 9   bulk_9   19 non-null     datetime64[ns]\n",
      " 10  bulk_10  176 non-null    datetime64[ns]\n",
      " 11  bulk_11  177 non-null    datetime64[ns]\n",
      " 12  bulk_12  2450 non-null   datetime64[ns]\n",
      " 13  bulk_13  18 non-null     datetime64[ns]\n",
      " 14  bulk_14  2806 non-null   datetime64[ns]\n",
      " 15  bulk_15  2248 non-null   datetime64[ns]\n",
      "dtypes: datetime64[ns](15), int64(1)\n",
      "memory usage: 391.2 KB\n"
     ]
    }
   ],
   "source": [
    "make_datetime(data_bulk_materials_t)"
   ]
  },
  {
   "cell_type": "markdown",
   "id": "809a0330",
   "metadata": {},
   "source": [
    "4. data_with_gas"
   ]
  },
  {
   "cell_type": "code",
   "execution_count": 24,
   "id": "e146d99d",
   "metadata": {},
   "outputs": [
    {
     "data": {
      "text/html": [
       "<div>\n",
       "<style scoped>\n",
       "    .dataframe tbody tr th:only-of-type {\n",
       "        vertical-align: middle;\n",
       "    }\n",
       "\n",
       "    .dataframe tbody tr th {\n",
       "        vertical-align: top;\n",
       "    }\n",
       "\n",
       "    .dataframe thead th {\n",
       "        text-align: right;\n",
       "    }\n",
       "</style>\n",
       "<table border=\"1\" class=\"dataframe\">\n",
       "  <thead>\n",
       "    <tr style=\"text-align: right;\">\n",
       "      <th></th>\n",
       "      <th>key</th>\n",
       "      <th>volume_gas</th>\n",
       "    </tr>\n",
       "  </thead>\n",
       "  <tbody>\n",
       "    <tr>\n",
       "      <th>0</th>\n",
       "      <td>1</td>\n",
       "      <td>29.749986</td>\n",
       "    </tr>\n",
       "    <tr>\n",
       "      <th>1</th>\n",
       "      <td>2</td>\n",
       "      <td>12.555561</td>\n",
       "    </tr>\n",
       "  </tbody>\n",
       "</table>\n",
       "</div>"
      ],
      "text/plain": [
       "   key  volume_gas\n",
       "0    1   29.749986\n",
       "1    2   12.555561"
      ]
     },
     "metadata": {},
     "output_type": "display_data"
    }
   ],
   "source": [
    "data_with_gas=data_with_gas.rename(columns = {'Газ 1' : 'volume_gas'})\n",
    "display(data_with_gas.head(2))"
   ]
  },
  {
   "cell_type": "markdown",
   "id": "297bd28d",
   "metadata": {},
   "source": [
    "5. data_with_temp\n",
    "        \n",
    "      Прежде всего переименуем столбцы "
   ]
  },
  {
   "cell_type": "code",
   "execution_count": 25,
   "id": "44f5f270",
   "metadata": {},
   "outputs": [
    {
     "data": {
      "text/html": [
       "<div>\n",
       "<style scoped>\n",
       "    .dataframe tbody tr th:only-of-type {\n",
       "        vertical-align: middle;\n",
       "    }\n",
       "\n",
       "    .dataframe tbody tr th {\n",
       "        vertical-align: top;\n",
       "    }\n",
       "\n",
       "    .dataframe thead th {\n",
       "        text-align: right;\n",
       "    }\n",
       "</style>\n",
       "<table border=\"1\" class=\"dataframe\">\n",
       "  <thead>\n",
       "    <tr style=\"text-align: right;\">\n",
       "      <th></th>\n",
       "      <th>key</th>\n",
       "      <th>measurement_time</th>\n",
       "      <th>temperature</th>\n",
       "    </tr>\n",
       "  </thead>\n",
       "  <tbody>\n",
       "    <tr>\n",
       "      <th>0</th>\n",
       "      <td>1</td>\n",
       "      <td>2019-05-03 11:02:04</td>\n",
       "      <td>1571.0</td>\n",
       "    </tr>\n",
       "    <tr>\n",
       "      <th>1</th>\n",
       "      <td>1</td>\n",
       "      <td>2019-05-03 11:07:18</td>\n",
       "      <td>1604.0</td>\n",
       "    </tr>\n",
       "  </tbody>\n",
       "</table>\n",
       "</div>"
      ],
      "text/plain": [
       "   key     measurement_time  temperature\n",
       "0    1  2019-05-03 11:02:04       1571.0\n",
       "1    1  2019-05-03 11:07:18       1604.0"
      ]
     },
     "metadata": {},
     "output_type": "display_data"
    }
   ],
   "source": [
    "data_with_temp=data_with_temp.rename(columns = {'Время замера' : 'measurement_time',\\\n",
    "                                                'Температура' : 'temperature'})\n",
    "display(data_with_temp.head(2))"
   ]
  },
  {
   "cell_type": "code",
   "execution_count": 26,
   "id": "82818532",
   "metadata": {},
   "outputs": [
    {
     "name": "stdout",
     "output_type": "stream",
     "text": [
      "<class 'pandas.core.frame.DataFrame'>\n",
      "RangeIndex: 18092 entries, 0 to 18091\n",
      "Data columns (total 3 columns):\n",
      " #   Column            Non-Null Count  Dtype         \n",
      "---  ------            --------------  -----         \n",
      " 0   key               18092 non-null  int64         \n",
      " 1   measurement_time  18092 non-null  datetime64[ns]\n",
      " 2   temperature       14665 non-null  float64       \n",
      "dtypes: datetime64[ns](1), float64(1), int64(1)\n",
      "memory usage: 424.2 KB\n"
     ]
    }
   ],
   "source": [
    "data_with_temp['measurement_time']=pd.to_datetime(data_with_temp['measurement_time'])\n",
    "data_with_temp.info()"
   ]
  },
  {
   "cell_type": "markdown",
   "id": "47c8a17f",
   "metadata": {},
   "source": [
    "поскольку для преобразования в int64, в столбце не должно быть пропусков, посмотрим, какие могут быть там уникальные значения и пока что заполним их ими. Для преобраования. \n",
    "(Но это на этапе обработки пропущенных значений вероятнее всего мы их \"переобработаем\")\n",
    "\n",
    "Выведем минимальное значение. "
   ]
  },
  {
   "cell_type": "code",
   "execution_count": 27,
   "id": "e63b184e",
   "metadata": {},
   "outputs": [
    {
     "name": "stdout",
     "output_type": "stream",
     "text": [
      "1191.0\n"
     ]
    }
   ],
   "source": [
    "print(min(data_with_temp['temperature']))"
   ]
  },
  {
   "cell_type": "markdown",
   "id": "76b1fd80",
   "metadata": {},
   "source": [
    "Поскольку минимальное значение сильно отличается от 0, возьмем в качестве заглушки именно его."
   ]
  },
  {
   "cell_type": "code",
   "execution_count": 28,
   "id": "0d8e5acf",
   "metadata": {},
   "outputs": [],
   "source": [
    "data_with_temp['temperature']=data_with_temp['temperature'].fillna(0)"
   ]
  },
  {
   "cell_type": "code",
   "execution_count": 29,
   "id": "58172ebf",
   "metadata": {},
   "outputs": [
    {
     "name": "stdout",
     "output_type": "stream",
     "text": [
      "<class 'pandas.core.frame.DataFrame'>\n",
      "RangeIndex: 18092 entries, 0 to 18091\n",
      "Data columns (total 3 columns):\n",
      " #   Column            Non-Null Count  Dtype         \n",
      "---  ------            --------------  -----         \n",
      " 0   key               18092 non-null  int64         \n",
      " 1   measurement_time  18092 non-null  datetime64[ns]\n",
      " 2   temperature       18092 non-null  int64         \n",
      "dtypes: datetime64[ns](1), int64(2)\n",
      "memory usage: 424.2 KB\n"
     ]
    }
   ],
   "source": [
    "data_with_temp['temperature']=data_with_temp['temperature'].astype('int64')\n",
    "data_with_temp.info()"
   ]
  },
  {
   "cell_type": "code",
   "execution_count": 30,
   "id": "a740454a",
   "metadata": {},
   "outputs": [
    {
     "data": {
      "text/html": [
       "<div>\n",
       "<style scoped>\n",
       "    .dataframe tbody tr th:only-of-type {\n",
       "        vertical-align: middle;\n",
       "    }\n",
       "\n",
       "    .dataframe tbody tr th {\n",
       "        vertical-align: top;\n",
       "    }\n",
       "\n",
       "    .dataframe thead th {\n",
       "        text-align: right;\n",
       "    }\n",
       "</style>\n",
       "<table border=\"1\" class=\"dataframe\">\n",
       "  <thead>\n",
       "    <tr style=\"text-align: right;\">\n",
       "      <th></th>\n",
       "      <th>key</th>\n",
       "      <th>measurement_time</th>\n",
       "      <th>temperature</th>\n",
       "    </tr>\n",
       "  </thead>\n",
       "  <tbody>\n",
       "    <tr>\n",
       "      <th>0</th>\n",
       "      <td>1</td>\n",
       "      <td>2019-05-03 11:02:04</td>\n",
       "      <td>1571</td>\n",
       "    </tr>\n",
       "    <tr>\n",
       "      <th>1</th>\n",
       "      <td>1</td>\n",
       "      <td>2019-05-03 11:07:18</td>\n",
       "      <td>1604</td>\n",
       "    </tr>\n",
       "  </tbody>\n",
       "</table>\n",
       "</div>"
      ],
      "text/plain": [
       "   key    measurement_time  temperature\n",
       "0    1 2019-05-03 11:02:04         1571\n",
       "1    1 2019-05-03 11:07:18         1604"
      ]
     },
     "metadata": {},
     "output_type": "display_data"
    }
   ],
   "source": [
    "display(data_with_temp.head(2))"
   ]
  },
  {
   "cell_type": "markdown",
   "id": "238d79e1",
   "metadata": {},
   "source": [
    "6. data_wire_v"
   ]
  },
  {
   "cell_type": "code",
   "execution_count": 31,
   "id": "247be808",
   "metadata": {},
   "outputs": [
    {
     "data": {
      "text/html": [
       "<div>\n",
       "<style scoped>\n",
       "    .dataframe tbody tr th:only-of-type {\n",
       "        vertical-align: middle;\n",
       "    }\n",
       "\n",
       "    .dataframe tbody tr th {\n",
       "        vertical-align: top;\n",
       "    }\n",
       "\n",
       "    .dataframe thead th {\n",
       "        text-align: right;\n",
       "    }\n",
       "</style>\n",
       "<table border=\"1\" class=\"dataframe\">\n",
       "  <thead>\n",
       "    <tr style=\"text-align: right;\">\n",
       "      <th></th>\n",
       "      <th>key</th>\n",
       "      <th>wire_1</th>\n",
       "      <th>wire_2</th>\n",
       "      <th>wire_3</th>\n",
       "      <th>wire_4</th>\n",
       "      <th>wire_5</th>\n",
       "      <th>wire_6</th>\n",
       "      <th>wire_7</th>\n",
       "      <th>wire_8</th>\n",
       "      <th>wire_9</th>\n",
       "    </tr>\n",
       "  </thead>\n",
       "  <tbody>\n",
       "    <tr>\n",
       "      <th>0</th>\n",
       "      <td>1</td>\n",
       "      <td>60.059998</td>\n",
       "      <td>NaN</td>\n",
       "      <td>NaN</td>\n",
       "      <td>NaN</td>\n",
       "      <td>NaN</td>\n",
       "      <td>NaN</td>\n",
       "      <td>NaN</td>\n",
       "      <td>NaN</td>\n",
       "      <td>NaN</td>\n",
       "    </tr>\n",
       "    <tr>\n",
       "      <th>1</th>\n",
       "      <td>2</td>\n",
       "      <td>96.052315</td>\n",
       "      <td>NaN</td>\n",
       "      <td>NaN</td>\n",
       "      <td>NaN</td>\n",
       "      <td>NaN</td>\n",
       "      <td>NaN</td>\n",
       "      <td>NaN</td>\n",
       "      <td>NaN</td>\n",
       "      <td>NaN</td>\n",
       "    </tr>\n",
       "    <tr>\n",
       "      <th>2</th>\n",
       "      <td>3</td>\n",
       "      <td>91.160157</td>\n",
       "      <td>NaN</td>\n",
       "      <td>NaN</td>\n",
       "      <td>NaN</td>\n",
       "      <td>NaN</td>\n",
       "      <td>NaN</td>\n",
       "      <td>NaN</td>\n",
       "      <td>NaN</td>\n",
       "      <td>NaN</td>\n",
       "    </tr>\n",
       "    <tr>\n",
       "      <th>3</th>\n",
       "      <td>4</td>\n",
       "      <td>89.063515</td>\n",
       "      <td>NaN</td>\n",
       "      <td>NaN</td>\n",
       "      <td>NaN</td>\n",
       "      <td>NaN</td>\n",
       "      <td>NaN</td>\n",
       "      <td>NaN</td>\n",
       "      <td>NaN</td>\n",
       "      <td>NaN</td>\n",
       "    </tr>\n",
       "    <tr>\n",
       "      <th>4</th>\n",
       "      <td>5</td>\n",
       "      <td>89.238236</td>\n",
       "      <td>9.11456</td>\n",
       "      <td>NaN</td>\n",
       "      <td>NaN</td>\n",
       "      <td>NaN</td>\n",
       "      <td>NaN</td>\n",
       "      <td>NaN</td>\n",
       "      <td>NaN</td>\n",
       "      <td>NaN</td>\n",
       "    </tr>\n",
       "  </tbody>\n",
       "</table>\n",
       "</div>"
      ],
      "text/plain": [
       "   key     wire_1   wire_2  wire_3  wire_4  wire_5  wire_6  wire_7  wire_8  \\\n",
       "0    1  60.059998      NaN     NaN     NaN     NaN     NaN     NaN     NaN   \n",
       "1    2  96.052315      NaN     NaN     NaN     NaN     NaN     NaN     NaN   \n",
       "2    3  91.160157      NaN     NaN     NaN     NaN     NaN     NaN     NaN   \n",
       "3    4  89.063515      NaN     NaN     NaN     NaN     NaN     NaN     NaN   \n",
       "4    5  89.238236  9.11456     NaN     NaN     NaN     NaN     NaN     NaN   \n",
       "\n",
       "   wire_9  \n",
       "0     NaN  \n",
       "1     NaN  \n",
       "2     NaN  \n",
       "3     NaN  \n",
       "4     NaN  "
      ]
     },
     "metadata": {},
     "output_type": "display_data"
    }
   ],
   "source": [
    "rename(data_wire_v)"
   ]
  },
  {
   "cell_type": "markdown",
   "id": "d04e94ef",
   "metadata": {},
   "source": [
    "7. data_wire_t"
   ]
  },
  {
   "cell_type": "code",
   "execution_count": 32,
   "id": "74f57161",
   "metadata": {},
   "outputs": [
    {
     "data": {
      "text/html": [
       "<div>\n",
       "<style scoped>\n",
       "    .dataframe tbody tr th:only-of-type {\n",
       "        vertical-align: middle;\n",
       "    }\n",
       "\n",
       "    .dataframe tbody tr th {\n",
       "        vertical-align: top;\n",
       "    }\n",
       "\n",
       "    .dataframe thead th {\n",
       "        text-align: right;\n",
       "    }\n",
       "</style>\n",
       "<table border=\"1\" class=\"dataframe\">\n",
       "  <thead>\n",
       "    <tr style=\"text-align: right;\">\n",
       "      <th></th>\n",
       "      <th>key</th>\n",
       "      <th>wire_1</th>\n",
       "      <th>wire_2</th>\n",
       "      <th>wire_3</th>\n",
       "      <th>wire_4</th>\n",
       "      <th>wire_5</th>\n",
       "      <th>wire_6</th>\n",
       "      <th>wire_7</th>\n",
       "      <th>wire_8</th>\n",
       "      <th>wire_9</th>\n",
       "    </tr>\n",
       "  </thead>\n",
       "  <tbody>\n",
       "    <tr>\n",
       "      <th>0</th>\n",
       "      <td>1</td>\n",
       "      <td>2019-05-03 11:06:19</td>\n",
       "      <td>NaN</td>\n",
       "      <td>NaN</td>\n",
       "      <td>NaN</td>\n",
       "      <td>NaN</td>\n",
       "      <td>NaN</td>\n",
       "      <td>NaN</td>\n",
       "      <td>NaN</td>\n",
       "      <td>NaN</td>\n",
       "    </tr>\n",
       "    <tr>\n",
       "      <th>1</th>\n",
       "      <td>2</td>\n",
       "      <td>2019-05-03 11:36:50</td>\n",
       "      <td>NaN</td>\n",
       "      <td>NaN</td>\n",
       "      <td>NaN</td>\n",
       "      <td>NaN</td>\n",
       "      <td>NaN</td>\n",
       "      <td>NaN</td>\n",
       "      <td>NaN</td>\n",
       "      <td>NaN</td>\n",
       "    </tr>\n",
       "    <tr>\n",
       "      <th>2</th>\n",
       "      <td>3</td>\n",
       "      <td>2019-05-03 12:11:46</td>\n",
       "      <td>NaN</td>\n",
       "      <td>NaN</td>\n",
       "      <td>NaN</td>\n",
       "      <td>NaN</td>\n",
       "      <td>NaN</td>\n",
       "      <td>NaN</td>\n",
       "      <td>NaN</td>\n",
       "      <td>NaN</td>\n",
       "    </tr>\n",
       "    <tr>\n",
       "      <th>3</th>\n",
       "      <td>4</td>\n",
       "      <td>2019-05-03 12:43:22</td>\n",
       "      <td>NaN</td>\n",
       "      <td>NaN</td>\n",
       "      <td>NaN</td>\n",
       "      <td>NaN</td>\n",
       "      <td>NaN</td>\n",
       "      <td>NaN</td>\n",
       "      <td>NaN</td>\n",
       "      <td>NaN</td>\n",
       "    </tr>\n",
       "    <tr>\n",
       "      <th>4</th>\n",
       "      <td>5</td>\n",
       "      <td>2019-05-03 13:20:44</td>\n",
       "      <td>2019-05-03 13:15:34</td>\n",
       "      <td>NaN</td>\n",
       "      <td>NaN</td>\n",
       "      <td>NaN</td>\n",
       "      <td>NaN</td>\n",
       "      <td>NaN</td>\n",
       "      <td>NaN</td>\n",
       "      <td>NaN</td>\n",
       "    </tr>\n",
       "  </tbody>\n",
       "</table>\n",
       "</div>"
      ],
      "text/plain": [
       "   key               wire_1               wire_2 wire_3 wire_4 wire_5 wire_6  \\\n",
       "0    1  2019-05-03 11:06:19                  NaN    NaN    NaN    NaN    NaN   \n",
       "1    2  2019-05-03 11:36:50                  NaN    NaN    NaN    NaN    NaN   \n",
       "2    3  2019-05-03 12:11:46                  NaN    NaN    NaN    NaN    NaN   \n",
       "3    4  2019-05-03 12:43:22                  NaN    NaN    NaN    NaN    NaN   \n",
       "4    5  2019-05-03 13:20:44  2019-05-03 13:15:34    NaN    NaN    NaN    NaN   \n",
       "\n",
       "  wire_7 wire_8 wire_9  \n",
       "0    NaN    NaN    NaN  \n",
       "1    NaN    NaN    NaN  \n",
       "2    NaN    NaN    NaN  \n",
       "3    NaN    NaN    NaN  \n",
       "4    NaN    NaN    NaN  "
      ]
     },
     "metadata": {},
     "output_type": "display_data"
    }
   ],
   "source": [
    "rename(data_wire_t)"
   ]
  },
  {
   "cell_type": "code",
   "execution_count": 33,
   "id": "8e3256fb",
   "metadata": {},
   "outputs": [
    {
     "name": "stdout",
     "output_type": "stream",
     "text": [
      "<class 'pandas.core.frame.DataFrame'>\n",
      "RangeIndex: 3081 entries, 0 to 3080\n",
      "Data columns (total 10 columns):\n",
      " #   Column  Non-Null Count  Dtype         \n",
      "---  ------  --------------  -----         \n",
      " 0   key     3081 non-null   int64         \n",
      " 1   wire_1  3055 non-null   datetime64[ns]\n",
      " 2   wire_2  1079 non-null   datetime64[ns]\n",
      " 3   wire_3  63 non-null     datetime64[ns]\n",
      " 4   wire_4  14 non-null     datetime64[ns]\n",
      " 5   wire_5  1 non-null      datetime64[ns]\n",
      " 6   wire_6  73 non-null     datetime64[ns]\n",
      " 7   wire_7  11 non-null     datetime64[ns]\n",
      " 8   wire_8  19 non-null     datetime64[ns]\n",
      " 9   wire_9  29 non-null     datetime64[ns]\n",
      "dtypes: datetime64[ns](9), int64(1)\n",
      "memory usage: 240.8 KB\n"
     ]
    }
   ],
   "source": [
    "make_datetime(data_wire_t)"
   ]
  },
  {
   "cell_type": "markdown",
   "id": "40850a3d",
   "metadata": {},
   "source": [
    "*посмотрим, какие столбцы могут быть не информативными*\n",
    "\n",
    "Рассмотрим таблицу electrode_data: \n",
    "Поскольку в этой таблице хранится информация о нагреве с помощью электродов, будем рассматривать этот процесс. \n",
    "По закону Джоуля-Ленца энергия (в простом для понимания виде), которая передается веществу для нагревания равна произведению длительности времени на активную мощность. \n",
    "Что же имеется в нашей таблице: время начала работы, - конца, реактивная и активная мощности. Как мы поняли из закона Джоуля-Ленца, нам нужна будет активная мощность (поскольку именно она идет на нагрев) и сколько по времени длился процесс в секундах. То есть из столбцов \"electrode_end\" и \"electrode_start\" нужно будет сформировать новый, а эти удалить за ненужностью. \n",
    "НО!! эти данные могут помочь при обнаружении выбросов, так что удалить их нужно будет после проверки на них. \n",
    "Что же касается реактивной мощности: это мощность, которая идет в нагреватель обратно и в окружающую среду, так что учитывать ее нет смысла, поскольку она никак не влияет на процесс.\n",
    "\n",
    "\n",
    "Создадим столбец с длительностью работы в секундах, после чего удалим столбец 'reactiv_power'."
   ]
  },
  {
   "cell_type": "code",
   "execution_count": 34,
   "id": "a19a222f",
   "metadata": {},
   "outputs": [
    {
     "data": {
      "text/html": [
       "<div>\n",
       "<style scoped>\n",
       "    .dataframe tbody tr th:only-of-type {\n",
       "        vertical-align: middle;\n",
       "    }\n",
       "\n",
       "    .dataframe tbody tr th {\n",
       "        vertical-align: top;\n",
       "    }\n",
       "\n",
       "    .dataframe thead th {\n",
       "        text-align: right;\n",
       "    }\n",
       "</style>\n",
       "<table border=\"1\" class=\"dataframe\">\n",
       "  <thead>\n",
       "    <tr style=\"text-align: right;\">\n",
       "      <th></th>\n",
       "      <th>key</th>\n",
       "      <th>electrode_start</th>\n",
       "      <th>electrode_end</th>\n",
       "      <th>active_power</th>\n",
       "      <th>reactive_power</th>\n",
       "      <th>duration</th>\n",
       "    </tr>\n",
       "  </thead>\n",
       "  <tbody>\n",
       "    <tr>\n",
       "      <th>0</th>\n",
       "      <td>1</td>\n",
       "      <td>2019-05-03 11:02:14</td>\n",
       "      <td>2019-05-03 11:06:02</td>\n",
       "      <td>0.305130</td>\n",
       "      <td>0.211253</td>\n",
       "      <td>228</td>\n",
       "    </tr>\n",
       "    <tr>\n",
       "      <th>1</th>\n",
       "      <td>1</td>\n",
       "      <td>2019-05-03 11:07:28</td>\n",
       "      <td>2019-05-03 11:10:33</td>\n",
       "      <td>0.765658</td>\n",
       "      <td>0.477438</td>\n",
       "      <td>185</td>\n",
       "    </tr>\n",
       "    <tr>\n",
       "      <th>2</th>\n",
       "      <td>1</td>\n",
       "      <td>2019-05-03 11:11:44</td>\n",
       "      <td>2019-05-03 11:14:36</td>\n",
       "      <td>0.580313</td>\n",
       "      <td>0.430460</td>\n",
       "      <td>172</td>\n",
       "    </tr>\n",
       "    <tr>\n",
       "      <th>3</th>\n",
       "      <td>1</td>\n",
       "      <td>2019-05-03 11:18:14</td>\n",
       "      <td>2019-05-03 11:24:19</td>\n",
       "      <td>0.518496</td>\n",
       "      <td>0.379979</td>\n",
       "      <td>365</td>\n",
       "    </tr>\n",
       "    <tr>\n",
       "      <th>4</th>\n",
       "      <td>1</td>\n",
       "      <td>2019-05-03 11:26:09</td>\n",
       "      <td>2019-05-03 11:28:37</td>\n",
       "      <td>0.867133</td>\n",
       "      <td>0.643691</td>\n",
       "      <td>148</td>\n",
       "    </tr>\n",
       "  </tbody>\n",
       "</table>\n",
       "</div>"
      ],
      "text/plain": [
       "   key     electrode_start       electrode_end  active_power  reactive_power  \\\n",
       "0    1 2019-05-03 11:02:14 2019-05-03 11:06:02      0.305130        0.211253   \n",
       "1    1 2019-05-03 11:07:28 2019-05-03 11:10:33      0.765658        0.477438   \n",
       "2    1 2019-05-03 11:11:44 2019-05-03 11:14:36      0.580313        0.430460   \n",
       "3    1 2019-05-03 11:18:14 2019-05-03 11:24:19      0.518496        0.379979   \n",
       "4    1 2019-05-03 11:26:09 2019-05-03 11:28:37      0.867133        0.643691   \n",
       "\n",
       "   duration  \n",
       "0       228  \n",
       "1       185  \n",
       "2       172  \n",
       "3       365  \n",
       "4       148  "
      ]
     },
     "metadata": {},
     "output_type": "display_data"
    }
   ],
   "source": [
    "electrode_data['duration']=((electrode_data['electrode_end']-electrode_data['electrode_start']).dt.total_seconds()).astype('int64')\n",
    "display(electrode_data.head())"
   ]
  },
  {
   "cell_type": "markdown",
   "id": "ccd763ad",
   "metadata": {},
   "source": [
    "но прежде чем удалять это признак, посмотрим, не может ли там быть выбросов, ведущих к тому, что данным нельзя доверять. Проверим, есть ли там отрицательные значения, поскольку мощность не может быть отрицательной"
   ]
  },
  {
   "cell_type": "code",
   "execution_count": 35,
   "id": "ed3f5f83",
   "metadata": {},
   "outputs": [
    {
     "name": "stdout",
     "output_type": "stream",
     "text": [
      "1\n"
     ]
    }
   ],
   "source": [
    "print(electrode_data[electrode_data['reactive_power']<0]['key'].count())"
   ]
  },
  {
   "cell_type": "markdown",
   "id": "9d7dcd02",
   "metadata": {},
   "source": [
    "как мы видим, такое значение есть, так что удалим полностью этот ключ\n",
    "выведем этот ключ, после чего проверим, что его нет"
   ]
  },
  {
   "cell_type": "code",
   "execution_count": 36,
   "id": "9aa778a6",
   "metadata": {},
   "outputs": [
    {
     "name": "stdout",
     "output_type": "stream",
     "text": [
      "9780    2116\n",
      "Name: key, dtype: int64\n"
     ]
    }
   ],
   "source": [
    "print(electrode_data[electrode_data['reactive_power']<0]['key'])"
   ]
  },
  {
   "cell_type": "code",
   "execution_count": 37,
   "id": "be4b082f",
   "metadata": {},
   "outputs": [
    {
     "name": "stdout",
     "output_type": "stream",
     "text": [
      "Empty DataFrame\n",
      "Columns: [key, electrode_start, electrode_end, active_power, reactive_power, duration]\n",
      "Index: []\n"
     ]
    }
   ],
   "source": [
    "electrode_data=electrode_data[electrode_data['key']!=min(electrode_data[electrode_data['reactive_power']<0]['key'])]\n",
    "print(electrode_data[electrode_data['key']==2116])"
   ]
  },
  {
   "cell_type": "markdown",
   "id": "7cdba494",
   "metadata": {},
   "source": [
    "как мы видим, такого ключа больше нет"
   ]
  },
  {
   "cell_type": "code",
   "execution_count": 38,
   "id": "f0c2a996",
   "metadata": {},
   "outputs": [
    {
     "data": {
      "text/html": [
       "<div>\n",
       "<style scoped>\n",
       "    .dataframe tbody tr th:only-of-type {\n",
       "        vertical-align: middle;\n",
       "    }\n",
       "\n",
       "    .dataframe tbody tr th {\n",
       "        vertical-align: top;\n",
       "    }\n",
       "\n",
       "    .dataframe thead th {\n",
       "        text-align: right;\n",
       "    }\n",
       "</style>\n",
       "<table border=\"1\" class=\"dataframe\">\n",
       "  <thead>\n",
       "    <tr style=\"text-align: right;\">\n",
       "      <th></th>\n",
       "      <th>key</th>\n",
       "      <th>electrode_start</th>\n",
       "      <th>electrode_end</th>\n",
       "      <th>active_power</th>\n",
       "      <th>duration</th>\n",
       "    </tr>\n",
       "  </thead>\n",
       "  <tbody>\n",
       "    <tr>\n",
       "      <th>0</th>\n",
       "      <td>1</td>\n",
       "      <td>2019-05-03 11:02:14</td>\n",
       "      <td>2019-05-03 11:06:02</td>\n",
       "      <td>0.305130</td>\n",
       "      <td>228</td>\n",
       "    </tr>\n",
       "    <tr>\n",
       "      <th>1</th>\n",
       "      <td>1</td>\n",
       "      <td>2019-05-03 11:07:28</td>\n",
       "      <td>2019-05-03 11:10:33</td>\n",
       "      <td>0.765658</td>\n",
       "      <td>185</td>\n",
       "    </tr>\n",
       "    <tr>\n",
       "      <th>2</th>\n",
       "      <td>1</td>\n",
       "      <td>2019-05-03 11:11:44</td>\n",
       "      <td>2019-05-03 11:14:36</td>\n",
       "      <td>0.580313</td>\n",
       "      <td>172</td>\n",
       "    </tr>\n",
       "    <tr>\n",
       "      <th>3</th>\n",
       "      <td>1</td>\n",
       "      <td>2019-05-03 11:18:14</td>\n",
       "      <td>2019-05-03 11:24:19</td>\n",
       "      <td>0.518496</td>\n",
       "      <td>365</td>\n",
       "    </tr>\n",
       "    <tr>\n",
       "      <th>4</th>\n",
       "      <td>1</td>\n",
       "      <td>2019-05-03 11:26:09</td>\n",
       "      <td>2019-05-03 11:28:37</td>\n",
       "      <td>0.867133</td>\n",
       "      <td>148</td>\n",
       "    </tr>\n",
       "  </tbody>\n",
       "</table>\n",
       "</div>"
      ],
      "text/plain": [
       "   key     electrode_start       electrode_end  active_power  duration\n",
       "0    1 2019-05-03 11:02:14 2019-05-03 11:06:02      0.305130       228\n",
       "1    1 2019-05-03 11:07:28 2019-05-03 11:10:33      0.765658       185\n",
       "2    1 2019-05-03 11:11:44 2019-05-03 11:14:36      0.580313       172\n",
       "3    1 2019-05-03 11:18:14 2019-05-03 11:24:19      0.518496       365\n",
       "4    1 2019-05-03 11:26:09 2019-05-03 11:28:37      0.867133       148"
      ]
     },
     "metadata": {},
     "output_type": "display_data"
    }
   ],
   "source": [
    "electrode_data=electrode_data.drop(['reactive_power'], axis=1)\n",
    "display(electrode_data.head())"
   ]
  },
  {
   "cell_type": "markdown",
   "id": "e99df1a1",
   "metadata": {},
   "source": [
    "Рассмотрим таблицу data_bulk_materials_v: \n",
    "В этой таблице насколько можно судить хранится информация об объемах подоваемых сыпучих примесей, причем каждый столбец отвечает  за свою примесь. \n",
    "Чтобы судить о информативности этих столбцов нужно смотреть на количество пропущенных там значений, поскольку, как мы видели выше их там много.\n",
    "\n",
    "Выедем количество заполненных значений для каждого столбца и проанализируем их. (функция count как раз таки и считает только заполненные значения)"
   ]
  },
  {
   "cell_type": "code",
   "execution_count": 39,
   "id": "1fdbcf0c",
   "metadata": {},
   "outputs": [
    {
     "name": "stdout",
     "output_type": "stream",
     "text": [
      "Всего в таблице 3129 значений\n",
      "key        3129\n",
      "bulk_1      252\n",
      "bulk_2       22\n",
      "bulk_3     1298\n",
      "bulk_4     1014\n",
      "bulk_5       77\n",
      "bulk_6      576\n",
      "bulk_7       25\n",
      "bulk_8        1\n",
      "bulk_9       19\n",
      "bulk_10     176\n",
      "bulk_11     177\n",
      "bulk_12    2450\n",
      "bulk_13      18\n",
      "bulk_14    2806\n",
      "bulk_15    2248\n",
      "dtype: int64\n"
     ]
    }
   ],
   "source": [
    "print('Всего в таблице {} значений'.format(len(data_bulk_materials_v)))\n",
    "print(data_bulk_materials_v.count())"
   ]
  },
  {
   "cell_type": "markdown",
   "id": "6bef5cd9",
   "metadata": {},
   "source": [
    "По выведенным значениям видно, что столбцы\"bulk_1\", \"bulk_2\", \"bulk_5\", \"bulk_7\", \"bulk_8\", \"bulk_9\", \"bulk_10\", \"bulk_11\" и \"bulk_13\" показывают категорически мало заполнееых значений (макисмальное значение в столбце \"bulk_1\" и состовляет оно примерно равно 8% от всей выборки, чего очень мало), то есть эти значения можно считать выбросами, так что эти столбцы можно удалить.        "
   ]
  },
  {
   "cell_type": "code",
   "execution_count": 40,
   "id": "def7c2c4",
   "metadata": {},
   "outputs": [
    {
     "data": {
      "text/html": [
       "<div>\n",
       "<style scoped>\n",
       "    .dataframe tbody tr th:only-of-type {\n",
       "        vertical-align: middle;\n",
       "    }\n",
       "\n",
       "    .dataframe tbody tr th {\n",
       "        vertical-align: top;\n",
       "    }\n",
       "\n",
       "    .dataframe thead th {\n",
       "        text-align: right;\n",
       "    }\n",
       "</style>\n",
       "<table border=\"1\" class=\"dataframe\">\n",
       "  <thead>\n",
       "    <tr style=\"text-align: right;\">\n",
       "      <th></th>\n",
       "      <th>key</th>\n",
       "      <th>bulk_3</th>\n",
       "      <th>bulk_4</th>\n",
       "      <th>bulk_6</th>\n",
       "      <th>bulk_12</th>\n",
       "      <th>bulk_14</th>\n",
       "      <th>bulk_15</th>\n",
       "    </tr>\n",
       "  </thead>\n",
       "  <tbody>\n",
       "    <tr>\n",
       "      <th>0</th>\n",
       "      <td>1</td>\n",
       "      <td>NaN</td>\n",
       "      <td>43.0</td>\n",
       "      <td>NaN</td>\n",
       "      <td>206.0</td>\n",
       "      <td>150.0</td>\n",
       "      <td>154.0</td>\n",
       "    </tr>\n",
       "    <tr>\n",
       "      <th>1</th>\n",
       "      <td>2</td>\n",
       "      <td>NaN</td>\n",
       "      <td>73.0</td>\n",
       "      <td>NaN</td>\n",
       "      <td>206.0</td>\n",
       "      <td>149.0</td>\n",
       "      <td>154.0</td>\n",
       "    </tr>\n",
       "    <tr>\n",
       "      <th>2</th>\n",
       "      <td>3</td>\n",
       "      <td>NaN</td>\n",
       "      <td>34.0</td>\n",
       "      <td>NaN</td>\n",
       "      <td>205.0</td>\n",
       "      <td>152.0</td>\n",
       "      <td>153.0</td>\n",
       "    </tr>\n",
       "    <tr>\n",
       "      <th>3</th>\n",
       "      <td>4</td>\n",
       "      <td>NaN</td>\n",
       "      <td>81.0</td>\n",
       "      <td>NaN</td>\n",
       "      <td>207.0</td>\n",
       "      <td>153.0</td>\n",
       "      <td>154.0</td>\n",
       "    </tr>\n",
       "    <tr>\n",
       "      <th>4</th>\n",
       "      <td>5</td>\n",
       "      <td>NaN</td>\n",
       "      <td>78.0</td>\n",
       "      <td>NaN</td>\n",
       "      <td>203.0</td>\n",
       "      <td>151.0</td>\n",
       "      <td>152.0</td>\n",
       "    </tr>\n",
       "  </tbody>\n",
       "</table>\n",
       "</div>"
      ],
      "text/plain": [
       "   key  bulk_3  bulk_4  bulk_6  bulk_12  bulk_14  bulk_15\n",
       "0    1     NaN    43.0     NaN    206.0    150.0    154.0\n",
       "1    2     NaN    73.0     NaN    206.0    149.0    154.0\n",
       "2    3     NaN    34.0     NaN    205.0    152.0    153.0\n",
       "3    4     NaN    81.0     NaN    207.0    153.0    154.0\n",
       "4    5     NaN    78.0     NaN    203.0    151.0    152.0"
      ]
     },
     "metadata": {},
     "output_type": "display_data"
    }
   ],
   "source": [
    "data_bulk_materials_v=data_bulk_materials_v.drop([\"bulk_1\", \"bulk_2\", \"bulk_5\", \"bulk_7\", \"bulk_8\",\\\n",
    "                                                  \"bulk_9\",\"bulk_10\", \"bulk_11\", \"bulk_13\"], axis=1)\n",
    "display(data_bulk_materials_v.head())"
   ]
  },
  {
   "cell_type": "markdown",
   "id": "046e096e",
   "metadata": {},
   "source": [
    "таблицы data_bulk_materials_v и data_bulk_materials_t связаны между собой, так что в data_bulk_materials_t стоит удалить все те же столбцы. Но стоит отметить, что сама по себе эта таблица не информативна, но она пригодится при объединении таблиц, так что пока что ее удалять не стоит."
   ]
  },
  {
   "cell_type": "code",
   "execution_count": 41,
   "id": "8daa4e55",
   "metadata": {},
   "outputs": [
    {
     "data": {
      "text/html": [
       "<div>\n",
       "<style scoped>\n",
       "    .dataframe tbody tr th:only-of-type {\n",
       "        vertical-align: middle;\n",
       "    }\n",
       "\n",
       "    .dataframe tbody tr th {\n",
       "        vertical-align: top;\n",
       "    }\n",
       "\n",
       "    .dataframe thead th {\n",
       "        text-align: right;\n",
       "    }\n",
       "</style>\n",
       "<table border=\"1\" class=\"dataframe\">\n",
       "  <thead>\n",
       "    <tr style=\"text-align: right;\">\n",
       "      <th></th>\n",
       "      <th>key</th>\n",
       "      <th>bulk_3</th>\n",
       "      <th>bulk_4</th>\n",
       "      <th>bulk_6</th>\n",
       "      <th>bulk_12</th>\n",
       "      <th>bulk_14</th>\n",
       "      <th>bulk_15</th>\n",
       "    </tr>\n",
       "  </thead>\n",
       "  <tbody>\n",
       "    <tr>\n",
       "      <th>0</th>\n",
       "      <td>1</td>\n",
       "      <td>NaT</td>\n",
       "      <td>2019-05-03 11:28:48</td>\n",
       "      <td>NaT</td>\n",
       "      <td>2019-05-03 11:24:31</td>\n",
       "      <td>2019-05-03 11:14:50</td>\n",
       "      <td>2019-05-03 11:10:43</td>\n",
       "    </tr>\n",
       "    <tr>\n",
       "      <th>1</th>\n",
       "      <td>2</td>\n",
       "      <td>NaT</td>\n",
       "      <td>2019-05-03 11:36:50</td>\n",
       "      <td>NaT</td>\n",
       "      <td>2019-05-03 11:53:30</td>\n",
       "      <td>2019-05-03 11:48:37</td>\n",
       "      <td>2019-05-03 11:44:39</td>\n",
       "    </tr>\n",
       "    <tr>\n",
       "      <th>2</th>\n",
       "      <td>3</td>\n",
       "      <td>NaT</td>\n",
       "      <td>2019-05-03 12:32:39</td>\n",
       "      <td>NaT</td>\n",
       "      <td>2019-05-03 12:27:13</td>\n",
       "      <td>2019-05-03 12:21:01</td>\n",
       "      <td>2019-05-03 12:16:16</td>\n",
       "    </tr>\n",
       "    <tr>\n",
       "      <th>3</th>\n",
       "      <td>4</td>\n",
       "      <td>NaT</td>\n",
       "      <td>2019-05-03 12:43:22</td>\n",
       "      <td>NaT</td>\n",
       "      <td>2019-05-03 12:58:00</td>\n",
       "      <td>2019-05-03 12:51:11</td>\n",
       "      <td>2019-05-03 12:46:36</td>\n",
       "    </tr>\n",
       "    <tr>\n",
       "      <th>4</th>\n",
       "      <td>5</td>\n",
       "      <td>NaT</td>\n",
       "      <td>2019-05-03 13:30:47</td>\n",
       "      <td>NaT</td>\n",
       "      <td>2019-05-03 13:30:47</td>\n",
       "      <td>2019-05-03 13:34:12</td>\n",
       "      <td>2019-05-03 13:30:47</td>\n",
       "    </tr>\n",
       "  </tbody>\n",
       "</table>\n",
       "</div>"
      ],
      "text/plain": [
       "   key bulk_3              bulk_4 bulk_6             bulk_12  \\\n",
       "0    1    NaT 2019-05-03 11:28:48    NaT 2019-05-03 11:24:31   \n",
       "1    2    NaT 2019-05-03 11:36:50    NaT 2019-05-03 11:53:30   \n",
       "2    3    NaT 2019-05-03 12:32:39    NaT 2019-05-03 12:27:13   \n",
       "3    4    NaT 2019-05-03 12:43:22    NaT 2019-05-03 12:58:00   \n",
       "4    5    NaT 2019-05-03 13:30:47    NaT 2019-05-03 13:30:47   \n",
       "\n",
       "              bulk_14             bulk_15  \n",
       "0 2019-05-03 11:14:50 2019-05-03 11:10:43  \n",
       "1 2019-05-03 11:48:37 2019-05-03 11:44:39  \n",
       "2 2019-05-03 12:21:01 2019-05-03 12:16:16  \n",
       "3 2019-05-03 12:51:11 2019-05-03 12:46:36  \n",
       "4 2019-05-03 13:34:12 2019-05-03 13:30:47  "
      ]
     },
     "metadata": {},
     "output_type": "display_data"
    }
   ],
   "source": [
    "data_bulk_materials_t=data_bulk_materials_t.drop([\"bulk_1\", \"bulk_2\", \"bulk_5\", \"bulk_7\", \"bulk_8\",\\\n",
    "                                                  \"bulk_9\",\"bulk_10\", \"bulk_11\", \"bulk_13\"], axis=1)\n",
    "display(data_bulk_materials_t.head())"
   ]
  },
  {
   "cell_type": "markdown",
   "id": "e28e5f58",
   "metadata": {},
   "source": [
    "Рассмторим таблицу data_with_gas:\n",
    "В ней хранится номер партии и объем подаваемого газа, который играет свою роль в процессе, так что этот столбец нельзя удалять. \n",
    "\n",
    "Рассмотрим таблицу data_wire_v:\n",
    "Здесь наблюдается такая же ситуация как и с таблицей data_bulk_materials_v, поскольку по сути они отражают одно и то же, но только в одной таблицк хранится информация о сыпучих материалах, а в другой - о проволоке, но главное здесь не это, а то, что хранится эта информация в одинаковом формате. \n",
    "Здесь так же можно предположить, что каждый столбец-либо отдельный элемент из которого изготовлена проволока, либо хранилище с ней.\n",
    "\n",
    "Так же посмотрим на количество заполнений и удалим те, где категорически мало значений. "
   ]
  },
  {
   "cell_type": "code",
   "execution_count": 42,
   "id": "5eca78cc",
   "metadata": {},
   "outputs": [
    {
     "name": "stdout",
     "output_type": "stream",
     "text": [
      "key       3081\n",
      "wire_1    3055\n",
      "wire_2    1079\n",
      "wire_3      63\n",
      "wire_4      14\n",
      "wire_5       1\n",
      "wire_6      73\n",
      "wire_7      11\n",
      "wire_8      19\n",
      "wire_9      29\n",
      "dtype: int64\n"
     ]
    }
   ],
   "source": [
    "print(data_wire_v.count())"
   ]
  },
  {
   "cell_type": "markdown",
   "id": "d87ad355",
   "metadata": {},
   "source": [
    "отметим, что здесь все столбцы после \"wire_2\" можно считать выбросами, поскольку там категорически мало значений, так что удалим их"
   ]
  },
  {
   "cell_type": "code",
   "execution_count": 43,
   "id": "b7ab609c",
   "metadata": {},
   "outputs": [
    {
     "data": {
      "text/html": [
       "<div>\n",
       "<style scoped>\n",
       "    .dataframe tbody tr th:only-of-type {\n",
       "        vertical-align: middle;\n",
       "    }\n",
       "\n",
       "    .dataframe tbody tr th {\n",
       "        vertical-align: top;\n",
       "    }\n",
       "\n",
       "    .dataframe thead th {\n",
       "        text-align: right;\n",
       "    }\n",
       "</style>\n",
       "<table border=\"1\" class=\"dataframe\">\n",
       "  <thead>\n",
       "    <tr style=\"text-align: right;\">\n",
       "      <th></th>\n",
       "      <th>key</th>\n",
       "      <th>wire_1</th>\n",
       "      <th>wire_2</th>\n",
       "    </tr>\n",
       "  </thead>\n",
       "  <tbody>\n",
       "    <tr>\n",
       "      <th>0</th>\n",
       "      <td>1</td>\n",
       "      <td>60.059998</td>\n",
       "      <td>NaN</td>\n",
       "    </tr>\n",
       "    <tr>\n",
       "      <th>1</th>\n",
       "      <td>2</td>\n",
       "      <td>96.052315</td>\n",
       "      <td>NaN</td>\n",
       "    </tr>\n",
       "    <tr>\n",
       "      <th>2</th>\n",
       "      <td>3</td>\n",
       "      <td>91.160157</td>\n",
       "      <td>NaN</td>\n",
       "    </tr>\n",
       "    <tr>\n",
       "      <th>3</th>\n",
       "      <td>4</td>\n",
       "      <td>89.063515</td>\n",
       "      <td>NaN</td>\n",
       "    </tr>\n",
       "    <tr>\n",
       "      <th>4</th>\n",
       "      <td>5</td>\n",
       "      <td>89.238236</td>\n",
       "      <td>9.11456</td>\n",
       "    </tr>\n",
       "  </tbody>\n",
       "</table>\n",
       "</div>"
      ],
      "text/plain": [
       "   key     wire_1   wire_2\n",
       "0    1  60.059998      NaN\n",
       "1    2  96.052315      NaN\n",
       "2    3  91.160157      NaN\n",
       "3    4  89.063515      NaN\n",
       "4    5  89.238236  9.11456"
      ]
     },
     "metadata": {},
     "output_type": "display_data"
    }
   ],
   "source": [
    "for i in range(3, 9+1):\n",
    "    data_wire_v=data_wire_v.drop(['wire_{}'.format(i)], axis=1)\n",
    "display(data_wire_v.head())\n",
    "    "
   ]
  },
  {
   "cell_type": "markdown",
   "id": "5eabe4f3",
   "metadata": {},
   "source": [
    "Таблицы data_wire_v и data_wire_t связаны, так что во второй стоит тоже удалить те же признаки"
   ]
  },
  {
   "cell_type": "code",
   "execution_count": 44,
   "id": "81afb9fe",
   "metadata": {},
   "outputs": [
    {
     "data": {
      "text/html": [
       "<div>\n",
       "<style scoped>\n",
       "    .dataframe tbody tr th:only-of-type {\n",
       "        vertical-align: middle;\n",
       "    }\n",
       "\n",
       "    .dataframe tbody tr th {\n",
       "        vertical-align: top;\n",
       "    }\n",
       "\n",
       "    .dataframe thead th {\n",
       "        text-align: right;\n",
       "    }\n",
       "</style>\n",
       "<table border=\"1\" class=\"dataframe\">\n",
       "  <thead>\n",
       "    <tr style=\"text-align: right;\">\n",
       "      <th></th>\n",
       "      <th>key</th>\n",
       "      <th>wire_1</th>\n",
       "      <th>wire_2</th>\n",
       "    </tr>\n",
       "  </thead>\n",
       "  <tbody>\n",
       "    <tr>\n",
       "      <th>0</th>\n",
       "      <td>1</td>\n",
       "      <td>2019-05-03 11:06:19</td>\n",
       "      <td>NaT</td>\n",
       "    </tr>\n",
       "    <tr>\n",
       "      <th>1</th>\n",
       "      <td>2</td>\n",
       "      <td>2019-05-03 11:36:50</td>\n",
       "      <td>NaT</td>\n",
       "    </tr>\n",
       "    <tr>\n",
       "      <th>2</th>\n",
       "      <td>3</td>\n",
       "      <td>2019-05-03 12:11:46</td>\n",
       "      <td>NaT</td>\n",
       "    </tr>\n",
       "    <tr>\n",
       "      <th>3</th>\n",
       "      <td>4</td>\n",
       "      <td>2019-05-03 12:43:22</td>\n",
       "      <td>NaT</td>\n",
       "    </tr>\n",
       "    <tr>\n",
       "      <th>4</th>\n",
       "      <td>5</td>\n",
       "      <td>2019-05-03 13:20:44</td>\n",
       "      <td>2019-05-03 13:15:34</td>\n",
       "    </tr>\n",
       "  </tbody>\n",
       "</table>\n",
       "</div>"
      ],
      "text/plain": [
       "   key              wire_1              wire_2\n",
       "0    1 2019-05-03 11:06:19                 NaT\n",
       "1    2 2019-05-03 11:36:50                 NaT\n",
       "2    3 2019-05-03 12:11:46                 NaT\n",
       "3    4 2019-05-03 12:43:22                 NaT\n",
       "4    5 2019-05-03 13:20:44 2019-05-03 13:15:34"
      ]
     },
     "metadata": {},
     "output_type": "display_data"
    }
   ],
   "source": [
    "for i in range(3, 9+1):\n",
    "    data_wire_t=data_wire_t.drop(['wire_{}'.format(i)], axis=1)\n",
    "display(data_wire_t.head())\n",
    "    "
   ]
  },
  {
   "cell_type": "markdown",
   "id": "3578fd50",
   "metadata": {},
   "source": [
    "рассмотрим таблицу data_with_temp: \n",
    "В этой таблице хранится время замеров и их результаты. Фактически нам нужны только результаты. Но поскольку нам еще предстоит проводить объединение таблиц с помощью времени, пока что удалять этот столбец не стоит. \n",
    "\n",
    "**Что же касается признака key во всех таблицах: он для обученяи не нужен, но на данном этапе его удалять нельзя, поскольку по нему, в том числе будет проводиться объединение табллиц**\n",
    "\n",
    "*Перейдем к ОБРАБОТКЕ ПРОПУЩЕННЫХ ЗНАЧЕНИЙ* Это важно, поскольку модели не смогут обучаться на данных, где есть пропуски.\n",
    "\n",
    "1. electrode_data"
   ]
  },
  {
   "cell_type": "code",
   "execution_count": 45,
   "id": "1547430d",
   "metadata": {},
   "outputs": [
    {
     "name": "stdout",
     "output_type": "stream",
     "text": [
      "key                0\n",
      "electrode_start    0\n",
      "electrode_end      0\n",
      "active_power       0\n",
      "duration           0\n",
      "dtype: int64\n"
     ]
    }
   ],
   "source": [
    "print(electrode_data.isna().sum())"
   ]
  },
  {
   "cell_type": "markdown",
   "id": "e5fdc687",
   "metadata": {},
   "source": [
    "пропусков нет, идем дальше.\n",
    "\n",
    "2. data_bulk_materials_v "
   ]
  },
  {
   "cell_type": "code",
   "execution_count": 46,
   "id": "9ab41c0e",
   "metadata": {},
   "outputs": [
    {
     "name": "stdout",
     "output_type": "stream",
     "text": [
      "key           0\n",
      "bulk_3     1831\n",
      "bulk_4     2115\n",
      "bulk_6     2553\n",
      "bulk_12     679\n",
      "bulk_14     323\n",
      "bulk_15     881\n",
      "dtype: int64\n"
     ]
    }
   ],
   "source": [
    "print(data_bulk_materials_v.isna().sum())"
   ]
  },
  {
   "cell_type": "markdown",
   "id": "365eaf47",
   "metadata": {},
   "source": [
    "пропусков здесь много, то есть удалять их нельзя (потеряем слишком большую часть выборки), а заполнять значения медианными или средними значениями глупо, но поскольку во всех столбцах хранится информация о подаваемом объеме, наличие пропуска может говорить о том, что подачи не было, то есть подаваемый объем 0. А считать ошибками такое большое кол-во пропусков нельзя, поскольку тогда вся выборка будет считаться ошибкой. "
   ]
  },
  {
   "cell_type": "code",
   "execution_count": 47,
   "id": "6fc1a883",
   "metadata": {},
   "outputs": [
    {
     "name": "stdout",
     "output_type": "stream",
     "text": [
      "key        0\n",
      "bulk_3     0\n",
      "bulk_4     0\n",
      "bulk_6     0\n",
      "bulk_12    0\n",
      "bulk_14    0\n",
      "bulk_15    0\n",
      "dtype: int64\n"
     ]
    }
   ],
   "source": [
    "data_bulk_materials_v=data_bulk_materials_v.fillna(0)\n",
    "print(data_bulk_materials_v.isna().sum())"
   ]
  },
  {
   "cell_type": "markdown",
   "id": "b9e535d0",
   "metadata": {},
   "source": [
    "3. data_bulk_materials_t здесь хранятся значения, которые не будут использованы при обучении, так что оставим все, как есть\n",
    "\n",
    "4. data_with_gas"
   ]
  },
  {
   "cell_type": "code",
   "execution_count": 48,
   "id": "1a0b5f4d",
   "metadata": {},
   "outputs": [
    {
     "name": "stdout",
     "output_type": "stream",
     "text": [
      "key           0\n",
      "volume_gas    0\n",
      "dtype: int64\n"
     ]
    }
   ],
   "source": [
    "print(data_with_gas.isna().sum())"
   ]
  },
  {
   "cell_type": "markdown",
   "id": "547f28d2",
   "metadata": {},
   "source": [
    "5. data_wire_v "
   ]
  },
  {
   "cell_type": "code",
   "execution_count": 49,
   "id": "f31409a5",
   "metadata": {},
   "outputs": [
    {
     "name": "stdout",
     "output_type": "stream",
     "text": [
      "key          0\n",
      "wire_1      26\n",
      "wire_2    2002\n",
      "dtype: int64\n"
     ]
    }
   ],
   "source": [
    "print(data_wire_v.isna().sum())"
   ]
  },
  {
   "cell_type": "markdown",
   "id": "1fc7b986",
   "metadata": {},
   "source": [
    "здесь ситуация аналогична с data_bulk_materials_v, так что просто все заполним 0"
   ]
  },
  {
   "cell_type": "code",
   "execution_count": 50,
   "id": "8cae9ba6",
   "metadata": {},
   "outputs": [
    {
     "name": "stdout",
     "output_type": "stream",
     "text": [
      "key       0\n",
      "wire_1    0\n",
      "wire_2    0\n",
      "dtype: int64\n"
     ]
    }
   ],
   "source": [
    "data_wire_v=data_wire_v.fillna(0)\n",
    "print(data_wire_v.isna().sum())"
   ]
  },
  {
   "cell_type": "markdown",
   "id": "a27fdfe0",
   "metadata": {},
   "source": [
    "6. data_wire_t ситуация аналогична с data_bulk_materials_t, пропуски не нуждаются в заполнении\n",
    "\n",
    "7. data_with_temp"
   ]
  },
  {
   "cell_type": "code",
   "execution_count": 51,
   "id": "d10b347e",
   "metadata": {},
   "outputs": [
    {
     "name": "stdout",
     "output_type": "stream",
     "text": [
      "key                 0\n",
      "measurement_time    0\n",
      "temperature         0\n",
      "dtype: int64\n"
     ]
    }
   ],
   "source": [
    "print(data_with_temp.isna().sum())"
   ]
  },
  {
   "cell_type": "markdown",
   "id": "d3c1bf1a",
   "metadata": {},
   "source": [
    "Отлично! Пропущенных значений нет, можно приступать к *Проверке на выбросы*, но эта проверка будет осуществляться не глубоко, только проверка на нереальные значения. \n",
    "\n",
    "!!Проверку на дубликаты будем проводить после объединения таблиц, поскольку в таких таблицах, как data_bulk_materials_v могут встретиться дубликаты, но тогда мы не сможем в финальную таблицу внеси эту важную информацию, из-за чего размер финальной выборки уменьшится.\n",
    "\n",
    "1. electrode_data\n",
    "\n",
    "        Прежде всего, стоит отметить, что в столбце duration все значения должны быть строго больше 0."
   ]
  },
  {
   "cell_type": "code",
   "execution_count": 52,
   "id": "7f0ce810",
   "metadata": {},
   "outputs": [
    {
     "name": "stdout",
     "output_type": "stream",
     "text": [
      "0\n"
     ]
    }
   ],
   "source": [
    "print(electrode_data[electrode_data['duration']<=0]['key'].count())"
   ]
  },
  {
   "cell_type": "markdown",
   "id": "cc26f824",
   "metadata": {},
   "source": [
    "отлично, таких значеий нет.\n",
    "Но стоит проверить на отлицательные значения активной мощности, ведь, как мы поняли по реактивной мощности, они там могут быть."
   ]
  },
  {
   "cell_type": "code",
   "execution_count": 53,
   "id": "2738f406",
   "metadata": {},
   "outputs": [
    {
     "name": "stdout",
     "output_type": "stream",
     "text": [
      "0\n"
     ]
    }
   ],
   "source": [
    "print(electrode_data[electrode_data['active_power']<=0]['key'].count())"
   ]
  },
  {
   "cell_type": "markdown",
   "id": "bbda3612",
   "metadata": {},
   "source": [
    "Таких значений тоже нет. \n",
    "перейдем к data_bulk_materials_v\n",
    "\n",
    "здесь у нас представленны данные об объемах, так что нужно проверить, нет ли там отрицательных значений"
   ]
  },
  {
   "cell_type": "code",
   "execution_count": 54,
   "id": "0bbbd50c",
   "metadata": {},
   "outputs": [
    {
     "name": "stdout",
     "output_type": "stream",
     "text": [
      "key 0\n",
      "bulk_3 0\n",
      "bulk_4 0\n",
      "bulk_6 0\n",
      "bulk_12 0\n",
      "bulk_14 0\n",
      "bulk_15 0\n"
     ]
    }
   ],
   "source": [
    "for col in data_bulk_materials_v.columns:\n",
    "    print(col, data_bulk_materials_v[data_bulk_materials_v[col]< 0]['key'].count())"
   ]
  },
  {
   "cell_type": "markdown",
   "id": "93272580",
   "metadata": {},
   "source": [
    "отлично, таких значений нет, так что проведем такую же проверку, только для таблицы data_wire_v"
   ]
  },
  {
   "cell_type": "code",
   "execution_count": 55,
   "id": "a87af43c",
   "metadata": {},
   "outputs": [
    {
     "name": "stdout",
     "output_type": "stream",
     "text": [
      "key 0\n",
      "wire_1 0\n",
      "wire_2 0\n"
     ]
    }
   ],
   "source": [
    "for col in data_wire_v.columns:\n",
    "    print(col, data_wire_v[data_wire_v[col]< 0]['key'].count())"
   ]
  },
  {
   "cell_type": "markdown",
   "id": "fedf5f30",
   "metadata": {},
   "source": [
    "перейдем к таблице data_with_gas\n",
    "Здесь тоже хранится информация о подаваемом объеме, который тоже не может быть отрицательным"
   ]
  },
  {
   "cell_type": "code",
   "execution_count": 56,
   "id": "bec1507f",
   "metadata": {},
   "outputs": [
    {
     "name": "stdout",
     "output_type": "stream",
     "text": [
      "0\n"
     ]
    }
   ],
   "source": [
    "print(data_with_gas[data_with_gas['volume_gas']< 0]['key'].count())"
   ]
  },
  {
   "cell_type": "markdown",
   "id": "46b294a0",
   "metadata": {},
   "source": [
    "Таких значений нет, так что перейдем к последней таблице - data_with_temp\n",
    "\n",
    "В ней стоит отметить, что температура не может быть ниже 1500, поскольку именно при этой температуре плавится сталь, если она будет меньше, никакого процесса не будет, так что если такие значения будут, нужно будет полностью удалить их ключи. "
   ]
  },
  {
   "cell_type": "code",
   "execution_count": 57,
   "id": "bf83ece0",
   "metadata": {},
   "outputs": [
    {
     "name": "stdout",
     "output_type": "stream",
     "text": [
      "3432\n"
     ]
    }
   ],
   "source": [
    "print(data_with_temp[data_with_temp['temperature']< 1500]['key'].count())"
   ]
  },
  {
   "cell_type": "markdown",
   "id": "0d842c22",
   "metadata": {},
   "source": [
    "такие значения есть, выведем их ключи и удалим все эти строки.\n",
    "**Поскольку нам придется повторять эту процедуру несколько раз, напишем функцию**"
   ]
  },
  {
   "cell_type": "code",
   "execution_count": 58,
   "id": "c5f7ddb4",
   "metadata": {},
   "outputs": [],
   "source": [
    "def drop_keys(data, keys_to_del):\n",
    "    data=data[data.key.isin(keys_to_del)== False]\n",
    "    return data"
   ]
  },
  {
   "cell_type": "code",
   "execution_count": 59,
   "id": "72fe812e",
   "metadata": {
    "scrolled": true
   },
   "outputs": [
    {
     "name": "stdout",
     "output_type": "stream",
     "text": [
      "[ 867 1214 1619 2052 2500 2501 2502 2503 2504 2505 2506 2507 2508 2509\n",
      " 2510 2511 2512 2513 2514 2515 2516 2517 2518 2519 2520 2521 2522 2523\n",
      " 2524 2525 2526 2527 2528 2529 2530 2531 2532 2533 2534 2535 2536 2537\n",
      " 2538 2539 2540 2541 2542 2543 2544 2545 2546 2547 2548 2549 2550 2551\n",
      " 2552 2553 2554 2555 2556 2557 2558 2559 2560 2561 2562 2563 2564 2565\n",
      " 2566 2567 2568 2569 2570 2571 2572 2573 2574 2575 2576 2577 2578 2579\n",
      " 2580 2581 2582 2583 2584 2585 2586 2587 2588 2589 2590 2591 2592 2593\n",
      " 2594 2595 2596 2597 2598 2599 2600 2601 2602 2603 2604 2605 2606 2607\n",
      " 2608 2609 2610 2611 2612 2613 2614 2615 2616 2617 2618 2619 2620 2621\n",
      " 2622 2623 2624 2625 2626 2627 2628 2629 2630 2631 2632 2633 2634 2635\n",
      " 2636 2637 2638 2639 2640 2641 2642 2643 2644 2645 2646 2647 2648 2649\n",
      " 2650 2651 2652 2653 2654 2655 2656 2657 2658 2659 2660 2661 2662 2663\n",
      " 2664 2665 2666 2667 2668 2669 2670 2671 2672 2673 2674 2675 2676 2677\n",
      " 2678 2679 2680 2681 2682 2684 2685 2686 2687 2688 2689 2690 2691 2692\n",
      " 2693 2694 2695 2696 2697 2698 2699 2700 2701 2702 2703 2704 2705 2706\n",
      " 2707 2708 2709 2710 2711 2712 2713 2714 2715 2716 2717 2718 2719 2720\n",
      " 2721 2722 2723 2724 2725 2726 2727 2728 2729 2730 2731 2732 2733 2734\n",
      " 2735 2736 2737 2738 2739 2740 2741 2742 2743 2744 2745 2746 2747 2748\n",
      " 2749 2750 2751 2752 2753 2754 2755 2756 2757 2758 2759 2760 2761 2762\n",
      " 2763 2764 2765 2766 2767 2768 2769 2770 2771 2772 2773 2774 2775 2776\n",
      " 2777 2778 2779 2780 2781 2782 2783 2784 2785 2786 2787 2788 2789 2790\n",
      " 2791 2792 2793 2794 2795 2796 2797 2798 2799 2800 2801 2802 2803 2804\n",
      " 2805 2806 2807 2808 2809 2810 2811 2812 2813 2814 2815 2816 2817 2818\n",
      " 2819 2820 2821 2822 2823 2824 2825 2826 2827 2828 2829 2830 2831 2832\n",
      " 2833 2834 2835 2836 2837 2838 2839 2840 2841 2842 2843 2844 2845 2846\n",
      " 2847 2848 2849 2850 2851 2852 2853 2854 2855 2856 2857 2858 2859 2860\n",
      " 2861 2862 2863 2864 2865 2866 2867 2868 2869 2870 2871 2872 2873 2874\n",
      " 2875 2876 2877 2878 2879 2880 2881 2882 2883 2884 2885 2886 2887 2888\n",
      " 2889 2890 2891 2892 2893 2894 2895 2896 2897 2898 2899 2900 2901 2902\n",
      " 2903 2904 2905 2906 2907 2908 2909 2910 2911 2912 2913 2914 2915 2916\n",
      " 2917 2918 2919 2920 2921 2922 2923 2924 2925 2926 2927 2928 2929 2930\n",
      " 2931 2932 2933 2934 2935 2936 2937 2938 2939 2940 2941 2942 2943 2944\n",
      " 2945 2946 2947 2948 2949 2950 2951 2952 2953 2954 2955 2956 2957 2958\n",
      " 2959 2960 2961 2962 2963 2964 2965 2966 2967 2968 2969 2970 2971 2972\n",
      " 2973 2974 2975 2976 2977 2978 2979 2980 2981 2982 2983 2984 2985 2986\n",
      " 2987 2988 2989 2990 2991 2992 2993 2994 2995 2996 2997 2998 2999 3000\n",
      " 3001 3002 3003 3004 3005 3006 3007 3008 3009 3010 3011 3012 3013 3014\n",
      " 3015 3016 3017 3018 3019 3020 3021 3022 3023 3024 3025 3026 3027 3028\n",
      " 3029 3030 3031 3032 3033 3034 3035 3036 3037 3038 3039 3040 3041 3042\n",
      " 3043 3044 3045 3046 3047 3048 3049 3050 3051 3052 3053 3054 3055 3056\n",
      " 3057 3058 3059 3060 3061 3062 3063 3064 3065 3066 3067 3068 3069 3070\n",
      " 3071 3072 3073 3074 3075 3076 3077 3078 3079 3080 3081 3082 3083 3084\n",
      " 3085 3086 3087 3088 3089 3090 3091 3092 3093 3094 3095 3096 3097 3098\n",
      " 3099 3100 3101 3102 3103 3104 3105 3106 3107 3108 3109 3110 3111 3112\n",
      " 3113 3114 3115 3116 3117 3118 3119 3120 3121 3122 3123 3124 3125 3126\n",
      " 3127 3128 3129 3130 3131 3132 3133 3134 3135 3136 3137 3138 3139 3140\n",
      " 3141 3142 3143 3144 3145 3146 3147 3148 3149 3150 3151 3152 3153 3154\n",
      " 3155 3156 3157 3158 3159 3160 3161 3162 3163 3164 3165 3166 3167 3168\n",
      " 3169 3170 3171 3172 3173 3174 3175 3176 3177 3178 3179 3180 3181 3182\n",
      " 3183 3184 3185 3186 3187 3188 3189 3190 3191 3192 3193 3194 3195 3196\n",
      " 3197 3198 3199 3201 3202 3203 3204 3205 3206 3208 3209 3210 3211 3212\n",
      " 3213 3214 3215 3216 3217 3218 3219 3220 3221 3222 3223 3224 3225 3226\n",
      " 3227 3228 3229 3230 3231 3232 3233 3234 3235 3236 3237 3238 3239 3240\n",
      " 3241]\n"
     ]
    }
   ],
   "source": [
    "keys_to_del=data_with_temp[data_with_temp['temperature']< 1500]['key'].unique()\n",
    "print(keys_to_del)"
   ]
  },
  {
   "cell_type": "code",
   "execution_count": 60,
   "id": "f6ff9bc7",
   "metadata": {},
   "outputs": [
    {
     "name": "stdout",
     "output_type": "stream",
     "text": [
      "Empty DataFrame\n",
      "Columns: [key, measurement_time, temperature]\n",
      "Index: []\n"
     ]
    }
   ],
   "source": [
    "data_with_temp=drop_keys(data_with_temp,keys_to_del)\n",
    "print(data_with_temp[data_with_temp['key']==3177])"
   ]
  },
  {
   "cell_type": "markdown",
   "id": "fea5859d",
   "metadata": {},
   "source": [
    "мы проверили, нет ли ключа из keys_to_del в нашей новой таблице.\n",
    "Выведем информацию об этой таблице, чтобы узнать, сколько столбцов удалилось."
   ]
  },
  {
   "cell_type": "code",
   "execution_count": 61,
   "id": "20e5feef",
   "metadata": {},
   "outputs": [
    {
     "name": "stdout",
     "output_type": "stream",
     "text": [
      "<class 'pandas.core.frame.DataFrame'>\n",
      "Int64Index: 13905 entries, 0 to 13925\n",
      "Data columns (total 3 columns):\n",
      " #   Column            Non-Null Count  Dtype         \n",
      "---  ------            --------------  -----         \n",
      " 0   key               13905 non-null  int64         \n",
      " 1   measurement_time  13905 non-null  datetime64[ns]\n",
      " 2   temperature       13905 non-null  int64         \n",
      "dtypes: datetime64[ns](1), int64(2)\n",
      "memory usage: 434.5 KB\n"
     ]
    }
   ],
   "source": [
    "data_with_temp.info()"
   ]
  },
  {
   "cell_type": "markdown",
   "id": "20a2a47b",
   "metadata": {},
   "source": [
    "у нас было 18092 строк, а стало 13905, то есть удалилось примерно 4000 элементов. Много, но это было необходимо, поскольку физически при таких данных процесс бы не шел.\n",
    "\n",
    "**Вывод по данному этапу** На данном этапе мы обработали в таблицах пропуски, определили, какие признаки важны, а какие нет и обработали слишком явные выбросы.\n",
    "\n",
    "## Объединение данных\n",
    "\n",
    "Поскольку нам надо будет предсказывать финальную температуру вещества после варки, для каждого ключа нам нужно будет брать последнюю температуру составим пока что для них отдельную табличку, пока что вместе с датами."
   ]
  },
  {
   "cell_type": "code",
   "execution_count": 62,
   "id": "b9a6ac25",
   "metadata": {},
   "outputs": [
    {
     "data": {
      "text/html": [
       "<div>\n",
       "<style scoped>\n",
       "    .dataframe tbody tr th:only-of-type {\n",
       "        vertical-align: middle;\n",
       "    }\n",
       "\n",
       "    .dataframe tbody tr th {\n",
       "        vertical-align: top;\n",
       "    }\n",
       "\n",
       "    .dataframe thead th {\n",
       "        text-align: right;\n",
       "    }\n",
       "</style>\n",
       "<table border=\"1\" class=\"dataframe\">\n",
       "  <thead>\n",
       "    <tr style=\"text-align: right;\">\n",
       "      <th></th>\n",
       "      <th>key</th>\n",
       "      <th>measurement_time</th>\n",
       "      <th>temperature</th>\n",
       "    </tr>\n",
       "  </thead>\n",
       "  <tbody>\n",
       "    <tr>\n",
       "      <th>2463</th>\n",
       "      <td>2489</td>\n",
       "      <td>2019-08-10 07:35:16</td>\n",
       "      <td>1579</td>\n",
       "    </tr>\n",
       "    <tr>\n",
       "      <th>2464</th>\n",
       "      <td>2490</td>\n",
       "      <td>2019-08-10 09:27:39</td>\n",
       "      <td>1619</td>\n",
       "    </tr>\n",
       "    <tr>\n",
       "      <th>2465</th>\n",
       "      <td>2492</td>\n",
       "      <td>2019-08-10 10:15:13</td>\n",
       "      <td>1595</td>\n",
       "    </tr>\n",
       "    <tr>\n",
       "      <th>2466</th>\n",
       "      <td>2493</td>\n",
       "      <td>2019-08-10 10:58:52</td>\n",
       "      <td>1594</td>\n",
       "    </tr>\n",
       "    <tr>\n",
       "      <th>2467</th>\n",
       "      <td>2494</td>\n",
       "      <td>2019-08-10 11:14:57</td>\n",
       "      <td>1591</td>\n",
       "    </tr>\n",
       "    <tr>\n",
       "      <th>2468</th>\n",
       "      <td>2495</td>\n",
       "      <td>2019-08-10 11:50:47</td>\n",
       "      <td>1591</td>\n",
       "    </tr>\n",
       "    <tr>\n",
       "      <th>2469</th>\n",
       "      <td>2496</td>\n",
       "      <td>2019-08-10 12:25:13</td>\n",
       "      <td>1591</td>\n",
       "    </tr>\n",
       "    <tr>\n",
       "      <th>2470</th>\n",
       "      <td>2497</td>\n",
       "      <td>2019-08-10 12:53:28</td>\n",
       "      <td>1589</td>\n",
       "    </tr>\n",
       "    <tr>\n",
       "      <th>2471</th>\n",
       "      <td>2498</td>\n",
       "      <td>2019-08-10 13:23:31</td>\n",
       "      <td>1594</td>\n",
       "    </tr>\n",
       "    <tr>\n",
       "      <th>2472</th>\n",
       "      <td>2499</td>\n",
       "      <td>2019-08-10 13:58:58</td>\n",
       "      <td>1603</td>\n",
       "    </tr>\n",
       "  </tbody>\n",
       "</table>\n",
       "</div>"
      ],
      "text/plain": [
       "       key    measurement_time  temperature\n",
       "2463  2489 2019-08-10 07:35:16         1579\n",
       "2464  2490 2019-08-10 09:27:39         1619\n",
       "2465  2492 2019-08-10 10:15:13         1595\n",
       "2466  2493 2019-08-10 10:58:52         1594\n",
       "2467  2494 2019-08-10 11:14:57         1591\n",
       "2468  2495 2019-08-10 11:50:47         1591\n",
       "2469  2496 2019-08-10 12:25:13         1591\n",
       "2470  2497 2019-08-10 12:53:28         1589\n",
       "2471  2498 2019-08-10 13:23:31         1594\n",
       "2472  2499 2019-08-10 13:58:58         1603"
      ]
     },
     "metadata": {},
     "output_type": "display_data"
    }
   ],
   "source": [
    "targets=data_with_temp.pivot_table(index='key', values=['measurement_time', 'temperature'], aggfunc='last').reset_index()\n",
    "targets.name='targets'\n",
    "display(targets.tail(10))"
   ]
  },
  {
   "cell_type": "markdown",
   "id": "1c806260",
   "metadata": {},
   "source": [
    "таргеты готовы! \n",
    "Но из этой же таблицы можно взять начальную температуру стали, поскольку от этого тоже может многое зависеть, и именно она и будет первым столбцом в нашей таблице признаков, поскольку сначала сталь заливают."
   ]
  },
  {
   "cell_type": "code",
   "execution_count": 63,
   "id": "bec01136",
   "metadata": {},
   "outputs": [
    {
     "data": {
      "text/html": [
       "<div>\n",
       "<style scoped>\n",
       "    .dataframe tbody tr th:only-of-type {\n",
       "        vertical-align: middle;\n",
       "    }\n",
       "\n",
       "    .dataframe tbody tr th {\n",
       "        vertical-align: top;\n",
       "    }\n",
       "\n",
       "    .dataframe thead th {\n",
       "        text-align: right;\n",
       "    }\n",
       "</style>\n",
       "<table border=\"1\" class=\"dataframe\">\n",
       "  <thead>\n",
       "    <tr style=\"text-align: right;\">\n",
       "      <th></th>\n",
       "      <th>key</th>\n",
       "      <th>measurement_time</th>\n",
       "      <th>temperature</th>\n",
       "    </tr>\n",
       "  </thead>\n",
       "  <tbody>\n",
       "    <tr>\n",
       "      <th>0</th>\n",
       "      <td>1</td>\n",
       "      <td>2019-05-03 11:02:04</td>\n",
       "      <td>1571</td>\n",
       "    </tr>\n",
       "    <tr>\n",
       "      <th>1</th>\n",
       "      <td>2</td>\n",
       "      <td>2019-05-03 11:34:04</td>\n",
       "      <td>1581</td>\n",
       "    </tr>\n",
       "    <tr>\n",
       "      <th>2</th>\n",
       "      <td>3</td>\n",
       "      <td>2019-05-03 12:06:44</td>\n",
       "      <td>1596</td>\n",
       "    </tr>\n",
       "    <tr>\n",
       "      <th>3</th>\n",
       "      <td>4</td>\n",
       "      <td>2019-05-03 12:39:27</td>\n",
       "      <td>1601</td>\n",
       "    </tr>\n",
       "    <tr>\n",
       "      <th>4</th>\n",
       "      <td>5</td>\n",
       "      <td>2019-05-03 13:11:03</td>\n",
       "      <td>1576</td>\n",
       "    </tr>\n",
       "    <tr>\n",
       "      <th>5</th>\n",
       "      <td>6</td>\n",
       "      <td>2019-05-03 13:46:41</td>\n",
       "      <td>1543</td>\n",
       "    </tr>\n",
       "    <tr>\n",
       "      <th>6</th>\n",
       "      <td>7</td>\n",
       "      <td>2019-05-03 14:16:36</td>\n",
       "      <td>1586</td>\n",
       "    </tr>\n",
       "    <tr>\n",
       "      <th>7</th>\n",
       "      <td>8</td>\n",
       "      <td>2019-05-03 14:53:46</td>\n",
       "      <td>1577</td>\n",
       "    </tr>\n",
       "    <tr>\n",
       "      <th>8</th>\n",
       "      <td>9</td>\n",
       "      <td>2019-05-03 15:36:33</td>\n",
       "      <td>1587</td>\n",
       "    </tr>\n",
       "    <tr>\n",
       "      <th>9</th>\n",
       "      <td>10</td>\n",
       "      <td>2019-05-03 16:13:59</td>\n",
       "      <td>1574</td>\n",
       "    </tr>\n",
       "  </tbody>\n",
       "</table>\n",
       "</div>"
      ],
      "text/plain": [
       "   key    measurement_time  temperature\n",
       "0    1 2019-05-03 11:02:04         1571\n",
       "1    2 2019-05-03 11:34:04         1581\n",
       "2    3 2019-05-03 12:06:44         1596\n",
       "3    4 2019-05-03 12:39:27         1601\n",
       "4    5 2019-05-03 13:11:03         1576\n",
       "5    6 2019-05-03 13:46:41         1543\n",
       "6    7 2019-05-03 14:16:36         1586\n",
       "7    8 2019-05-03 14:53:46         1577\n",
       "8    9 2019-05-03 15:36:33         1587\n",
       "9   10 2019-05-03 16:13:59         1574"
      ]
     },
     "metadata": {},
     "output_type": "display_data"
    }
   ],
   "source": [
    "start_temperature=data_with_temp.pivot_table(index='key', values=['measurement_time', 'temperature'], aggfunc='first').reset_index()\n",
    "start_temperature.name='start_temperature'\n",
    "display(start_temperature.head(10))"
   ]
  },
  {
   "cell_type": "markdown",
   "id": "ec92a0a1",
   "metadata": {},
   "source": [
    "поскольку у нас могут быть в теории процессы, где не было никаких действий выполнено, нам нужно будет это знать, сохраним эту информацию."
   ]
  },
  {
   "cell_type": "code",
   "execution_count": 64,
   "id": "c0361f46",
   "metadata": {},
   "outputs": [
    {
     "data": {
      "text/plain": [
       "array([195, 279])"
      ]
     },
     "metadata": {},
     "output_type": "display_data"
    }
   ],
   "source": [
    "counts=data_with_temp.pivot_table(index='key', values=['temperature'], aggfunc='count').reset_index()\n",
    "bad_val=counts.query('temperature == 1')['key'].to_numpy()\n",
    "display(bad_val)"
   ]
  },
  {
   "cell_type": "markdown",
   "id": "ff78b981",
   "metadata": {},
   "source": [
    "после того, как сталь залили в ковш ее подогревают электродами.Так что следующий/щие признак/и - будем брать из таблицы  electrode_data\n",
    "\n",
    "Поскольку из таблицы с результатами мы удалили некоторые ключи, нам стоит эти же ключи и удалить из остальных таблиц. "
   ]
  },
  {
   "cell_type": "code",
   "execution_count": 65,
   "id": "123f4c63",
   "metadata": {},
   "outputs": [],
   "source": [
    "electrode_data=drop_keys(electrode_data, keys_to_del)"
   ]
  },
  {
   "cell_type": "markdown",
   "id": "d52c9c07",
   "metadata": {},
   "source": [
    "поскольку во время нагревания нам важно, какая энергия была передана сплаву, нам нужно будет ввести такой признак, но поскольку этот процесс повторялся некоторое количество раз, а для 1 ключа должна быть всего 1 строка имеет смысл хранить всю энергию, которая там хранится. Но поскольку после нагревания, проводят измерения, добавления каки-либо материалов, что занимает время, за которое сплав может потерять часть энергии (по закону теплового балланса), нам нужно знать сколько раз проводилось нагревание. \n",
    "\n",
    "Поэтому в выборку пойдет 2 новых признака (полная энергия и количество подходов нагревания), ну и для удобства анализа возьмем время первого и последнего нагреваний.   "
   ]
  },
  {
   "cell_type": "code",
   "execution_count": 66,
   "id": "53872ce2",
   "metadata": {},
   "outputs": [
    {
     "data": {
      "text/html": [
       "<div>\n",
       "<style scoped>\n",
       "    .dataframe tbody tr th:only-of-type {\n",
       "        vertical-align: middle;\n",
       "    }\n",
       "\n",
       "    .dataframe tbody tr th {\n",
       "        vertical-align: top;\n",
       "    }\n",
       "\n",
       "    .dataframe thead th {\n",
       "        text-align: right;\n",
       "    }\n",
       "</style>\n",
       "<table border=\"1\" class=\"dataframe\">\n",
       "  <thead>\n",
       "    <tr style=\"text-align: right;\">\n",
       "      <th></th>\n",
       "      <th>key</th>\n",
       "      <th>electrode_start</th>\n",
       "      <th>electrode_end</th>\n",
       "      <th>active_power</th>\n",
       "      <th>duration</th>\n",
       "      <th>energy</th>\n",
       "    </tr>\n",
       "  </thead>\n",
       "  <tbody>\n",
       "    <tr>\n",
       "      <th>0</th>\n",
       "      <td>1</td>\n",
       "      <td>2019-05-03 11:02:14</td>\n",
       "      <td>2019-05-03 11:06:02</td>\n",
       "      <td>0.305130</td>\n",
       "      <td>228</td>\n",
       "      <td>69.569640</td>\n",
       "    </tr>\n",
       "    <tr>\n",
       "      <th>1</th>\n",
       "      <td>1</td>\n",
       "      <td>2019-05-03 11:07:28</td>\n",
       "      <td>2019-05-03 11:10:33</td>\n",
       "      <td>0.765658</td>\n",
       "      <td>185</td>\n",
       "      <td>141.646730</td>\n",
       "    </tr>\n",
       "    <tr>\n",
       "      <th>2</th>\n",
       "      <td>1</td>\n",
       "      <td>2019-05-03 11:11:44</td>\n",
       "      <td>2019-05-03 11:14:36</td>\n",
       "      <td>0.580313</td>\n",
       "      <td>172</td>\n",
       "      <td>99.813836</td>\n",
       "    </tr>\n",
       "    <tr>\n",
       "      <th>3</th>\n",
       "      <td>1</td>\n",
       "      <td>2019-05-03 11:18:14</td>\n",
       "      <td>2019-05-03 11:24:19</td>\n",
       "      <td>0.518496</td>\n",
       "      <td>365</td>\n",
       "      <td>189.251040</td>\n",
       "    </tr>\n",
       "    <tr>\n",
       "      <th>4</th>\n",
       "      <td>1</td>\n",
       "      <td>2019-05-03 11:26:09</td>\n",
       "      <td>2019-05-03 11:28:37</td>\n",
       "      <td>0.867133</td>\n",
       "      <td>148</td>\n",
       "      <td>128.335684</td>\n",
       "    </tr>\n",
       "  </tbody>\n",
       "</table>\n",
       "</div>"
      ],
      "text/plain": [
       "   key     electrode_start       electrode_end  active_power  duration  \\\n",
       "0    1 2019-05-03 11:02:14 2019-05-03 11:06:02      0.305130       228   \n",
       "1    1 2019-05-03 11:07:28 2019-05-03 11:10:33      0.765658       185   \n",
       "2    1 2019-05-03 11:11:44 2019-05-03 11:14:36      0.580313       172   \n",
       "3    1 2019-05-03 11:18:14 2019-05-03 11:24:19      0.518496       365   \n",
       "4    1 2019-05-03 11:26:09 2019-05-03 11:28:37      0.867133       148   \n",
       "\n",
       "       energy  \n",
       "0   69.569640  \n",
       "1  141.646730  \n",
       "2   99.813836  \n",
       "3  189.251040  \n",
       "4  128.335684  "
      ]
     },
     "metadata": {},
     "output_type": "display_data"
    }
   ],
   "source": [
    "electrode_data['energy']=electrode_data['duration']*electrode_data['active_power']\n",
    "display(electrode_data.head(5))"
   ]
  },
  {
   "cell_type": "code",
   "execution_count": 67,
   "id": "c0c6e3ff",
   "metadata": {},
   "outputs": [
    {
     "data": {
      "text/html": [
       "<div>\n",
       "<style scoped>\n",
       "    .dataframe tbody tr th:only-of-type {\n",
       "        vertical-align: middle;\n",
       "    }\n",
       "\n",
       "    .dataframe tbody tr th {\n",
       "        vertical-align: top;\n",
       "    }\n",
       "\n",
       "    .dataframe thead th {\n",
       "        text-align: right;\n",
       "    }\n",
       "</style>\n",
       "<table border=\"1\" class=\"dataframe\">\n",
       "  <thead>\n",
       "    <tr style=\"text-align: right;\">\n",
       "      <th></th>\n",
       "      <th>key</th>\n",
       "      <th>duration</th>\n",
       "      <th>electrode_end</th>\n",
       "      <th>electrode_start</th>\n",
       "      <th>energy</th>\n",
       "    </tr>\n",
       "  </thead>\n",
       "  <tbody>\n",
       "    <tr>\n",
       "      <th>2460</th>\n",
       "      <td>2489</td>\n",
       "      <td>2</td>\n",
       "      <td>2019-08-10 07:31:14</td>\n",
       "      <td>2019-08-10 07:22:04</td>\n",
       "      <td>144.593934</td>\n",
       "    </tr>\n",
       "    <tr>\n",
       "      <th>2461</th>\n",
       "      <td>2490</td>\n",
       "      <td>5</td>\n",
       "      <td>2019-08-10 09:23:13</td>\n",
       "      <td>2019-08-10 08:48:55</td>\n",
       "      <td>499.026989</td>\n",
       "    </tr>\n",
       "    <tr>\n",
       "      <th>2462</th>\n",
       "      <td>2492</td>\n",
       "      <td>3</td>\n",
       "      <td>2019-08-10 10:05:31</td>\n",
       "      <td>2019-08-10 09:34:45</td>\n",
       "      <td>519.137159</td>\n",
       "    </tr>\n",
       "    <tr>\n",
       "      <th>2463</th>\n",
       "      <td>2493</td>\n",
       "      <td>3</td>\n",
       "      <td>2019-08-10 10:51:40</td>\n",
       "      <td>2019-08-10 10:27:59</td>\n",
       "      <td>339.673061</td>\n",
       "    </tr>\n",
       "    <tr>\n",
       "      <th>2464</th>\n",
       "      <td>2494</td>\n",
       "      <td>3</td>\n",
       "      <td>2019-08-10 11:13:02</td>\n",
       "      <td>2019-08-10 11:00:02</td>\n",
       "      <td>260.413711</td>\n",
       "    </tr>\n",
       "    <tr>\n",
       "      <th>2465</th>\n",
       "      <td>2495</td>\n",
       "      <td>4</td>\n",
       "      <td>2019-08-10 11:48:05</td>\n",
       "      <td>2019-08-10 11:27:57</td>\n",
       "      <td>571.539318</td>\n",
       "    </tr>\n",
       "    <tr>\n",
       "      <th>2466</th>\n",
       "      <td>2496</td>\n",
       "      <td>6</td>\n",
       "      <td>2019-08-10 12:23:07</td>\n",
       "      <td>2019-08-10 11:56:58</td>\n",
       "      <td>675.222467</td>\n",
       "    </tr>\n",
       "    <tr>\n",
       "      <th>2467</th>\n",
       "      <td>2497</td>\n",
       "      <td>3</td>\n",
       "      <td>2019-08-10 12:51:20</td>\n",
       "      <td>2019-08-10 12:37:36</td>\n",
       "      <td>680.326674</td>\n",
       "    </tr>\n",
       "    <tr>\n",
       "      <th>2468</th>\n",
       "      <td>2498</td>\n",
       "      <td>5</td>\n",
       "      <td>2019-08-10 13:20:59</td>\n",
       "      <td>2019-08-10 12:58:21</td>\n",
       "      <td>474.918795</td>\n",
       "    </tr>\n",
       "    <tr>\n",
       "      <th>2469</th>\n",
       "      <td>2499</td>\n",
       "      <td>4</td>\n",
       "      <td>2019-08-10 13:56:17</td>\n",
       "      <td>2019-08-10 13:33:31</td>\n",
       "      <td>427.922553</td>\n",
       "    </tr>\n",
       "  </tbody>\n",
       "</table>\n",
       "</div>"
      ],
      "text/plain": [
       "       key  duration       electrode_end     electrode_start      energy\n",
       "2460  2489         2 2019-08-10 07:31:14 2019-08-10 07:22:04  144.593934\n",
       "2461  2490         5 2019-08-10 09:23:13 2019-08-10 08:48:55  499.026989\n",
       "2462  2492         3 2019-08-10 10:05:31 2019-08-10 09:34:45  519.137159\n",
       "2463  2493         3 2019-08-10 10:51:40 2019-08-10 10:27:59  339.673061\n",
       "2464  2494         3 2019-08-10 11:13:02 2019-08-10 11:00:02  260.413711\n",
       "2465  2495         4 2019-08-10 11:48:05 2019-08-10 11:27:57  571.539318\n",
       "2466  2496         6 2019-08-10 12:23:07 2019-08-10 11:56:58  675.222467\n",
       "2467  2497         3 2019-08-10 12:51:20 2019-08-10 12:37:36  680.326674\n",
       "2468  2498         5 2019-08-10 13:20:59 2019-08-10 12:58:21  474.918795\n",
       "2469  2499         4 2019-08-10 13:56:17 2019-08-10 13:33:31  427.922553"
      ]
     },
     "metadata": {},
     "output_type": "display_data"
    }
   ],
   "source": [
    "electrode_info=electrode_data.pivot_table(index='key', values=['electrode_start', 'electrode_end', 'duration', 'energy'],\n",
    "                                          aggfunc={'electrode_start':'first', 'electrode_end': 'last', \n",
    "                                                   'duration': 'count', 'energy': 'sum'}).reset_index()\n",
    "electrode_info.name='electrode_info'\n",
    "display(electrode_info.tail(10))"
   ]
  },
  {
   "cell_type": "markdown",
   "id": "6aea3142",
   "metadata": {},
   "source": [
    "В финальную табличку пойдут столбцы duration и energy.\n",
    "Чтобы объединить таблицы, в них должны быть одинаковые индексы, поэтому удалим и из таблиц data_bulk_materials_v и data_wire_v те же свмые ключи, которые удалили в прошлых таблицах."
   ]
  },
  {
   "cell_type": "code",
   "execution_count": 68,
   "id": "9d126c0a",
   "metadata": {},
   "outputs": [
    {
     "data": {
      "text/html": [
       "<div>\n",
       "<style scoped>\n",
       "    .dataframe tbody tr th:only-of-type {\n",
       "        vertical-align: middle;\n",
       "    }\n",
       "\n",
       "    .dataframe tbody tr th {\n",
       "        vertical-align: top;\n",
       "    }\n",
       "\n",
       "    .dataframe thead th {\n",
       "        text-align: right;\n",
       "    }\n",
       "</style>\n",
       "<table border=\"1\" class=\"dataframe\">\n",
       "  <thead>\n",
       "    <tr style=\"text-align: right;\">\n",
       "      <th></th>\n",
       "      <th>key</th>\n",
       "      <th>bulk_3</th>\n",
       "      <th>bulk_4</th>\n",
       "      <th>bulk_6</th>\n",
       "      <th>bulk_12</th>\n",
       "      <th>bulk_14</th>\n",
       "      <th>bulk_15</th>\n",
       "    </tr>\n",
       "  </thead>\n",
       "  <tbody>\n",
       "    <tr>\n",
       "      <th>2398</th>\n",
       "      <td>2489</td>\n",
       "      <td>0.0</td>\n",
       "      <td>0.0</td>\n",
       "      <td>100.0</td>\n",
       "      <td>103.0</td>\n",
       "      <td>149.0</td>\n",
       "      <td>104.0</td>\n",
       "    </tr>\n",
       "    <tr>\n",
       "      <th>2399</th>\n",
       "      <td>2490</td>\n",
       "      <td>50.0</td>\n",
       "      <td>116.0</td>\n",
       "      <td>0.0</td>\n",
       "      <td>313.0</td>\n",
       "      <td>197.0</td>\n",
       "      <td>209.0</td>\n",
       "    </tr>\n",
       "    <tr>\n",
       "      <th>2400</th>\n",
       "      <td>2492</td>\n",
       "      <td>74.0</td>\n",
       "      <td>198.0</td>\n",
       "      <td>0.0</td>\n",
       "      <td>266.0</td>\n",
       "      <td>198.0</td>\n",
       "      <td>209.0</td>\n",
       "    </tr>\n",
       "    <tr>\n",
       "      <th>2401</th>\n",
       "      <td>2493</td>\n",
       "      <td>115.0</td>\n",
       "      <td>105.0</td>\n",
       "      <td>0.0</td>\n",
       "      <td>236.0</td>\n",
       "      <td>118.0</td>\n",
       "      <td>205.0</td>\n",
       "    </tr>\n",
       "    <tr>\n",
       "      <th>2402</th>\n",
       "      <td>2494</td>\n",
       "      <td>0.0</td>\n",
       "      <td>162.0</td>\n",
       "      <td>0.0</td>\n",
       "      <td>155.0</td>\n",
       "      <td>119.0</td>\n",
       "      <td>155.0</td>\n",
       "    </tr>\n",
       "    <tr>\n",
       "      <th>2403</th>\n",
       "      <td>2495</td>\n",
       "      <td>21.0</td>\n",
       "      <td>0.0</td>\n",
       "      <td>0.0</td>\n",
       "      <td>256.0</td>\n",
       "      <td>129.0</td>\n",
       "      <td>223.0</td>\n",
       "    </tr>\n",
       "    <tr>\n",
       "      <th>2404</th>\n",
       "      <td>2496</td>\n",
       "      <td>0.0</td>\n",
       "      <td>63.0</td>\n",
       "      <td>0.0</td>\n",
       "      <td>256.0</td>\n",
       "      <td>129.0</td>\n",
       "      <td>226.0</td>\n",
       "    </tr>\n",
       "    <tr>\n",
       "      <th>2405</th>\n",
       "      <td>2497</td>\n",
       "      <td>0.0</td>\n",
       "      <td>85.0</td>\n",
       "      <td>0.0</td>\n",
       "      <td>230.0</td>\n",
       "      <td>124.0</td>\n",
       "      <td>226.0</td>\n",
       "    </tr>\n",
       "    <tr>\n",
       "      <th>2406</th>\n",
       "      <td>2498</td>\n",
       "      <td>90.0</td>\n",
       "      <td>0.0</td>\n",
       "      <td>0.0</td>\n",
       "      <td>206.0</td>\n",
       "      <td>129.0</td>\n",
       "      <td>207.0</td>\n",
       "    </tr>\n",
       "    <tr>\n",
       "      <th>2407</th>\n",
       "      <td>2499</td>\n",
       "      <td>47.0</td>\n",
       "      <td>0.0</td>\n",
       "      <td>0.0</td>\n",
       "      <td>233.0</td>\n",
       "      <td>126.0</td>\n",
       "      <td>227.0</td>\n",
       "    </tr>\n",
       "  </tbody>\n",
       "</table>\n",
       "</div>"
      ],
      "text/plain": [
       "       key  bulk_3  bulk_4  bulk_6  bulk_12  bulk_14  bulk_15\n",
       "2398  2489     0.0     0.0   100.0    103.0    149.0    104.0\n",
       "2399  2490    50.0   116.0     0.0    313.0    197.0    209.0\n",
       "2400  2492    74.0   198.0     0.0    266.0    198.0    209.0\n",
       "2401  2493   115.0   105.0     0.0    236.0    118.0    205.0\n",
       "2402  2494     0.0   162.0     0.0    155.0    119.0    155.0\n",
       "2403  2495    21.0     0.0     0.0    256.0    129.0    223.0\n",
       "2404  2496     0.0    63.0     0.0    256.0    129.0    226.0\n",
       "2405  2497     0.0    85.0     0.0    230.0    124.0    226.0\n",
       "2406  2498    90.0     0.0     0.0    206.0    129.0    207.0\n",
       "2407  2499    47.0     0.0     0.0    233.0    126.0    227.0"
      ]
     },
     "metadata": {},
     "output_type": "display_data"
    }
   ],
   "source": [
    "data_bulk_materials_v=data_bulk_materials_v[data_bulk_materials_v.key.isin(keys_to_del)== False]\n",
    "data_bulk_materials_v.name='data_bulk_materials_v'\n",
    "display(data_bulk_materials_v.tail(10))"
   ]
  },
  {
   "cell_type": "code",
   "execution_count": 69,
   "id": "12af11d1",
   "metadata": {},
   "outputs": [
    {
     "data": {
      "text/html": [
       "<div>\n",
       "<style scoped>\n",
       "    .dataframe tbody tr th:only-of-type {\n",
       "        vertical-align: middle;\n",
       "    }\n",
       "\n",
       "    .dataframe tbody tr th {\n",
       "        vertical-align: top;\n",
       "    }\n",
       "\n",
       "    .dataframe thead th {\n",
       "        text-align: right;\n",
       "    }\n",
       "</style>\n",
       "<table border=\"1\" class=\"dataframe\">\n",
       "  <thead>\n",
       "    <tr style=\"text-align: right;\">\n",
       "      <th></th>\n",
       "      <th>key</th>\n",
       "      <th>wire_1</th>\n",
       "      <th>wire_2</th>\n",
       "    </tr>\n",
       "  </thead>\n",
       "  <tbody>\n",
       "    <tr>\n",
       "      <th>2363</th>\n",
       "      <td>2489</td>\n",
       "      <td>67.136162</td>\n",
       "      <td>0.00000</td>\n",
       "    </tr>\n",
       "    <tr>\n",
       "      <th>2364</th>\n",
       "      <td>2490</td>\n",
       "      <td>126.060486</td>\n",
       "      <td>0.00000</td>\n",
       "    </tr>\n",
       "    <tr>\n",
       "      <th>2365</th>\n",
       "      <td>2492</td>\n",
       "      <td>170.046235</td>\n",
       "      <td>0.00000</td>\n",
       "    </tr>\n",
       "    <tr>\n",
       "      <th>2366</th>\n",
       "      <td>2493</td>\n",
       "      <td>122.172958</td>\n",
       "      <td>0.00000</td>\n",
       "    </tr>\n",
       "    <tr>\n",
       "      <th>2367</th>\n",
       "      <td>2494</td>\n",
       "      <td>75.042236</td>\n",
       "      <td>0.00000</td>\n",
       "    </tr>\n",
       "    <tr>\n",
       "      <th>2368</th>\n",
       "      <td>2495</td>\n",
       "      <td>89.150879</td>\n",
       "      <td>0.00000</td>\n",
       "    </tr>\n",
       "    <tr>\n",
       "      <th>2369</th>\n",
       "      <td>2496</td>\n",
       "      <td>114.179527</td>\n",
       "      <td>0.00000</td>\n",
       "    </tr>\n",
       "    <tr>\n",
       "      <th>2370</th>\n",
       "      <td>2497</td>\n",
       "      <td>94.086723</td>\n",
       "      <td>9.04800</td>\n",
       "    </tr>\n",
       "    <tr>\n",
       "      <th>2371</th>\n",
       "      <td>2498</td>\n",
       "      <td>118.110717</td>\n",
       "      <td>0.00000</td>\n",
       "    </tr>\n",
       "    <tr>\n",
       "      <th>2372</th>\n",
       "      <td>2499</td>\n",
       "      <td>110.160958</td>\n",
       "      <td>50.00528</td>\n",
       "    </tr>\n",
       "  </tbody>\n",
       "</table>\n",
       "</div>"
      ],
      "text/plain": [
       "       key      wire_1    wire_2\n",
       "2363  2489   67.136162   0.00000\n",
       "2364  2490  126.060486   0.00000\n",
       "2365  2492  170.046235   0.00000\n",
       "2366  2493  122.172958   0.00000\n",
       "2367  2494   75.042236   0.00000\n",
       "2368  2495   89.150879   0.00000\n",
       "2369  2496  114.179527   0.00000\n",
       "2370  2497   94.086723   9.04800\n",
       "2371  2498  118.110717   0.00000\n",
       "2372  2499  110.160958  50.00528"
      ]
     },
     "metadata": {},
     "output_type": "display_data"
    }
   ],
   "source": [
    "data_wire_v=drop_keys(data_wire_v, keys_to_del)\n",
    "data_wire_v.name='data_wire_v'\n",
    "display(data_wire_v.tail(10))"
   ]
  },
  {
   "cell_type": "markdown",
   "id": "d379246b",
   "metadata": {},
   "source": [
    "Данные из обеих этих таблиц пойдут целиком.\n",
    "\n",
    "Рассмотрим таблицу data_with_gas."
   ]
  },
  {
   "cell_type": "code",
   "execution_count": 70,
   "id": "7d0a7308",
   "metadata": {},
   "outputs": [
    {
     "data": {
      "text/html": [
       "<div>\n",
       "<style scoped>\n",
       "    .dataframe tbody tr th:only-of-type {\n",
       "        vertical-align: middle;\n",
       "    }\n",
       "\n",
       "    .dataframe tbody tr th {\n",
       "        vertical-align: top;\n",
       "    }\n",
       "\n",
       "    .dataframe thead th {\n",
       "        text-align: right;\n",
       "    }\n",
       "</style>\n",
       "<table border=\"1\" class=\"dataframe\">\n",
       "  <thead>\n",
       "    <tr style=\"text-align: right;\">\n",
       "      <th></th>\n",
       "      <th>key</th>\n",
       "      <th>volume_gas</th>\n",
       "    </tr>\n",
       "  </thead>\n",
       "  <tbody>\n",
       "    <tr>\n",
       "      <th>0</th>\n",
       "      <td>1</td>\n",
       "      <td>29.749986</td>\n",
       "    </tr>\n",
       "    <tr>\n",
       "      <th>1</th>\n",
       "      <td>2</td>\n",
       "      <td>12.555561</td>\n",
       "    </tr>\n",
       "    <tr>\n",
       "      <th>2</th>\n",
       "      <td>3</td>\n",
       "      <td>28.554793</td>\n",
       "    </tr>\n",
       "    <tr>\n",
       "      <th>3</th>\n",
       "      <td>4</td>\n",
       "      <td>18.841219</td>\n",
       "    </tr>\n",
       "    <tr>\n",
       "      <th>4</th>\n",
       "      <td>5</td>\n",
       "      <td>5.413692</td>\n",
       "    </tr>\n",
       "    <tr>\n",
       "      <th>5</th>\n",
       "      <td>6</td>\n",
       "      <td>11.273392</td>\n",
       "    </tr>\n",
       "    <tr>\n",
       "      <th>6</th>\n",
       "      <td>7</td>\n",
       "      <td>9.836267</td>\n",
       "    </tr>\n",
       "    <tr>\n",
       "      <th>7</th>\n",
       "      <td>8</td>\n",
       "      <td>15.171553</td>\n",
       "    </tr>\n",
       "    <tr>\n",
       "      <th>8</th>\n",
       "      <td>9</td>\n",
       "      <td>8.216623</td>\n",
       "    </tr>\n",
       "    <tr>\n",
       "      <th>9</th>\n",
       "      <td>10</td>\n",
       "      <td>6.529891</td>\n",
       "    </tr>\n",
       "  </tbody>\n",
       "</table>\n",
       "</div>"
      ],
      "text/plain": [
       "   key  volume_gas\n",
       "0    1   29.749986\n",
       "1    2   12.555561\n",
       "2    3   28.554793\n",
       "3    4   18.841219\n",
       "4    5    5.413692\n",
       "5    6   11.273392\n",
       "6    7    9.836267\n",
       "7    8   15.171553\n",
       "8    9    8.216623\n",
       "9   10    6.529891"
      ]
     },
     "metadata": {},
     "output_type": "display_data"
    }
   ],
   "source": [
    "display(data_with_gas.head(10))"
   ]
  },
  {
   "cell_type": "markdown",
   "id": "ee23a351",
   "metadata": {},
   "source": [
    "Для каждого ключа только одно значение, поэтому эта информация полностью пойдет в табллицу, но стоит удалить и из нее удаленные ключи"
   ]
  },
  {
   "cell_type": "code",
   "execution_count": 71,
   "id": "1b870d32",
   "metadata": {},
   "outputs": [
    {
     "data": {
      "text/html": [
       "<div>\n",
       "<style scoped>\n",
       "    .dataframe tbody tr th:only-of-type {\n",
       "        vertical-align: middle;\n",
       "    }\n",
       "\n",
       "    .dataframe tbody tr th {\n",
       "        vertical-align: top;\n",
       "    }\n",
       "\n",
       "    .dataframe thead th {\n",
       "        text-align: right;\n",
       "    }\n",
       "</style>\n",
       "<table border=\"1\" class=\"dataframe\">\n",
       "  <thead>\n",
       "    <tr style=\"text-align: right;\">\n",
       "      <th></th>\n",
       "      <th>key</th>\n",
       "      <th>volume_gas</th>\n",
       "    </tr>\n",
       "  </thead>\n",
       "  <tbody>\n",
       "    <tr>\n",
       "      <th>2490</th>\n",
       "      <td>2493</td>\n",
       "      <td>9.421691</td>\n",
       "    </tr>\n",
       "    <tr>\n",
       "      <th>2491</th>\n",
       "      <td>2494</td>\n",
       "      <td>3.983053</td>\n",
       "    </tr>\n",
       "    <tr>\n",
       "      <th>2492</th>\n",
       "      <td>2495</td>\n",
       "      <td>7.125735</td>\n",
       "    </tr>\n",
       "    <tr>\n",
       "      <th>2493</th>\n",
       "      <td>2496</td>\n",
       "      <td>9.412616</td>\n",
       "    </tr>\n",
       "    <tr>\n",
       "      <th>2494</th>\n",
       "      <td>2497</td>\n",
       "      <td>6.271699</td>\n",
       "    </tr>\n",
       "    <tr>\n",
       "      <th>2495</th>\n",
       "      <td>2498</td>\n",
       "      <td>14.953657</td>\n",
       "    </tr>\n",
       "    <tr>\n",
       "      <th>2496</th>\n",
       "      <td>2499</td>\n",
       "      <td>11.336151</td>\n",
       "    </tr>\n",
       "    <tr>\n",
       "      <th>2680</th>\n",
       "      <td>2683</td>\n",
       "      <td>0.338997</td>\n",
       "    </tr>\n",
       "    <tr>\n",
       "      <th>3197</th>\n",
       "      <td>3200</td>\n",
       "      <td>0.908588</td>\n",
       "    </tr>\n",
       "    <tr>\n",
       "      <th>3204</th>\n",
       "      <td>3207</td>\n",
       "      <td>1.074360</td>\n",
       "    </tr>\n",
       "  </tbody>\n",
       "</table>\n",
       "</div>"
      ],
      "text/plain": [
       "       key  volume_gas\n",
       "2490  2493    9.421691\n",
       "2491  2494    3.983053\n",
       "2492  2495    7.125735\n",
       "2493  2496    9.412616\n",
       "2494  2497    6.271699\n",
       "2495  2498   14.953657\n",
       "2496  2499   11.336151\n",
       "2680  2683    0.338997\n",
       "3197  3200    0.908588\n",
       "3204  3207    1.074360"
      ]
     },
     "metadata": {},
     "output_type": "display_data"
    }
   ],
   "source": [
    "data_with_gas=drop_keys(data_with_gas, keys_to_del)\n",
    "display(data_with_gas.tail(10))"
   ]
  },
  {
   "cell_type": "markdown",
   "id": "4305c2a2",
   "metadata": {},
   "source": [
    "отметим, что в этой таблице есть значения ключей, которые мы не видили в других, проверим еще раз есть ли они там и если нет, удалим. "
   ]
  },
  {
   "cell_type": "code",
   "execution_count": 72,
   "id": "fbc82102",
   "metadata": {},
   "outputs": [
    {
     "name": "stdout",
     "output_type": "stream",
     "text": [
      "Empty DataFrame\n",
      "Columns: [key, electrode_start, electrode_end, active_power, duration, energy]\n",
      "Index: []\n"
     ]
    }
   ],
   "source": [
    "print(electrode_data.query('key==2683 or key ==3200 or key == 3207'))"
   ]
  },
  {
   "cell_type": "markdown",
   "id": "6b68367d",
   "metadata": {},
   "source": [
    "таких нет, значит удаляем их и отсюда."
   ]
  },
  {
   "cell_type": "code",
   "execution_count": 73,
   "id": "4b8fc8b6",
   "metadata": {},
   "outputs": [
    {
     "data": {
      "text/html": [
       "<div>\n",
       "<style scoped>\n",
       "    .dataframe tbody tr th:only-of-type {\n",
       "        vertical-align: middle;\n",
       "    }\n",
       "\n",
       "    .dataframe tbody tr th {\n",
       "        vertical-align: top;\n",
       "    }\n",
       "\n",
       "    .dataframe thead th {\n",
       "        text-align: right;\n",
       "    }\n",
       "</style>\n",
       "<table border=\"1\" class=\"dataframe\">\n",
       "  <thead>\n",
       "    <tr style=\"text-align: right;\">\n",
       "      <th></th>\n",
       "      <th>key</th>\n",
       "      <th>volume_gas</th>\n",
       "    </tr>\n",
       "  </thead>\n",
       "  <tbody>\n",
       "    <tr>\n",
       "      <th>2487</th>\n",
       "      <td>2490</td>\n",
       "      <td>20.019526</td>\n",
       "    </tr>\n",
       "    <tr>\n",
       "      <th>2488</th>\n",
       "      <td>2491</td>\n",
       "      <td>0.382644</td>\n",
       "    </tr>\n",
       "    <tr>\n",
       "      <th>2489</th>\n",
       "      <td>2492</td>\n",
       "      <td>11.375063</td>\n",
       "    </tr>\n",
       "    <tr>\n",
       "      <th>2490</th>\n",
       "      <td>2493</td>\n",
       "      <td>9.421691</td>\n",
       "    </tr>\n",
       "    <tr>\n",
       "      <th>2491</th>\n",
       "      <td>2494</td>\n",
       "      <td>3.983053</td>\n",
       "    </tr>\n",
       "    <tr>\n",
       "      <th>2492</th>\n",
       "      <td>2495</td>\n",
       "      <td>7.125735</td>\n",
       "    </tr>\n",
       "    <tr>\n",
       "      <th>2493</th>\n",
       "      <td>2496</td>\n",
       "      <td>9.412616</td>\n",
       "    </tr>\n",
       "    <tr>\n",
       "      <th>2494</th>\n",
       "      <td>2497</td>\n",
       "      <td>6.271699</td>\n",
       "    </tr>\n",
       "    <tr>\n",
       "      <th>2495</th>\n",
       "      <td>2498</td>\n",
       "      <td>14.953657</td>\n",
       "    </tr>\n",
       "    <tr>\n",
       "      <th>2496</th>\n",
       "      <td>2499</td>\n",
       "      <td>11.336151</td>\n",
       "    </tr>\n",
       "  </tbody>\n",
       "</table>\n",
       "</div>"
      ],
      "text/plain": [
       "       key  volume_gas\n",
       "2487  2490   20.019526\n",
       "2488  2491    0.382644\n",
       "2489  2492   11.375063\n",
       "2490  2493    9.421691\n",
       "2491  2494    3.983053\n",
       "2492  2495    7.125735\n",
       "2493  2496    9.412616\n",
       "2494  2497    6.271699\n",
       "2495  2498   14.953657\n",
       "2496  2499   11.336151"
      ]
     },
     "metadata": {},
     "output_type": "display_data"
    }
   ],
   "source": [
    "data_with_gas=data_with_gas[data_with_gas['key']<2500]\n",
    "data_with_gas.name='data_with_gas'\n",
    "display(data_with_gas.tail(10))"
   ]
  },
  {
   "cell_type": "markdown",
   "id": "9fe1e100",
   "metadata": {},
   "source": [
    "можно приступать к объединению таблиц"
   ]
  },
  {
   "cell_type": "code",
   "execution_count": 74,
   "id": "1979c7a5",
   "metadata": {
    "scrolled": true
   },
   "outputs": [
    {
     "data": {
      "text/html": [
       "<div>\n",
       "<style scoped>\n",
       "    .dataframe tbody tr th:only-of-type {\n",
       "        vertical-align: middle;\n",
       "    }\n",
       "\n",
       "    .dataframe tbody tr th {\n",
       "        vertical-align: top;\n",
       "    }\n",
       "\n",
       "    .dataframe thead th {\n",
       "        text-align: right;\n",
       "    }\n",
       "</style>\n",
       "<table border=\"1\" class=\"dataframe\">\n",
       "  <thead>\n",
       "    <tr style=\"text-align: right;\">\n",
       "      <th></th>\n",
       "      <th>measurement_time</th>\n",
       "      <th>temperature</th>\n",
       "      <th>measurement_time_y</th>\n",
       "      <th>temperature_y</th>\n",
       "      <th>duration</th>\n",
       "      <th>electrode_end</th>\n",
       "      <th>electrode_start</th>\n",
       "      <th>energy</th>\n",
       "      <th>bulk_3</th>\n",
       "      <th>bulk_4</th>\n",
       "      <th>bulk_6</th>\n",
       "      <th>bulk_12</th>\n",
       "      <th>bulk_14</th>\n",
       "      <th>bulk_15</th>\n",
       "      <th>wire_1</th>\n",
       "      <th>wire_2</th>\n",
       "      <th>volume_gas</th>\n",
       "    </tr>\n",
       "    <tr>\n",
       "      <th>key</th>\n",
       "      <th></th>\n",
       "      <th></th>\n",
       "      <th></th>\n",
       "      <th></th>\n",
       "      <th></th>\n",
       "      <th></th>\n",
       "      <th></th>\n",
       "      <th></th>\n",
       "      <th></th>\n",
       "      <th></th>\n",
       "      <th></th>\n",
       "      <th></th>\n",
       "      <th></th>\n",
       "      <th></th>\n",
       "      <th></th>\n",
       "      <th></th>\n",
       "      <th></th>\n",
       "    </tr>\n",
       "  </thead>\n",
       "  <tbody>\n",
       "    <tr>\n",
       "      <th>1</th>\n",
       "      <td>2019-05-03 11:30:38</td>\n",
       "      <td>1613</td>\n",
       "      <td>2019-05-03 11:02:04</td>\n",
       "      <td>1571</td>\n",
       "      <td>5</td>\n",
       "      <td>2019-05-03 11:28:37</td>\n",
       "      <td>2019-05-03 11:02:14</td>\n",
       "      <td>628.616930</td>\n",
       "      <td>0.0</td>\n",
       "      <td>43.0</td>\n",
       "      <td>0.0</td>\n",
       "      <td>206.0</td>\n",
       "      <td>150.0</td>\n",
       "      <td>154.0</td>\n",
       "      <td>60.059998</td>\n",
       "      <td>0.00000</td>\n",
       "      <td>29.749986</td>\n",
       "    </tr>\n",
       "    <tr>\n",
       "      <th>2</th>\n",
       "      <td>2019-05-03 11:55:09</td>\n",
       "      <td>1602</td>\n",
       "      <td>2019-05-03 11:34:04</td>\n",
       "      <td>1581</td>\n",
       "      <td>4</td>\n",
       "      <td>2019-05-03 11:53:18</td>\n",
       "      <td>2019-05-03 11:34:14</td>\n",
       "      <td>395.281800</td>\n",
       "      <td>0.0</td>\n",
       "      <td>73.0</td>\n",
       "      <td>0.0</td>\n",
       "      <td>206.0</td>\n",
       "      <td>149.0</td>\n",
       "      <td>154.0</td>\n",
       "      <td>96.052315</td>\n",
       "      <td>0.00000</td>\n",
       "      <td>12.555561</td>\n",
       "    </tr>\n",
       "    <tr>\n",
       "      <th>3</th>\n",
       "      <td>2019-05-03 12:35:57</td>\n",
       "      <td>1599</td>\n",
       "      <td>2019-05-03 12:06:44</td>\n",
       "      <td>1596</td>\n",
       "      <td>5</td>\n",
       "      <td>2019-05-03 12:32:19</td>\n",
       "      <td>2019-05-03 12:06:54</td>\n",
       "      <td>581.774624</td>\n",
       "      <td>0.0</td>\n",
       "      <td>34.0</td>\n",
       "      <td>0.0</td>\n",
       "      <td>205.0</td>\n",
       "      <td>152.0</td>\n",
       "      <td>153.0</td>\n",
       "      <td>91.160157</td>\n",
       "      <td>0.00000</td>\n",
       "      <td>28.554793</td>\n",
       "    </tr>\n",
       "    <tr>\n",
       "      <th>4</th>\n",
       "      <td>2019-05-03 12:59:47</td>\n",
       "      <td>1625</td>\n",
       "      <td>2019-05-03 12:39:27</td>\n",
       "      <td>1601</td>\n",
       "      <td>4</td>\n",
       "      <td>2019-05-03 12:57:50</td>\n",
       "      <td>2019-05-03 12:39:37</td>\n",
       "      <td>543.710274</td>\n",
       "      <td>0.0</td>\n",
       "      <td>81.0</td>\n",
       "      <td>0.0</td>\n",
       "      <td>207.0</td>\n",
       "      <td>153.0</td>\n",
       "      <td>154.0</td>\n",
       "      <td>89.063515</td>\n",
       "      <td>0.00000</td>\n",
       "      <td>18.841219</td>\n",
       "    </tr>\n",
       "    <tr>\n",
       "      <th>5</th>\n",
       "      <td>2019-05-03 13:36:39</td>\n",
       "      <td>1602</td>\n",
       "      <td>2019-05-03 13:11:03</td>\n",
       "      <td>1576</td>\n",
       "      <td>4</td>\n",
       "      <td>2019-05-03 13:33:55</td>\n",
       "      <td>2019-05-03 13:11:13</td>\n",
       "      <td>412.180480</td>\n",
       "      <td>0.0</td>\n",
       "      <td>78.0</td>\n",
       "      <td>0.0</td>\n",
       "      <td>203.0</td>\n",
       "      <td>151.0</td>\n",
       "      <td>152.0</td>\n",
       "      <td>89.238236</td>\n",
       "      <td>9.11456</td>\n",
       "      <td>5.413692</td>\n",
       "    </tr>\n",
       "  </tbody>\n",
       "</table>\n",
       "</div>"
      ],
      "text/plain": [
       "       measurement_time  temperature  measurement_time_y  temperature_y  \\\n",
       "key                                                                       \n",
       "1   2019-05-03 11:30:38         1613 2019-05-03 11:02:04           1571   \n",
       "2   2019-05-03 11:55:09         1602 2019-05-03 11:34:04           1581   \n",
       "3   2019-05-03 12:35:57         1599 2019-05-03 12:06:44           1596   \n",
       "4   2019-05-03 12:59:47         1625 2019-05-03 12:39:27           1601   \n",
       "5   2019-05-03 13:36:39         1602 2019-05-03 13:11:03           1576   \n",
       "\n",
       "     duration       electrode_end     electrode_start      energy  bulk_3  \\\n",
       "key                                                                         \n",
       "1           5 2019-05-03 11:28:37 2019-05-03 11:02:14  628.616930     0.0   \n",
       "2           4 2019-05-03 11:53:18 2019-05-03 11:34:14  395.281800     0.0   \n",
       "3           5 2019-05-03 12:32:19 2019-05-03 12:06:54  581.774624     0.0   \n",
       "4           4 2019-05-03 12:57:50 2019-05-03 12:39:37  543.710274     0.0   \n",
       "5           4 2019-05-03 13:33:55 2019-05-03 13:11:13  412.180480     0.0   \n",
       "\n",
       "     bulk_4  bulk_6  bulk_12  bulk_14  bulk_15     wire_1   wire_2  volume_gas  \n",
       "key                                                                             \n",
       "1      43.0     0.0    206.0    150.0    154.0  60.059998  0.00000   29.749986  \n",
       "2      73.0     0.0    206.0    149.0    154.0  96.052315  0.00000   12.555561  \n",
       "3      34.0     0.0    205.0    152.0    153.0  91.160157  0.00000   28.554793  \n",
       "4      81.0     0.0    207.0    153.0    154.0  89.063515  0.00000   18.841219  \n",
       "5      78.0     0.0    203.0    151.0    152.0  89.238236  9.11456    5.413692  "
      ]
     },
     "metadata": {},
     "output_type": "display_data"
    },
    {
     "data": {
      "text/html": [
       "<div>\n",
       "<style scoped>\n",
       "    .dataframe tbody tr th:only-of-type {\n",
       "        vertical-align: middle;\n",
       "    }\n",
       "\n",
       "    .dataframe tbody tr th {\n",
       "        vertical-align: top;\n",
       "    }\n",
       "\n",
       "    .dataframe thead th {\n",
       "        text-align: right;\n",
       "    }\n",
       "</style>\n",
       "<table border=\"1\" class=\"dataframe\">\n",
       "  <thead>\n",
       "    <tr style=\"text-align: right;\">\n",
       "      <th></th>\n",
       "      <th>measurement_time</th>\n",
       "      <th>temperature</th>\n",
       "      <th>measurement_time_y</th>\n",
       "      <th>temperature_y</th>\n",
       "      <th>duration</th>\n",
       "      <th>electrode_end</th>\n",
       "      <th>electrode_start</th>\n",
       "      <th>energy</th>\n",
       "      <th>bulk_3</th>\n",
       "      <th>bulk_4</th>\n",
       "      <th>bulk_6</th>\n",
       "      <th>bulk_12</th>\n",
       "      <th>bulk_14</th>\n",
       "      <th>bulk_15</th>\n",
       "      <th>wire_1</th>\n",
       "      <th>wire_2</th>\n",
       "      <th>volume_gas</th>\n",
       "    </tr>\n",
       "    <tr>\n",
       "      <th>key</th>\n",
       "      <th></th>\n",
       "      <th></th>\n",
       "      <th></th>\n",
       "      <th></th>\n",
       "      <th></th>\n",
       "      <th></th>\n",
       "      <th></th>\n",
       "      <th></th>\n",
       "      <th></th>\n",
       "      <th></th>\n",
       "      <th></th>\n",
       "      <th></th>\n",
       "      <th></th>\n",
       "      <th></th>\n",
       "      <th></th>\n",
       "      <th></th>\n",
       "      <th></th>\n",
       "    </tr>\n",
       "  </thead>\n",
       "  <tbody>\n",
       "    <tr>\n",
       "      <th>2489</th>\n",
       "      <td>2019-08-10 07:35:16</td>\n",
       "      <td>1579</td>\n",
       "      <td>2019-08-10 07:21:54</td>\n",
       "      <td>1613</td>\n",
       "      <td>2</td>\n",
       "      <td>2019-08-10 07:31:14</td>\n",
       "      <td>2019-08-10 07:22:04</td>\n",
       "      <td>144.593934</td>\n",
       "      <td>0.0</td>\n",
       "      <td>0.0</td>\n",
       "      <td>100.0</td>\n",
       "      <td>103.0</td>\n",
       "      <td>149.0</td>\n",
       "      <td>104.0</td>\n",
       "      <td>67.136162</td>\n",
       "      <td>0.00000</td>\n",
       "      <td>10.772628</td>\n",
       "    </tr>\n",
       "    <tr>\n",
       "      <th>2490</th>\n",
       "      <td>2019-08-10 09:27:39</td>\n",
       "      <td>1619</td>\n",
       "      <td>2019-08-10 08:48:45</td>\n",
       "      <td>1602</td>\n",
       "      <td>5</td>\n",
       "      <td>2019-08-10 09:23:13</td>\n",
       "      <td>2019-08-10 08:48:55</td>\n",
       "      <td>499.026989</td>\n",
       "      <td>50.0</td>\n",
       "      <td>116.0</td>\n",
       "      <td>0.0</td>\n",
       "      <td>313.0</td>\n",
       "      <td>197.0</td>\n",
       "      <td>209.0</td>\n",
       "      <td>126.060486</td>\n",
       "      <td>0.00000</td>\n",
       "      <td>20.019526</td>\n",
       "    </tr>\n",
       "    <tr>\n",
       "      <th>2492</th>\n",
       "      <td>2019-08-10 10:15:13</td>\n",
       "      <td>1595</td>\n",
       "      <td>2019-08-10 09:34:35</td>\n",
       "      <td>1618</td>\n",
       "      <td>3</td>\n",
       "      <td>2019-08-10 10:05:31</td>\n",
       "      <td>2019-08-10 09:34:45</td>\n",
       "      <td>519.137159</td>\n",
       "      <td>74.0</td>\n",
       "      <td>198.0</td>\n",
       "      <td>0.0</td>\n",
       "      <td>266.0</td>\n",
       "      <td>198.0</td>\n",
       "      <td>209.0</td>\n",
       "      <td>170.046235</td>\n",
       "      <td>0.00000</td>\n",
       "      <td>11.375063</td>\n",
       "    </tr>\n",
       "    <tr>\n",
       "      <th>2493</th>\n",
       "      <td>2019-08-10 10:58:52</td>\n",
       "      <td>1594</td>\n",
       "      <td>2019-08-10 10:27:49</td>\n",
       "      <td>1599</td>\n",
       "      <td>3</td>\n",
       "      <td>2019-08-10 10:51:40</td>\n",
       "      <td>2019-08-10 10:27:59</td>\n",
       "      <td>339.673061</td>\n",
       "      <td>115.0</td>\n",
       "      <td>105.0</td>\n",
       "      <td>0.0</td>\n",
       "      <td>236.0</td>\n",
       "      <td>118.0</td>\n",
       "      <td>205.0</td>\n",
       "      <td>122.172958</td>\n",
       "      <td>0.00000</td>\n",
       "      <td>9.421691</td>\n",
       "    </tr>\n",
       "    <tr>\n",
       "      <th>2494</th>\n",
       "      <td>2019-08-10 11:14:57</td>\n",
       "      <td>1591</td>\n",
       "      <td>2019-08-10 10:59:52</td>\n",
       "      <td>1585</td>\n",
       "      <td>3</td>\n",
       "      <td>2019-08-10 11:13:02</td>\n",
       "      <td>2019-08-10 11:00:02</td>\n",
       "      <td>260.413711</td>\n",
       "      <td>0.0</td>\n",
       "      <td>162.0</td>\n",
       "      <td>0.0</td>\n",
       "      <td>155.0</td>\n",
       "      <td>119.0</td>\n",
       "      <td>155.0</td>\n",
       "      <td>75.042236</td>\n",
       "      <td>0.00000</td>\n",
       "      <td>3.983053</td>\n",
       "    </tr>\n",
       "    <tr>\n",
       "      <th>2495</th>\n",
       "      <td>2019-08-10 11:50:47</td>\n",
       "      <td>1591</td>\n",
       "      <td>2019-08-10 11:27:47</td>\n",
       "      <td>1570</td>\n",
       "      <td>4</td>\n",
       "      <td>2019-08-10 11:48:05</td>\n",
       "      <td>2019-08-10 11:27:57</td>\n",
       "      <td>571.539318</td>\n",
       "      <td>21.0</td>\n",
       "      <td>0.0</td>\n",
       "      <td>0.0</td>\n",
       "      <td>256.0</td>\n",
       "      <td>129.0</td>\n",
       "      <td>223.0</td>\n",
       "      <td>89.150879</td>\n",
       "      <td>0.00000</td>\n",
       "      <td>7.125735</td>\n",
       "    </tr>\n",
       "    <tr>\n",
       "      <th>2496</th>\n",
       "      <td>2019-08-10 12:25:13</td>\n",
       "      <td>1591</td>\n",
       "      <td>2019-08-10 11:56:48</td>\n",
       "      <td>1554</td>\n",
       "      <td>6</td>\n",
       "      <td>2019-08-10 12:23:07</td>\n",
       "      <td>2019-08-10 11:56:58</td>\n",
       "      <td>675.222467</td>\n",
       "      <td>0.0</td>\n",
       "      <td>63.0</td>\n",
       "      <td>0.0</td>\n",
       "      <td>256.0</td>\n",
       "      <td>129.0</td>\n",
       "      <td>226.0</td>\n",
       "      <td>114.179527</td>\n",
       "      <td>0.00000</td>\n",
       "      <td>9.412616</td>\n",
       "    </tr>\n",
       "    <tr>\n",
       "      <th>2497</th>\n",
       "      <td>2019-08-10 12:53:28</td>\n",
       "      <td>1589</td>\n",
       "      <td>2019-08-10 12:37:26</td>\n",
       "      <td>1571</td>\n",
       "      <td>3</td>\n",
       "      <td>2019-08-10 12:51:20</td>\n",
       "      <td>2019-08-10 12:37:36</td>\n",
       "      <td>680.326674</td>\n",
       "      <td>0.0</td>\n",
       "      <td>85.0</td>\n",
       "      <td>0.0</td>\n",
       "      <td>230.0</td>\n",
       "      <td>124.0</td>\n",
       "      <td>226.0</td>\n",
       "      <td>94.086723</td>\n",
       "      <td>9.04800</td>\n",
       "      <td>6.271699</td>\n",
       "    </tr>\n",
       "    <tr>\n",
       "      <th>2498</th>\n",
       "      <td>2019-08-10 13:23:31</td>\n",
       "      <td>1594</td>\n",
       "      <td>2019-08-10 12:58:11</td>\n",
       "      <td>1591</td>\n",
       "      <td>5</td>\n",
       "      <td>2019-08-10 13:20:59</td>\n",
       "      <td>2019-08-10 12:58:21</td>\n",
       "      <td>474.918795</td>\n",
       "      <td>90.0</td>\n",
       "      <td>0.0</td>\n",
       "      <td>0.0</td>\n",
       "      <td>206.0</td>\n",
       "      <td>129.0</td>\n",
       "      <td>207.0</td>\n",
       "      <td>118.110717</td>\n",
       "      <td>0.00000</td>\n",
       "      <td>14.953657</td>\n",
       "    </tr>\n",
       "    <tr>\n",
       "      <th>2499</th>\n",
       "      <td>2019-08-10 13:58:58</td>\n",
       "      <td>1603</td>\n",
       "      <td>2019-08-10 13:33:21</td>\n",
       "      <td>1569</td>\n",
       "      <td>4</td>\n",
       "      <td>2019-08-10 13:56:17</td>\n",
       "      <td>2019-08-10 13:33:31</td>\n",
       "      <td>427.922553</td>\n",
       "      <td>47.0</td>\n",
       "      <td>0.0</td>\n",
       "      <td>0.0</td>\n",
       "      <td>233.0</td>\n",
       "      <td>126.0</td>\n",
       "      <td>227.0</td>\n",
       "      <td>110.160958</td>\n",
       "      <td>50.00528</td>\n",
       "      <td>11.336151</td>\n",
       "    </tr>\n",
       "  </tbody>\n",
       "</table>\n",
       "</div>"
      ],
      "text/plain": [
       "        measurement_time  temperature  measurement_time_y  temperature_y  \\\n",
       "key                                                                        \n",
       "2489 2019-08-10 07:35:16         1579 2019-08-10 07:21:54           1613   \n",
       "2490 2019-08-10 09:27:39         1619 2019-08-10 08:48:45           1602   \n",
       "2492 2019-08-10 10:15:13         1595 2019-08-10 09:34:35           1618   \n",
       "2493 2019-08-10 10:58:52         1594 2019-08-10 10:27:49           1599   \n",
       "2494 2019-08-10 11:14:57         1591 2019-08-10 10:59:52           1585   \n",
       "2495 2019-08-10 11:50:47         1591 2019-08-10 11:27:47           1570   \n",
       "2496 2019-08-10 12:25:13         1591 2019-08-10 11:56:48           1554   \n",
       "2497 2019-08-10 12:53:28         1589 2019-08-10 12:37:26           1571   \n",
       "2498 2019-08-10 13:23:31         1594 2019-08-10 12:58:11           1591   \n",
       "2499 2019-08-10 13:58:58         1603 2019-08-10 13:33:21           1569   \n",
       "\n",
       "      duration       electrode_end     electrode_start      energy  bulk_3  \\\n",
       "key                                                                          \n",
       "2489         2 2019-08-10 07:31:14 2019-08-10 07:22:04  144.593934     0.0   \n",
       "2490         5 2019-08-10 09:23:13 2019-08-10 08:48:55  499.026989    50.0   \n",
       "2492         3 2019-08-10 10:05:31 2019-08-10 09:34:45  519.137159    74.0   \n",
       "2493         3 2019-08-10 10:51:40 2019-08-10 10:27:59  339.673061   115.0   \n",
       "2494         3 2019-08-10 11:13:02 2019-08-10 11:00:02  260.413711     0.0   \n",
       "2495         4 2019-08-10 11:48:05 2019-08-10 11:27:57  571.539318    21.0   \n",
       "2496         6 2019-08-10 12:23:07 2019-08-10 11:56:58  675.222467     0.0   \n",
       "2497         3 2019-08-10 12:51:20 2019-08-10 12:37:36  680.326674     0.0   \n",
       "2498         5 2019-08-10 13:20:59 2019-08-10 12:58:21  474.918795    90.0   \n",
       "2499         4 2019-08-10 13:56:17 2019-08-10 13:33:31  427.922553    47.0   \n",
       "\n",
       "      bulk_4  bulk_6  bulk_12  bulk_14  bulk_15      wire_1    wire_2  \\\n",
       "key                                                                     \n",
       "2489     0.0   100.0    103.0    149.0    104.0   67.136162   0.00000   \n",
       "2490   116.0     0.0    313.0    197.0    209.0  126.060486   0.00000   \n",
       "2492   198.0     0.0    266.0    198.0    209.0  170.046235   0.00000   \n",
       "2493   105.0     0.0    236.0    118.0    205.0  122.172958   0.00000   \n",
       "2494   162.0     0.0    155.0    119.0    155.0   75.042236   0.00000   \n",
       "2495     0.0     0.0    256.0    129.0    223.0   89.150879   0.00000   \n",
       "2496    63.0     0.0    256.0    129.0    226.0  114.179527   0.00000   \n",
       "2497    85.0     0.0    230.0    124.0    226.0   94.086723   9.04800   \n",
       "2498     0.0     0.0    206.0    129.0    207.0  118.110717   0.00000   \n",
       "2499     0.0     0.0    233.0    126.0    227.0  110.160958  50.00528   \n",
       "\n",
       "      volume_gas  \n",
       "key               \n",
       "2489   10.772628  \n",
       "2490   20.019526  \n",
       "2492   11.375063  \n",
       "2493    9.421691  \n",
       "2494    3.983053  \n",
       "2495    7.125735  \n",
       "2496    9.412616  \n",
       "2497    6.271699  \n",
       "2498   14.953657  \n",
       "2499   11.336151  "
      ]
     },
     "metadata": {},
     "output_type": "display_data"
    }
   ],
   "source": [
    "tabels=[start_temperature, electrode_info, data_bulk_materials_v, data_wire_v, data_with_gas]\n",
    "full_data= targets.set_index('key')\n",
    "for tabel in tabels:\n",
    "    full_data=full_data.join(tabel.set_index('key'), on='key', how='inner', rsuffix='_y')\n",
    "display(full_data.head(5))\n",
    "display(full_data.tail(10))"
   ]
  },
  {
   "cell_type": "markdown",
   "id": "518e5d74",
   "metadata": {},
   "source": [
    "**Вывод по данному этапу**: На данном этапе работы мы сформировали признаки, на которых будет обучаться модель и объединили их в таблицу.\n",
    "\n",
    "Для того, чтобы очистить память удалим все таблицы, которые вошли в финальную (оставим только те, что хранят информацию о времени, то есть data_wire_t и data_bulk_materials_t)"
   ]
  },
  {
   "cell_type": "code",
   "execution_count": 75,
   "id": "4ac4a8bf",
   "metadata": {},
   "outputs": [],
   "source": [
    "del electrode_data\n",
    "del data_bulk_materials_v\n",
    "del data_with_gas\n",
    "del data_with_temp\n",
    "del data_wire_v\n",
    "del targets\n",
    "del start_temperature\n",
    "del electrode_info"
   ]
  },
  {
   "cell_type": "markdown",
   "id": "ebbd68ed",
   "metadata": {},
   "source": [
    "## Исследовательский анализ и предобработка данных объединённого датафрейма"
   ]
  },
  {
   "cell_type": "code",
   "execution_count": 76,
   "id": "c6fd99ca",
   "metadata": {},
   "outputs": [
    {
     "data": {
      "text/html": [
       "<div>\n",
       "<style scoped>\n",
       "    .dataframe tbody tr th:only-of-type {\n",
       "        vertical-align: middle;\n",
       "    }\n",
       "\n",
       "    .dataframe tbody tr th {\n",
       "        vertical-align: top;\n",
       "    }\n",
       "\n",
       "    .dataframe thead th {\n",
       "        text-align: right;\n",
       "    }\n",
       "</style>\n",
       "<table border=\"1\" class=\"dataframe\">\n",
       "  <thead>\n",
       "    <tr style=\"text-align: right;\">\n",
       "      <th></th>\n",
       "      <th>key</th>\n",
       "      <th>measurement_time</th>\n",
       "      <th>temperature</th>\n",
       "      <th>measurement_time_y</th>\n",
       "      <th>temperature_y</th>\n",
       "      <th>duration</th>\n",
       "      <th>electrode_end</th>\n",
       "      <th>electrode_start</th>\n",
       "      <th>energy</th>\n",
       "      <th>bulk_3</th>\n",
       "      <th>bulk_4</th>\n",
       "      <th>bulk_6</th>\n",
       "      <th>bulk_12</th>\n",
       "      <th>bulk_14</th>\n",
       "      <th>bulk_15</th>\n",
       "      <th>wire_1</th>\n",
       "      <th>wire_2</th>\n",
       "      <th>volume_gas</th>\n",
       "    </tr>\n",
       "  </thead>\n",
       "  <tbody>\n",
       "    <tr>\n",
       "      <th>2319</th>\n",
       "      <td>2495</td>\n",
       "      <td>2019-08-10 11:50:47</td>\n",
       "      <td>1591</td>\n",
       "      <td>2019-08-10 11:27:47</td>\n",
       "      <td>1570</td>\n",
       "      <td>4</td>\n",
       "      <td>2019-08-10 11:48:05</td>\n",
       "      <td>2019-08-10 11:27:57</td>\n",
       "      <td>571.539318</td>\n",
       "      <td>21.0</td>\n",
       "      <td>0.0</td>\n",
       "      <td>0.0</td>\n",
       "      <td>256.0</td>\n",
       "      <td>129.0</td>\n",
       "      <td>223.0</td>\n",
       "      <td>89.150879</td>\n",
       "      <td>0.00000</td>\n",
       "      <td>7.125735</td>\n",
       "    </tr>\n",
       "    <tr>\n",
       "      <th>2320</th>\n",
       "      <td>2496</td>\n",
       "      <td>2019-08-10 12:25:13</td>\n",
       "      <td>1591</td>\n",
       "      <td>2019-08-10 11:56:48</td>\n",
       "      <td>1554</td>\n",
       "      <td>6</td>\n",
       "      <td>2019-08-10 12:23:07</td>\n",
       "      <td>2019-08-10 11:56:58</td>\n",
       "      <td>675.222467</td>\n",
       "      <td>0.0</td>\n",
       "      <td>63.0</td>\n",
       "      <td>0.0</td>\n",
       "      <td>256.0</td>\n",
       "      <td>129.0</td>\n",
       "      <td>226.0</td>\n",
       "      <td>114.179527</td>\n",
       "      <td>0.00000</td>\n",
       "      <td>9.412616</td>\n",
       "    </tr>\n",
       "    <tr>\n",
       "      <th>2321</th>\n",
       "      <td>2497</td>\n",
       "      <td>2019-08-10 12:53:28</td>\n",
       "      <td>1589</td>\n",
       "      <td>2019-08-10 12:37:26</td>\n",
       "      <td>1571</td>\n",
       "      <td>3</td>\n",
       "      <td>2019-08-10 12:51:20</td>\n",
       "      <td>2019-08-10 12:37:36</td>\n",
       "      <td>680.326674</td>\n",
       "      <td>0.0</td>\n",
       "      <td>85.0</td>\n",
       "      <td>0.0</td>\n",
       "      <td>230.0</td>\n",
       "      <td>124.0</td>\n",
       "      <td>226.0</td>\n",
       "      <td>94.086723</td>\n",
       "      <td>9.04800</td>\n",
       "      <td>6.271699</td>\n",
       "    </tr>\n",
       "    <tr>\n",
       "      <th>2322</th>\n",
       "      <td>2498</td>\n",
       "      <td>2019-08-10 13:23:31</td>\n",
       "      <td>1594</td>\n",
       "      <td>2019-08-10 12:58:11</td>\n",
       "      <td>1591</td>\n",
       "      <td>5</td>\n",
       "      <td>2019-08-10 13:20:59</td>\n",
       "      <td>2019-08-10 12:58:21</td>\n",
       "      <td>474.918795</td>\n",
       "      <td>90.0</td>\n",
       "      <td>0.0</td>\n",
       "      <td>0.0</td>\n",
       "      <td>206.0</td>\n",
       "      <td>129.0</td>\n",
       "      <td>207.0</td>\n",
       "      <td>118.110717</td>\n",
       "      <td>0.00000</td>\n",
       "      <td>14.953657</td>\n",
       "    </tr>\n",
       "    <tr>\n",
       "      <th>2323</th>\n",
       "      <td>2499</td>\n",
       "      <td>2019-08-10 13:58:58</td>\n",
       "      <td>1603</td>\n",
       "      <td>2019-08-10 13:33:21</td>\n",
       "      <td>1569</td>\n",
       "      <td>4</td>\n",
       "      <td>2019-08-10 13:56:17</td>\n",
       "      <td>2019-08-10 13:33:31</td>\n",
       "      <td>427.922553</td>\n",
       "      <td>47.0</td>\n",
       "      <td>0.0</td>\n",
       "      <td>0.0</td>\n",
       "      <td>233.0</td>\n",
       "      <td>126.0</td>\n",
       "      <td>227.0</td>\n",
       "      <td>110.160958</td>\n",
       "      <td>50.00528</td>\n",
       "      <td>11.336151</td>\n",
       "    </tr>\n",
       "  </tbody>\n",
       "</table>\n",
       "</div>"
      ],
      "text/plain": [
       "       key    measurement_time  temperature  measurement_time_y  \\\n",
       "2319  2495 2019-08-10 11:50:47         1591 2019-08-10 11:27:47   \n",
       "2320  2496 2019-08-10 12:25:13         1591 2019-08-10 11:56:48   \n",
       "2321  2497 2019-08-10 12:53:28         1589 2019-08-10 12:37:26   \n",
       "2322  2498 2019-08-10 13:23:31         1594 2019-08-10 12:58:11   \n",
       "2323  2499 2019-08-10 13:58:58         1603 2019-08-10 13:33:21   \n",
       "\n",
       "      temperature_y  duration       electrode_end     electrode_start  \\\n",
       "2319           1570         4 2019-08-10 11:48:05 2019-08-10 11:27:57   \n",
       "2320           1554         6 2019-08-10 12:23:07 2019-08-10 11:56:58   \n",
       "2321           1571         3 2019-08-10 12:51:20 2019-08-10 12:37:36   \n",
       "2322           1591         5 2019-08-10 13:20:59 2019-08-10 12:58:21   \n",
       "2323           1569         4 2019-08-10 13:56:17 2019-08-10 13:33:31   \n",
       "\n",
       "          energy  bulk_3  bulk_4  bulk_6  bulk_12  bulk_14  bulk_15  \\\n",
       "2319  571.539318    21.0     0.0     0.0    256.0    129.0    223.0   \n",
       "2320  675.222467     0.0    63.0     0.0    256.0    129.0    226.0   \n",
       "2321  680.326674     0.0    85.0     0.0    230.0    124.0    226.0   \n",
       "2322  474.918795    90.0     0.0     0.0    206.0    129.0    207.0   \n",
       "2323  427.922553    47.0     0.0     0.0    233.0    126.0    227.0   \n",
       "\n",
       "          wire_1    wire_2  volume_gas  \n",
       "2319   89.150879   0.00000    7.125735  \n",
       "2320  114.179527   0.00000    9.412616  \n",
       "2321   94.086723   9.04800    6.271699  \n",
       "2322  118.110717   0.00000   14.953657  \n",
       "2323  110.160958  50.00528   11.336151  "
      ]
     },
     "metadata": {},
     "output_type": "display_data"
    }
   ],
   "source": [
    "full_data=full_data.reset_index()\n",
    "display(full_data.tail(5))\n"
   ]
  },
  {
   "cell_type": "markdown",
   "id": "934be65b",
   "metadata": {},
   "source": [
    "Данные готовы к анализу.Но прежде всего посчитаем количество явных дубликатов."
   ]
  },
  {
   "cell_type": "code",
   "execution_count": 77,
   "id": "78785563",
   "metadata": {},
   "outputs": [
    {
     "name": "stdout",
     "output_type": "stream",
     "text": [
      "0\n"
     ]
    }
   ],
   "source": [
    "print(full_data.duplicated().sum())"
   ]
  },
  {
   "cell_type": "markdown",
   "id": "44acd618",
   "metadata": {},
   "source": [
    "их нет. \n",
    "\n",
    "Посмотрим на взаимосвязи признаков. Для этого создадим матрицу корреляций (коэффициентов Пирсона), после чего выведем ее в виде тепловой карты."
   ]
  },
  {
   "cell_type": "code",
   "execution_count": 78,
   "id": "a6f26d83",
   "metadata": {},
   "outputs": [
    {
     "data": {
      "text/html": [
       "<div>\n",
       "<style scoped>\n",
       "    .dataframe tbody tr th:only-of-type {\n",
       "        vertical-align: middle;\n",
       "    }\n",
       "\n",
       "    .dataframe tbody tr th {\n",
       "        vertical-align: top;\n",
       "    }\n",
       "\n",
       "    .dataframe thead th {\n",
       "        text-align: right;\n",
       "    }\n",
       "</style>\n",
       "<table border=\"1\" class=\"dataframe\">\n",
       "  <thead>\n",
       "    <tr style=\"text-align: right;\">\n",
       "      <th></th>\n",
       "      <th>key</th>\n",
       "      <th>temperature</th>\n",
       "      <th>temperature_y</th>\n",
       "      <th>duration</th>\n",
       "      <th>energy</th>\n",
       "      <th>bulk_3</th>\n",
       "      <th>bulk_4</th>\n",
       "      <th>bulk_6</th>\n",
       "      <th>bulk_12</th>\n",
       "      <th>bulk_14</th>\n",
       "      <th>bulk_15</th>\n",
       "      <th>wire_1</th>\n",
       "      <th>wire_2</th>\n",
       "      <th>volume_gas</th>\n",
       "    </tr>\n",
       "  </thead>\n",
       "  <tbody>\n",
       "    <tr>\n",
       "      <th>0</th>\n",
       "      <td>1</td>\n",
       "      <td>1613</td>\n",
       "      <td>1571</td>\n",
       "      <td>5</td>\n",
       "      <td>628.616930</td>\n",
       "      <td>0.0</td>\n",
       "      <td>43.0</td>\n",
       "      <td>0.0</td>\n",
       "      <td>206.0</td>\n",
       "      <td>150.0</td>\n",
       "      <td>154.0</td>\n",
       "      <td>60.059998</td>\n",
       "      <td>0.00000</td>\n",
       "      <td>29.749986</td>\n",
       "    </tr>\n",
       "    <tr>\n",
       "      <th>1</th>\n",
       "      <td>2</td>\n",
       "      <td>1602</td>\n",
       "      <td>1581</td>\n",
       "      <td>4</td>\n",
       "      <td>395.281800</td>\n",
       "      <td>0.0</td>\n",
       "      <td>73.0</td>\n",
       "      <td>0.0</td>\n",
       "      <td>206.0</td>\n",
       "      <td>149.0</td>\n",
       "      <td>154.0</td>\n",
       "      <td>96.052315</td>\n",
       "      <td>0.00000</td>\n",
       "      <td>12.555561</td>\n",
       "    </tr>\n",
       "    <tr>\n",
       "      <th>2</th>\n",
       "      <td>3</td>\n",
       "      <td>1599</td>\n",
       "      <td>1596</td>\n",
       "      <td>5</td>\n",
       "      <td>581.774624</td>\n",
       "      <td>0.0</td>\n",
       "      <td>34.0</td>\n",
       "      <td>0.0</td>\n",
       "      <td>205.0</td>\n",
       "      <td>152.0</td>\n",
       "      <td>153.0</td>\n",
       "      <td>91.160157</td>\n",
       "      <td>0.00000</td>\n",
       "      <td>28.554793</td>\n",
       "    </tr>\n",
       "    <tr>\n",
       "      <th>3</th>\n",
       "      <td>4</td>\n",
       "      <td>1625</td>\n",
       "      <td>1601</td>\n",
       "      <td>4</td>\n",
       "      <td>543.710274</td>\n",
       "      <td>0.0</td>\n",
       "      <td>81.0</td>\n",
       "      <td>0.0</td>\n",
       "      <td>207.0</td>\n",
       "      <td>153.0</td>\n",
       "      <td>154.0</td>\n",
       "      <td>89.063515</td>\n",
       "      <td>0.00000</td>\n",
       "      <td>18.841219</td>\n",
       "    </tr>\n",
       "    <tr>\n",
       "      <th>4</th>\n",
       "      <td>5</td>\n",
       "      <td>1602</td>\n",
       "      <td>1576</td>\n",
       "      <td>4</td>\n",
       "      <td>412.180480</td>\n",
       "      <td>0.0</td>\n",
       "      <td>78.0</td>\n",
       "      <td>0.0</td>\n",
       "      <td>203.0</td>\n",
       "      <td>151.0</td>\n",
       "      <td>152.0</td>\n",
       "      <td>89.238236</td>\n",
       "      <td>9.11456</td>\n",
       "      <td>5.413692</td>\n",
       "    </tr>\n",
       "  </tbody>\n",
       "</table>\n",
       "</div>"
      ],
      "text/plain": [
       "   key  temperature  temperature_y  duration      energy  bulk_3  bulk_4  \\\n",
       "0    1         1613           1571         5  628.616930     0.0    43.0   \n",
       "1    2         1602           1581         4  395.281800     0.0    73.0   \n",
       "2    3         1599           1596         5  581.774624     0.0    34.0   \n",
       "3    4         1625           1601         4  543.710274     0.0    81.0   \n",
       "4    5         1602           1576         4  412.180480     0.0    78.0   \n",
       "\n",
       "   bulk_6  bulk_12  bulk_14  bulk_15     wire_1   wire_2  volume_gas  \n",
       "0     0.0    206.0    150.0    154.0  60.059998  0.00000   29.749986  \n",
       "1     0.0    206.0    149.0    154.0  96.052315  0.00000   12.555561  \n",
       "2     0.0    205.0    152.0    153.0  91.160157  0.00000   28.554793  \n",
       "3     0.0    207.0    153.0    154.0  89.063515  0.00000   18.841219  \n",
       "4     0.0    203.0    151.0    152.0  89.238236  9.11456    5.413692  "
      ]
     },
     "metadata": {},
     "output_type": "display_data"
    }
   ],
   "source": [
    "data_without_data=full_data.drop(columns=['measurement_time', 'measurement_time_y', 'electrode_end', 'electrode_start'])\n",
    "display(data_without_data.head())"
   ]
  },
  {
   "cell_type": "code",
   "execution_count": 79,
   "id": "2f5cf99c",
   "metadata": {},
   "outputs": [
    {
     "data": {
      "text/html": [
       "<div>\n",
       "<style scoped>\n",
       "    .dataframe tbody tr th:only-of-type {\n",
       "        vertical-align: middle;\n",
       "    }\n",
       "\n",
       "    .dataframe tbody tr th {\n",
       "        vertical-align: top;\n",
       "    }\n",
       "\n",
       "    .dataframe thead th {\n",
       "        text-align: right;\n",
       "    }\n",
       "</style>\n",
       "<table border=\"1\" class=\"dataframe\">\n",
       "  <thead>\n",
       "    <tr style=\"text-align: right;\">\n",
       "      <th></th>\n",
       "      <th>key</th>\n",
       "      <th>temperature</th>\n",
       "      <th>temperature_y</th>\n",
       "      <th>duration</th>\n",
       "      <th>energy</th>\n",
       "      <th>bulk_3</th>\n",
       "      <th>bulk_4</th>\n",
       "      <th>bulk_6</th>\n",
       "      <th>bulk_12</th>\n",
       "      <th>bulk_14</th>\n",
       "      <th>bulk_15</th>\n",
       "      <th>wire_1</th>\n",
       "      <th>wire_2</th>\n",
       "      <th>volume_gas</th>\n",
       "    </tr>\n",
       "  </thead>\n",
       "  <tbody>\n",
       "    <tr>\n",
       "      <th>key</th>\n",
       "      <td>1.000000</td>\n",
       "      <td>-0.096408</td>\n",
       "      <td>-0.016279</td>\n",
       "      <td>-0.032522</td>\n",
       "      <td>-0.019006</td>\n",
       "      <td>-0.006001</td>\n",
       "      <td>-0.026251</td>\n",
       "      <td>0.005363</td>\n",
       "      <td>0.026981</td>\n",
       "      <td>-0.110121</td>\n",
       "      <td>-0.044505</td>\n",
       "      <td>-0.013408</td>\n",
       "      <td>0.043647</td>\n",
       "      <td>-0.043089</td>\n",
       "    </tr>\n",
       "    <tr>\n",
       "      <th>temperature</th>\n",
       "      <td>-0.096408</td>\n",
       "      <td>1.000000</td>\n",
       "      <td>0.301882</td>\n",
       "      <td>0.180276</td>\n",
       "      <td>0.257862</td>\n",
       "      <td>-0.037156</td>\n",
       "      <td>0.187817</td>\n",
       "      <td>-0.180906</td>\n",
       "      <td>0.266805</td>\n",
       "      <td>0.114893</td>\n",
       "      <td>0.265772</td>\n",
       "      <td>0.317488</td>\n",
       "      <td>-0.207242</td>\n",
       "      <td>0.059079</td>\n",
       "    </tr>\n",
       "    <tr>\n",
       "      <th>temperature_y</th>\n",
       "      <td>-0.016279</td>\n",
       "      <td>0.301882</td>\n",
       "      <td>1.000000</td>\n",
       "      <td>-0.176861</td>\n",
       "      <td>-0.345222</td>\n",
       "      <td>-0.113380</td>\n",
       "      <td>0.165484</td>\n",
       "      <td>-0.127046</td>\n",
       "      <td>-0.079574</td>\n",
       "      <td>-0.179991</td>\n",
       "      <td>-0.062382</td>\n",
       "      <td>0.262880</td>\n",
       "      <td>-0.101101</td>\n",
       "      <td>0.036736</td>\n",
       "    </tr>\n",
       "    <tr>\n",
       "      <th>duration</th>\n",
       "      <td>-0.032522</td>\n",
       "      <td>0.180276</td>\n",
       "      <td>-0.176861</td>\n",
       "      <td>1.000000</td>\n",
       "      <td>0.712169</td>\n",
       "      <td>0.107308</td>\n",
       "      <td>-0.004955</td>\n",
       "      <td>0.153168</td>\n",
       "      <td>0.306377</td>\n",
       "      <td>0.333801</td>\n",
       "      <td>0.173835</td>\n",
       "      <td>0.137893</td>\n",
       "      <td>0.078226</td>\n",
       "      <td>0.404053</td>\n",
       "    </tr>\n",
       "    <tr>\n",
       "      <th>energy</th>\n",
       "      <td>-0.019006</td>\n",
       "      <td>0.257862</td>\n",
       "      <td>-0.345222</td>\n",
       "      <td>0.712169</td>\n",
       "      <td>1.000000</td>\n",
       "      <td>0.088805</td>\n",
       "      <td>-0.020899</td>\n",
       "      <td>0.148159</td>\n",
       "      <td>0.421033</td>\n",
       "      <td>0.406902</td>\n",
       "      <td>0.272895</td>\n",
       "      <td>0.060778</td>\n",
       "      <td>0.046604</td>\n",
       "      <td>0.354474</td>\n",
       "    </tr>\n",
       "    <tr>\n",
       "      <th>bulk_3</th>\n",
       "      <td>-0.006001</td>\n",
       "      <td>-0.037156</td>\n",
       "      <td>-0.113380</td>\n",
       "      <td>0.107308</td>\n",
       "      <td>0.088805</td>\n",
       "      <td>1.000000</td>\n",
       "      <td>-0.295526</td>\n",
       "      <td>0.066316</td>\n",
       "      <td>0.018059</td>\n",
       "      <td>0.011209</td>\n",
       "      <td>-0.013181</td>\n",
       "      <td>0.037788</td>\n",
       "      <td>0.094897</td>\n",
       "      <td>0.059665</td>\n",
       "    </tr>\n",
       "    <tr>\n",
       "      <th>bulk_4</th>\n",
       "      <td>-0.026251</td>\n",
       "      <td>0.187817</td>\n",
       "      <td>0.165484</td>\n",
       "      <td>-0.004955</td>\n",
       "      <td>-0.020899</td>\n",
       "      <td>-0.295526</td>\n",
       "      <td>1.000000</td>\n",
       "      <td>-0.251577</td>\n",
       "      <td>0.105190</td>\n",
       "      <td>-0.091103</td>\n",
       "      <td>0.100833</td>\n",
       "      <td>0.298145</td>\n",
       "      <td>-0.268115</td>\n",
       "      <td>0.017532</td>\n",
       "    </tr>\n",
       "    <tr>\n",
       "      <th>bulk_6</th>\n",
       "      <td>0.005363</td>\n",
       "      <td>-0.180906</td>\n",
       "      <td>-0.127046</td>\n",
       "      <td>0.153168</td>\n",
       "      <td>0.148159</td>\n",
       "      <td>0.066316</td>\n",
       "      <td>-0.251577</td>\n",
       "      <td>1.000000</td>\n",
       "      <td>-0.112169</td>\n",
       "      <td>0.176791</td>\n",
       "      <td>-0.108626</td>\n",
       "      <td>-0.235445</td>\n",
       "      <td>0.205432</td>\n",
       "      <td>0.139574</td>\n",
       "    </tr>\n",
       "    <tr>\n",
       "      <th>bulk_12</th>\n",
       "      <td>0.026981</td>\n",
       "      <td>0.266805</td>\n",
       "      <td>-0.079574</td>\n",
       "      <td>0.306377</td>\n",
       "      <td>0.421033</td>\n",
       "      <td>0.018059</td>\n",
       "      <td>0.105190</td>\n",
       "      <td>-0.112169</td>\n",
       "      <td>1.000000</td>\n",
       "      <td>0.481609</td>\n",
       "      <td>0.613870</td>\n",
       "      <td>0.170812</td>\n",
       "      <td>-0.098208</td>\n",
       "      <td>0.216969</td>\n",
       "    </tr>\n",
       "    <tr>\n",
       "      <th>bulk_14</th>\n",
       "      <td>-0.110121</td>\n",
       "      <td>0.114893</td>\n",
       "      <td>-0.179991</td>\n",
       "      <td>0.333801</td>\n",
       "      <td>0.406902</td>\n",
       "      <td>0.011209</td>\n",
       "      <td>-0.091103</td>\n",
       "      <td>0.176791</td>\n",
       "      <td>0.481609</td>\n",
       "      <td>1.000000</td>\n",
       "      <td>0.264903</td>\n",
       "      <td>-0.052654</td>\n",
       "      <td>0.037017</td>\n",
       "      <td>0.268284</td>\n",
       "    </tr>\n",
       "    <tr>\n",
       "      <th>bulk_15</th>\n",
       "      <td>-0.044505</td>\n",
       "      <td>0.265772</td>\n",
       "      <td>-0.062382</td>\n",
       "      <td>0.173835</td>\n",
       "      <td>0.272895</td>\n",
       "      <td>-0.013181</td>\n",
       "      <td>0.100833</td>\n",
       "      <td>-0.108626</td>\n",
       "      <td>0.613870</td>\n",
       "      <td>0.264903</td>\n",
       "      <td>1.000000</td>\n",
       "      <td>0.119047</td>\n",
       "      <td>-0.096411</td>\n",
       "      <td>0.043033</td>\n",
       "    </tr>\n",
       "    <tr>\n",
       "      <th>wire_1</th>\n",
       "      <td>-0.013408</td>\n",
       "      <td>0.317488</td>\n",
       "      <td>0.262880</td>\n",
       "      <td>0.137893</td>\n",
       "      <td>0.060778</td>\n",
       "      <td>0.037788</td>\n",
       "      <td>0.298145</td>\n",
       "      <td>-0.235445</td>\n",
       "      <td>0.170812</td>\n",
       "      <td>-0.052654</td>\n",
       "      <td>0.119047</td>\n",
       "      <td>1.000000</td>\n",
       "      <td>-0.069439</td>\n",
       "      <td>0.118192</td>\n",
       "    </tr>\n",
       "    <tr>\n",
       "      <th>wire_2</th>\n",
       "      <td>0.043647</td>\n",
       "      <td>-0.207242</td>\n",
       "      <td>-0.101101</td>\n",
       "      <td>0.078226</td>\n",
       "      <td>0.046604</td>\n",
       "      <td>0.094897</td>\n",
       "      <td>-0.268115</td>\n",
       "      <td>0.205432</td>\n",
       "      <td>-0.098208</td>\n",
       "      <td>0.037017</td>\n",
       "      <td>-0.096411</td>\n",
       "      <td>-0.069439</td>\n",
       "      <td>1.000000</td>\n",
       "      <td>0.104653</td>\n",
       "    </tr>\n",
       "    <tr>\n",
       "      <th>volume_gas</th>\n",
       "      <td>-0.043089</td>\n",
       "      <td>0.059079</td>\n",
       "      <td>0.036736</td>\n",
       "      <td>0.404053</td>\n",
       "      <td>0.354474</td>\n",
       "      <td>0.059665</td>\n",
       "      <td>0.017532</td>\n",
       "      <td>0.139574</td>\n",
       "      <td>0.216969</td>\n",
       "      <td>0.268284</td>\n",
       "      <td>0.043033</td>\n",
       "      <td>0.118192</td>\n",
       "      <td>0.104653</td>\n",
       "      <td>1.000000</td>\n",
       "    </tr>\n",
       "  </tbody>\n",
       "</table>\n",
       "</div>"
      ],
      "text/plain": [
       "                    key  temperature  temperature_y  duration    energy  \\\n",
       "key            1.000000    -0.096408      -0.016279 -0.032522 -0.019006   \n",
       "temperature   -0.096408     1.000000       0.301882  0.180276  0.257862   \n",
       "temperature_y -0.016279     0.301882       1.000000 -0.176861 -0.345222   \n",
       "duration      -0.032522     0.180276      -0.176861  1.000000  0.712169   \n",
       "energy        -0.019006     0.257862      -0.345222  0.712169  1.000000   \n",
       "bulk_3        -0.006001    -0.037156      -0.113380  0.107308  0.088805   \n",
       "bulk_4        -0.026251     0.187817       0.165484 -0.004955 -0.020899   \n",
       "bulk_6         0.005363    -0.180906      -0.127046  0.153168  0.148159   \n",
       "bulk_12        0.026981     0.266805      -0.079574  0.306377  0.421033   \n",
       "bulk_14       -0.110121     0.114893      -0.179991  0.333801  0.406902   \n",
       "bulk_15       -0.044505     0.265772      -0.062382  0.173835  0.272895   \n",
       "wire_1        -0.013408     0.317488       0.262880  0.137893  0.060778   \n",
       "wire_2         0.043647    -0.207242      -0.101101  0.078226  0.046604   \n",
       "volume_gas    -0.043089     0.059079       0.036736  0.404053  0.354474   \n",
       "\n",
       "                 bulk_3    bulk_4    bulk_6   bulk_12   bulk_14   bulk_15  \\\n",
       "key           -0.006001 -0.026251  0.005363  0.026981 -0.110121 -0.044505   \n",
       "temperature   -0.037156  0.187817 -0.180906  0.266805  0.114893  0.265772   \n",
       "temperature_y -0.113380  0.165484 -0.127046 -0.079574 -0.179991 -0.062382   \n",
       "duration       0.107308 -0.004955  0.153168  0.306377  0.333801  0.173835   \n",
       "energy         0.088805 -0.020899  0.148159  0.421033  0.406902  0.272895   \n",
       "bulk_3         1.000000 -0.295526  0.066316  0.018059  0.011209 -0.013181   \n",
       "bulk_4        -0.295526  1.000000 -0.251577  0.105190 -0.091103  0.100833   \n",
       "bulk_6         0.066316 -0.251577  1.000000 -0.112169  0.176791 -0.108626   \n",
       "bulk_12        0.018059  0.105190 -0.112169  1.000000  0.481609  0.613870   \n",
       "bulk_14        0.011209 -0.091103  0.176791  0.481609  1.000000  0.264903   \n",
       "bulk_15       -0.013181  0.100833 -0.108626  0.613870  0.264903  1.000000   \n",
       "wire_1         0.037788  0.298145 -0.235445  0.170812 -0.052654  0.119047   \n",
       "wire_2         0.094897 -0.268115  0.205432 -0.098208  0.037017 -0.096411   \n",
       "volume_gas     0.059665  0.017532  0.139574  0.216969  0.268284  0.043033   \n",
       "\n",
       "                 wire_1    wire_2  volume_gas  \n",
       "key           -0.013408  0.043647   -0.043089  \n",
       "temperature    0.317488 -0.207242    0.059079  \n",
       "temperature_y  0.262880 -0.101101    0.036736  \n",
       "duration       0.137893  0.078226    0.404053  \n",
       "energy         0.060778  0.046604    0.354474  \n",
       "bulk_3         0.037788  0.094897    0.059665  \n",
       "bulk_4         0.298145 -0.268115    0.017532  \n",
       "bulk_6        -0.235445  0.205432    0.139574  \n",
       "bulk_12        0.170812 -0.098208    0.216969  \n",
       "bulk_14       -0.052654  0.037017    0.268284  \n",
       "bulk_15        0.119047 -0.096411    0.043033  \n",
       "wire_1         1.000000 -0.069439    0.118192  \n",
       "wire_2        -0.069439  1.000000    0.104653  \n",
       "volume_gas     0.118192  0.104653    1.000000  "
      ]
     },
     "metadata": {},
     "output_type": "display_data"
    }
   ],
   "source": [
    "corr_matrix=data_without_data.corr()\n",
    "display(corr_matrix)"
   ]
  },
  {
   "cell_type": "code",
   "execution_count": 80,
   "id": "a7de8771",
   "metadata": {},
   "outputs": [
    {
     "data": {
      "image/png": "[encoded data removed]",
      "text/plain": [
       "<Figure size 864x576 with 2 Axes>"
      ]
     },
     "metadata": {
      "needs_background": "light"
     },
     "output_type": "display_data"
    }
   ],
   "source": [
    "plt.figure(figsize = (12,8))\n",
    "sns.heatmap(corr_matrix, annot=True)\n",
    "plt.title('Тепловая карта матрицы корреляций');"
   ]
  },
  {
   "cell_type": "markdown",
   "id": "cbd506fc",
   "metadata": {},
   "source": [
    "по тепловой диаграмме видно, что связей между целевым признаком и всеми остальными нет, то есть использовать линейные модели крайне не логично. \n",
    "Перейдем к изучению всех признаков поподробнее. Прскольку удаление возможно только после разделения на обучающую и тестовую выборки, на этом этапе мы отметим, что нужно будет удалить, а на следующем этапе после разделения уже удалим. \n",
    "\n",
    "Прежде всего посмотрим на все распределения в целом."
   ]
  },
  {
   "cell_type": "code",
   "execution_count": 85,
   "id": "b202654b",
   "metadata": {
    "scrolled": true
   },
   "outputs": [
    {
     "data": {
      "image/png": "[encoded data removed]",
      "text/plain": [
       "<Figure size 432x288 with 1 Axes>"
      ]
     },
     "metadata": {
      "needs_background": "light"
     },
     "output_type": "display_data"
    },
    {
     "data": {
      "image/png": "[encoded data removed]",
      "text/plain": [
       "<Figure size 432x288 with 1 Axes>"
      ]
     },
     "metadata": {
      "needs_background": "light"
     },
     "output_type": "display_data"
    },
    {
     "data": {
      "image/png": "[encoded data removed]",
      "text/plain": [
       "<Figure size 432x288 with 1 Axes>"
      ]
     },
     "metadata": {
      "needs_background": "light"
     },
     "output_type": "display_data"
    },
    {
     "data": {
      "image/png": "[encoded data removed]",
      "text/plain": [
       "<Figure size 432x288 with 1 Axes>"
      ]
     },
     "metadata": {
      "needs_background": "light"
     },
     "output_type": "display_data"
    },
    {
     "data": {
      "image/png": "[encoded data removed]",
      "text/plain": [
       "<Figure size 432x288 with 1 Axes>"
      ]
     },
     "metadata": {
      "needs_background": "light"
     },
     "output_type": "display_data"
    },
    {
     "data": {
      "image/png": "[encoded data removed]",
      "text/plain": [
       "<Figure size 432x288 with 1 Axes>"
      ]
     },
     "metadata": {
      "needs_background": "light"
     },
     "output_type": "display_data"
    },
    {
     "data": {
      "image/png": "[encoded data removed]",
      "text/plain": [
       "<Figure size 432x288 with 1 Axes>"
      ]
     },
     "metadata": {
      "needs_background": "light"
     },
     "output_type": "display_data"
    },
    {
     "data": {
      "image/png": "[encoded data removed]",
      "text/plain": [
       "<Figure size 432x288 with 1 Axes>"
      ]
     },
     "metadata": {
      "needs_background": "light"
     },
     "output_type": "display_data"
    },
    {
     "data": {
      "image/png": "[encoded data removed]",
      "text/plain": [
       "<Figure size 432x288 with 1 Axes>"
      ]
     },
     "metadata": {
      "needs_background": "light"
     },
     "output_type": "display_data"
    },
    {
     "data": {
      "image/png": "[encoded data removed]",
      "text/plain": [
       "<Figure size 432x288 with 1 Axes>"
      ]
     },
     "metadata": {
      "needs_background": "light"
     },
     "output_type": "display_data"
    },
    {
     "data": {
      "image/png": "[encoded data removed]",
      "text/plain": [
       "<Figure size 432x288 with 1 Axes>"
      ]
     },
     "metadata": {
      "needs_background": "light"
     },
     "output_type": "display_data"
    },
    {
     "data": {
      "image/png": "[encoded data removed]",
      "text/plain": [
       "<Figure size 432x288 with 1 Axes>"
      ]
     },
     "metadata": {
      "needs_background": "light"
     },
     "output_type": "display_data"
    },
    {
     "data": {
      "image/png": "[encoded data removed]",
      "text/plain": [
       "<Figure size 432x288 with 1 Axes>"
      ]
     },
     "metadata": {
      "needs_background": "light"
     },
     "output_type": "display_data"
    },
    {
     "data": {
      "image/png": "[encoded data removed]",
      "text/plain": [
       "<Figure size 432x288 with 1 Axes>"
      ]
     },
     "metadata": {
      "needs_background": "light"
     },
     "output_type": "display_data"
    }
   ],
   "source": [
    "for col in data_without_data.columns:\n",
    "    data_without_data[col].hist()\n",
    "    plt.title('распределение для {}'.format(col))\n",
    "    plt.show()"
   ]
  },
  {
   "cell_type": "markdown",
   "id": "cfbc92d5",
   "metadata": {},
   "source": [
    "По данным гистограммам видно, что значения температур имеют нормальные распределения и практически не имеют выбросов (только таргеты имеют небольшие, но какие мы сейчас и увидим)"
   ]
  },
  {
   "cell_type": "code",
   "execution_count": 86,
   "id": "a7f2dafa",
   "metadata": {},
   "outputs": [
    {
     "data": {
      "image/png": "[encoded data removed]",
      "text/plain": [
       "<Figure size 432x288 with 1 Axes>"
      ]
     },
     "metadata": {
      "needs_background": "light"
     },
     "output_type": "display_data"
    }
   ],
   "source": [
    "plt.title('Распределение для температуры в конце процесса.')\n",
    "data_without_data['temperature'].hist()\n",
    "plt.xlabel('значение температуры')\n",
    "plt.ylabel('количество процессов');"
   ]
  },
  {
   "cell_type": "markdown",
   "id": "4fe2b8e7",
   "metadata": {},
   "source": [
    "по данной гистограмме видно, что данные чисты и выбросов не имеют.\n",
    "\n",
    "Рассотрим распределение для начальной температуры"
   ]
  },
  {
   "cell_type": "code",
   "execution_count": 87,
   "id": "36c499dc",
   "metadata": {},
   "outputs": [
    {
     "data": {
      "image/png": "[encoded data removed]",
      "text/plain": [
       "<Figure size 432x288 with 1 Axes>"
      ]
     },
     "metadata": {
      "needs_background": "light"
     },
     "output_type": "display_data"
    }
   ],
   "source": [
    "plt.title('Распределение для температуры в начале процесса.')\n",
    "data_without_data['temperature_y'].hist()\n",
    "plt.xlabel('значение температуры')\n",
    "plt.ylabel('количество процессов');"
   ]
  },
  {
   "cell_type": "markdown",
   "id": "82ad9353",
   "metadata": {},
   "source": [
    "Здесь тоже наблюдается нормальное распределение без выбросов, так что удалять никакие строки не нужно:)\n",
    "\n",
    "Теперь переходим к количеству этапов нагрева"
   ]
  },
  {
   "cell_type": "code",
   "execution_count": 88,
   "id": "919d8ac6",
   "metadata": {},
   "outputs": [
    {
     "data": {
      "image/png": "[encoded data removed]",
      "text/plain": [
       "<Figure size 432x288 with 1 Axes>"
      ]
     },
     "metadata": {
      "needs_background": "light"
     },
     "output_type": "display_data"
    }
   ],
   "source": [
    "plt.title('Распределение количества этапов нагрева.')\n",
    "data_without_data['duration'].hist()\n",
    "plt.xlabel('количество нагреваний')\n",
    "plt.ylabel('количество процессов');"
   ]
  },
  {
   "cell_type": "markdown",
   "id": "70c8c57d",
   "metadata": {},
   "source": [
    "как мы видим, здесь категорически мало значений после 12, выведем их и посмотрим, сколько это в процентах от всей выборки."
   ]
  },
  {
   "cell_type": "code",
   "execution_count": 89,
   "id": "f194ebe4",
   "metadata": {},
   "outputs": [
    {
     "name": "stdout",
     "output_type": "stream",
     "text": [
      "0.30120481927710846\n"
     ]
    }
   ],
   "source": [
    "print(data_without_data.query('duration>=12')['duration'].count()/len(data_without_data)*100)"
   ]
  },
  {
   "cell_type": "markdown",
   "id": "d8e2786a",
   "metadata": {},
   "source": [
    "Это всего 0,3 процента, так что все строки, где количество нагреваний больше 12 можно будет удалить\n",
    "\n",
    "Рассмотрим столбец energy:"
   ]
  },
  {
   "cell_type": "code",
   "execution_count": 90,
   "id": "45cb11ac",
   "metadata": {},
   "outputs": [
    {
     "data": {
      "image/png": "[encoded data removed]",
      "text/plain": [
       "<Figure size 432x288 with 1 Axes>"
      ]
     },
     "metadata": {
      "needs_background": "light"
     },
     "output_type": "display_data"
    }
   ],
   "source": [
    "plt.title('Распределение количества передаваемой сплаву энергии')\n",
    "data_without_data['energy'].hist()\n",
    "plt.xlabel('энергия')\n",
    "plt.ylabel('количество процессов');"
   ]
  },
  {
   "cell_type": "markdown",
   "id": "e76a3312",
   "metadata": {},
   "source": [
    "Как мы видим по распределению, здесь есть большие выбросы (выбросами можно считать значения большие 2000, поскольку их даже не видно, судя по всему они содержатся в единичном эквиваленте)\n",
    "\n",
    "Что же касается всех BULK_{} и WIRE_{}, то здесь мы их рассматривать не будем, потому что на этапе определения важности признака мы поняли, что они важны, хоть и распределения у них не очень.\n",
    "\n",
    "Рассмотрим, столбец с объемом газа"
   ]
  },
  {
   "cell_type": "code",
   "execution_count": 91,
   "id": "d6b2c9db",
   "metadata": {},
   "outputs": [
    {
     "data": {
      "image/png": "[encoded data removed]",
      "text/plain": [
       "<Figure size 432x288 with 1 Axes>"
      ]
     },
     "metadata": {
      "needs_background": "light"
     },
     "output_type": "display_data"
    }
   ],
   "source": [
    "plt.title('Распределение объема подаваемого газа')\n",
    "data_without_data['volume_gas'].hist()\n",
    "plt.xlabel('объем газа')\n",
    "plt.ylabel('количество процессов');"
   ]
  },
  {
   "cell_type": "markdown",
   "id": "8b8346b0",
   "metadata": {},
   "source": [
    "Как мы видим, здесь тоже присутствуют выбросы (все значения, большие 55), которые тоже нужно будет удалить.\n",
    "\n",
    "Перейдем к проверке корректности данных ( то есть мы будем смотреть, везде ли времена действий попадают в рамки процесса, обозначенного, как measurement_time_у и measurement_time)"
   ]
  },
  {
   "cell_type": "code",
   "execution_count": 92,
   "id": "9e2bc154",
   "metadata": {},
   "outputs": [
    {
     "name": "stdout",
     "output_type": "stream",
     "text": [
      "[]\n"
     ]
    }
   ],
   "source": [
    "indexies=[]\n",
    "for i in range(len(full_data)):\n",
    "    flag=False\n",
    "    if full_data.iloc[i]['measurement_time_y']>=full_data.iloc[i]['measurement_time']:\n",
    "        flag=True\n",
    "    if full_data.iloc[i]['electrode_start']>=full_data.iloc[i]['electrode_end']:\n",
    "        flag=True\n",
    "    if full_data.iloc[i]['electrode_end']>=full_data.iloc[i]['measurement_time'] or\\\n",
    "    full_data.iloc[i]['electrode_start']<full_data.iloc[i]['measurement_time_y']:\n",
    "        flag=True\n",
    "    if flag:\n",
    "        indexies.append(i)\n",
    "print(indexies)"
   ]
  },
  {
   "cell_type": "markdown",
   "id": "2dfe950b",
   "metadata": {},
   "source": [
    "Таких значений в таблице нет, проверим, есть ли такие значения во времени с помощью таблиц data_bulk_materials_t и data_wire_t"
   ]
  },
  {
   "cell_type": "markdown",
   "id": "dd780614",
   "metadata": {},
   "source": [
    "Для того, чтобы не сравнивать все значения,  нам для обнаружения ошибки достаточно знать наибольшее время, когда было совершено действие и сравнить его с окончанием процесса. \n",
    "Для этого в таблица data_bulk_materials_t и data_wire_t создадим столбцы с максимальным временем для каждого процесса, после чего сравним его со временем финального измерения."
   ]
  },
  {
   "cell_type": "code",
   "execution_count": 93,
   "id": "f6471248",
   "metadata": {},
   "outputs": [
    {
     "data": {
      "text/html": [
       "<div>\n",
       "<style scoped>\n",
       "    .dataframe tbody tr th:only-of-type {\n",
       "        vertical-align: middle;\n",
       "    }\n",
       "\n",
       "    .dataframe tbody tr th {\n",
       "        vertical-align: top;\n",
       "    }\n",
       "\n",
       "    .dataframe thead th {\n",
       "        text-align: right;\n",
       "    }\n",
       "</style>\n",
       "<table border=\"1\" class=\"dataframe\">\n",
       "  <thead>\n",
       "    <tr style=\"text-align: right;\">\n",
       "      <th></th>\n",
       "      <th>bulk_3</th>\n",
       "      <th>bulk_4</th>\n",
       "      <th>bulk_6</th>\n",
       "      <th>bulk_12</th>\n",
       "      <th>bulk_14</th>\n",
       "      <th>bulk_15</th>\n",
       "    </tr>\n",
       "  </thead>\n",
       "  <tbody>\n",
       "    <tr>\n",
       "      <th>0</th>\n",
       "      <td>NaT</td>\n",
       "      <td>2019-05-03 11:28:48</td>\n",
       "      <td>NaT</td>\n",
       "      <td>2019-05-03 11:24:31</td>\n",
       "      <td>2019-05-03 11:14:50</td>\n",
       "      <td>2019-05-03 11:10:43</td>\n",
       "    </tr>\n",
       "    <tr>\n",
       "      <th>1</th>\n",
       "      <td>NaT</td>\n",
       "      <td>2019-05-03 11:36:50</td>\n",
       "      <td>NaT</td>\n",
       "      <td>2019-05-03 11:53:30</td>\n",
       "      <td>2019-05-03 11:48:37</td>\n",
       "      <td>2019-05-03 11:44:39</td>\n",
       "    </tr>\n",
       "    <tr>\n",
       "      <th>2</th>\n",
       "      <td>NaT</td>\n",
       "      <td>2019-05-03 12:32:39</td>\n",
       "      <td>NaT</td>\n",
       "      <td>2019-05-03 12:27:13</td>\n",
       "      <td>2019-05-03 12:21:01</td>\n",
       "      <td>2019-05-03 12:16:16</td>\n",
       "    </tr>\n",
       "    <tr>\n",
       "      <th>3</th>\n",
       "      <td>NaT</td>\n",
       "      <td>2019-05-03 12:43:22</td>\n",
       "      <td>NaT</td>\n",
       "      <td>2019-05-03 12:58:00</td>\n",
       "      <td>2019-05-03 12:51:11</td>\n",
       "      <td>2019-05-03 12:46:36</td>\n",
       "    </tr>\n",
       "    <tr>\n",
       "      <th>4</th>\n",
       "      <td>NaT</td>\n",
       "      <td>2019-05-03 13:30:47</td>\n",
       "      <td>NaT</td>\n",
       "      <td>2019-05-03 13:30:47</td>\n",
       "      <td>2019-05-03 13:34:12</td>\n",
       "      <td>2019-05-03 13:30:47</td>\n",
       "    </tr>\n",
       "  </tbody>\n",
       "</table>\n",
       "</div>"
      ],
      "text/plain": [
       "  bulk_3              bulk_4 bulk_6             bulk_12             bulk_14  \\\n",
       "0    NaT 2019-05-03 11:28:48    NaT 2019-05-03 11:24:31 2019-05-03 11:14:50   \n",
       "1    NaT 2019-05-03 11:36:50    NaT 2019-05-03 11:53:30 2019-05-03 11:48:37   \n",
       "2    NaT 2019-05-03 12:32:39    NaT 2019-05-03 12:27:13 2019-05-03 12:21:01   \n",
       "3    NaT 2019-05-03 12:43:22    NaT 2019-05-03 12:58:00 2019-05-03 12:51:11   \n",
       "4    NaT 2019-05-03 13:30:47    NaT 2019-05-03 13:30:47 2019-05-03 13:34:12   \n",
       "\n",
       "              bulk_15  \n",
       "0 2019-05-03 11:10:43  \n",
       "1 2019-05-03 11:44:39  \n",
       "2 2019-05-03 12:16:16  \n",
       "3 2019-05-03 12:46:36  \n",
       "4 2019-05-03 13:30:47  "
      ]
     },
     "metadata": {},
     "output_type": "display_data"
    }
   ],
   "source": [
    "new_data=data_bulk_materials_t.drop(columns='key')\n",
    "display(new_data.head())"
   ]
  },
  {
   "cell_type": "code",
   "execution_count": 94,
   "id": "59962a70",
   "metadata": {},
   "outputs": [
    {
     "data": {
      "text/html": [
       "<div>\n",
       "<style scoped>\n",
       "    .dataframe tbody tr th:only-of-type {\n",
       "        vertical-align: middle;\n",
       "    }\n",
       "\n",
       "    .dataframe tbody tr th {\n",
       "        vertical-align: top;\n",
       "    }\n",
       "\n",
       "    .dataframe thead th {\n",
       "        text-align: right;\n",
       "    }\n",
       "</style>\n",
       "<table border=\"1\" class=\"dataframe\">\n",
       "  <thead>\n",
       "    <tr style=\"text-align: right;\">\n",
       "      <th></th>\n",
       "      <th>key</th>\n",
       "      <th>bulk_3</th>\n",
       "      <th>bulk_4</th>\n",
       "      <th>bulk_6</th>\n",
       "      <th>bulk_12</th>\n",
       "      <th>bulk_14</th>\n",
       "      <th>bulk_15</th>\n",
       "      <th>max_time</th>\n",
       "    </tr>\n",
       "  </thead>\n",
       "  <tbody>\n",
       "    <tr>\n",
       "      <th>0</th>\n",
       "      <td>1</td>\n",
       "      <td>NaT</td>\n",
       "      <td>2019-05-03 11:28:48</td>\n",
       "      <td>NaT</td>\n",
       "      <td>2019-05-03 11:24:31</td>\n",
       "      <td>2019-05-03 11:14:50</td>\n",
       "      <td>2019-05-03 11:10:43</td>\n",
       "      <td>2019-05-03 11:28:48</td>\n",
       "    </tr>\n",
       "    <tr>\n",
       "      <th>1</th>\n",
       "      <td>2</td>\n",
       "      <td>NaT</td>\n",
       "      <td>2019-05-03 11:36:50</td>\n",
       "      <td>NaT</td>\n",
       "      <td>2019-05-03 11:53:30</td>\n",
       "      <td>2019-05-03 11:48:37</td>\n",
       "      <td>2019-05-03 11:44:39</td>\n",
       "      <td>2019-05-03 11:53:30</td>\n",
       "    </tr>\n",
       "    <tr>\n",
       "      <th>2</th>\n",
       "      <td>3</td>\n",
       "      <td>NaT</td>\n",
       "      <td>2019-05-03 12:32:39</td>\n",
       "      <td>NaT</td>\n",
       "      <td>2019-05-03 12:27:13</td>\n",
       "      <td>2019-05-03 12:21:01</td>\n",
       "      <td>2019-05-03 12:16:16</td>\n",
       "      <td>2019-05-03 12:32:39</td>\n",
       "    </tr>\n",
       "    <tr>\n",
       "      <th>3</th>\n",
       "      <td>4</td>\n",
       "      <td>NaT</td>\n",
       "      <td>2019-05-03 12:43:22</td>\n",
       "      <td>NaT</td>\n",
       "      <td>2019-05-03 12:58:00</td>\n",
       "      <td>2019-05-03 12:51:11</td>\n",
       "      <td>2019-05-03 12:46:36</td>\n",
       "      <td>2019-05-03 12:58:00</td>\n",
       "    </tr>\n",
       "    <tr>\n",
       "      <th>4</th>\n",
       "      <td>5</td>\n",
       "      <td>NaT</td>\n",
       "      <td>2019-05-03 13:30:47</td>\n",
       "      <td>NaT</td>\n",
       "      <td>2019-05-03 13:30:47</td>\n",
       "      <td>2019-05-03 13:34:12</td>\n",
       "      <td>2019-05-03 13:30:47</td>\n",
       "      <td>2019-05-03 13:34:12</td>\n",
       "    </tr>\n",
       "  </tbody>\n",
       "</table>\n",
       "</div>"
      ],
      "text/plain": [
       "   key bulk_3              bulk_4 bulk_6             bulk_12  \\\n",
       "0    1    NaT 2019-05-03 11:28:48    NaT 2019-05-03 11:24:31   \n",
       "1    2    NaT 2019-05-03 11:36:50    NaT 2019-05-03 11:53:30   \n",
       "2    3    NaT 2019-05-03 12:32:39    NaT 2019-05-03 12:27:13   \n",
       "3    4    NaT 2019-05-03 12:43:22    NaT 2019-05-03 12:58:00   \n",
       "4    5    NaT 2019-05-03 13:30:47    NaT 2019-05-03 13:30:47   \n",
       "\n",
       "              bulk_14             bulk_15            max_time  \n",
       "0 2019-05-03 11:14:50 2019-05-03 11:10:43 2019-05-03 11:28:48  \n",
       "1 2019-05-03 11:48:37 2019-05-03 11:44:39 2019-05-03 11:53:30  \n",
       "2 2019-05-03 12:21:01 2019-05-03 12:16:16 2019-05-03 12:32:39  \n",
       "3 2019-05-03 12:51:11 2019-05-03 12:46:36 2019-05-03 12:58:00  \n",
       "4 2019-05-03 13:34:12 2019-05-03 13:30:47 2019-05-03 13:34:12  "
      ]
     },
     "metadata": {},
     "output_type": "display_data"
    }
   ],
   "source": [
    "new_data['max_time']=new_data.max(axis=1)\n",
    "data_bulk_materials_t['max_time']=new_data['max_time']\n",
    "display(data_bulk_materials_t.head())\n",
    "del new_data"
   ]
  },
  {
   "cell_type": "markdown",
   "id": "632aa463",
   "metadata": {},
   "source": [
    "Теперь для таблицы data_wire_t"
   ]
  },
  {
   "cell_type": "code",
   "execution_count": 95,
   "id": "e3ef5acc",
   "metadata": {},
   "outputs": [
    {
     "data": {
      "text/html": [
       "<div>\n",
       "<style scoped>\n",
       "    .dataframe tbody tr th:only-of-type {\n",
       "        vertical-align: middle;\n",
       "    }\n",
       "\n",
       "    .dataframe tbody tr th {\n",
       "        vertical-align: top;\n",
       "    }\n",
       "\n",
       "    .dataframe thead th {\n",
       "        text-align: right;\n",
       "    }\n",
       "</style>\n",
       "<table border=\"1\" class=\"dataframe\">\n",
       "  <thead>\n",
       "    <tr style=\"text-align: right;\">\n",
       "      <th></th>\n",
       "      <th>key</th>\n",
       "      <th>wire_1</th>\n",
       "      <th>wire_2</th>\n",
       "      <th>max_time</th>\n",
       "    </tr>\n",
       "  </thead>\n",
       "  <tbody>\n",
       "    <tr>\n",
       "      <th>0</th>\n",
       "      <td>1</td>\n",
       "      <td>2019-05-03 11:06:19</td>\n",
       "      <td>NaT</td>\n",
       "      <td>2019-05-03 11:06:19</td>\n",
       "    </tr>\n",
       "    <tr>\n",
       "      <th>1</th>\n",
       "      <td>2</td>\n",
       "      <td>2019-05-03 11:36:50</td>\n",
       "      <td>NaT</td>\n",
       "      <td>2019-05-03 11:36:50</td>\n",
       "    </tr>\n",
       "    <tr>\n",
       "      <th>2</th>\n",
       "      <td>3</td>\n",
       "      <td>2019-05-03 12:11:46</td>\n",
       "      <td>NaT</td>\n",
       "      <td>2019-05-03 12:11:46</td>\n",
       "    </tr>\n",
       "    <tr>\n",
       "      <th>3</th>\n",
       "      <td>4</td>\n",
       "      <td>2019-05-03 12:43:22</td>\n",
       "      <td>NaT</td>\n",
       "      <td>2019-05-03 12:43:22</td>\n",
       "    </tr>\n",
       "    <tr>\n",
       "      <th>4</th>\n",
       "      <td>5</td>\n",
       "      <td>2019-05-03 13:20:44</td>\n",
       "      <td>2019-05-03 13:15:34</td>\n",
       "      <td>2019-05-03 13:20:44</td>\n",
       "    </tr>\n",
       "  </tbody>\n",
       "</table>\n",
       "</div>"
      ],
      "text/plain": [
       "   key              wire_1              wire_2            max_time\n",
       "0    1 2019-05-03 11:06:19                 NaT 2019-05-03 11:06:19\n",
       "1    2 2019-05-03 11:36:50                 NaT 2019-05-03 11:36:50\n",
       "2    3 2019-05-03 12:11:46                 NaT 2019-05-03 12:11:46\n",
       "3    4 2019-05-03 12:43:22                 NaT 2019-05-03 12:43:22\n",
       "4    5 2019-05-03 13:20:44 2019-05-03 13:15:34 2019-05-03 13:20:44"
      ]
     },
     "metadata": {},
     "output_type": "display_data"
    }
   ],
   "source": [
    "new_data=data_wire_t.drop(columns='key')\n",
    "new_data['max_time']=new_data.max(axis=1)\n",
    "data_wire_t['max_time']=new_data['max_time']\n",
    "display(data_wire_t.head())\n",
    "del new_data"
   ]
  },
  {
   "cell_type": "code",
   "execution_count": 96,
   "id": "a4f186c8",
   "metadata": {
    "scrolled": true
   },
   "outputs": [
    {
     "name": "stdout",
     "output_type": "stream",
     "text": [
      "[]\n"
     ]
    }
   ],
   "source": [
    "for i in range(len(full_data)):\n",
    "    flag=False\n",
    "    index=data_bulk_materials_t.loc[data_bulk_materials_t['key']==full_data.iloc[i]['key']].index[0]\n",
    "    if data_bulk_materials_t.iloc[index]['max_time'] > full_data.iloc[i]['measurement_time']:\n",
    "        flag=True\n",
    "    index=data_wire_t.loc[data_wire_t['key']==full_data.iloc[i]['key']].index[0]        \n",
    "    if data_wire_t.iloc[index]['max_time']> full_data.iloc[i]['measurement_time']:\n",
    "        flag=True\n",
    "        \n",
    "    if flag:\n",
    "        indexies.append(i)\n",
    "print(indexies)"
   ]
  },
  {
   "cell_type": "markdown",
   "id": "714d1197",
   "metadata": {},
   "source": [
    "Отлично, таких значений нет, то есть можем приступать к разделению  выборок на обучающую и тестовую. Но перед этим удалим всю информацию о времени и ключи. Но прежде удалим строки, где всего 1 измерение."
   ]
  },
  {
   "cell_type": "code",
   "execution_count": 97,
   "id": "58b660fd",
   "metadata": {},
   "outputs": [
    {
     "name": "stdout",
     "output_type": "stream",
     "text": [
      "Empty DataFrame\n",
      "Columns: [key, measurement_time, temperature, measurement_time_y, temperature_y, duration, electrode_end, electrode_start, energy, bulk_3, bulk_4, bulk_6, bulk_12, bulk_14, bulk_15, wire_1, wire_2, volume_gas]\n",
      "Index: []\n"
     ]
    }
   ],
   "source": [
    "full_data=drop_keys(full_data, counts)\n",
    "print(full_data.query('key==195'))"
   ]
  },
  {
   "cell_type": "markdown",
   "id": "de3e82b9",
   "metadata": {},
   "source": [
    "Все, таких ключей нет."
   ]
  },
  {
   "cell_type": "code",
   "execution_count": 98,
   "id": "1757a652",
   "metadata": {},
   "outputs": [
    {
     "data": {
      "text/html": [
       "<div>\n",
       "<style scoped>\n",
       "    .dataframe tbody tr th:only-of-type {\n",
       "        vertical-align: middle;\n",
       "    }\n",
       "\n",
       "    .dataframe tbody tr th {\n",
       "        vertical-align: top;\n",
       "    }\n",
       "\n",
       "    .dataframe thead th {\n",
       "        text-align: right;\n",
       "    }\n",
       "</style>\n",
       "<table border=\"1\" class=\"dataframe\">\n",
       "  <thead>\n",
       "    <tr style=\"text-align: right;\">\n",
       "      <th></th>\n",
       "      <th>temperature</th>\n",
       "      <th>temperature_y</th>\n",
       "      <th>duration</th>\n",
       "      <th>energy</th>\n",
       "      <th>bulk_3</th>\n",
       "      <th>bulk_4</th>\n",
       "      <th>bulk_6</th>\n",
       "      <th>bulk_12</th>\n",
       "      <th>bulk_14</th>\n",
       "      <th>bulk_15</th>\n",
       "      <th>wire_1</th>\n",
       "      <th>wire_2</th>\n",
       "      <th>volume_gas</th>\n",
       "    </tr>\n",
       "  </thead>\n",
       "  <tbody>\n",
       "    <tr>\n",
       "      <th>0</th>\n",
       "      <td>1613</td>\n",
       "      <td>1571</td>\n",
       "      <td>5</td>\n",
       "      <td>628.616930</td>\n",
       "      <td>0.0</td>\n",
       "      <td>43.0</td>\n",
       "      <td>0.0</td>\n",
       "      <td>206.0</td>\n",
       "      <td>150.0</td>\n",
       "      <td>154.0</td>\n",
       "      <td>60.059998</td>\n",
       "      <td>0.00000</td>\n",
       "      <td>29.749986</td>\n",
       "    </tr>\n",
       "    <tr>\n",
       "      <th>1</th>\n",
       "      <td>1602</td>\n",
       "      <td>1581</td>\n",
       "      <td>4</td>\n",
       "      <td>395.281800</td>\n",
       "      <td>0.0</td>\n",
       "      <td>73.0</td>\n",
       "      <td>0.0</td>\n",
       "      <td>206.0</td>\n",
       "      <td>149.0</td>\n",
       "      <td>154.0</td>\n",
       "      <td>96.052315</td>\n",
       "      <td>0.00000</td>\n",
       "      <td>12.555561</td>\n",
       "    </tr>\n",
       "    <tr>\n",
       "      <th>2</th>\n",
       "      <td>1599</td>\n",
       "      <td>1596</td>\n",
       "      <td>5</td>\n",
       "      <td>581.774624</td>\n",
       "      <td>0.0</td>\n",
       "      <td>34.0</td>\n",
       "      <td>0.0</td>\n",
       "      <td>205.0</td>\n",
       "      <td>152.0</td>\n",
       "      <td>153.0</td>\n",
       "      <td>91.160157</td>\n",
       "      <td>0.00000</td>\n",
       "      <td>28.554793</td>\n",
       "    </tr>\n",
       "    <tr>\n",
       "      <th>3</th>\n",
       "      <td>1625</td>\n",
       "      <td>1601</td>\n",
       "      <td>4</td>\n",
       "      <td>543.710274</td>\n",
       "      <td>0.0</td>\n",
       "      <td>81.0</td>\n",
       "      <td>0.0</td>\n",
       "      <td>207.0</td>\n",
       "      <td>153.0</td>\n",
       "      <td>154.0</td>\n",
       "      <td>89.063515</td>\n",
       "      <td>0.00000</td>\n",
       "      <td>18.841219</td>\n",
       "    </tr>\n",
       "    <tr>\n",
       "      <th>4</th>\n",
       "      <td>1602</td>\n",
       "      <td>1576</td>\n",
       "      <td>4</td>\n",
       "      <td>412.180480</td>\n",
       "      <td>0.0</td>\n",
       "      <td>78.0</td>\n",
       "      <td>0.0</td>\n",
       "      <td>203.0</td>\n",
       "      <td>151.0</td>\n",
       "      <td>152.0</td>\n",
       "      <td>89.238236</td>\n",
       "      <td>9.11456</td>\n",
       "      <td>5.413692</td>\n",
       "    </tr>\n",
       "  </tbody>\n",
       "</table>\n",
       "</div>"
      ],
      "text/plain": [
       "   temperature  temperature_y  duration      energy  bulk_3  bulk_4  bulk_6  \\\n",
       "0         1613           1571         5  628.616930     0.0    43.0     0.0   \n",
       "1         1602           1581         4  395.281800     0.0    73.0     0.0   \n",
       "2         1599           1596         5  581.774624     0.0    34.0     0.0   \n",
       "3         1625           1601         4  543.710274     0.0    81.0     0.0   \n",
       "4         1602           1576         4  412.180480     0.0    78.0     0.0   \n",
       "\n",
       "   bulk_12  bulk_14  bulk_15     wire_1   wire_2  volume_gas  \n",
       "0    206.0    150.0    154.0  60.059998  0.00000   29.749986  \n",
       "1    206.0    149.0    154.0  96.052315  0.00000   12.555561  \n",
       "2    205.0    152.0    153.0  91.160157  0.00000   28.554793  \n",
       "3    207.0    153.0    154.0  89.063515  0.00000   18.841219  \n",
       "4    203.0    151.0    152.0  89.238236  9.11456    5.413692  "
      ]
     },
     "metadata": {},
     "output_type": "display_data"
    }
   ],
   "source": [
    "del data_wire_t\n",
    "del data_bulk_materials_t\n",
    "full_data=full_data.drop(columns=['key', 'measurement_time', 'measurement_time_y', 'electrode_end', 'electrode_start'])\n",
    "display(full_data.head())"
   ]
  },
  {
   "cell_type": "markdown",
   "id": "c4610538",
   "metadata": {},
   "source": [
    "**Вывод по данному этапу** На данном этапе мы проанализировали наши данные, поняли, какие значения нужно будет удалить в обучающей выборке, увидели с помощью коэффициентов Пирсона, что линейных зависимостей в выборке нет, так что использовать линейные модели не стоит."
   ]
  },
  {
   "cell_type": "markdown",
   "id": "2c73b39a",
   "metadata": {},
   "source": [
    "## Подготовка данных"
   ]
  },
  {
   "cell_type": "code",
   "execution_count": 99,
   "id": "88956945",
   "metadata": {},
   "outputs": [
    {
     "name": "stdout",
     "output_type": "stream",
     "text": [
      "Размеры данных обучающей выборки.\n",
      "данные:(1743, 13)\n",
      "Размеры данных тестовой выборки.\n",
      "данные:(581, 13)\n"
     ]
    }
   ],
   "source": [
    "train, test=train_test_split(full_data, test_size=0.25, random_state=111223)\n",
    "print('Размеры данных обучающей выборки.\\nданные:{}'.format(train.shape))\n",
    "print('Размеры данных тестовой выборки.\\nданные:{}'.format(test.shape))"
   ]
  },
  {
   "cell_type": "markdown",
   "id": "6d816899",
   "metadata": {},
   "source": [
    "теперь удалим все выбросы, которые отметили в прошлом пункте."
   ]
  },
  {
   "cell_type": "code",
   "execution_count": 100,
   "id": "90be078e",
   "metadata": {},
   "outputs": [
    {
     "name": "stdout",
     "output_type": "stream",
     "text": [
      "Размеры данных обучающей выборки.\n",
      "данные:(1738, 13)\n"
     ]
    }
   ],
   "source": [
    "train=train.query('duration < 12 & energy < 2000 & volume_gas < 56')\n",
    "print('Размеры данных обучающей выборки.\\nданные:{}'.format(train.shape))"
   ]
  },
  {
   "cell_type": "markdown",
   "id": "a8d0a113",
   "metadata": {},
   "source": [
    "Теперь данные чисты и можно разбивать выборки на признаки и таргеты."
   ]
  },
  {
   "cell_type": "code",
   "execution_count": 101,
   "id": "e98e8032",
   "metadata": {},
   "outputs": [
    {
     "name": "stdout",
     "output_type": "stream",
     "text": [
      "Размеры данных обучающей выборки.\n",
      "данные:(1738, 12)\n",
      "результаты:(1738,)\n"
     ]
    }
   ],
   "source": [
    "train_targets=train['temperature']\n",
    "train_values=train.drop(columns=['temperature'])\n",
    "print('Размеры данных обучающей выборки.\\nданные:{}\\nрезультаты:{}'.format(train_values.shape, train_targets.shape))"
   ]
  },
  {
   "cell_type": "code",
   "execution_count": 102,
   "id": "b780b360",
   "metadata": {},
   "outputs": [
    {
     "name": "stdout",
     "output_type": "stream",
     "text": [
      "Размеры данных тестовой выборки.\n",
      "данные:(581, 12)\n",
      "результаты:(581,)\n"
     ]
    }
   ],
   "source": [
    "test_targets=test['temperature']\n",
    "test_values=test.drop(columns=['temperature'])\n",
    "print('Размеры данных тестовой выборки.\\nданные:{}\\nрезультаты:{}'.format(test_values.shape, test_targets.shape))"
   ]
  },
  {
   "cell_type": "markdown",
   "id": "e37f4e20",
   "metadata": {},
   "source": [
    "перед обучением нужно промасштабировать данные, так что применим StandardScaler"
   ]
  },
  {
   "cell_type": "code",
   "execution_count": 103,
   "id": "9860db02",
   "metadata": {},
   "outputs": [
    {
     "data": {
      "text/plain": [
       "array([[-0.02141791, -0.45029311, -1.57391615, ..., -1.46674552,\n",
       "         0.55993385,  1.75075481],\n",
       "       [ 0.94928431, -2.37948643, -1.98885779, ..., -0.04305978,\n",
       "        -0.05969219, -1.4561555 ],\n",
       "       [-0.14803124, -0.45029311, -0.04258356, ...,  0.62824554,\n",
       "        -0.52814448,  0.27019259],\n",
       "       ...,\n",
       "       [ 0.48503543,  0.19277133, -0.52749388, ...,  0.052069  ,\n",
       "        -0.52814448,  3.74418216],\n",
       "       [-0.48566679, -0.45029311,  0.22876387, ...,  1.15685769,\n",
       "        -0.52814448, -0.54709007],\n",
       "       [-0.4012579 , -0.45029311, -0.69973835, ...,  0.67364764,\n",
       "        -0.52814448, -0.30010767]])"
      ]
     },
     "execution_count": 103,
     "metadata": {},
     "output_type": "execute_result"
    }
   ],
   "source": [
    "scaler = StandardScaler()\n",
    "scaler.fit(train_values)\n",
    "scaler.transform(train_values)\n",
    "scaler.transform(test_values)"
   ]
  },
  {
   "cell_type": "markdown",
   "id": "faf6f0bf",
   "metadata": {},
   "source": [
    "Теперь данные готовы к обучению. \n",
    "**Вывод по данному этапу:** На данном этапе мы подготовили выборки к процессу обучения, разделлив общую  и удалив выбросы из предыдущих пунктов. "
   ]
  },
  {
   "cell_type": "markdown",
   "id": "bfb68e85",
   "metadata": {},
   "source": [
    "## Обучение моделей машинного обучения"
   ]
  },
  {
   "cell_type": "markdown",
   "id": "f164448c",
   "metadata": {},
   "source": [
    "Как мы уже поняли, использовать линейные модели бесполезно, хорошего качества добиться не удастся, так что перейдем сразу к деревьям принятия решений. "
   ]
  },
  {
   "cell_type": "code",
   "execution_count": 100,
   "id": "4d242a72",
   "metadata": {},
   "outputs": [],
   "source": [
    "tree=DecisionTreeRegressor()"
   ]
  },
  {
   "cell_type": "code",
   "execution_count": 101,
   "id": "c9300278",
   "metadata": {},
   "outputs": [],
   "source": [
    "param_grid={\n",
    "    'max_depth': np.arange(1, 202, 50),\n",
    "    'min_samples_split': np.arange(100, 203, 20), \n",
    "    'random_state':[111223]\n",
    "}"
   ]
  },
  {
   "cell_type": "code",
   "execution_count": 102,
   "id": "12e47df8",
   "metadata": {
    "scrolled": true
   },
   "outputs": [
    {
     "name": "stdout",
     "output_type": "stream",
     "text": [
      "Fitting 3 folds for each of 30 candidates, totalling 90 fits\n",
      "[CV 1/3] END max_depth=1, min_samples_split=100, random_state=111223; total time=   0.0s\n",
      "[CV 2/3] END max_depth=1, min_samples_split=100, random_state=111223; total time=   0.0s\n",
      "[CV 3/3] END max_depth=1, min_samples_split=100, random_state=111223; total time=   0.0s\n",
      "[CV 1/3] END max_depth=1, min_samples_split=120, random_state=111223; total time=   0.0s\n",
      "[CV 2/3] END max_depth=1, min_samples_split=120, random_state=111223; total time=   0.0s\n",
      "[CV 3/3] END max_depth=1, min_samples_split=120, random_state=111223; total time=   0.0s\n",
      "[CV 1/3] END max_depth=1, min_samples_split=140, random_state=111223; total time=   0.0s\n",
      "[CV 2/3] END max_depth=1, min_samples_split=140, random_state=111223; total time=   0.0s\n",
      "[CV 3/3] END max_depth=1, min_samples_split=140, random_state=111223; total time=   0.0s\n",
      "[CV 1/3] END max_depth=1, min_samples_split=160, random_state=111223; total time=   0.0s\n",
      "[CV 2/3] END max_depth=1, min_samples_split=160, random_state=111223; total time=   0.0s\n",
      "[CV 3/3] END max_depth=1, min_samples_split=160, random_state=111223; total time=   0.0s\n",
      "[CV 1/3] END max_depth=1, min_samples_split=180, random_state=111223; total time=   0.0s\n",
      "[CV 2/3] END max_depth=1, min_samples_split=180, random_state=111223; total time=   0.0s\n",
      "[CV 3/3] END max_depth=1, min_samples_split=180, random_state=111223; total time=   0.0s\n",
      "[CV 1/3] END max_depth=1, min_samples_split=200, random_state=111223; total time=   0.0s\n",
      "[CV 2/3] END max_depth=1, min_samples_split=200, random_state=111223; total time=   0.0s\n",
      "[CV 3/3] END max_depth=1, min_samples_split=200, random_state=111223; total time=   0.0s\n",
      "[CV 1/3] END max_depth=51, min_samples_split=100, random_state=111223; total time=   0.0s\n",
      "[CV 2/3] END max_depth=51, min_samples_split=100, random_state=111223; total time=   0.0s\n",
      "[CV 3/3] END max_depth=51, min_samples_split=100, random_state=111223; total time=   0.0s\n",
      "[CV 1/3] END max_depth=51, min_samples_split=120, random_state=111223; total time=   0.0s\n",
      "[CV 2/3] END max_depth=51, min_samples_split=120, random_state=111223; total time=   0.0s\n",
      "[CV 3/3] END max_depth=51, min_samples_split=120, random_state=111223; total time=   0.0s\n",
      "[CV 1/3] END max_depth=51, min_samples_split=140, random_state=111223; total time=   0.0s\n",
      "[CV 2/3] END max_depth=51, min_samples_split=140, random_state=111223; total time=   0.0s\n",
      "[CV 3/3] END max_depth=51, min_samples_split=140, random_state=111223; total time=   0.0s\n",
      "[CV 1/3] END max_depth=51, min_samples_split=160, random_state=111223; total time=   0.0s\n",
      "[CV 2/3] END max_depth=51, min_samples_split=160, random_state=111223; total time=   0.0s\n",
      "[CV 3/3] END max_depth=51, min_samples_split=160, random_state=111223; total time=   0.0s\n",
      "[CV 1/3] END max_depth=51, min_samples_split=180, random_state=111223; total time=   0.0s\n",
      "[CV 2/3] END max_depth=51, min_samples_split=180, random_state=111223; total time=   0.0s\n",
      "[CV 3/3] END max_depth=51, min_samples_split=180, random_state=111223; total time=   0.0s\n",
      "[CV 1/3] END max_depth=51, min_samples_split=200, random_state=111223; total time=   0.0s\n",
      "[CV 2/3] END max_depth=51, min_samples_split=200, random_state=111223; total time=   0.0s\n",
      "[CV 3/3] END max_depth=51, min_samples_split=200, random_state=111223; total time=   0.0s\n",
      "[CV 1/3] END max_depth=101, min_samples_split=100, random_state=111223; total time=   0.0s\n",
      "[CV 2/3] END max_depth=101, min_samples_split=100, random_state=111223; total time=   0.0s\n",
      "[CV 3/3] END max_depth=101, min_samples_split=100, random_state=111223; total time=   0.0s\n",
      "[CV 1/3] END max_depth=101, min_samples_split=120, random_state=111223; total time=   0.0s\n",
      "[CV 2/3] END max_depth=101, min_samples_split=120, random_state=111223; total time=   0.0s\n",
      "[CV 3/3] END max_depth=101, min_samples_split=120, random_state=111223; total time=   0.0s\n",
      "[CV 1/3] END max_depth=101, min_samples_split=140, random_state=111223; total time=   0.0s\n",
      "[CV 2/3] END max_depth=101, min_samples_split=140, random_state=111223; total time=   0.0s\n",
      "[CV 3/3] END max_depth=101, min_samples_split=140, random_state=111223; total time=   0.0s\n",
      "[CV 1/3] END max_depth=101, min_samples_split=160, random_state=111223; total time=   0.0s\n",
      "[CV 2/3] END max_depth=101, min_samples_split=160, random_state=111223; total time=   0.0s\n",
      "[CV 3/3] END max_depth=101, min_samples_split=160, random_state=111223; total time=   0.0s\n",
      "[CV 1/3] END max_depth=101, min_samples_split=180, random_state=111223; total time=   0.0s\n",
      "[CV 2/3] END max_depth=101, min_samples_split=180, random_state=111223; total time=   0.0s\n",
      "[CV 3/3] END max_depth=101, min_samples_split=180, random_state=111223; total time=   0.0s\n",
      "[CV 1/3] END max_depth=101, min_samples_split=200, random_state=111223; total time=   0.0s\n",
      "[CV 2/3] END max_depth=101, min_samples_split=200, random_state=111223; total time=   0.0s\n",
      "[CV 3/3] END max_depth=101, min_samples_split=200, random_state=111223; total time=   0.0s\n",
      "[CV 1/3] END max_depth=151, min_samples_split=100, random_state=111223; total time=   0.0s\n",
      "[CV 2/3] END max_depth=151, min_samples_split=100, random_state=111223; total time=   0.0s\n",
      "[CV 3/3] END max_depth=151, min_samples_split=100, random_state=111223; total time=   0.0s\n",
      "[CV 1/3] END max_depth=151, min_samples_split=120, random_state=111223; total time=   0.0s\n",
      "[CV 2/3] END max_depth=151, min_samples_split=120, random_state=111223; total time=   0.0s\n",
      "[CV 3/3] END max_depth=151, min_samples_split=120, random_state=111223; total time=   0.0s\n",
      "[CV 1/3] END max_depth=151, min_samples_split=140, random_state=111223; total time=   0.0s\n",
      "[CV 2/3] END max_depth=151, min_samples_split=140, random_state=111223; total time=   0.0s\n",
      "[CV 3/3] END max_depth=151, min_samples_split=140, random_state=111223; total time=   0.0s\n",
      "[CV 1/3] END max_depth=151, min_samples_split=160, random_state=111223; total time=   0.0s\n",
      "[CV 2/3] END max_depth=151, min_samples_split=160, random_state=111223; total time=   0.0s\n",
      "[CV 3/3] END max_depth=151, min_samples_split=160, random_state=111223; total time=   0.0s\n",
      "[CV 1/3] END max_depth=151, min_samples_split=180, random_state=111223; total time=   0.0s\n",
      "[CV 2/3] END max_depth=151, min_samples_split=180, random_state=111223; total time=   0.0s\n",
      "[CV 3/3] END max_depth=151, min_samples_split=180, random_state=111223; total time=   0.0s\n",
      "[CV 1/3] END max_depth=151, min_samples_split=200, random_state=111223; total time=   0.0s\n",
      "[CV 2/3] END max_depth=151, min_samples_split=200, random_state=111223; total time=   0.0s\n",
      "[CV 3/3] END max_depth=151, min_samples_split=200, random_state=111223; total time=   0.0s\n",
      "[CV 1/3] END max_depth=201, min_samples_split=100, random_state=111223; total time=   0.0s\n",
      "[CV 2/3] END max_depth=201, min_samples_split=100, random_state=111223; total time=   0.0s\n",
      "[CV 3/3] END max_depth=201, min_samples_split=100, random_state=111223; total time=   0.0s\n",
      "[CV 1/3] END max_depth=201, min_samples_split=120, random_state=111223; total time=   0.0s\n",
      "[CV 2/3] END max_depth=201, min_samples_split=120, random_state=111223; total time=   0.0s\n",
      "[CV 3/3] END max_depth=201, min_samples_split=120, random_state=111223; total time=   0.0s\n",
      "[CV 1/3] END max_depth=201, min_samples_split=140, random_state=111223; total time=   0.0s\n",
      "[CV 2/3] END max_depth=201, min_samples_split=140, random_state=111223; total time=   0.0s\n",
      "[CV 3/3] END max_depth=201, min_samples_split=140, random_state=111223; total time=   0.0s\n",
      "[CV 1/3] END max_depth=201, min_samples_split=160, random_state=111223; total time=   0.0s\n",
      "[CV 2/3] END max_depth=201, min_samples_split=160, random_state=111223; total time=   0.0s\n",
      "[CV 3/3] END max_depth=201, min_samples_split=160, random_state=111223; total time=   0.0s\n",
      "[CV 1/3] END max_depth=201, min_samples_split=180, random_state=111223; total time=   0.0s\n",
      "[CV 2/3] END max_depth=201, min_samples_split=180, random_state=111223; total time=   0.0s\n",
      "[CV 3/3] END max_depth=201, min_samples_split=180, random_state=111223; total time=   0.0s\n",
      "[CV 1/3] END max_depth=201, min_samples_split=200, random_state=111223; total time=   0.0s\n",
      "[CV 2/3] END max_depth=201, min_samples_split=200, random_state=111223; total time=   0.0s\n",
      "[CV 3/3] END max_depth=201, min_samples_split=200, random_state=111223; total time=   0.0s\n"
     ]
    },
    {
     "data": {
      "text/plain": [
       "GridSearchCV(cv=3, estimator=DecisionTreeRegressor(),\n",
       "             param_grid={'max_depth': array([  1,  51, 101, 151, 201]),\n",
       "                         'min_samples_split': array([100, 120, 140, 160, 180, 200]),\n",
       "                         'random_state': [111223]},\n",
       "             scoring='neg_mean_absolute_error', verbose=3)"
      ]
     },
     "execution_count": 102,
     "metadata": {},
     "output_type": "execute_result"
    }
   ],
   "source": [
    "tree_model=GridSearchCV(tree, param_grid=param_grid,  scoring='neg_mean_absolute_error', cv=3, verbose=3)\n",
    "tree_model.fit(train_values, train_targets)"
   ]
  },
  {
   "cell_type": "code",
   "execution_count": 103,
   "id": "bdaa0e77",
   "metadata": {},
   "outputs": [
    {
     "name": "stdout",
     "output_type": "stream",
     "text": [
      "-7.492972249550406 {'max_depth': 51, 'min_samples_split': 100, 'random_state': 111223}\n"
     ]
    }
   ],
   "source": [
    "print(tree_model.best_score_, tree_model.best_params_)"
   ]
  },
  {
   "cell_type": "markdown",
   "id": "0ed03738",
   "metadata": {},
   "source": [
    "Данного результата недостаточно, применим модели случайного леса."
   ]
  },
  {
   "cell_type": "code",
   "execution_count": 104,
   "id": "87fcc8c1",
   "metadata": {},
   "outputs": [],
   "source": [
    "param={\n",
    "    'max_depth': np.arange(2, 15,1 ),\n",
    "    'n_estimators': np.arange(1, 201, 20),\n",
    "    'random_state': [111223]\n",
    "}"
   ]
  },
  {
   "cell_type": "code",
   "execution_count": 105,
   "id": "0994ecc1",
   "metadata": {
    "scrolled": true
   },
   "outputs": [
    {
     "name": "stdout",
     "output_type": "stream",
     "text": [
      "Fitting 3 folds for each of 130 candidates, totalling 390 fits\n",
      "[CV 1/3] END max_depth=2, n_estimators=1, random_state=111223; total time=   0.0s\n",
      "[CV 2/3] END max_depth=2, n_estimators=1, random_state=111223; total time=   0.0s\n",
      "[CV 3/3] END max_depth=2, n_estimators=1, random_state=111223; total time=   0.0s\n",
      "[CV 1/3] END max_depth=2, n_estimators=21, random_state=111223; total time=   0.0s\n",
      "[CV 2/3] END max_depth=2, n_estimators=21, random_state=111223; total time=   0.0s\n",
      "[CV 3/3] END max_depth=2, n_estimators=21, random_state=111223; total time=   0.0s\n",
      "[CV 1/3] END max_depth=2, n_estimators=41, random_state=111223; total time=   0.1s\n",
      "[CV 2/3] END max_depth=2, n_estimators=41, random_state=111223; total time=   0.1s\n",
      "[CV 3/3] END max_depth=2, n_estimators=41, random_state=111223; total time=   0.1s\n",
      "[CV 1/3] END max_depth=2, n_estimators=61, random_state=111223; total time=   0.1s\n",
      "[CV 2/3] END max_depth=2, n_estimators=61, random_state=111223; total time=   0.1s\n",
      "[CV 3/3] END max_depth=2, n_estimators=61, random_state=111223; total time=   0.1s\n",
      "[CV 1/3] END max_depth=2, n_estimators=81, random_state=111223; total time=   0.2s\n",
      "[CV 2/3] END max_depth=2, n_estimators=81, random_state=111223; total time=   0.2s\n",
      "[CV 3/3] END max_depth=2, n_estimators=81, random_state=111223; total time=   0.2s\n",
      "[CV 1/3] END max_depth=2, n_estimators=101, random_state=111223; total time=   0.2s\n",
      "[CV 2/3] END max_depth=2, n_estimators=101, random_state=111223; total time=   0.2s\n",
      "[CV 3/3] END max_depth=2, n_estimators=101, random_state=111223; total time=   0.2s\n",
      "[CV 1/3] END max_depth=2, n_estimators=121, random_state=111223; total time=   0.2s\n",
      "[CV 2/3] END max_depth=2, n_estimators=121, random_state=111223; total time=   0.2s\n",
      "[CV 3/3] END max_depth=2, n_estimators=121, random_state=111223; total time=   0.2s\n",
      "[CV 1/3] END max_depth=2, n_estimators=141, random_state=111223; total time=   0.3s\n",
      "[CV 2/3] END max_depth=2, n_estimators=141, random_state=111223; total time=   0.3s\n",
      "[CV 3/3] END max_depth=2, n_estimators=141, random_state=111223; total time=   0.3s\n",
      "[CV 1/3] END max_depth=2, n_estimators=161, random_state=111223; total time=   0.3s\n",
      "[CV 2/3] END max_depth=2, n_estimators=161, random_state=111223; total time=   0.3s\n",
      "[CV 3/3] END max_depth=2, n_estimators=161, random_state=111223; total time=   0.3s\n",
      "[CV 1/3] END max_depth=2, n_estimators=181, random_state=111223; total time=   0.3s\n",
      "[CV 2/3] END max_depth=2, n_estimators=181, random_state=111223; total time=   0.3s\n",
      "[CV 3/3] END max_depth=2, n_estimators=181, random_state=111223; total time=   0.3s\n",
      "[CV 1/3] END max_depth=3, n_estimators=1, random_state=111223; total time=   0.0s\n",
      "[CV 2/3] END max_depth=3, n_estimators=1, random_state=111223; total time=   0.0s\n",
      "[CV 3/3] END max_depth=3, n_estimators=1, random_state=111223; total time=   0.0s\n",
      "[CV 1/3] END max_depth=3, n_estimators=21, random_state=111223; total time=   0.1s\n",
      "[CV 2/3] END max_depth=3, n_estimators=21, random_state=111223; total time=   0.0s\n",
      "[CV 3/3] END max_depth=3, n_estimators=21, random_state=111223; total time=   0.1s\n",
      "[CV 1/3] END max_depth=3, n_estimators=41, random_state=111223; total time=   0.1s\n",
      "[CV 2/3] END max_depth=3, n_estimators=41, random_state=111223; total time=   0.1s\n",
      "[CV 3/3] END max_depth=3, n_estimators=41, random_state=111223; total time=   0.1s\n",
      "[CV 1/3] END max_depth=3, n_estimators=61, random_state=111223; total time=   0.1s\n",
      "[CV 2/3] END max_depth=3, n_estimators=61, random_state=111223; total time=   0.1s\n",
      "[CV 3/3] END max_depth=3, n_estimators=61, random_state=111223; total time=   0.1s\n",
      "[CV 1/3] END max_depth=3, n_estimators=81, random_state=111223; total time=   0.2s\n",
      "[CV 2/3] END max_depth=3, n_estimators=81, random_state=111223; total time=   0.2s\n",
      "[CV 3/3] END max_depth=3, n_estimators=81, random_state=111223; total time=   0.2s\n",
      "[CV 1/3] END max_depth=3, n_estimators=101, random_state=111223; total time=   0.2s\n",
      "[CV 2/3] END max_depth=3, n_estimators=101, random_state=111223; total time=   0.2s\n",
      "[CV 3/3] END max_depth=3, n_estimators=101, random_state=111223; total time=   0.2s\n",
      "[CV 1/3] END max_depth=3, n_estimators=121, random_state=111223; total time=   0.3s\n",
      "[CV 2/3] END max_depth=3, n_estimators=121, random_state=111223; total time=   0.3s\n",
      "[CV 3/3] END max_depth=3, n_estimators=121, random_state=111223; total time=   0.3s\n",
      "[CV 1/3] END max_depth=3, n_estimators=141, random_state=111223; total time=   0.3s\n",
      "[CV 2/3] END max_depth=3, n_estimators=141, random_state=111223; total time=   0.3s\n",
      "[CV 3/3] END max_depth=3, n_estimators=141, random_state=111223; total time=   0.3s\n",
      "[CV 1/3] END max_depth=3, n_estimators=161, random_state=111223; total time=   0.4s\n",
      "[CV 2/3] END max_depth=3, n_estimators=161, random_state=111223; total time=   0.4s\n",
      "[CV 3/3] END max_depth=3, n_estimators=161, random_state=111223; total time=   0.5s\n",
      "[CV 1/3] END max_depth=3, n_estimators=181, random_state=111223; total time=   0.4s\n",
      "[CV 2/3] END max_depth=3, n_estimators=181, random_state=111223; total time=   0.4s\n",
      "[CV 3/3] END max_depth=3, n_estimators=181, random_state=111223; total time=   0.4s\n",
      "[CV 1/3] END max_depth=4, n_estimators=1, random_state=111223; total time=   0.0s\n",
      "[CV 2/3] END max_depth=4, n_estimators=1, random_state=111223; total time=   0.0s\n",
      "[CV 3/3] END max_depth=4, n_estimators=1, random_state=111223; total time=   0.0s\n",
      "[CV 1/3] END max_depth=4, n_estimators=21, random_state=111223; total time=   0.1s\n",
      "[CV 2/3] END max_depth=4, n_estimators=21, random_state=111223; total time=   0.1s\n",
      "[CV 3/3] END max_depth=4, n_estimators=21, random_state=111223; total time=   0.1s\n",
      "[CV 1/3] END max_depth=4, n_estimators=41, random_state=111223; total time=   0.1s\n",
      "[CV 2/3] END max_depth=4, n_estimators=41, random_state=111223; total time=   0.1s\n",
      "[CV 3/3] END max_depth=4, n_estimators=41, random_state=111223; total time=   0.1s\n",
      "[CV 1/3] END max_depth=4, n_estimators=61, random_state=111223; total time=   0.2s\n",
      "[CV 2/3] END max_depth=4, n_estimators=61, random_state=111223; total time=   0.2s\n",
      "[CV 3/3] END max_depth=4, n_estimators=61, random_state=111223; total time=   0.2s\n",
      "[CV 1/3] END max_depth=4, n_estimators=81, random_state=111223; total time=   0.2s\n",
      "[CV 2/3] END max_depth=4, n_estimators=81, random_state=111223; total time=   0.2s\n",
      "[CV 3/3] END max_depth=4, n_estimators=81, random_state=111223; total time=   0.2s\n",
      "[CV 1/3] END max_depth=4, n_estimators=101, random_state=111223; total time=   0.3s\n",
      "[CV 2/3] END max_depth=4, n_estimators=101, random_state=111223; total time=   0.3s\n",
      "[CV 3/3] END max_depth=4, n_estimators=101, random_state=111223; total time=   0.3s\n",
      "[CV 1/3] END max_depth=4, n_estimators=121, random_state=111223; total time=   0.3s\n",
      "[CV 2/3] END max_depth=4, n_estimators=121, random_state=111223; total time=   0.3s\n",
      "[CV 3/3] END max_depth=4, n_estimators=121, random_state=111223; total time=   0.3s\n",
      "[CV 1/3] END max_depth=4, n_estimators=141, random_state=111223; total time=   0.4s\n",
      "[CV 2/3] END max_depth=4, n_estimators=141, random_state=111223; total time=   0.4s\n",
      "[CV 3/3] END max_depth=4, n_estimators=141, random_state=111223; total time=   0.4s\n",
      "[CV 1/3] END max_depth=4, n_estimators=161, random_state=111223; total time=   0.4s\n",
      "[CV 2/3] END max_depth=4, n_estimators=161, random_state=111223; total time=   0.4s\n",
      "[CV 3/3] END max_depth=4, n_estimators=161, random_state=111223; total time=   0.4s\n",
      "[CV 1/3] END max_depth=4, n_estimators=181, random_state=111223; total time=   0.5s\n",
      "[CV 2/3] END max_depth=4, n_estimators=181, random_state=111223; total time=   0.5s\n",
      "[CV 3/3] END max_depth=4, n_estimators=181, random_state=111223; total time=   0.6s\n",
      "[CV 1/3] END max_depth=5, n_estimators=1, random_state=111223; total time=   0.0s\n",
      "[CV 2/3] END max_depth=5, n_estimators=1, random_state=111223; total time=   0.0s\n",
      "[CV 3/3] END max_depth=5, n_estimators=1, random_state=111223; total time=   0.0s\n",
      "[CV 1/3] END max_depth=5, n_estimators=21, random_state=111223; total time=   0.1s\n",
      "[CV 2/3] END max_depth=5, n_estimators=21, random_state=111223; total time=   0.1s\n",
      "[CV 3/3] END max_depth=5, n_estimators=21, random_state=111223; total time=   0.1s\n",
      "[CV 1/3] END max_depth=5, n_estimators=41, random_state=111223; total time=   0.1s\n",
      "[CV 2/3] END max_depth=5, n_estimators=41, random_state=111223; total time=   0.1s\n",
      "[CV 3/3] END max_depth=5, n_estimators=41, random_state=111223; total time=   0.1s\n",
      "[CV 1/3] END max_depth=5, n_estimators=61, random_state=111223; total time=   0.2s\n",
      "[CV 2/3] END max_depth=5, n_estimators=61, random_state=111223; total time=   0.2s\n",
      "[CV 3/3] END max_depth=5, n_estimators=61, random_state=111223; total time=   0.2s\n",
      "[CV 1/3] END max_depth=5, n_estimators=81, random_state=111223; total time=   0.2s\n",
      "[CV 2/3] END max_depth=5, n_estimators=81, random_state=111223; total time=   0.2s\n",
      "[CV 3/3] END max_depth=5, n_estimators=81, random_state=111223; total time=   0.2s\n",
      "[CV 1/3] END max_depth=5, n_estimators=101, random_state=111223; total time=   0.3s\n",
      "[CV 2/3] END max_depth=5, n_estimators=101, random_state=111223; total time=   0.3s\n",
      "[CV 3/3] END max_depth=5, n_estimators=101, random_state=111223; total time=   0.3s\n",
      "[CV 1/3] END max_depth=5, n_estimators=121, random_state=111223; total time=   0.4s\n",
      "[CV 2/3] END max_depth=5, n_estimators=121, random_state=111223; total time=   0.4s\n",
      "[CV 3/3] END max_depth=5, n_estimators=121, random_state=111223; total time=   0.4s\n",
      "[CV 1/3] END max_depth=5, n_estimators=141, random_state=111223; total time=   0.4s\n",
      "[CV 2/3] END max_depth=5, n_estimators=141, random_state=111223; total time=   0.4s\n",
      "[CV 3/3] END max_depth=5, n_estimators=141, random_state=111223; total time=   0.4s\n",
      "[CV 1/3] END max_depth=5, n_estimators=161, random_state=111223; total time=   0.5s\n",
      "[CV 2/3] END max_depth=5, n_estimators=161, random_state=111223; total time=   0.5s\n",
      "[CV 3/3] END max_depth=5, n_estimators=161, random_state=111223; total time=   0.5s\n",
      "[CV 1/3] END max_depth=5, n_estimators=181, random_state=111223; total time=   0.5s\n",
      "[CV 2/3] END max_depth=5, n_estimators=181, random_state=111223; total time=   0.6s\n",
      "[CV 3/3] END max_depth=5, n_estimators=181, random_state=111223; total time=   0.5s\n",
      "[CV 1/3] END max_depth=6, n_estimators=1, random_state=111223; total time=   0.0s\n",
      "[CV 2/3] END max_depth=6, n_estimators=1, random_state=111223; total time=   0.0s\n",
      "[CV 3/3] END max_depth=6, n_estimators=1, random_state=111223; total time=   0.0s\n",
      "[CV 1/3] END max_depth=6, n_estimators=21, random_state=111223; total time=   0.1s\n",
      "[CV 2/3] END max_depth=6, n_estimators=21, random_state=111223; total time=   0.1s\n",
      "[CV 3/3] END max_depth=6, n_estimators=21, random_state=111223; total time=   0.1s\n",
      "[CV 1/3] END max_depth=6, n_estimators=41, random_state=111223; total time=   0.1s\n",
      "[CV 2/3] END max_depth=6, n_estimators=41, random_state=111223; total time=   0.1s\n",
      "[CV 3/3] END max_depth=6, n_estimators=41, random_state=111223; total time=   0.1s\n",
      "[CV 1/3] END max_depth=6, n_estimators=61, random_state=111223; total time=   0.2s\n",
      "[CV 2/3] END max_depth=6, n_estimators=61, random_state=111223; total time=   0.2s\n",
      "[CV 3/3] END max_depth=6, n_estimators=61, random_state=111223; total time=   0.2s\n",
      "[CV 1/3] END max_depth=6, n_estimators=81, random_state=111223; total time=   0.3s\n",
      "[CV 2/3] END max_depth=6, n_estimators=81, random_state=111223; total time=   0.3s\n",
      "[CV 3/3] END max_depth=6, n_estimators=81, random_state=111223; total time=   0.3s\n",
      "[CV 1/3] END max_depth=6, n_estimators=101, random_state=111223; total time=   0.3s\n",
      "[CV 2/3] END max_depth=6, n_estimators=101, random_state=111223; total time=   0.4s\n",
      "[CV 3/3] END max_depth=6, n_estimators=101, random_state=111223; total time=   0.4s\n",
      "[CV 1/3] END max_depth=6, n_estimators=121, random_state=111223; total time=   0.4s\n",
      "[CV 2/3] END max_depth=6, n_estimators=121, random_state=111223; total time=   0.4s\n",
      "[CV 3/3] END max_depth=6, n_estimators=121, random_state=111223; total time=   0.4s\n",
      "[CV 1/3] END max_depth=6, n_estimators=141, random_state=111223; total time=   0.5s\n",
      "[CV 2/3] END max_depth=6, n_estimators=141, random_state=111223; total time=   0.5s\n",
      "[CV 3/3] END max_depth=6, n_estimators=141, random_state=111223; total time=   0.5s\n",
      "[CV 1/3] END max_depth=6, n_estimators=161, random_state=111223; total time=   0.6s\n",
      "[CV 2/3] END max_depth=6, n_estimators=161, random_state=111223; total time=   0.5s\n",
      "[CV 3/3] END max_depth=6, n_estimators=161, random_state=111223; total time=   0.5s\n",
      "[CV 1/3] END max_depth=6, n_estimators=181, random_state=111223; total time=   0.6s\n",
      "[CV 2/3] END max_depth=6, n_estimators=181, random_state=111223; total time=   0.6s\n",
      "[CV 3/3] END max_depth=6, n_estimators=181, random_state=111223; total time=   0.6s\n",
      "[CV 1/3] END max_depth=7, n_estimators=1, random_state=111223; total time=   0.0s\n",
      "[CV 2/3] END max_depth=7, n_estimators=1, random_state=111223; total time=   0.0s\n",
      "[CV 3/3] END max_depth=7, n_estimators=1, random_state=111223; total time=   0.0s\n",
      "[CV 1/3] END max_depth=7, n_estimators=21, random_state=111223; total time=   0.1s\n",
      "[CV 2/3] END max_depth=7, n_estimators=21, random_state=111223; total time=   0.1s\n",
      "[CV 3/3] END max_depth=7, n_estimators=21, random_state=111223; total time=   0.1s\n",
      "[CV 1/3] END max_depth=7, n_estimators=41, random_state=111223; total time=   0.2s\n",
      "[CV 2/3] END max_depth=7, n_estimators=41, random_state=111223; total time=   0.2s\n",
      "[CV 3/3] END max_depth=7, n_estimators=41, random_state=111223; total time=   0.2s\n",
      "[CV 1/3] END max_depth=7, n_estimators=61, random_state=111223; total time=   0.2s\n",
      "[CV 2/3] END max_depth=7, n_estimators=61, random_state=111223; total time=   0.2s\n",
      "[CV 3/3] END max_depth=7, n_estimators=61, random_state=111223; total time=   0.2s\n",
      "[CV 1/3] END max_depth=7, n_estimators=81, random_state=111223; total time=   0.3s\n",
      "[CV 2/3] END max_depth=7, n_estimators=81, random_state=111223; total time=   0.3s\n",
      "[CV 3/3] END max_depth=7, n_estimators=81, random_state=111223; total time=   0.3s\n",
      "[CV 1/3] END max_depth=7, n_estimators=101, random_state=111223; total time=   0.4s\n",
      "[CV 2/3] END max_depth=7, n_estimators=101, random_state=111223; total time=   0.4s\n",
      "[CV 3/3] END max_depth=7, n_estimators=101, random_state=111223; total time=   0.4s\n",
      "[CV 1/3] END max_depth=7, n_estimators=121, random_state=111223; total time=   0.5s\n",
      "[CV 2/3] END max_depth=7, n_estimators=121, random_state=111223; total time=   0.4s\n",
      "[CV 3/3] END max_depth=7, n_estimators=121, random_state=111223; total time=   0.4s\n",
      "[CV 1/3] END max_depth=7, n_estimators=141, random_state=111223; total time=   0.5s\n",
      "[CV 2/3] END max_depth=7, n_estimators=141, random_state=111223; total time=   0.5s\n",
      "[CV 3/3] END max_depth=7, n_estimators=141, random_state=111223; total time=   0.5s\n",
      "[CV 1/3] END max_depth=7, n_estimators=161, random_state=111223; total time=   0.6s\n",
      "[CV 2/3] END max_depth=7, n_estimators=161, random_state=111223; total time=   0.6s\n",
      "[CV 3/3] END max_depth=7, n_estimators=161, random_state=111223; total time=   0.6s\n",
      "[CV 1/3] END max_depth=7, n_estimators=181, random_state=111223; total time=   0.7s\n",
      "[CV 2/3] END max_depth=7, n_estimators=181, random_state=111223; total time=   0.7s\n",
      "[CV 3/3] END max_depth=7, n_estimators=181, random_state=111223; total time=   0.7s\n",
      "[CV 1/3] END max_depth=8, n_estimators=1, random_state=111223; total time=   0.0s\n",
      "[CV 2/3] END max_depth=8, n_estimators=1, random_state=111223; total time=   0.0s\n",
      "[CV 3/3] END max_depth=8, n_estimators=1, random_state=111223; total time=   0.0s\n",
      "[CV 1/3] END max_depth=8, n_estimators=21, random_state=111223; total time=   0.1s\n",
      "[CV 2/3] END max_depth=8, n_estimators=21, random_state=111223; total time=   0.1s\n",
      "[CV 3/3] END max_depth=8, n_estimators=21, random_state=111223; total time=   0.1s\n",
      "[CV 1/3] END max_depth=8, n_estimators=41, random_state=111223; total time=   0.2s\n",
      "[CV 2/3] END max_depth=8, n_estimators=41, random_state=111223; total time=   0.2s\n",
      "[CV 3/3] END max_depth=8, n_estimators=41, random_state=111223; total time=   0.2s\n",
      "[CV 1/3] END max_depth=8, n_estimators=61, random_state=111223; total time=   0.2s\n",
      "[CV 2/3] END max_depth=8, n_estimators=61, random_state=111223; total time=   0.2s\n",
      "[CV 3/3] END max_depth=8, n_estimators=61, random_state=111223; total time=   0.3s\n",
      "[CV 1/3] END max_depth=8, n_estimators=81, random_state=111223; total time=   0.3s\n",
      "[CV 2/3] END max_depth=8, n_estimators=81, random_state=111223; total time=   0.3s\n",
      "[CV 3/3] END max_depth=8, n_estimators=81, random_state=111223; total time=   0.3s\n",
      "[CV 1/3] END max_depth=8, n_estimators=101, random_state=111223; total time=   0.4s\n",
      "[CV 2/3] END max_depth=8, n_estimators=101, random_state=111223; total time=   0.4s\n",
      "[CV 3/3] END max_depth=8, n_estimators=101, random_state=111223; total time=   0.4s\n",
      "[CV 1/3] END max_depth=8, n_estimators=121, random_state=111223; total time=   0.5s\n",
      "[CV 2/3] END max_depth=8, n_estimators=121, random_state=111223; total time=   0.5s\n",
      "[CV 3/3] END max_depth=8, n_estimators=121, random_state=111223; total time=   0.5s\n",
      "[CV 1/3] END max_depth=8, n_estimators=141, random_state=111223; total time=   0.6s\n",
      "[CV 2/3] END max_depth=8, n_estimators=141, random_state=111223; total time=   0.6s\n",
      "[CV 3/3] END max_depth=8, n_estimators=141, random_state=111223; total time=   0.6s\n",
      "[CV 1/3] END max_depth=8, n_estimators=161, random_state=111223; total time=   0.6s\n",
      "[CV 2/3] END max_depth=8, n_estimators=161, random_state=111223; total time=   0.6s\n",
      "[CV 3/3] END max_depth=8, n_estimators=161, random_state=111223; total time=   0.7s\n",
      "[CV 1/3] END max_depth=8, n_estimators=181, random_state=111223; total time=   0.7s\n",
      "[CV 2/3] END max_depth=8, n_estimators=181, random_state=111223; total time=   0.7s\n",
      "[CV 3/3] END max_depth=8, n_estimators=181, random_state=111223; total time=   0.7s\n",
      "[CV 1/3] END max_depth=9, n_estimators=1, random_state=111223; total time=   0.0s\n",
      "[CV 2/3] END max_depth=9, n_estimators=1, random_state=111223; total time=   0.0s\n",
      "[CV 3/3] END max_depth=9, n_estimators=1, random_state=111223; total time=   0.0s\n",
      "[CV 1/3] END max_depth=9, n_estimators=21, random_state=111223; total time=   0.1s\n",
      "[CV 2/3] END max_depth=9, n_estimators=21, random_state=111223; total time=   0.1s\n",
      "[CV 3/3] END max_depth=9, n_estimators=21, random_state=111223; total time=   0.1s\n",
      "[CV 1/3] END max_depth=9, n_estimators=41, random_state=111223; total time=   0.2s\n",
      "[CV 2/3] END max_depth=9, n_estimators=41, random_state=111223; total time=   0.2s\n",
      "[CV 3/3] END max_depth=9, n_estimators=41, random_state=111223; total time=   0.2s\n",
      "[CV 1/3] END max_depth=9, n_estimators=61, random_state=111223; total time=   0.3s\n",
      "[CV 2/3] END max_depth=9, n_estimators=61, random_state=111223; total time=   0.3s\n",
      "[CV 3/3] END max_depth=9, n_estimators=61, random_state=111223; total time=   0.3s\n",
      "[CV 1/3] END max_depth=9, n_estimators=81, random_state=111223; total time=   0.4s\n",
      "[CV 2/3] END max_depth=9, n_estimators=81, random_state=111223; total time=   0.4s\n",
      "[CV 3/3] END max_depth=9, n_estimators=81, random_state=111223; total time=   0.4s\n",
      "[CV 1/3] END max_depth=9, n_estimators=101, random_state=111223; total time=   0.4s\n",
      "[CV 2/3] END max_depth=9, n_estimators=101, random_state=111223; total time=   0.4s\n",
      "[CV 3/3] END max_depth=9, n_estimators=101, random_state=111223; total time=   0.4s\n",
      "[CV 1/3] END max_depth=9, n_estimators=121, random_state=111223; total time=   0.5s\n",
      "[CV 2/3] END max_depth=9, n_estimators=121, random_state=111223; total time=   0.5s\n",
      "[CV 3/3] END max_depth=9, n_estimators=121, random_state=111223; total time=   0.5s\n",
      "[CV 1/3] END max_depth=9, n_estimators=141, random_state=111223; total time=   0.6s\n",
      "[CV 2/3] END max_depth=9, n_estimators=141, random_state=111223; total time=   0.6s\n",
      "[CV 3/3] END max_depth=9, n_estimators=141, random_state=111223; total time=   0.6s\n",
      "[CV 1/3] END max_depth=9, n_estimators=161, random_state=111223; total time=   0.7s\n",
      "[CV 2/3] END max_depth=9, n_estimators=161, random_state=111223; total time=   0.7s\n",
      "[CV 3/3] END max_depth=9, n_estimators=161, random_state=111223; total time=   0.7s\n",
      "[CV 1/3] END max_depth=9, n_estimators=181, random_state=111223; total time=   0.8s\n",
      "[CV 2/3] END max_depth=9, n_estimators=181, random_state=111223; total time=   0.8s\n",
      "[CV 3/3] END max_depth=9, n_estimators=181, random_state=111223; total time=   0.8s\n",
      "[CV 1/3] END max_depth=10, n_estimators=1, random_state=111223; total time=   0.0s\n",
      "[CV 2/3] END max_depth=10, n_estimators=1, random_state=111223; total time=   0.0s\n",
      "[CV 3/3] END max_depth=10, n_estimators=1, random_state=111223; total time=   0.0s\n",
      "[CV 1/3] END max_depth=10, n_estimators=21, random_state=111223; total time=   0.1s\n",
      "[CV 2/3] END max_depth=10, n_estimators=21, random_state=111223; total time=   0.1s\n",
      "[CV 3/3] END max_depth=10, n_estimators=21, random_state=111223; total time=   0.1s\n",
      "[CV 1/3] END max_depth=10, n_estimators=41, random_state=111223; total time=   0.2s\n",
      "[CV 2/3] END max_depth=10, n_estimators=41, random_state=111223; total time=   0.2s\n",
      "[CV 3/3] END max_depth=10, n_estimators=41, random_state=111223; total time=   0.2s\n",
      "[CV 1/3] END max_depth=10, n_estimators=61, random_state=111223; total time=   0.3s\n",
      "[CV 2/3] END max_depth=10, n_estimators=61, random_state=111223; total time=   0.3s\n",
      "[CV 3/3] END max_depth=10, n_estimators=61, random_state=111223; total time=   0.3s\n",
      "[CV 1/3] END max_depth=10, n_estimators=81, random_state=111223; total time=   0.4s\n",
      "[CV 2/3] END max_depth=10, n_estimators=81, random_state=111223; total time=   0.4s\n",
      "[CV 3/3] END max_depth=10, n_estimators=81, random_state=111223; total time=   0.4s\n",
      "[CV 1/3] END max_depth=10, n_estimators=101, random_state=111223; total time=   0.5s\n",
      "[CV 2/3] END max_depth=10, n_estimators=101, random_state=111223; total time=   0.5s\n",
      "[CV 3/3] END max_depth=10, n_estimators=101, random_state=111223; total time=   0.5s\n",
      "[CV 1/3] END max_depth=10, n_estimators=121, random_state=111223; total time=   0.6s\n",
      "[CV 2/3] END max_depth=10, n_estimators=121, random_state=111223; total time=   0.6s\n",
      "[CV 3/3] END max_depth=10, n_estimators=121, random_state=111223; total time=   0.6s\n",
      "[CV 1/3] END max_depth=10, n_estimators=141, random_state=111223; total time=   0.6s\n",
      "[CV 2/3] END max_depth=10, n_estimators=141, random_state=111223; total time=   0.6s\n",
      "[CV 3/3] END max_depth=10, n_estimators=141, random_state=111223; total time=   0.7s\n",
      "[CV 1/3] END max_depth=10, n_estimators=161, random_state=111223; total time=   0.8s\n",
      "[CV 2/3] END max_depth=10, n_estimators=161, random_state=111223; total time=   0.7s\n",
      "[CV 3/3] END max_depth=10, n_estimators=161, random_state=111223; total time=   0.7s\n",
      "[CV 1/3] END max_depth=10, n_estimators=181, random_state=111223; total time=   0.9s\n",
      "[CV 2/3] END max_depth=10, n_estimators=181, random_state=111223; total time=   0.8s\n",
      "[CV 3/3] END max_depth=10, n_estimators=181, random_state=111223; total time=   0.8s\n",
      "[CV 1/3] END max_depth=11, n_estimators=1, random_state=111223; total time=   0.0s\n",
      "[CV 2/3] END max_depth=11, n_estimators=1, random_state=111223; total time=   0.0s\n",
      "[CV 3/3] END max_depth=11, n_estimators=1, random_state=111223; total time=   0.0s\n",
      "[CV 1/3] END max_depth=11, n_estimators=21, random_state=111223; total time=   0.1s\n",
      "[CV 2/3] END max_depth=11, n_estimators=21, random_state=111223; total time=   0.1s\n",
      "[CV 3/3] END max_depth=11, n_estimators=21, random_state=111223; total time=   0.1s\n",
      "[CV 1/3] END max_depth=11, n_estimators=41, random_state=111223; total time=   0.2s\n",
      "[CV 2/3] END max_depth=11, n_estimators=41, random_state=111223; total time=   0.2s\n",
      "[CV 3/3] END max_depth=11, n_estimators=41, random_state=111223; total time=   0.2s\n",
      "[CV 1/3] END max_depth=11, n_estimators=61, random_state=111223; total time=   0.3s\n",
      "[CV 2/3] END max_depth=11, n_estimators=61, random_state=111223; total time=   0.3s\n",
      "[CV 3/3] END max_depth=11, n_estimators=61, random_state=111223; total time=   0.3s\n",
      "[CV 1/3] END max_depth=11, n_estimators=81, random_state=111223; total time=   0.4s\n",
      "[CV 2/3] END max_depth=11, n_estimators=81, random_state=111223; total time=   0.4s\n",
      "[CV 3/3] END max_depth=11, n_estimators=81, random_state=111223; total time=   0.4s\n",
      "[CV 1/3] END max_depth=11, n_estimators=101, random_state=111223; total time=   0.5s\n",
      "[CV 2/3] END max_depth=11, n_estimators=101, random_state=111223; total time=   0.5s\n",
      "[CV 3/3] END max_depth=11, n_estimators=101, random_state=111223; total time=   0.5s\n",
      "[CV 1/3] END max_depth=11, n_estimators=121, random_state=111223; total time=   0.6s\n",
      "[CV 2/3] END max_depth=11, n_estimators=121, random_state=111223; total time=   0.6s\n",
      "[CV 3/3] END max_depth=11, n_estimators=121, random_state=111223; total time=   0.6s\n",
      "[CV 1/3] END max_depth=11, n_estimators=141, random_state=111223; total time=   0.7s\n",
      "[CV 2/3] END max_depth=11, n_estimators=141, random_state=111223; total time=   0.7s\n",
      "[CV 3/3] END max_depth=11, n_estimators=141, random_state=111223; total time=   0.7s\n",
      "[CV 1/3] END max_depth=11, n_estimators=161, random_state=111223; total time=   0.8s\n",
      "[CV 2/3] END max_depth=11, n_estimators=161, random_state=111223; total time=   0.8s\n",
      "[CV 3/3] END max_depth=11, n_estimators=161, random_state=111223; total time=   0.8s\n",
      "[CV 1/3] END max_depth=11, n_estimators=181, random_state=111223; total time=   0.9s\n",
      "[CV 2/3] END max_depth=11, n_estimators=181, random_state=111223; total time=   0.9s\n",
      "[CV 3/3] END max_depth=11, n_estimators=181, random_state=111223; total time=   0.9s\n",
      "[CV 1/3] END max_depth=12, n_estimators=1, random_state=111223; total time=   0.0s\n",
      "[CV 2/3] END max_depth=12, n_estimators=1, random_state=111223; total time=   0.0s\n",
      "[CV 3/3] END max_depth=12, n_estimators=1, random_state=111223; total time=   0.0s\n",
      "[CV 1/3] END max_depth=12, n_estimators=21, random_state=111223; total time=   0.1s\n",
      "[CV 2/3] END max_depth=12, n_estimators=21, random_state=111223; total time=   0.1s\n",
      "[CV 3/3] END max_depth=12, n_estimators=21, random_state=111223; total time=   0.1s\n",
      "[CV 1/3] END max_depth=12, n_estimators=41, random_state=111223; total time=   0.2s\n",
      "[CV 2/3] END max_depth=12, n_estimators=41, random_state=111223; total time=   0.2s\n",
      "[CV 3/3] END max_depth=12, n_estimators=41, random_state=111223; total time=   0.2s\n",
      "[CV 1/3] END max_depth=12, n_estimators=61, random_state=111223; total time=   0.3s\n",
      "[CV 2/3] END max_depth=12, n_estimators=61, random_state=111223; total time=   0.3s\n",
      "[CV 3/3] END max_depth=12, n_estimators=61, random_state=111223; total time=   0.3s\n",
      "[CV 1/3] END max_depth=12, n_estimators=81, random_state=111223; total time=   0.4s\n",
      "[CV 2/3] END max_depth=12, n_estimators=81, random_state=111223; total time=   0.4s\n",
      "[CV 3/3] END max_depth=12, n_estimators=81, random_state=111223; total time=   0.4s\n",
      "[CV 1/3] END max_depth=12, n_estimators=101, random_state=111223; total time=   0.5s\n",
      "[CV 2/3] END max_depth=12, n_estimators=101, random_state=111223; total time=   0.5s\n",
      "[CV 3/3] END max_depth=12, n_estimators=101, random_state=111223; total time=   0.5s\n",
      "[CV 1/3] END max_depth=12, n_estimators=121, random_state=111223; total time=   0.6s\n",
      "[CV 2/3] END max_depth=12, n_estimators=121, random_state=111223; total time=   0.6s\n",
      "[CV 3/3] END max_depth=12, n_estimators=121, random_state=111223; total time=   0.6s\n",
      "[CV 1/3] END max_depth=12, n_estimators=141, random_state=111223; total time=   0.7s\n",
      "[CV 2/3] END max_depth=12, n_estimators=141, random_state=111223; total time=   0.7s\n",
      "[CV 3/3] END max_depth=12, n_estimators=141, random_state=111223; total time=   0.7s\n",
      "[CV 1/3] END max_depth=12, n_estimators=161, random_state=111223; total time=   0.8s\n",
      "[CV 2/3] END max_depth=12, n_estimators=161, random_state=111223; total time=   0.8s\n",
      "[CV 3/3] END max_depth=12, n_estimators=161, random_state=111223; total time=   0.8s\n",
      "[CV 1/3] END max_depth=12, n_estimators=181, random_state=111223; total time=   0.9s\n",
      "[CV 2/3] END max_depth=12, n_estimators=181, random_state=111223; total time=   0.9s\n",
      "[CV 3/3] END max_depth=12, n_estimators=181, random_state=111223; total time=   0.9s\n",
      "[CV 1/3] END max_depth=13, n_estimators=1, random_state=111223; total time=   0.0s\n",
      "[CV 2/3] END max_depth=13, n_estimators=1, random_state=111223; total time=   0.0s\n",
      "[CV 3/3] END max_depth=13, n_estimators=1, random_state=111223; total time=   0.0s\n",
      "[CV 1/3] END max_depth=13, n_estimators=21, random_state=111223; total time=   0.1s\n",
      "[CV 2/3] END max_depth=13, n_estimators=21, random_state=111223; total time=   0.1s\n",
      "[CV 3/3] END max_depth=13, n_estimators=21, random_state=111223; total time=   0.1s\n",
      "[CV 1/3] END max_depth=13, n_estimators=41, random_state=111223; total time=   0.2s\n",
      "[CV 2/3] END max_depth=13, n_estimators=41, random_state=111223; total time=   0.2s\n",
      "[CV 3/3] END max_depth=13, n_estimators=41, random_state=111223; total time=   0.2s\n",
      "[CV 1/3] END max_depth=13, n_estimators=61, random_state=111223; total time=   0.3s\n",
      "[CV 2/3] END max_depth=13, n_estimators=61, random_state=111223; total time=   0.3s\n",
      "[CV 3/3] END max_depth=13, n_estimators=61, random_state=111223; total time=   0.3s\n",
      "[CV 1/3] END max_depth=13, n_estimators=81, random_state=111223; total time=   0.4s\n",
      "[CV 2/3] END max_depth=13, n_estimators=81, random_state=111223; total time=   0.4s\n",
      "[CV 3/3] END max_depth=13, n_estimators=81, random_state=111223; total time=   0.4s\n",
      "[CV 1/3] END max_depth=13, n_estimators=101, random_state=111223; total time=   0.5s\n",
      "[CV 2/3] END max_depth=13, n_estimators=101, random_state=111223; total time=   0.5s\n",
      "[CV 3/3] END max_depth=13, n_estimators=101, random_state=111223; total time=   0.5s\n",
      "[CV 1/3] END max_depth=13, n_estimators=121, random_state=111223; total time=   0.7s\n",
      "[CV 2/3] END max_depth=13, n_estimators=121, random_state=111223; total time=   0.6s\n",
      "[CV 3/3] END max_depth=13, n_estimators=121, random_state=111223; total time=   0.7s\n",
      "[CV 1/3] END max_depth=13, n_estimators=141, random_state=111223; total time=   0.8s\n",
      "[CV 2/3] END max_depth=13, n_estimators=141, random_state=111223; total time=   0.8s\n",
      "[CV 3/3] END max_depth=13, n_estimators=141, random_state=111223; total time=   0.7s\n",
      "[CV 1/3] END max_depth=13, n_estimators=161, random_state=111223; total time=   0.8s\n",
      "[CV 2/3] END max_depth=13, n_estimators=161, random_state=111223; total time=   0.8s\n",
      "[CV 3/3] END max_depth=13, n_estimators=161, random_state=111223; total time=   0.8s\n",
      "[CV 1/3] END max_depth=13, n_estimators=181, random_state=111223; total time=   1.0s\n",
      "[CV 2/3] END max_depth=13, n_estimators=181, random_state=111223; total time=   1.0s\n",
      "[CV 3/3] END max_depth=13, n_estimators=181, random_state=111223; total time=   1.0s\n",
      "[CV 1/3] END max_depth=14, n_estimators=1, random_state=111223; total time=   0.0s\n",
      "[CV 2/3] END max_depth=14, n_estimators=1, random_state=111223; total time=   0.0s\n",
      "[CV 3/3] END max_depth=14, n_estimators=1, random_state=111223; total time=   0.0s\n",
      "[CV 1/3] END max_depth=14, n_estimators=21, random_state=111223; total time=   0.1s\n",
      "[CV 2/3] END max_depth=14, n_estimators=21, random_state=111223; total time=   0.1s\n",
      "[CV 3/3] END max_depth=14, n_estimators=21, random_state=111223; total time=   0.1s\n",
      "[CV 1/3] END max_depth=14, n_estimators=41, random_state=111223; total time=   0.2s\n",
      "[CV 2/3] END max_depth=14, n_estimators=41, random_state=111223; total time=   0.2s\n",
      "[CV 3/3] END max_depth=14, n_estimators=41, random_state=111223; total time=   0.2s\n",
      "[CV 1/3] END max_depth=14, n_estimators=61, random_state=111223; total time=   0.3s\n",
      "[CV 2/3] END max_depth=14, n_estimators=61, random_state=111223; total time=   0.3s\n",
      "[CV 3/3] END max_depth=14, n_estimators=61, random_state=111223; total time=   0.3s\n",
      "[CV 1/3] END max_depth=14, n_estimators=81, random_state=111223; total time=   0.4s\n",
      "[CV 2/3] END max_depth=14, n_estimators=81, random_state=111223; total time=   0.4s\n",
      "[CV 3/3] END max_depth=14, n_estimators=81, random_state=111223; total time=   0.5s\n",
      "[CV 1/3] END max_depth=14, n_estimators=101, random_state=111223; total time=   0.5s\n",
      "[CV 2/3] END max_depth=14, n_estimators=101, random_state=111223; total time=   0.6s\n",
      "[CV 3/3] END max_depth=14, n_estimators=101, random_state=111223; total time=   0.8s\n",
      "[CV 1/3] END max_depth=14, n_estimators=121, random_state=111223; total time=   0.7s\n",
      "[CV 2/3] END max_depth=14, n_estimators=121, random_state=111223; total time=   0.7s\n",
      "[CV 3/3] END max_depth=14, n_estimators=121, random_state=111223; total time=   0.7s\n",
      "[CV 1/3] END max_depth=14, n_estimators=141, random_state=111223; total time=   0.8s\n",
      "[CV 2/3] END max_depth=14, n_estimators=141, random_state=111223; total time=   0.8s\n",
      "[CV 3/3] END max_depth=14, n_estimators=141, random_state=111223; total time=   0.8s\n",
      "[CV 1/3] END max_depth=14, n_estimators=161, random_state=111223; total time=   0.9s\n",
      "[CV 2/3] END max_depth=14, n_estimators=161, random_state=111223; total time=   0.9s\n",
      "[CV 3/3] END max_depth=14, n_estimators=161, random_state=111223; total time=   0.9s\n",
      "[CV 1/3] END max_depth=14, n_estimators=181, random_state=111223; total time=   1.0s\n",
      "[CV 2/3] END max_depth=14, n_estimators=181, random_state=111223; total time=   1.0s\n",
      "[CV 3/3] END max_depth=14, n_estimators=181, random_state=111223; total time=   1.0s\n"
     ]
    },
    {
     "data": {
      "text/plain": [
       "GridSearchCV(cv=3, estimator=RandomForestRegressor(),\n",
       "             param_grid={'max_depth': array([ 2,  3,  4,  5,  6,  7,  8,  9, 10, 11, 12, 13, 14]),\n",
       "                         'n_estimators': array([  1,  21,  41,  61,  81, 101, 121, 141, 161, 181]),\n",
       "                         'random_state': [111223]},\n",
       "             scoring='neg_mean_absolute_error', verbose=3)"
      ]
     },
     "execution_count": 105,
     "metadata": {},
     "output_type": "execute_result"
    }
   ],
   "source": [
    "forest=RandomForestRegressor()\n",
    "forest_model=GridSearchCV(forest, param_grid=param,  scoring='neg_mean_absolute_error', cv=3, verbose=3)\n",
    "forest_model.fit(train_values, train_targets)"
   ]
  },
  {
   "cell_type": "code",
   "execution_count": 106,
   "id": "ef722669",
   "metadata": {},
   "outputs": [
    {
     "name": "stdout",
     "output_type": "stream",
     "text": [
      "-6.666740964895787 {'max_depth': 9, 'n_estimators': 61, 'random_state': 111223}\n"
     ]
    }
   ],
   "source": [
    "print(forest_model.best_score_, forest_model.best_params_)"
   ]
  },
  {
   "cell_type": "markdown",
   "id": "2cbf84a7",
   "metadata": {},
   "source": [
    "В принципе этой точности достаточно, но постараемся \n",
    "И попробуем применить градиентный бустинг"
   ]
  },
  {
   "cell_type": "code",
   "execution_count": 107,
   "id": "58610bc9",
   "metadata": {},
   "outputs": [],
   "source": [
    "param={\n",
    "    'max_depth': np.arange(2, 15, 2),\n",
    "    'learning_rate': [0.1],\n",
    "    'n_estimators': np.arange(1, 202, 40),\n",
    "    'random_state': [111223]\n",
    "}"
   ]
  },
  {
   "cell_type": "code",
   "execution_count": 108,
   "id": "998f8518",
   "metadata": {
    "scrolled": true
   },
   "outputs": [
    {
     "name": "stdout",
     "output_type": "stream",
     "text": [
      "Fitting 3 folds for each of 42 candidates, totalling 126 fits\n",
      "[CV 1/3] END learning_rate=0.1, max_depth=2, n_estimators=1, random_state=111223; total time=   0.0s\n",
      "[CV 2/3] END learning_rate=0.1, max_depth=2, n_estimators=1, random_state=111223; total time=   0.0s\n",
      "[CV 3/3] END learning_rate=0.1, max_depth=2, n_estimators=1, random_state=111223; total time=   0.5s\n",
      "[CV 1/3] END learning_rate=0.1, max_depth=2, n_estimators=41, random_state=111223; total time=   0.5s\n",
      "[CV 2/3] END learning_rate=0.1, max_depth=2, n_estimators=41, random_state=111223; total time=   1.3s\n",
      "[CV 3/3] END learning_rate=0.1, max_depth=2, n_estimators=41, random_state=111223; total time=   0.7s\n",
      "[CV 1/3] END learning_rate=0.1, max_depth=2, n_estimators=81, random_state=111223; total time=   0.5s\n",
      "[CV 2/3] END learning_rate=0.1, max_depth=2, n_estimators=81, random_state=111223; total time=   0.2s\n",
      "[CV 3/3] END learning_rate=0.1, max_depth=2, n_estimators=81, random_state=111223; total time=   1.7s\n",
      "[CV 1/3] END learning_rate=0.1, max_depth=2, n_estimators=121, random_state=111223; total time=   1.6s\n",
      "[CV 2/3] END learning_rate=0.1, max_depth=2, n_estimators=121, random_state=111223; total time=   2.2s\n",
      "[CV 3/3] END learning_rate=0.1, max_depth=2, n_estimators=121, random_state=111223; total time=   1.0s\n",
      "[CV 1/3] END learning_rate=0.1, max_depth=2, n_estimators=161, random_state=111223; total time=   1.9s\n",
      "[CV 2/3] END learning_rate=0.1, max_depth=2, n_estimators=161, random_state=111223; total time=   1.9s\n",
      "[CV 3/3] END learning_rate=0.1, max_depth=2, n_estimators=161, random_state=111223; total time=   1.7s\n",
      "[CV 1/3] END learning_rate=0.1, max_depth=2, n_estimators=201, random_state=111223; total time=   5.6s\n",
      "[CV 2/3] END learning_rate=0.1, max_depth=2, n_estimators=201, random_state=111223; total time=   3.0s\n",
      "[CV 3/3] END learning_rate=0.1, max_depth=2, n_estimators=201, random_state=111223; total time=   3.7s\n",
      "[CV 1/3] END learning_rate=0.1, max_depth=4, n_estimators=1, random_state=111223; total time=   0.2s\n",
      "[CV 2/3] END learning_rate=0.1, max_depth=4, n_estimators=1, random_state=111223; total time=   1.2s\n",
      "[CV 3/3] END learning_rate=0.1, max_depth=4, n_estimators=1, random_state=111223; total time=   0.1s\n",
      "[CV 1/3] END learning_rate=0.1, max_depth=4, n_estimators=41, random_state=111223; total time=   0.8s\n",
      "[CV 2/3] END learning_rate=0.1, max_depth=4, n_estimators=41, random_state=111223; total time=   1.6s\n",
      "[CV 3/3] END learning_rate=0.1, max_depth=4, n_estimators=41, random_state=111223; total time=   1.2s\n",
      "[CV 1/3] END learning_rate=0.1, max_depth=4, n_estimators=81, random_state=111223; total time=   2.6s\n",
      "[CV 2/3] END learning_rate=0.1, max_depth=4, n_estimators=81, random_state=111223; total time=   2.1s\n",
      "[CV 3/3] END learning_rate=0.1, max_depth=4, n_estimators=81, random_state=111223; total time=   1.0s\n",
      "[CV 1/3] END learning_rate=0.1, max_depth=4, n_estimators=121, random_state=111223; total time=   2.9s\n",
      "[CV 2/3] END learning_rate=0.1, max_depth=4, n_estimators=121, random_state=111223; total time=   3.0s\n",
      "[CV 3/3] END learning_rate=0.1, max_depth=4, n_estimators=121, random_state=111223; total time=   3.3s\n",
      "[CV 1/3] END learning_rate=0.1, max_depth=4, n_estimators=161, random_state=111223; total time=   3.3s\n",
      "[CV 2/3] END learning_rate=0.1, max_depth=4, n_estimators=161, random_state=111223; total time=   3.0s\n",
      "[CV 3/3] END learning_rate=0.1, max_depth=4, n_estimators=161, random_state=111223; total time=   5.2s\n",
      "[CV 1/3] END learning_rate=0.1, max_depth=4, n_estimators=201, random_state=111223; total time=   3.6s\n",
      "[CV 2/3] END learning_rate=0.1, max_depth=4, n_estimators=201, random_state=111223; total time=   8.2s\n",
      "[CV 3/3] END learning_rate=0.1, max_depth=4, n_estimators=201, random_state=111223; total time=   5.5s\n",
      "[CV 1/3] END learning_rate=0.1, max_depth=6, n_estimators=1, random_state=111223; total time=   0.1s\n",
      "[CV 2/3] END learning_rate=0.1, max_depth=6, n_estimators=1, random_state=111223; total time=   0.5s\n",
      "[CV 3/3] END learning_rate=0.1, max_depth=6, n_estimators=1, random_state=111223; total time=   1.0s\n",
      "[CV 1/3] END learning_rate=0.1, max_depth=6, n_estimators=41, random_state=111223; total time=   1.5s\n",
      "[CV 2/3] END learning_rate=0.1, max_depth=6, n_estimators=41, random_state=111223; total time=   2.3s\n",
      "[CV 3/3] END learning_rate=0.1, max_depth=6, n_estimators=41, random_state=111223; total time=   3.2s\n",
      "[CV 1/3] END learning_rate=0.1, max_depth=6, n_estimators=81, random_state=111223; total time=   4.1s\n",
      "[CV 2/3] END learning_rate=0.1, max_depth=6, n_estimators=81, random_state=111223; total time=   2.1s\n",
      "[CV 3/3] END learning_rate=0.1, max_depth=6, n_estimators=81, random_state=111223; total time=   4.1s\n",
      "[CV 1/3] END learning_rate=0.1, max_depth=6, n_estimators=121, random_state=111223; total time=   4.2s\n",
      "[CV 2/3] END learning_rate=0.1, max_depth=6, n_estimators=121, random_state=111223; total time=   4.4s\n",
      "[CV 3/3] END learning_rate=0.1, max_depth=6, n_estimators=121, random_state=111223; total time=   5.3s\n",
      "[CV 1/3] END learning_rate=0.1, max_depth=6, n_estimators=161, random_state=111223; total time=   5.4s\n",
      "[CV 2/3] END learning_rate=0.1, max_depth=6, n_estimators=161, random_state=111223; total time=   3.9s\n",
      "[CV 3/3] END learning_rate=0.1, max_depth=6, n_estimators=161, random_state=111223; total time=   7.4s\n",
      "[CV 1/3] END learning_rate=0.1, max_depth=6, n_estimators=201, random_state=111223; total time=   6.9s\n",
      "[CV 2/3] END learning_rate=0.1, max_depth=6, n_estimators=201, random_state=111223; total time=   6.3s\n",
      "[CV 3/3] END learning_rate=0.1, max_depth=6, n_estimators=201, random_state=111223; total time=   9.6s\n",
      "[CV 1/3] END learning_rate=0.1, max_depth=8, n_estimators=1, random_state=111223; total time=   0.3s\n",
      "[CV 2/3] END learning_rate=0.1, max_depth=8, n_estimators=1, random_state=111223; total time=   0.7s\n",
      "[CV 3/3] END learning_rate=0.1, max_depth=8, n_estimators=1, random_state=111223; total time=   0.1s\n",
      "[CV 1/3] END learning_rate=0.1, max_depth=8, n_estimators=41, random_state=111223; total time=   1.9s\n",
      "[CV 2/3] END learning_rate=0.1, max_depth=8, n_estimators=41, random_state=111223; total time=   3.0s\n",
      "[CV 3/3] END learning_rate=0.1, max_depth=8, n_estimators=41, random_state=111223; total time=   1.5s\n",
      "[CV 1/3] END learning_rate=0.1, max_depth=8, n_estimators=81, random_state=111223; total time=   9.2s\n",
      "[CV 2/3] END learning_rate=0.1, max_depth=8, n_estimators=81, random_state=111223; total time=   9.5s\n",
      "[CV 3/3] END learning_rate=0.1, max_depth=8, n_estimators=81, random_state=111223; total time=   4.6s\n",
      "[CV 1/3] END learning_rate=0.1, max_depth=8, n_estimators=121, random_state=111223; total time=   6.9s\n",
      "[CV 2/3] END learning_rate=0.1, max_depth=8, n_estimators=121, random_state=111223; total time=   7.5s\n",
      "[CV 3/3] END learning_rate=0.1, max_depth=8, n_estimators=121, random_state=111223; total time=   7.2s\n",
      "[CV 1/3] END learning_rate=0.1, max_depth=8, n_estimators=161, random_state=111223; total time=   9.7s\n",
      "[CV 2/3] END learning_rate=0.1, max_depth=8, n_estimators=161, random_state=111223; total time=  39.7s\n",
      "[CV 3/3] END learning_rate=0.1, max_depth=8, n_estimators=161, random_state=111223; total time=   8.2s\n",
      "[CV 1/3] END learning_rate=0.1, max_depth=8, n_estimators=201, random_state=111223; total time=  10.2s\n",
      "[CV 2/3] END learning_rate=0.1, max_depth=8, n_estimators=201, random_state=111223; total time=   9.3s\n",
      "[CV 3/3] END learning_rate=0.1, max_depth=8, n_estimators=201, random_state=111223; total time=  15.8s\n",
      "[CV 1/3] END learning_rate=0.1, max_depth=10, n_estimators=1, random_state=111223; total time=   0.3s\n",
      "[CV 2/3] END learning_rate=0.1, max_depth=10, n_estimators=1, random_state=111223; total time=   0.5s\n",
      "[CV 3/3] END learning_rate=0.1, max_depth=10, n_estimators=1, random_state=111223; total time=   0.3s\n",
      "[CV 1/3] END learning_rate=0.1, max_depth=10, n_estimators=41, random_state=111223; total time=   1.9s\n",
      "[CV 2/3] END learning_rate=0.1, max_depth=10, n_estimators=41, random_state=111223; total time=   4.7s\n",
      "[CV 3/3] END learning_rate=0.1, max_depth=10, n_estimators=41, random_state=111223; total time=   3.0s\n",
      "[CV 1/3] END learning_rate=0.1, max_depth=10, n_estimators=81, random_state=111223; total time=   7.8s\n",
      "[CV 2/3] END learning_rate=0.1, max_depth=10, n_estimators=81, random_state=111223; total time=   3.8s\n",
      "[CV 3/3] END learning_rate=0.1, max_depth=10, n_estimators=81, random_state=111223; total time=   6.0s\n",
      "[CV 1/3] END learning_rate=0.1, max_depth=10, n_estimators=121, random_state=111223; total time=  10.2s\n",
      "[CV 2/3] END learning_rate=0.1, max_depth=10, n_estimators=121, random_state=111223; total time=  10.0s\n",
      "[CV 3/3] END learning_rate=0.1, max_depth=10, n_estimators=121, random_state=111223; total time=  10.4s\n",
      "[CV 1/3] END learning_rate=0.1, max_depth=10, n_estimators=161, random_state=111223; total time=  17.7s\n",
      "[CV 2/3] END learning_rate=0.1, max_depth=10, n_estimators=161, random_state=111223; total time=   9.6s\n",
      "[CV 3/3] END learning_rate=0.1, max_depth=10, n_estimators=161, random_state=111223; total time=  11.2s\n",
      "[CV 1/3] END learning_rate=0.1, max_depth=10, n_estimators=201, random_state=111223; total time=   9.9s\n",
      "[CV 2/3] END learning_rate=0.1, max_depth=10, n_estimators=201, random_state=111223; total time=  17.3s\n",
      "[CV 3/3] END learning_rate=0.1, max_depth=10, n_estimators=201, random_state=111223; total time=  16.4s\n",
      "[CV 1/3] END learning_rate=0.1, max_depth=12, n_estimators=1, random_state=111223; total time=   0.1s\n",
      "[CV 2/3] END learning_rate=0.1, max_depth=12, n_estimators=1, random_state=111223; total time=   0.2s\n",
      "[CV 3/3] END learning_rate=0.1, max_depth=12, n_estimators=1, random_state=111223; total time=   0.4s\n",
      "[CV 1/3] END learning_rate=0.1, max_depth=12, n_estimators=41, random_state=111223; total time=   5.1s\n",
      "[CV 2/3] END learning_rate=0.1, max_depth=12, n_estimators=41, random_state=111223; total time=   6.7s\n",
      "[CV 3/3] END learning_rate=0.1, max_depth=12, n_estimators=41, random_state=111223; total time=   3.3s\n",
      "[CV 1/3] END learning_rate=0.1, max_depth=12, n_estimators=81, random_state=111223; total time=   9.3s\n",
      "[CV 2/3] END learning_rate=0.1, max_depth=12, n_estimators=81, random_state=111223; total time=   7.9s\n",
      "[CV 3/3] END learning_rate=0.1, max_depth=12, n_estimators=81, random_state=111223; total time=   6.2s\n",
      "[CV 1/3] END learning_rate=0.1, max_depth=12, n_estimators=121, random_state=111223; total time=   9.1s\n",
      "[CV 2/3] END learning_rate=0.1, max_depth=12, n_estimators=121, random_state=111223; total time=   9.2s\n",
      "[CV 3/3] END learning_rate=0.1, max_depth=12, n_estimators=121, random_state=111223; total time=  10.4s\n",
      "[CV 1/3] END learning_rate=0.1, max_depth=12, n_estimators=161, random_state=111223; total time=  10.6s\n",
      "[CV 2/3] END learning_rate=0.1, max_depth=12, n_estimators=161, random_state=111223; total time=  11.7s\n",
      "[CV 3/3] END learning_rate=0.1, max_depth=12, n_estimators=161, random_state=111223; total time=  11.9s\n",
      "[CV 1/3] END learning_rate=0.1, max_depth=12, n_estimators=201, random_state=111223; total time=  15.8s\n",
      "[CV 2/3] END learning_rate=0.1, max_depth=12, n_estimators=201, random_state=111223; total time=  12.7s\n",
      "[CV 3/3] END learning_rate=0.1, max_depth=12, n_estimators=201, random_state=111223; total time=  42.9s\n",
      "[CV 1/3] END learning_rate=0.1, max_depth=14, n_estimators=1, random_state=111223; total time=   0.9s\n",
      "[CV 2/3] END learning_rate=0.1, max_depth=14, n_estimators=1, random_state=111223; total time=   0.1s\n",
      "[CV 3/3] END learning_rate=0.1, max_depth=14, n_estimators=1, random_state=111223; total time=   0.6s\n",
      "[CV 1/3] END learning_rate=0.1, max_depth=14, n_estimators=41, random_state=111223; total time=   3.1s\n",
      "[CV 2/3] END learning_rate=0.1, max_depth=14, n_estimators=41, random_state=111223; total time=   4.1s\n",
      "[CV 3/3] END learning_rate=0.1, max_depth=14, n_estimators=41, random_state=111223; total time=   6.0s\n",
      "[CV 1/3] END learning_rate=0.1, max_depth=14, n_estimators=81, random_state=111223; total time=   9.0s\n",
      "[CV 2/3] END learning_rate=0.1, max_depth=14, n_estimators=81, random_state=111223; total time=   5.1s\n",
      "[CV 3/3] END learning_rate=0.1, max_depth=14, n_estimators=81, random_state=111223; total time=   6.5s\n",
      "[CV 1/3] END learning_rate=0.1, max_depth=14, n_estimators=121, random_state=111223; total time=   9.6s\n",
      "[CV 2/3] END learning_rate=0.1, max_depth=14, n_estimators=121, random_state=111223; total time=   9.7s\n",
      "[CV 3/3] END learning_rate=0.1, max_depth=14, n_estimators=121, random_state=111223; total time=  14.2s\n",
      "[CV 1/3] END learning_rate=0.1, max_depth=14, n_estimators=161, random_state=111223; total time=  11.7s\n",
      "[CV 2/3] END learning_rate=0.1, max_depth=14, n_estimators=161, random_state=111223; total time=  14.7s\n",
      "[CV 3/3] END learning_rate=0.1, max_depth=14, n_estimators=161, random_state=111223; total time=  17.6s\n",
      "[CV 1/3] END learning_rate=0.1, max_depth=14, n_estimators=201, random_state=111223; total time=  20.6s\n",
      "[CV 2/3] END learning_rate=0.1, max_depth=14, n_estimators=201, random_state=111223; total time=  16.4s\n",
      "[CV 3/3] END learning_rate=0.1, max_depth=14, n_estimators=201, random_state=111223; total time=  20.0s\n"
     ]
    },
    {
     "data": {
      "text/plain": [
       "GridSearchCV(cv=3, estimator=LGBMRegressor(),\n",
       "             param_grid={'learning_rate': [0.1],\n",
       "                         'max_depth': array([ 2,  4,  6,  8, 10, 12, 14]),\n",
       "                         'n_estimators': array([  1,  41,  81, 121, 161, 201]),\n",
       "                         'random_state': [111223]},\n",
       "             scoring='neg_mean_absolute_error', verbose=3)"
      ]
     },
     "execution_count": 108,
     "metadata": {},
     "output_type": "execute_result"
    }
   ],
   "source": [
    "model=LGBMRegressor()\n",
    "LGBM_model=GridSearchCV(model, param_grid=param,  scoring='neg_mean_absolute_error', cv=3, verbose=3)\n",
    "LGBM_model.fit(train_values, train_targets)"
   ]
  },
  {
   "cell_type": "code",
   "execution_count": 109,
   "id": "3225a7cc",
   "metadata": {},
   "outputs": [
    {
     "name": "stdout",
     "output_type": "stream",
     "text": [
      "-6.668473815221042 {'learning_rate': 0.1, 'max_depth': 2, 'n_estimators': 121, 'random_state': 111223}\n"
     ]
    }
   ],
   "source": [
    "print(LGBM_model.best_score_, LGBM_model.best_params_)"
   ]
  },
  {
   "cell_type": "code",
   "execution_count": 107,
   "id": "b431ad66",
   "metadata": {},
   "outputs": [
    {
     "data": {
      "text/plain": [
       "DummyRegressor()"
      ]
     },
     "execution_count": 107,
     "metadata": {},
     "output_type": "execute_result"
    }
   ],
   "source": [
    "dum=DummyRegressor()\n",
    "dum.fit(train_values, train_targets)"
   ]
  },
  {
   "cell_type": "markdown",
   "id": "8439959f",
   "metadata": {},
   "source": [
    "**Вывод:** На данном этапе мы обучили много моделей с помощью GridSearchCV, который подбирает лучшую модель по заданным гиперпараметрам (оценвая результаты обучения с помощью кросс-валидации). И, как оказалось, лучшая модель - случайный лес, который показал MAE 6.6667. \n",
    "Что же касается его гиперпараметров, использовать большую глубину  нет смысла, поскольку у нас всего 12 признаков, да и как показал результат тоже большое количество деревьев для хорошей оценки не требуется."
   ]
  },
  {
   "cell_type": "code",
   "execution_count": 108,
   "id": "41e69e2c",
   "metadata": {},
   "outputs": [],
   "source": [
    "model_final=forest_model"
   ]
  },
  {
   "cell_type": "markdown",
   "id": "545e442f",
   "metadata": {},
   "source": [
    "## Тестирование лучшей модели"
   ]
  },
  {
   "cell_type": "code",
   "execution_count": 109,
   "id": "b20e1a8a",
   "metadata": {},
   "outputs": [
    {
     "name": "stdout",
     "output_type": "stream",
     "text": [
      "Результат лучшей на этапе обучения модели GridSearchCV(cv=3, estimator=RandomForestRegressor(),\n",
      "             param_grid={'max_depth': array([ 2,  3,  4,  5,  6,  7,  8,  9, 10, 11, 12, 13, 14]),\n",
      "                         'n_estimators': array([  1,  21,  41,  61,  81, 101, 121, 141, 161, 181]),\n",
      "                         'random_state': [111223]},\n",
      "             scoring='neg_mean_absolute_error', verbose=3) на тестовой: 6.474564490428514\n"
     ]
    }
   ],
   "source": [
    "print('Результат лучшей на этапе обучения модели {} на тестовой: {}'.format(forest_model,\\\n",
    "                                                        mean_absolute_error(test_targets, model_final.predict(test_values))))"
   ]
  },
  {
   "cell_type": "code",
   "execution_count": 110,
   "id": "a3a5e56d",
   "metadata": {},
   "outputs": [
    {
     "name": "stdout",
     "output_type": "stream",
     "text": [
      "Результат константной модели на тестовой выборке: 8.221301117671407\n"
     ]
    }
   ],
   "source": [
    "print('Результат константной модели на тестовой выборке: {}'.format(mean_absolute_error(test_targets, dum.predict(test_values))))"
   ]
  },
  {
   "cell_type": "markdown",
   "id": "37ead438",
   "metadata": {},
   "source": [
    "По результатам тестирования видно, что нам удалось добиться необходимой точности, причем наша модель куда лучше предсказывает температуру, по сравнению с константной моделью, что видно по результатам на тестовой выборке. "
   ]
  },
  {
   "cell_type": "markdown",
   "id": "43328496",
   "metadata": {},
   "source": [
    "провердем исследнование на важность признаков для нашей модели. "
   ]
  },
  {
   "cell_type": "code",
   "execution_count": 112,
   "id": "d61778fe",
   "metadata": {},
   "outputs": [
    {
     "data": {
      "image/png": "[encoded data removed]",
      "text/plain": [
       "<Figure size 720x504 with 1 Axes>"
      ]
     },
     "metadata": {
      "needs_background": "light"
     },
     "output_type": "display_data"
    }
   ],
   "source": [
    "feature_names = train_values.columns \n",
    "model = RandomForestRegressor(max_depth= 9, n_estimators= 61, random_state=111223)\n",
    "model.fit(train_values, train_targets)\n",
    "importances = model.feature_importances_\n",
    "model_importances = pd.Series(importances, index=feature_names)\n",
    "\n",
    "std = np.std([model.feature_importances_ for tree in str(1000)], axis=0)\n",
    "\n",
    "fig, ax = plt.subplots(figsize=(10,7))\n",
    "model_importances.plot.bar(yerr=std, ax=ax)\n",
    "ax.set_title(\"Feature importances\")\n",
    "ax.set_ylabel(\"Mean decrease in impurity\")\n",
    "fig.tight_layout()"
   ]
  },
  {
   "cell_type": "markdown",
   "id": "71695425",
   "metadata": {},
   "source": [
    "как мы видим по графику, для нашей модели наиболее важные признаки: начальная температура, энергия и объе проволоки_1. Что жа касается остальных признаков, то они, кроме bulk_3, bulk_4 и duration,имеют примерно одинаковый вес. \n",
    "Отметим, что если допусть ошибку в одном из первых трех признаков, точность предсказкния может существенно снизиться. Что же касается последних 3, то если здесь допустить выброс, сильных изменений ответ не понесет.\n"
   ]
  },
  {
   "cell_type": "markdown",
   "id": "175fb183",
   "metadata": {},
   "source": [
    "## Общий вывод и рекомендации заказчику"
   ]
  },
  {
   "cell_type": "markdown",
   "id": "b3c10c28",
   "metadata": {},
   "source": [
    "В ходе выполнения данного проекта, мы проанализировали признаки и поняли, что далеко не все являются информативными (например большинство столбцов из таблицы data_bulk_new, где большинство значений не заполнено), что некоторые требуют большой предобработки, например количество подогревов, хотя это достаточно важный признак или энергия, передаваемая веществу. \n",
    "Так же были обнаружены выбросы, такие как температура расплавленной стали <1500, чего быть не может, либо же это не сталь, так что заказчику стоит внимательнее относиться к этим значениям. \n",
    "Были удалены небольшие выбросы, но они есть пркатически всегда, с этим ничего не поделать. \n",
    "Ну и конечно же, обучены разлиные модели. Выбрана с лучшей оценкой МАЕ, которую собственно мы и предлагаем заказчику. \n",
    "\n",
    "Описание модели. \n",
    "По результатам обучения на кросс-валидации была выбрана модель Случайного леса (RandomForestRegressor) с параметрами 'max_depth': 9, 'n_estimators': 61, 'random_state':111223, которая выдала на тестовой выборке МАЕ=6.4746\n",
    "\n",
    "Эта модель лучшая среди всех, которые были обучены, причем дает очень даже неплохой результат, что может помочь в рассчете электроэнергии и дальнейшей ее оптимизации.   \n",
    "\n",
    "Стоит отметить, что раз качество на тесте немного лучше, чем на кросс-валидации, переобучения у нас не наблюдается. \n"
   ]
  }
 ],
 "metadata": {
  "ExecuteTimeLog": [
   {
    "duration": 414,
    "start_time": "2023-12-14T20:45:18.905Z"
   },
   {
    "duration": 2,
    "start_time": "2023-12-14T20:48:05.158Z"
   },
   {
    "duration": 3,
    "start_time": "2023-12-14T20:49:53.972Z"
   },
   {
    "duration": 100,
    "start_time": "2023-12-14T20:50:08.011Z"
   },
   {
    "duration": 164,
    "start_time": "2023-12-14T20:51:36.497Z"
   },
   {
    "duration": 105,
    "start_time": "2023-12-14T20:52:25.269Z"
   },
   {
    "duration": 124,
    "start_time": "2023-12-14T20:53:47.635Z"
   },
   {
    "duration": 276,
    "start_time": "2023-12-14T20:54:56.819Z"
   },
   {
    "duration": 71,
    "start_time": "2023-12-14T20:55:55.848Z"
   },
   {
    "duration": 124,
    "start_time": "2023-12-14T20:56:21.993Z"
   },
   {
    "duration": 11,
    "start_time": "2023-12-14T21:02:42.663Z"
   },
   {
    "duration": 12,
    "start_time": "2023-12-14T21:02:45.595Z"
   },
   {
    "duration": 12,
    "start_time": "2023-12-14T21:02:48.439Z"
   },
   {
    "duration": 10,
    "start_time": "2023-12-14T21:02:50.876Z"
   },
   {
    "duration": 11,
    "start_time": "2023-12-14T21:02:53.823Z"
   },
   {
    "duration": 11,
    "start_time": "2023-12-14T21:02:56.095Z"
   },
   {
    "duration": 15,
    "start_time": "2023-12-14T21:02:58.720Z"
   },
   {
    "duration": 12,
    "start_time": "2023-12-14T21:43:37.444Z"
   },
   {
    "duration": 9,
    "start_time": "2023-12-14T21:43:47.733Z"
   },
   {
    "duration": 19,
    "start_time": "2023-12-14T21:49:07.680Z"
   },
   {
    "duration": 3,
    "start_time": "2023-12-14T21:56:59.458Z"
   },
   {
    "duration": 15,
    "start_time": "2023-12-14T21:57:32.330Z"
   },
   {
    "duration": 12,
    "start_time": "2023-12-14T21:59:09.995Z"
   },
   {
    "duration": 3,
    "start_time": "2023-12-14T22:02:55.828Z"
   },
   {
    "duration": 27,
    "start_time": "2023-12-14T22:03:22.537Z"
   },
   {
    "duration": 3,
    "start_time": "2023-12-14T22:03:39.106Z"
   },
   {
    "duration": 68,
    "start_time": "2023-12-14T22:03:41.311Z"
   },
   {
    "duration": 8,
    "start_time": "2023-12-14T22:06:20.363Z"
   },
   {
    "duration": 8,
    "start_time": "2023-12-14T22:06:27.219Z"
   },
   {
    "duration": 8,
    "start_time": "2023-12-14T22:10:08.085Z"
   },
   {
    "duration": 77,
    "start_time": "2023-12-14T22:13:13.008Z"
   },
   {
    "duration": 19,
    "start_time": "2023-12-14T22:13:45.102Z"
   },
   {
    "duration": 5,
    "start_time": "2023-12-14T22:16:11.818Z"
   },
   {
    "duration": 4,
    "start_time": "2023-12-14T22:19:45.586Z"
   },
   {
    "duration": 10,
    "start_time": "2023-12-14T22:20:04.763Z"
   },
   {
    "duration": 6,
    "start_time": "2023-12-14T22:20:24.376Z"
   },
   {
    "duration": 11,
    "start_time": "2023-12-14T22:22:07.390Z"
   },
   {
    "duration": 25,
    "start_time": "2023-12-14T22:22:15.685Z"
   },
   {
    "duration": 11,
    "start_time": "2023-12-14T22:22:26.778Z"
   },
   {
    "duration": 11,
    "start_time": "2023-12-14T22:23:33.995Z"
   },
   {
    "duration": 27,
    "start_time": "2023-12-14T22:23:51.583Z"
   },
   {
    "duration": 397,
    "start_time": "2023-12-15T18:29:25.442Z"
   },
   {
    "duration": 3,
    "start_time": "2023-12-15T18:29:25.841Z"
   },
   {
    "duration": 209,
    "start_time": "2023-12-15T18:29:25.846Z"
   },
   {
    "duration": 69,
    "start_time": "2023-12-15T18:29:26.058Z"
   },
   {
    "duration": 121,
    "start_time": "2023-12-15T18:29:26.128Z"
   },
   {
    "duration": 66,
    "start_time": "2023-12-15T18:29:26.250Z"
   },
   {
    "duration": 69,
    "start_time": "2023-12-15T18:29:26.318Z"
   },
   {
    "duration": 74,
    "start_time": "2023-12-15T18:29:26.389Z"
   },
   {
    "duration": 69,
    "start_time": "2023-12-15T18:29:26.465Z"
   },
   {
    "duration": 14,
    "start_time": "2023-12-15T18:29:26.536Z"
   },
   {
    "duration": 11,
    "start_time": "2023-12-15T18:29:26.552Z"
   },
   {
    "duration": 16,
    "start_time": "2023-12-15T18:29:26.565Z"
   },
   {
    "duration": 36,
    "start_time": "2023-12-15T18:29:26.583Z"
   },
   {
    "duration": 68,
    "start_time": "2023-12-15T18:29:26.621Z"
   },
   {
    "duration": 19,
    "start_time": "2023-12-15T18:29:26.691Z"
   },
   {
    "duration": 39,
    "start_time": "2023-12-15T18:29:26.713Z"
   },
   {
    "duration": 30,
    "start_time": "2023-12-15T18:29:26.753Z"
   },
   {
    "duration": 38,
    "start_time": "2023-12-15T18:29:26.784Z"
   },
   {
    "duration": 14,
    "start_time": "2023-12-15T18:29:26.824Z"
   },
   {
    "duration": 41,
    "start_time": "2023-12-15T18:29:26.840Z"
   },
   {
    "duration": 51,
    "start_time": "2023-12-15T18:29:26.883Z"
   },
   {
    "duration": 36,
    "start_time": "2023-12-15T18:29:26.936Z"
   },
   {
    "duration": 70,
    "start_time": "2023-12-15T18:29:26.974Z"
   },
   {
    "duration": 7,
    "start_time": "2023-12-15T18:29:27.045Z"
   },
   {
    "duration": 34,
    "start_time": "2023-12-15T18:29:27.054Z"
   },
   {
    "duration": 34,
    "start_time": "2023-12-15T18:29:27.090Z"
   },
   {
    "duration": 21,
    "start_time": "2023-12-15T18:29:27.125Z"
   },
   {
    "duration": 22,
    "start_time": "2023-12-15T18:29:27.149Z"
   },
   {
    "duration": 24,
    "start_time": "2023-12-15T18:29:27.173Z"
   },
   {
    "duration": 17,
    "start_time": "2023-12-15T18:29:27.199Z"
   },
   {
    "duration": 43,
    "start_time": "2023-12-15T18:29:27.218Z"
   },
   {
    "duration": 24,
    "start_time": "2023-12-15T18:29:27.262Z"
   },
   {
    "duration": 37,
    "start_time": "2023-12-15T18:29:27.288Z"
   },
   {
    "duration": 66,
    "start_time": "2023-12-15T18:29:27.326Z"
   },
   {
    "duration": 13,
    "start_time": "2023-12-15T18:30:12.227Z"
   },
   {
    "duration": 7,
    "start_time": "2023-12-15T18:32:19.742Z"
   },
   {
    "duration": 13,
    "start_time": "2023-12-15T18:32:52.060Z"
   },
   {
    "duration": 12,
    "start_time": "2023-12-15T18:33:08.097Z"
   },
   {
    "duration": 10,
    "start_time": "2023-12-15T18:34:14.354Z"
   },
   {
    "duration": 6,
    "start_time": "2023-12-15T18:51:28.166Z"
   },
   {
    "duration": 9,
    "start_time": "2023-12-15T18:52:06.093Z"
   },
   {
    "duration": 9,
    "start_time": "2023-12-15T18:52:35.700Z"
   },
   {
    "duration": 8,
    "start_time": "2023-12-15T18:53:40.375Z"
   },
   {
    "duration": 4,
    "start_time": "2023-12-15T18:53:57.713Z"
   },
   {
    "duration": 7,
    "start_time": "2023-12-15T18:54:13.443Z"
   },
   {
    "duration": 6,
    "start_time": "2023-12-15T18:54:23.533Z"
   },
   {
    "duration": 6,
    "start_time": "2023-12-15T18:56:00.353Z"
   },
   {
    "duration": 14,
    "start_time": "2023-12-15T19:02:39.884Z"
   },
   {
    "duration": 15,
    "start_time": "2023-12-15T19:04:49.041Z"
   },
   {
    "duration": 7,
    "start_time": "2023-12-15T19:31:54.500Z"
   },
   {
    "duration": 14,
    "start_time": "2023-12-15T19:34:29.145Z"
   },
   {
    "duration": 15,
    "start_time": "2023-12-15T19:37:30.593Z"
   },
   {
    "duration": 7,
    "start_time": "2023-12-15T22:01:12.150Z"
   },
   {
    "duration": 5,
    "start_time": "2023-12-15T22:03:00.658Z"
   },
   {
    "duration": 5,
    "start_time": "2023-12-15T22:06:33.539Z"
   },
   {
    "duration": 5,
    "start_time": "2023-12-15T22:08:02.544Z"
   },
   {
    "duration": 5,
    "start_time": "2023-12-15T22:09:22.880Z"
   },
   {
    "duration": 5,
    "start_time": "2023-12-15T22:10:22.673Z"
   },
   {
    "duration": 6,
    "start_time": "2023-12-15T22:12:40.867Z"
   },
   {
    "duration": 347,
    "start_time": "2023-12-16T13:24:05.606Z"
   },
   {
    "duration": 3,
    "start_time": "2023-12-16T13:24:05.955Z"
   },
   {
    "duration": 115,
    "start_time": "2023-12-16T13:24:05.959Z"
   },
   {
    "duration": 103,
    "start_time": "2023-12-16T13:24:06.076Z"
   },
   {
    "duration": 96,
    "start_time": "2023-12-16T13:24:06.180Z"
   },
   {
    "duration": 58,
    "start_time": "2023-12-16T13:24:06.277Z"
   },
   {
    "duration": 97,
    "start_time": "2023-12-16T13:24:06.336Z"
   },
   {
    "duration": 58,
    "start_time": "2023-12-16T13:24:06.435Z"
   },
   {
    "duration": 69,
    "start_time": "2023-12-16T13:24:06.494Z"
   },
   {
    "duration": 10,
    "start_time": "2023-12-16T13:24:06.566Z"
   },
   {
    "duration": 21,
    "start_time": "2023-12-16T13:24:06.578Z"
   },
   {
    "duration": 26,
    "start_time": "2023-12-16T13:24:06.600Z"
   },
   {
    "duration": 7,
    "start_time": "2023-12-16T13:24:06.627Z"
   },
   {
    "duration": 8,
    "start_time": "2023-12-16T13:24:06.636Z"
   },
   {
    "duration": 12,
    "start_time": "2023-12-16T13:24:06.645Z"
   },
   {
    "duration": 12,
    "start_time": "2023-12-16T13:24:06.658Z"
   },
   {
    "duration": 18,
    "start_time": "2023-12-16T13:24:06.671Z"
   },
   {
    "duration": 31,
    "start_time": "2023-12-16T13:24:06.690Z"
   },
   {
    "duration": 2,
    "start_time": "2023-12-16T13:24:06.722Z"
   },
   {
    "duration": 21,
    "start_time": "2023-12-16T13:24:06.726Z"
   },
   {
    "duration": 15,
    "start_time": "2023-12-16T13:24:06.749Z"
   },
   {
    "duration": 18,
    "start_time": "2023-12-16T13:24:06.765Z"
   },
   {
    "duration": 43,
    "start_time": "2023-12-16T13:24:06.784Z"
   },
   {
    "duration": 6,
    "start_time": "2023-12-16T13:24:06.829Z"
   },
   {
    "duration": 16,
    "start_time": "2023-12-16T13:24:06.837Z"
   },
   {
    "duration": 17,
    "start_time": "2023-12-16T13:24:06.855Z"
   },
   {
    "duration": 16,
    "start_time": "2023-12-16T13:24:06.873Z"
   },
   {
    "duration": 5,
    "start_time": "2023-12-16T13:24:06.891Z"
   },
   {
    "duration": 15,
    "start_time": "2023-12-16T13:24:06.897Z"
   },
   {
    "duration": 6,
    "start_time": "2023-12-16T13:24:06.913Z"
   },
   {
    "duration": 18,
    "start_time": "2023-12-16T13:24:06.921Z"
   },
   {
    "duration": 13,
    "start_time": "2023-12-16T13:24:06.940Z"
   },
   {
    "duration": 29,
    "start_time": "2023-12-16T13:24:06.954Z"
   },
   {
    "duration": 9,
    "start_time": "2023-12-16T13:24:06.984Z"
   },
   {
    "duration": 8,
    "start_time": "2023-12-16T13:24:06.995Z"
   },
   {
    "duration": 5,
    "start_time": "2023-12-16T13:24:07.004Z"
   },
   {
    "duration": 13,
    "start_time": "2023-12-16T13:24:07.011Z"
   },
   {
    "duration": 35,
    "start_time": "2023-12-16T13:24:07.025Z"
   },
   {
    "duration": 6,
    "start_time": "2023-12-16T13:24:07.062Z"
   },
   {
    "duration": 11,
    "start_time": "2023-12-16T13:24:07.070Z"
   },
   {
    "duration": 17,
    "start_time": "2023-12-16T13:24:07.082Z"
   },
   {
    "duration": 18,
    "start_time": "2023-12-16T13:24:07.100Z"
   },
   {
    "duration": 5,
    "start_time": "2023-12-16T13:24:07.119Z"
   },
   {
    "duration": 6,
    "start_time": "2023-12-16T13:24:07.125Z"
   },
   {
    "duration": 20,
    "start_time": "2023-12-16T13:24:07.132Z"
   },
   {
    "duration": 4,
    "start_time": "2023-12-16T13:24:07.153Z"
   },
   {
    "duration": 10,
    "start_time": "2023-12-16T13:24:07.159Z"
   },
   {
    "duration": 13,
    "start_time": "2023-12-16T13:24:07.170Z"
   },
   {
    "duration": 3,
    "start_time": "2023-12-16T13:29:07.577Z"
   },
   {
    "duration": 48,
    "start_time": "2023-12-16T13:29:08.131Z"
   },
   {
    "duration": 425,
    "start_time": "2023-12-16T13:29:20.437Z"
   },
   {
    "duration": 3,
    "start_time": "2023-12-16T13:29:20.864Z"
   },
   {
    "duration": 96,
    "start_time": "2023-12-16T13:29:20.868Z"
   },
   {
    "duration": 41,
    "start_time": "2023-12-16T13:29:20.966Z"
   },
   {
    "duration": 35,
    "start_time": "2023-12-16T13:29:21.008Z"
   },
   {
    "duration": 40,
    "start_time": "2023-12-16T13:29:21.045Z"
   },
   {
    "duration": 54,
    "start_time": "2023-12-16T13:29:21.087Z"
   },
   {
    "duration": 32,
    "start_time": "2023-12-16T13:29:21.143Z"
   },
   {
    "duration": 30,
    "start_time": "2023-12-16T13:29:21.177Z"
   },
   {
    "duration": 15,
    "start_time": "2023-12-16T13:29:21.211Z"
   },
   {
    "duration": 23,
    "start_time": "2023-12-16T13:29:21.228Z"
   },
   {
    "duration": 13,
    "start_time": "2023-12-16T13:29:21.253Z"
   },
   {
    "duration": 39,
    "start_time": "2023-12-16T13:29:21.267Z"
   },
   {
    "duration": 42,
    "start_time": "2023-12-16T13:29:21.308Z"
   },
   {
    "duration": 22,
    "start_time": "2023-12-16T13:29:21.353Z"
   },
   {
    "duration": 23,
    "start_time": "2023-12-16T13:29:21.377Z"
   },
   {
    "duration": 10,
    "start_time": "2023-12-16T13:29:21.402Z"
   },
   {
    "duration": 17,
    "start_time": "2023-12-16T13:29:21.414Z"
   },
   {
    "duration": 4,
    "start_time": "2023-12-16T13:29:21.432Z"
   },
   {
    "duration": 21,
    "start_time": "2023-12-16T13:29:21.437Z"
   },
   {
    "duration": 13,
    "start_time": "2023-12-16T13:29:21.459Z"
   },
   {
    "duration": 50,
    "start_time": "2023-12-16T13:29:21.474Z"
   },
   {
    "duration": 51,
    "start_time": "2023-12-16T13:29:21.526Z"
   },
   {
    "duration": 10,
    "start_time": "2023-12-16T13:29:21.579Z"
   },
   {
    "duration": 14,
    "start_time": "2023-12-16T13:29:21.590Z"
   },
   {
    "duration": 16,
    "start_time": "2023-12-16T13:29:21.605Z"
   },
   {
    "duration": 5,
    "start_time": "2023-12-16T13:29:21.623Z"
   },
   {
    "duration": 3,
    "start_time": "2023-12-16T13:29:21.654Z"
   },
   {
    "duration": 28,
    "start_time": "2023-12-16T13:29:21.658Z"
   },
   {
    "duration": 14,
    "start_time": "2023-12-16T13:29:21.688Z"
   },
   {
    "duration": 13,
    "start_time": "2023-12-16T13:29:21.704Z"
   },
   {
    "duration": 14,
    "start_time": "2023-12-16T13:29:21.719Z"
   },
   {
    "duration": 32,
    "start_time": "2023-12-16T13:29:21.735Z"
   },
   {
    "duration": 26,
    "start_time": "2023-12-16T13:29:21.768Z"
   },
   {
    "duration": 50,
    "start_time": "2023-12-16T13:29:21.796Z"
   },
   {
    "duration": 38,
    "start_time": "2023-12-16T13:29:21.848Z"
   },
   {
    "duration": 22,
    "start_time": "2023-12-16T13:29:21.888Z"
   },
   {
    "duration": 26,
    "start_time": "2023-12-16T13:29:21.912Z"
   },
   {
    "duration": 8,
    "start_time": "2023-12-16T13:29:21.939Z"
   },
   {
    "duration": 20,
    "start_time": "2023-12-16T13:29:21.949Z"
   },
   {
    "duration": 19,
    "start_time": "2023-12-16T13:29:21.971Z"
   },
   {
    "duration": 17,
    "start_time": "2023-12-16T13:29:21.992Z"
   },
   {
    "duration": 32,
    "start_time": "2023-12-16T13:29:22.011Z"
   },
   {
    "duration": 8,
    "start_time": "2023-12-16T13:29:22.045Z"
   },
   {
    "duration": 12,
    "start_time": "2023-12-16T13:29:22.054Z"
   },
   {
    "duration": 13,
    "start_time": "2023-12-16T13:29:22.068Z"
   },
   {
    "duration": 8,
    "start_time": "2023-12-16T13:29:22.084Z"
   },
   {
    "duration": 7,
    "start_time": "2023-12-16T13:29:22.094Z"
   },
   {
    "duration": 50,
    "start_time": "2023-12-16T13:32:56.216Z"
   },
   {
    "duration": 11,
    "start_time": "2023-12-16T13:33:07.242Z"
   },
   {
    "duration": 17,
    "start_time": "2023-12-16T13:33:13.100Z"
   },
   {
    "duration": 10,
    "start_time": "2023-12-16T13:33:25.346Z"
   },
   {
    "duration": 7,
    "start_time": "2023-12-16T13:34:50.629Z"
   },
   {
    "duration": 4,
    "start_time": "2023-12-16T13:35:10.114Z"
   },
   {
    "duration": 59,
    "start_time": "2023-12-16T13:37:23.870Z"
   },
   {
    "duration": 11,
    "start_time": "2023-12-16T13:37:43.974Z"
   },
   {
    "duration": 5,
    "start_time": "2023-12-16T13:37:56.586Z"
   },
   {
    "duration": 4,
    "start_time": "2023-12-16T13:38:05.346Z"
   },
   {
    "duration": 7,
    "start_time": "2023-12-16T13:38:20.444Z"
   },
   {
    "duration": 382,
    "start_time": "2023-12-16T13:38:30.717Z"
   },
   {
    "duration": 3,
    "start_time": "2023-12-16T13:38:31.100Z"
   },
   {
    "duration": 79,
    "start_time": "2023-12-16T13:38:31.105Z"
   },
   {
    "duration": 41,
    "start_time": "2023-12-16T13:38:31.186Z"
   },
   {
    "duration": 34,
    "start_time": "2023-12-16T13:38:31.229Z"
   },
   {
    "duration": 39,
    "start_time": "2023-12-16T13:38:31.265Z"
   },
   {
    "duration": 32,
    "start_time": "2023-12-16T13:38:31.306Z"
   },
   {
    "duration": 27,
    "start_time": "2023-12-16T13:38:31.340Z"
   },
   {
    "duration": 43,
    "start_time": "2023-12-16T13:38:31.369Z"
   },
   {
    "duration": 44,
    "start_time": "2023-12-16T13:38:31.416Z"
   },
   {
    "duration": 48,
    "start_time": "2023-12-16T13:38:31.462Z"
   },
   {
    "duration": 52,
    "start_time": "2023-12-16T13:38:31.512Z"
   },
   {
    "duration": 23,
    "start_time": "2023-12-16T13:38:31.565Z"
   },
   {
    "duration": 40,
    "start_time": "2023-12-16T13:38:31.589Z"
   },
   {
    "duration": 37,
    "start_time": "2023-12-16T13:38:31.630Z"
   },
   {
    "duration": 40,
    "start_time": "2023-12-16T13:38:31.668Z"
   },
   {
    "duration": 30,
    "start_time": "2023-12-16T13:38:31.709Z"
   },
   {
    "duration": 32,
    "start_time": "2023-12-16T13:38:31.740Z"
   },
   {
    "duration": 10,
    "start_time": "2023-12-16T13:38:31.773Z"
   },
   {
    "duration": 19,
    "start_time": "2023-12-16T13:38:31.784Z"
   },
   {
    "duration": 32,
    "start_time": "2023-12-16T13:38:31.805Z"
   },
   {
    "duration": 35,
    "start_time": "2023-12-16T13:38:31.839Z"
   },
   {
    "duration": 44,
    "start_time": "2023-12-16T13:38:31.875Z"
   },
   {
    "duration": 6,
    "start_time": "2023-12-16T13:38:31.920Z"
   },
   {
    "duration": 54,
    "start_time": "2023-12-16T13:38:31.927Z"
   },
   {
    "duration": 41,
    "start_time": "2023-12-16T13:38:31.982Z"
   },
   {
    "duration": 27,
    "start_time": "2023-12-16T13:38:32.024Z"
   },
   {
    "duration": 22,
    "start_time": "2023-12-16T13:38:32.054Z"
   },
   {
    "duration": 21,
    "start_time": "2023-12-16T13:38:32.077Z"
   },
   {
    "duration": 9,
    "start_time": "2023-12-16T13:38:32.100Z"
   },
   {
    "duration": 31,
    "start_time": "2023-12-16T13:38:32.110Z"
   },
   {
    "duration": 17,
    "start_time": "2023-12-16T13:38:32.142Z"
   },
   {
    "duration": 24,
    "start_time": "2023-12-16T13:38:32.160Z"
   },
   {
    "duration": 9,
    "start_time": "2023-12-16T13:38:32.185Z"
   },
   {
    "duration": 7,
    "start_time": "2023-12-16T13:38:32.196Z"
   },
   {
    "duration": 16,
    "start_time": "2023-12-16T13:38:32.204Z"
   },
   {
    "duration": 15,
    "start_time": "2023-12-16T13:38:32.221Z"
   },
   {
    "duration": 35,
    "start_time": "2023-12-16T13:38:32.237Z"
   },
   {
    "duration": 26,
    "start_time": "2023-12-16T13:38:32.274Z"
   },
   {
    "duration": 17,
    "start_time": "2023-12-16T13:38:32.302Z"
   },
   {
    "duration": 10,
    "start_time": "2023-12-16T13:38:32.320Z"
   },
   {
    "duration": 32,
    "start_time": "2023-12-16T13:38:32.331Z"
   },
   {
    "duration": 24,
    "start_time": "2023-12-16T13:38:32.365Z"
   },
   {
    "duration": 12,
    "start_time": "2023-12-16T13:38:32.390Z"
   },
   {
    "duration": 63,
    "start_time": "2023-12-16T13:38:32.403Z"
   },
   {
    "duration": 43,
    "start_time": "2023-12-16T13:38:32.468Z"
   },
   {
    "duration": 27,
    "start_time": "2023-12-16T13:38:32.512Z"
   },
   {
    "duration": 60,
    "start_time": "2023-12-16T13:38:32.540Z"
   },
   {
    "duration": 46,
    "start_time": "2023-12-16T13:38:32.601Z"
   },
   {
    "duration": 67,
    "start_time": "2023-12-16T13:38:32.648Z"
   },
   {
    "duration": 50,
    "start_time": "2023-12-16T13:40:27.450Z"
   },
   {
    "duration": 9,
    "start_time": "2023-12-16T13:40:34.874Z"
   },
   {
    "duration": 17,
    "start_time": "2023-12-16T13:40:37.439Z"
   },
   {
    "duration": 11,
    "start_time": "2023-12-16T13:40:48.727Z"
   },
   {
    "duration": 5,
    "start_time": "2023-12-16T13:40:51.865Z"
   },
   {
    "duration": 4,
    "start_time": "2023-12-16T13:40:52.776Z"
   },
   {
    "duration": 11,
    "start_time": "2023-12-16T13:41:08.830Z"
   },
   {
    "duration": 4,
    "start_time": "2023-12-16T13:41:23.363Z"
   },
   {
    "duration": 9,
    "start_time": "2023-12-16T13:41:32.507Z"
   },
   {
    "duration": 370,
    "start_time": "2023-12-16T13:41:37.379Z"
   },
   {
    "duration": 3,
    "start_time": "2023-12-16T13:41:37.753Z"
   },
   {
    "duration": 61,
    "start_time": "2023-12-16T13:41:37.758Z"
   },
   {
    "duration": 32,
    "start_time": "2023-12-16T13:41:37.821Z"
   },
   {
    "duration": 33,
    "start_time": "2023-12-16T13:41:37.854Z"
   },
   {
    "duration": 39,
    "start_time": "2023-12-16T13:41:37.888Z"
   },
   {
    "duration": 30,
    "start_time": "2023-12-16T13:41:37.928Z"
   },
   {
    "duration": 25,
    "start_time": "2023-12-16T13:41:37.959Z"
   },
   {
    "duration": 26,
    "start_time": "2023-12-16T13:41:37.985Z"
   },
   {
    "duration": 12,
    "start_time": "2023-12-16T13:41:38.014Z"
   },
   {
    "duration": 12,
    "start_time": "2023-12-16T13:41:38.027Z"
   },
   {
    "duration": 14,
    "start_time": "2023-12-16T13:41:38.040Z"
   },
   {
    "duration": 9,
    "start_time": "2023-12-16T13:41:38.055Z"
   },
   {
    "duration": 10,
    "start_time": "2023-12-16T13:41:38.065Z"
   },
   {
    "duration": 8,
    "start_time": "2023-12-16T13:41:38.076Z"
   },
   {
    "duration": 11,
    "start_time": "2023-12-16T13:41:38.085Z"
   },
   {
    "duration": 37,
    "start_time": "2023-12-16T13:41:38.098Z"
   },
   {
    "duration": 20,
    "start_time": "2023-12-16T13:41:38.137Z"
   },
   {
    "duration": 3,
    "start_time": "2023-12-16T13:41:38.158Z"
   },
   {
    "duration": 20,
    "start_time": "2023-12-16T13:41:38.162Z"
   },
   {
    "duration": 9,
    "start_time": "2023-12-16T13:41:38.183Z"
   },
   {
    "duration": 15,
    "start_time": "2023-12-16T13:41:38.193Z"
   },
   {
    "duration": 34,
    "start_time": "2023-12-16T13:41:38.210Z"
   },
   {
    "duration": 6,
    "start_time": "2023-12-16T13:41:38.252Z"
   },
   {
    "duration": 13,
    "start_time": "2023-12-16T13:41:38.259Z"
   },
   {
    "duration": 15,
    "start_time": "2023-12-16T13:41:38.273Z"
   },
   {
    "duration": 4,
    "start_time": "2023-12-16T13:41:38.290Z"
   },
   {
    "duration": 3,
    "start_time": "2023-12-16T13:41:38.298Z"
   },
   {
    "duration": 11,
    "start_time": "2023-12-16T13:41:38.302Z"
   },
   {
    "duration": 39,
    "start_time": "2023-12-16T13:41:38.314Z"
   },
   {
    "duration": 11,
    "start_time": "2023-12-16T13:41:38.355Z"
   },
   {
    "duration": 11,
    "start_time": "2023-12-16T13:41:38.368Z"
   },
   {
    "duration": 24,
    "start_time": "2023-12-16T13:41:38.381Z"
   },
   {
    "duration": 10,
    "start_time": "2023-12-16T13:41:38.407Z"
   },
   {
    "duration": 37,
    "start_time": "2023-12-16T13:41:38.419Z"
   },
   {
    "duration": 5,
    "start_time": "2023-12-16T13:41:38.458Z"
   },
   {
    "duration": 7,
    "start_time": "2023-12-16T13:41:38.464Z"
   },
   {
    "duration": 16,
    "start_time": "2023-12-16T13:41:38.472Z"
   },
   {
    "duration": 10,
    "start_time": "2023-12-16T13:41:38.489Z"
   },
   {
    "duration": 13,
    "start_time": "2023-12-16T13:41:38.500Z"
   },
   {
    "duration": 37,
    "start_time": "2023-12-16T13:41:38.515Z"
   },
   {
    "duration": 5,
    "start_time": "2023-12-16T13:41:38.554Z"
   },
   {
    "duration": 10,
    "start_time": "2023-12-16T13:41:38.561Z"
   },
   {
    "duration": 11,
    "start_time": "2023-12-16T13:41:38.572Z"
   },
   {
    "duration": 10,
    "start_time": "2023-12-16T13:41:38.585Z"
   },
   {
    "duration": 5,
    "start_time": "2023-12-16T13:41:38.596Z"
   },
   {
    "duration": 17,
    "start_time": "2023-12-16T13:41:38.603Z"
   },
   {
    "duration": 8,
    "start_time": "2023-12-16T13:41:38.621Z"
   },
   {
    "duration": 22,
    "start_time": "2023-12-16T13:41:38.630Z"
   },
   {
    "duration": 6,
    "start_time": "2023-12-16T13:41:38.654Z"
   },
   {
    "duration": 6,
    "start_time": "2023-12-16T13:41:38.661Z"
   },
   {
    "duration": 4,
    "start_time": "2023-12-16T14:00:17.992Z"
   },
   {
    "duration": 4,
    "start_time": "2023-12-16T14:01:08.379Z"
   },
   {
    "duration": 4,
    "start_time": "2023-12-16T14:04:42.100Z"
   },
   {
    "duration": 11,
    "start_time": "2023-12-16T14:08:12.998Z"
   },
   {
    "duration": 7,
    "start_time": "2023-12-16T14:11:45.083Z"
   },
   {
    "duration": 1521,
    "start_time": "2023-12-16T14:16:58.536Z"
   },
   {
    "duration": 1685,
    "start_time": "2023-12-16T14:17:28.155Z"
   },
   {
    "duration": 4,
    "start_time": "2023-12-16T14:17:37.101Z"
   },
   {
    "duration": 413,
    "start_time": "2023-12-16T14:18:00.936Z"
   },
   {
    "duration": 4,
    "start_time": "2023-12-16T14:18:01.350Z"
   },
   {
    "duration": 95,
    "start_time": "2023-12-16T14:18:01.355Z"
   },
   {
    "duration": 32,
    "start_time": "2023-12-16T14:18:01.452Z"
   },
   {
    "duration": 64,
    "start_time": "2023-12-16T14:18:01.486Z"
   },
   {
    "duration": 45,
    "start_time": "2023-12-16T14:18:01.552Z"
   },
   {
    "duration": 31,
    "start_time": "2023-12-16T14:18:01.598Z"
   },
   {
    "duration": 24,
    "start_time": "2023-12-16T14:18:01.631Z"
   },
   {
    "duration": 26,
    "start_time": "2023-12-16T14:18:01.657Z"
   },
   {
    "duration": 13,
    "start_time": "2023-12-16T14:18:01.686Z"
   },
   {
    "duration": 19,
    "start_time": "2023-12-16T14:18:01.700Z"
   },
   {
    "duration": 33,
    "start_time": "2023-12-16T14:18:01.720Z"
   },
   {
    "duration": 19,
    "start_time": "2023-12-16T14:18:01.755Z"
   },
   {
    "duration": 37,
    "start_time": "2023-12-16T14:18:01.775Z"
   },
   {
    "duration": 34,
    "start_time": "2023-12-16T14:18:01.813Z"
   },
   {
    "duration": 19,
    "start_time": "2023-12-16T14:18:01.849Z"
   },
   {
    "duration": 46,
    "start_time": "2023-12-16T14:18:01.869Z"
   },
   {
    "duration": 50,
    "start_time": "2023-12-16T14:18:01.917Z"
   },
   {
    "duration": 44,
    "start_time": "2023-12-16T14:18:01.968Z"
   },
   {
    "duration": 41,
    "start_time": "2023-12-16T14:18:02.014Z"
   },
   {
    "duration": 52,
    "start_time": "2023-12-16T14:18:02.056Z"
   },
   {
    "duration": 43,
    "start_time": "2023-12-16T14:18:02.109Z"
   },
   {
    "duration": 62,
    "start_time": "2023-12-16T14:18:02.153Z"
   },
   {
    "duration": 12,
    "start_time": "2023-12-16T14:18:02.216Z"
   },
   {
    "duration": 38,
    "start_time": "2023-12-16T14:18:02.230Z"
   },
   {
    "duration": 43,
    "start_time": "2023-12-16T14:18:02.270Z"
   },
   {
    "duration": 18,
    "start_time": "2023-12-16T14:18:02.314Z"
   },
   {
    "duration": 5,
    "start_time": "2023-12-16T14:18:02.335Z"
   },
   {
    "duration": 40,
    "start_time": "2023-12-16T14:18:02.342Z"
   },
   {
    "duration": 37,
    "start_time": "2023-12-16T14:18:02.383Z"
   },
   {
    "duration": 16,
    "start_time": "2023-12-16T14:18:02.421Z"
   },
   {
    "duration": 14,
    "start_time": "2023-12-16T14:18:02.438Z"
   },
   {
    "duration": 78,
    "start_time": "2023-12-16T14:18:02.453Z"
   },
   {
    "duration": 86,
    "start_time": "2023-12-16T14:18:02.532Z"
   },
   {
    "duration": 89,
    "start_time": "2023-12-16T14:18:02.620Z"
   },
   {
    "duration": 25,
    "start_time": "2023-12-16T14:18:02.711Z"
   },
   {
    "duration": 15,
    "start_time": "2023-12-16T14:18:02.737Z"
   },
   {
    "duration": 27,
    "start_time": "2023-12-16T14:18:02.754Z"
   },
   {
    "duration": 56,
    "start_time": "2023-12-16T14:18:02.782Z"
   },
   {
    "duration": 56,
    "start_time": "2023-12-16T14:18:02.839Z"
   },
   {
    "duration": 26,
    "start_time": "2023-12-16T14:18:02.897Z"
   },
   {
    "duration": 22,
    "start_time": "2023-12-16T14:18:02.924Z"
   },
   {
    "duration": 14,
    "start_time": "2023-12-16T14:18:02.948Z"
   },
   {
    "duration": 46,
    "start_time": "2023-12-16T14:18:02.964Z"
   },
   {
    "duration": 7,
    "start_time": "2023-12-16T14:18:03.011Z"
   },
   {
    "duration": 4,
    "start_time": "2023-12-16T14:18:03.019Z"
   },
   {
    "duration": 9,
    "start_time": "2023-12-16T14:18:03.025Z"
   },
   {
    "duration": 5,
    "start_time": "2023-12-16T14:18:03.035Z"
   },
   {
    "duration": 7,
    "start_time": "2023-12-16T14:18:03.041Z"
   },
   {
    "duration": 8,
    "start_time": "2023-12-16T14:18:03.049Z"
   },
   {
    "duration": 6,
    "start_time": "2023-12-16T14:18:03.059Z"
   },
   {
    "duration": 15,
    "start_time": "2023-12-16T14:18:03.066Z"
   },
   {
    "duration": 72,
    "start_time": "2023-12-16T14:18:03.082Z"
   },
   {
    "duration": 137,
    "start_time": "2023-12-16T14:18:03.155Z"
   },
   {
    "duration": 20,
    "start_time": "2023-12-16T14:18:03.294Z"
   },
   {
    "duration": 7,
    "start_time": "2023-12-16T14:18:03.315Z"
   },
   {
    "duration": 4,
    "start_time": "2023-12-16T14:22:19.052Z"
   },
   {
    "duration": 4,
    "start_time": "2023-12-16T14:22:24.197Z"
   },
   {
    "duration": 60,
    "start_time": "2023-12-16T14:23:29.492Z"
   },
   {
    "duration": 5,
    "start_time": "2023-12-16T14:23:40.029Z"
   },
   {
    "duration": 5,
    "start_time": "2023-12-16T14:23:52.367Z"
   },
   {
    "duration": 10,
    "start_time": "2023-12-16T14:25:31.181Z"
   },
   {
    "duration": 25,
    "start_time": "2023-12-16T14:27:08.742Z"
   },
   {
    "duration": 10,
    "start_time": "2023-12-16T14:34:26.917Z"
   },
   {
    "duration": 7,
    "start_time": "2023-12-16T14:38:01.152Z"
   },
   {
    "duration": 10,
    "start_time": "2023-12-16T14:38:33.510Z"
   },
   {
    "duration": 413,
    "start_time": "2023-12-16T14:39:20.039Z"
   },
   {
    "duration": 3,
    "start_time": "2023-12-16T14:39:20.454Z"
   },
   {
    "duration": 61,
    "start_time": "2023-12-16T14:39:20.461Z"
   },
   {
    "duration": 32,
    "start_time": "2023-12-16T14:39:20.524Z"
   },
   {
    "duration": 34,
    "start_time": "2023-12-16T14:39:20.557Z"
   },
   {
    "duration": 63,
    "start_time": "2023-12-16T14:39:20.593Z"
   },
   {
    "duration": 120,
    "start_time": "2023-12-16T14:39:20.658Z"
   },
   {
    "duration": 63,
    "start_time": "2023-12-16T14:39:20.779Z"
   },
   {
    "duration": 26,
    "start_time": "2023-12-16T14:39:20.844Z"
   },
   {
    "duration": 11,
    "start_time": "2023-12-16T14:39:20.872Z"
   },
   {
    "duration": 38,
    "start_time": "2023-12-16T14:39:20.885Z"
   },
   {
    "duration": 25,
    "start_time": "2023-12-16T14:39:20.925Z"
   },
   {
    "duration": 14,
    "start_time": "2023-12-16T14:39:20.951Z"
   },
   {
    "duration": 9,
    "start_time": "2023-12-16T14:39:20.966Z"
   },
   {
    "duration": 8,
    "start_time": "2023-12-16T14:39:20.976Z"
   },
   {
    "duration": 9,
    "start_time": "2023-12-16T14:39:20.986Z"
   },
   {
    "duration": 8,
    "start_time": "2023-12-16T14:39:20.996Z"
   },
   {
    "duration": 17,
    "start_time": "2023-12-16T14:39:21.006Z"
   },
   {
    "duration": 3,
    "start_time": "2023-12-16T14:39:21.025Z"
   },
   {
    "duration": 36,
    "start_time": "2023-12-16T14:39:21.029Z"
   },
   {
    "duration": 4,
    "start_time": "2023-12-16T14:39:21.067Z"
   },
   {
    "duration": 18,
    "start_time": "2023-12-16T14:39:21.072Z"
   },
   {
    "duration": 44,
    "start_time": "2023-12-16T14:39:21.091Z"
   },
   {
    "duration": 18,
    "start_time": "2023-12-16T14:39:21.136Z"
   },
   {
    "duration": 13,
    "start_time": "2023-12-16T14:39:21.156Z"
   },
   {
    "duration": 23,
    "start_time": "2023-12-16T14:39:21.170Z"
   },
   {
    "duration": 4,
    "start_time": "2023-12-16T14:39:21.196Z"
   },
   {
    "duration": 5,
    "start_time": "2023-12-16T14:39:21.202Z"
   },
   {
    "duration": 13,
    "start_time": "2023-12-16T14:39:21.208Z"
   },
   {
    "duration": 7,
    "start_time": "2023-12-16T14:39:21.222Z"
   },
   {
    "duration": 12,
    "start_time": "2023-12-16T14:39:21.252Z"
   },
   {
    "duration": 12,
    "start_time": "2023-12-16T14:39:21.266Z"
   },
   {
    "duration": 22,
    "start_time": "2023-12-16T14:39:21.279Z"
   },
   {
    "duration": 10,
    "start_time": "2023-12-16T14:39:21.302Z"
   },
   {
    "duration": 5,
    "start_time": "2023-12-16T14:39:21.313Z"
   },
   {
    "duration": 32,
    "start_time": "2023-12-16T14:39:21.320Z"
   },
   {
    "duration": 7,
    "start_time": "2023-12-16T14:39:21.353Z"
   },
   {
    "duration": 12,
    "start_time": "2023-12-16T14:39:21.361Z"
   },
   {
    "duration": 6,
    "start_time": "2023-12-16T14:39:21.374Z"
   },
   {
    "duration": 13,
    "start_time": "2023-12-16T14:39:21.382Z"
   },
   {
    "duration": 13,
    "start_time": "2023-12-16T14:39:21.397Z"
   },
   {
    "duration": 41,
    "start_time": "2023-12-16T14:39:21.412Z"
   },
   {
    "duration": 11,
    "start_time": "2023-12-16T14:39:21.455Z"
   },
   {
    "duration": 19,
    "start_time": "2023-12-16T14:39:21.468Z"
   },
   {
    "duration": 4,
    "start_time": "2023-12-16T14:39:21.488Z"
   },
   {
    "duration": 4,
    "start_time": "2023-12-16T14:39:21.493Z"
   },
   {
    "duration": 4,
    "start_time": "2023-12-16T14:39:21.499Z"
   },
   {
    "duration": 4,
    "start_time": "2023-12-16T14:39:21.504Z"
   },
   {
    "duration": 4,
    "start_time": "2023-12-16T14:39:21.509Z"
   },
   {
    "duration": 39,
    "start_time": "2023-12-16T14:39:21.514Z"
   },
   {
    "duration": 4,
    "start_time": "2023-12-16T14:39:21.554Z"
   },
   {
    "duration": 5,
    "start_time": "2023-12-16T14:39:21.560Z"
   },
   {
    "duration": 12,
    "start_time": "2023-12-16T14:39:21.566Z"
   },
   {
    "duration": 11,
    "start_time": "2023-12-16T14:39:21.579Z"
   },
   {
    "duration": 5,
    "start_time": "2023-12-16T14:39:21.591Z"
   },
   {
    "duration": 4,
    "start_time": "2023-12-16T14:39:21.597Z"
   },
   {
    "duration": 5,
    "start_time": "2023-12-16T14:39:21.602Z"
   },
   {
    "duration": 8,
    "start_time": "2023-12-16T14:39:21.608Z"
   },
   {
    "duration": 39,
    "start_time": "2023-12-16T14:39:21.617Z"
   },
   {
    "duration": 7,
    "start_time": "2023-12-16T14:40:08.663Z"
   },
   {
    "duration": 6,
    "start_time": "2023-12-16T14:40:14.948Z"
   },
   {
    "duration": 10,
    "start_time": "2023-12-16T14:42:18.015Z"
   },
   {
    "duration": 5491,
    "start_time": "2023-12-16T16:54:43.655Z"
   },
   {
    "duration": 7315,
    "start_time": "2023-12-16T16:55:13.386Z"
   },
   {
    "duration": 4028,
    "start_time": "2023-12-16T17:03:14.040Z"
   },
   {
    "duration": 7,
    "start_time": "2023-12-16T17:04:11.834Z"
   },
   {
    "duration": 15,
    "start_time": "2023-12-16T17:13:52.469Z"
   },
   {
    "duration": 12,
    "start_time": "2023-12-16T17:14:16.573Z"
   },
   {
    "duration": 12,
    "start_time": "2023-12-16T17:19:43.914Z"
   },
   {
    "duration": 8,
    "start_time": "2023-12-16T17:24:47.490Z"
   },
   {
    "duration": 9,
    "start_time": "2023-12-16T17:24:57.093Z"
   },
   {
    "duration": 6,
    "start_time": "2023-12-16T18:30:55.047Z"
   },
   {
    "duration": 34,
    "start_time": "2023-12-16T18:42:33.000Z"
   },
   {
    "duration": 12,
    "start_time": "2023-12-16T18:43:11.086Z"
   },
   {
    "duration": 24,
    "start_time": "2023-12-16T18:44:35.439Z"
   },
   {
    "duration": 10,
    "start_time": "2023-12-16T18:45:34.616Z"
   },
   {
    "duration": 28,
    "start_time": "2023-12-16T18:46:08.914Z"
   },
   {
    "duration": 20,
    "start_time": "2023-12-16T18:49:10.398Z"
   },
   {
    "duration": 17,
    "start_time": "2023-12-16T18:51:34.550Z"
   },
   {
    "duration": 15,
    "start_time": "2023-12-16T18:53:53.937Z"
   },
   {
    "duration": 8,
    "start_time": "2023-12-16T18:55:27.553Z"
   },
   {
    "duration": 6,
    "start_time": "2023-12-16T18:57:43.034Z"
   },
   {
    "duration": 8,
    "start_time": "2023-12-16T18:59:44.887Z"
   },
   {
    "duration": 8,
    "start_time": "2023-12-16T19:09:07.133Z"
   },
   {
    "duration": 7,
    "start_time": "2023-12-16T19:10:40.389Z"
   },
   {
    "duration": 19,
    "start_time": "2023-12-16T19:43:41.102Z"
   },
   {
    "duration": 15,
    "start_time": "2023-12-16T19:43:56.545Z"
   },
   {
    "duration": 9,
    "start_time": "2023-12-16T19:44:09.565Z"
   },
   {
    "duration": 8,
    "start_time": "2023-12-16T19:44:23.275Z"
   },
   {
    "duration": 65,
    "start_time": "2023-12-16T19:46:11.202Z"
   },
   {
    "duration": 15,
    "start_time": "2023-12-16T19:46:38.853Z"
   },
   {
    "duration": 17,
    "start_time": "2023-12-16T19:46:57.757Z"
   },
   {
    "duration": 13,
    "start_time": "2023-12-16T19:47:46.774Z"
   },
   {
    "duration": 13,
    "start_time": "2023-12-16T19:48:24.635Z"
   },
   {
    "duration": 13,
    "start_time": "2023-12-16T19:48:51.900Z"
   },
   {
    "duration": 13,
    "start_time": "2023-12-16T19:48:59.486Z"
   },
   {
    "duration": 10,
    "start_time": "2023-12-16T19:49:23.933Z"
   },
   {
    "duration": 13,
    "start_time": "2023-12-16T19:50:16.077Z"
   },
   {
    "duration": 4,
    "start_time": "2023-12-16T19:52:34.730Z"
   },
   {
    "duration": 6,
    "start_time": "2023-12-16T19:52:53.155Z"
   },
   {
    "duration": 2028,
    "start_time": "2023-12-16T20:08:32.578Z"
   },
   {
    "duration": 2031,
    "start_time": "2023-12-16T20:09:31.472Z"
   },
   {
    "duration": 4,
    "start_time": "2023-12-16T20:13:25.280Z"
   },
   {
    "duration": 3,
    "start_time": "2023-12-16T20:13:43.765Z"
   },
   {
    "duration": 14,
    "start_time": "2023-12-16T20:14:28.663Z"
   },
   {
    "duration": 1998,
    "start_time": "2023-12-16T20:15:17.996Z"
   },
   {
    "duration": 4,
    "start_time": "2023-12-16T20:15:19.997Z"
   },
   {
    "duration": 3,
    "start_time": "2023-12-16T20:15:24.488Z"
   },
   {
    "duration": 9,
    "start_time": "2023-12-16T20:16:21.884Z"
   },
   {
    "duration": 4,
    "start_time": "2023-12-16T20:16:54.756Z"
   },
   {
    "duration": 2,
    "start_time": "2023-12-16T20:19:47.927Z"
   },
   {
    "duration": 3,
    "start_time": "2023-12-16T20:20:27.657Z"
   },
   {
    "duration": 6,
    "start_time": "2023-12-16T20:20:32.428Z"
   },
   {
    "duration": 4,
    "start_time": "2023-12-16T20:20:57.764Z"
   },
   {
    "duration": 8,
    "start_time": "2023-12-16T20:21:18.960Z"
   },
   {
    "duration": 7,
    "start_time": "2023-12-16T20:21:41.129Z"
   },
   {
    "duration": 8,
    "start_time": "2023-12-16T20:22:47.611Z"
   },
   {
    "duration": 7,
    "start_time": "2023-12-16T20:22:48.052Z"
   },
   {
    "duration": 9,
    "start_time": "2023-12-16T20:22:54.473Z"
   },
   {
    "duration": 4,
    "start_time": "2023-12-16T20:23:30.232Z"
   },
   {
    "duration": 8,
    "start_time": "2023-12-16T20:23:30.915Z"
   },
   {
    "duration": 4,
    "start_time": "2023-12-16T20:23:44.355Z"
   },
   {
    "duration": 10,
    "start_time": "2023-12-16T20:23:44.731Z"
   },
   {
    "duration": 6,
    "start_time": "2023-12-16T20:24:22.515Z"
   },
   {
    "duration": 9,
    "start_time": "2023-12-16T20:24:23.071Z"
   },
   {
    "duration": 6,
    "start_time": "2023-12-16T20:24:44.730Z"
   },
   {
    "duration": 9,
    "start_time": "2023-12-16T20:24:44.927Z"
   },
   {
    "duration": 8,
    "start_time": "2023-12-16T20:26:39.320Z"
   },
   {
    "duration": 3,
    "start_time": "2023-12-16T20:26:39.560Z"
   },
   {
    "duration": 44,
    "start_time": "2023-12-16T20:30:31.663Z"
   },
   {
    "duration": 11,
    "start_time": "2023-12-16T20:40:22.099Z"
   },
   {
    "duration": 12,
    "start_time": "2023-12-16T20:41:52.279Z"
   },
   {
    "duration": 15,
    "start_time": "2023-12-16T20:45:22.986Z"
   },
   {
    "duration": 14,
    "start_time": "2023-12-16T20:45:58.333Z"
   },
   {
    "duration": 18,
    "start_time": "2023-12-16T20:46:27.495Z"
   },
   {
    "duration": 80,
    "start_time": "2023-12-16T20:47:22.019Z"
   },
   {
    "duration": 33,
    "start_time": "2023-12-16T20:47:34.100Z"
   },
   {
    "duration": 390,
    "start_time": "2023-12-16T20:48:02.965Z"
   },
   {
    "duration": 2,
    "start_time": "2023-12-16T20:48:03.357Z"
   },
   {
    "duration": 66,
    "start_time": "2023-12-16T20:48:03.361Z"
   },
   {
    "duration": 31,
    "start_time": "2023-12-16T20:48:03.429Z"
   },
   {
    "duration": 34,
    "start_time": "2023-12-16T20:48:03.461Z"
   },
   {
    "duration": 39,
    "start_time": "2023-12-16T20:48:03.497Z"
   },
   {
    "duration": 30,
    "start_time": "2023-12-16T20:48:03.537Z"
   },
   {
    "duration": 23,
    "start_time": "2023-12-16T20:48:03.568Z"
   },
   {
    "duration": 26,
    "start_time": "2023-12-16T20:48:03.592Z"
   },
   {
    "duration": 13,
    "start_time": "2023-12-16T20:48:03.620Z"
   },
   {
    "duration": 19,
    "start_time": "2023-12-16T20:48:03.634Z"
   },
   {
    "duration": 10,
    "start_time": "2023-12-16T20:48:03.654Z"
   },
   {
    "duration": 7,
    "start_time": "2023-12-16T20:48:03.665Z"
   },
   {
    "duration": 14,
    "start_time": "2023-12-16T20:48:03.674Z"
   },
   {
    "duration": 8,
    "start_time": "2023-12-16T20:48:03.689Z"
   },
   {
    "duration": 8,
    "start_time": "2023-12-16T20:48:03.699Z"
   },
   {
    "duration": 8,
    "start_time": "2023-12-16T20:48:03.708Z"
   },
   {
    "duration": 41,
    "start_time": "2023-12-16T20:48:03.717Z"
   },
   {
    "duration": 3,
    "start_time": "2023-12-16T20:48:03.759Z"
   },
   {
    "duration": 16,
    "start_time": "2023-12-16T20:48:03.763Z"
   },
   {
    "duration": 4,
    "start_time": "2023-12-16T20:48:03.780Z"
   },
   {
    "duration": 27,
    "start_time": "2023-12-16T20:48:03.785Z"
   },
   {
    "duration": 38,
    "start_time": "2023-12-16T20:48:03.814Z"
   },
   {
    "duration": 6,
    "start_time": "2023-12-16T20:48:03.853Z"
   },
   {
    "duration": 17,
    "start_time": "2023-12-16T20:48:03.860Z"
   },
   {
    "duration": 13,
    "start_time": "2023-12-16T20:48:03.878Z"
   },
   {
    "duration": 4,
    "start_time": "2023-12-16T20:48:03.892Z"
   },
   {
    "duration": 2,
    "start_time": "2023-12-16T20:48:03.899Z"
   },
   {
    "duration": 11,
    "start_time": "2023-12-16T20:48:03.902Z"
   },
   {
    "duration": 6,
    "start_time": "2023-12-16T20:48:03.914Z"
   },
   {
    "duration": 32,
    "start_time": "2023-12-16T20:48:03.921Z"
   },
   {
    "duration": 10,
    "start_time": "2023-12-16T20:48:03.954Z"
   },
   {
    "duration": 21,
    "start_time": "2023-12-16T20:48:03.965Z"
   },
   {
    "duration": 12,
    "start_time": "2023-12-16T20:48:03.987Z"
   },
   {
    "duration": 5,
    "start_time": "2023-12-16T20:48:04.000Z"
   },
   {
    "duration": 4,
    "start_time": "2023-12-16T20:48:04.006Z"
   },
   {
    "duration": 12,
    "start_time": "2023-12-16T20:48:04.012Z"
   },
   {
    "duration": 33,
    "start_time": "2023-12-16T20:48:04.026Z"
   },
   {
    "duration": 7,
    "start_time": "2023-12-16T20:48:04.060Z"
   },
   {
    "duration": 10,
    "start_time": "2023-12-16T20:48:04.069Z"
   },
   {
    "duration": 11,
    "start_time": "2023-12-16T20:48:04.081Z"
   },
   {
    "duration": 5,
    "start_time": "2023-12-16T20:48:04.093Z"
   },
   {
    "duration": 14,
    "start_time": "2023-12-16T20:48:04.099Z"
   },
   {
    "duration": 39,
    "start_time": "2023-12-16T20:48:04.114Z"
   },
   {
    "duration": 4,
    "start_time": "2023-12-16T20:48:04.155Z"
   },
   {
    "duration": 4,
    "start_time": "2023-12-16T20:48:04.160Z"
   },
   {
    "duration": 4,
    "start_time": "2023-12-16T20:48:04.166Z"
   },
   {
    "duration": 4,
    "start_time": "2023-12-16T20:48:04.171Z"
   },
   {
    "duration": 4,
    "start_time": "2023-12-16T20:48:04.176Z"
   },
   {
    "duration": 6,
    "start_time": "2023-12-16T20:48:04.181Z"
   },
   {
    "duration": 3,
    "start_time": "2023-12-16T20:48:04.189Z"
   },
   {
    "duration": 3,
    "start_time": "2023-12-16T20:48:04.194Z"
   },
   {
    "duration": 4,
    "start_time": "2023-12-16T20:48:04.199Z"
   },
   {
    "duration": 55,
    "start_time": "2023-12-16T20:48:04.204Z"
   },
   {
    "duration": 5,
    "start_time": "2023-12-16T20:48:04.260Z"
   },
   {
    "duration": 6,
    "start_time": "2023-12-16T20:48:04.266Z"
   },
   {
    "duration": 5,
    "start_time": "2023-12-16T20:48:04.273Z"
   },
   {
    "duration": 3,
    "start_time": "2023-12-16T20:48:04.279Z"
   },
   {
    "duration": 6,
    "start_time": "2023-12-16T20:48:04.283Z"
   },
   {
    "duration": 4,
    "start_time": "2023-12-16T20:48:04.290Z"
   },
   {
    "duration": 9,
    "start_time": "2023-12-16T20:48:04.296Z"
   },
   {
    "duration": 46,
    "start_time": "2023-12-16T20:48:04.307Z"
   },
   {
    "duration": 12,
    "start_time": "2023-12-16T20:48:04.354Z"
   },
   {
    "duration": 3,
    "start_time": "2023-12-16T20:48:04.368Z"
   },
   {
    "duration": 10,
    "start_time": "2023-12-16T20:48:04.372Z"
   },
   {
    "duration": 16,
    "start_time": "2023-12-16T20:48:04.383Z"
   },
   {
    "duration": 15,
    "start_time": "2023-12-16T20:48:04.400Z"
   },
   {
    "duration": 41,
    "start_time": "2023-12-16T20:48:04.416Z"
   },
   {
    "duration": 6,
    "start_time": "2023-12-16T20:48:04.458Z"
   },
   {
    "duration": 17,
    "start_time": "2023-12-16T20:48:04.465Z"
   },
   {
    "duration": 6,
    "start_time": "2023-12-16T20:48:04.483Z"
   },
   {
    "duration": 6,
    "start_time": "2023-12-16T20:48:04.490Z"
   },
   {
    "duration": 57,
    "start_time": "2023-12-16T20:48:04.497Z"
   },
   {
    "duration": 48,
    "start_time": "2023-12-16T20:49:46.072Z"
   },
   {
    "duration": 62,
    "start_time": "2023-12-16T21:00:03.411Z"
   },
   {
    "duration": 3,
    "start_time": "2023-12-16T21:03:09.343Z"
   },
   {
    "duration": 20,
    "start_time": "2023-12-16T21:03:49.144Z"
   },
   {
    "duration": 19,
    "start_time": "2023-12-16T21:04:14.413Z"
   },
   {
    "duration": 18,
    "start_time": "2023-12-16T21:04:19.160Z"
   },
   {
    "duration": 20,
    "start_time": "2023-12-16T22:42:15.782Z"
   },
   {
    "duration": 8,
    "start_time": "2023-12-16T22:43:48.918Z"
   },
   {
    "duration": 10,
    "start_time": "2023-12-16T22:44:06.704Z"
   },
   {
    "duration": 7,
    "start_time": "2023-12-16T22:44:13.231Z"
   },
   {
    "duration": 7,
    "start_time": "2023-12-16T22:51:17.118Z"
   },
   {
    "duration": 16,
    "start_time": "2023-12-16T22:51:22.331Z"
   },
   {
    "duration": 19,
    "start_time": "2023-12-16T22:52:03.821Z"
   },
   {
    "duration": 896,
    "start_time": "2023-12-16T22:53:04.143Z"
   },
   {
    "duration": 3,
    "start_time": "2023-12-16T22:53:08.079Z"
   },
   {
    "duration": 2,
    "start_time": "2023-12-16T22:53:57.986Z"
   },
   {
    "duration": 3,
    "start_time": "2023-12-16T22:54:27.154Z"
   },
   {
    "duration": 37,
    "start_time": "2023-12-16T22:54:36.460Z"
   },
   {
    "duration": 1449,
    "start_time": "2023-12-16T22:54:40.181Z"
   },
   {
    "duration": 1453,
    "start_time": "2023-12-16T22:56:07.453Z"
   },
   {
    "duration": 1543,
    "start_time": "2023-12-16T22:57:31.047Z"
   },
   {
    "duration": 912,
    "start_time": "2023-12-16T23:06:55.973Z"
   },
   {
    "duration": 1042,
    "start_time": "2023-12-16T23:08:00.436Z"
   },
   {
    "duration": 1016,
    "start_time": "2023-12-16T23:08:10.958Z"
   },
   {
    "duration": 317,
    "start_time": "2023-12-16T23:08:39.848Z"
   },
   {
    "duration": 904,
    "start_time": "2023-12-16T23:09:05.003Z"
   },
   {
    "duration": 16,
    "start_time": "2023-12-16T23:09:15.272Z"
   },
   {
    "duration": 1089,
    "start_time": "2023-12-16T23:10:27.204Z"
   },
   {
    "duration": 1049,
    "start_time": "2023-12-16T23:10:34.471Z"
   },
   {
    "duration": 1407,
    "start_time": "2023-12-16T23:12:18.393Z"
   },
   {
    "duration": 1593,
    "start_time": "2023-12-16T23:13:40.264Z"
   },
   {
    "duration": 1701,
    "start_time": "2023-12-16T23:13:56.503Z"
   },
   {
    "duration": 118,
    "start_time": "2023-12-16T23:22:41.766Z"
   },
   {
    "duration": 122,
    "start_time": "2023-12-16T23:23:41.588Z"
   },
   {
    "duration": 118,
    "start_time": "2023-12-16T23:23:47.196Z"
   },
   {
    "duration": 125,
    "start_time": "2023-12-16T23:25:11.294Z"
   },
   {
    "duration": 124,
    "start_time": "2023-12-16T23:27:16.530Z"
   },
   {
    "duration": 6,
    "start_time": "2023-12-16T23:28:59.792Z"
   },
   {
    "duration": 5,
    "start_time": "2023-12-16T23:29:04.530Z"
   },
   {
    "duration": 1528,
    "start_time": "2023-12-16T23:31:54.272Z"
   },
   {
    "duration": 7,
    "start_time": "2023-12-16T23:34:28.884Z"
   },
   {
    "duration": 5,
    "start_time": "2023-12-16T23:34:48.325Z"
   },
   {
    "duration": 1034,
    "start_time": "2023-12-16T23:40:52.808Z"
   },
   {
    "duration": 2,
    "start_time": "2023-12-16T23:40:53.844Z"
   },
   {
    "duration": 57,
    "start_time": "2023-12-16T23:40:53.851Z"
   },
   {
    "duration": 29,
    "start_time": "2023-12-16T23:40:53.910Z"
   },
   {
    "duration": 32,
    "start_time": "2023-12-16T23:40:53.941Z"
   },
   {
    "duration": 38,
    "start_time": "2023-12-16T23:40:53.975Z"
   },
   {
    "duration": 30,
    "start_time": "2023-12-16T23:40:54.015Z"
   },
   {
    "duration": 24,
    "start_time": "2023-12-16T23:40:54.047Z"
   },
   {
    "duration": 26,
    "start_time": "2023-12-16T23:40:54.072Z"
   },
   {
    "duration": 11,
    "start_time": "2023-12-16T23:40:54.100Z"
   },
   {
    "duration": 9,
    "start_time": "2023-12-16T23:40:54.113Z"
   },
   {
    "duration": 10,
    "start_time": "2023-12-16T23:40:54.123Z"
   },
   {
    "duration": 12,
    "start_time": "2023-12-16T23:40:54.134Z"
   },
   {
    "duration": 12,
    "start_time": "2023-12-16T23:40:54.147Z"
   },
   {
    "duration": 11,
    "start_time": "2023-12-16T23:40:54.160Z"
   },
   {
    "duration": 9,
    "start_time": "2023-12-16T23:40:54.173Z"
   },
   {
    "duration": 10,
    "start_time": "2023-12-16T23:40:54.183Z"
   },
   {
    "duration": 16,
    "start_time": "2023-12-16T23:40:54.194Z"
   },
   {
    "duration": 2,
    "start_time": "2023-12-16T23:40:54.211Z"
   },
   {
    "duration": 40,
    "start_time": "2023-12-16T23:40:54.215Z"
   },
   {
    "duration": 10,
    "start_time": "2023-12-16T23:40:54.256Z"
   },
   {
    "duration": 14,
    "start_time": "2023-12-16T23:40:54.267Z"
   },
   {
    "duration": 36,
    "start_time": "2023-12-16T23:40:54.282Z"
   },
   {
    "duration": 6,
    "start_time": "2023-12-16T23:40:54.319Z"
   },
   {
    "duration": 14,
    "start_time": "2023-12-16T23:40:54.327Z"
   },
   {
    "duration": 17,
    "start_time": "2023-12-16T23:40:54.342Z"
   },
   {
    "duration": 5,
    "start_time": "2023-12-16T23:40:54.360Z"
   },
   {
    "duration": 3,
    "start_time": "2023-12-16T23:40:54.368Z"
   },
   {
    "duration": 10,
    "start_time": "2023-12-16T23:40:54.372Z"
   },
   {
    "duration": 6,
    "start_time": "2023-12-16T23:40:54.384Z"
   },
   {
    "duration": 14,
    "start_time": "2023-12-16T23:40:54.391Z"
   },
   {
    "duration": 19,
    "start_time": "2023-12-16T23:40:54.406Z"
   },
   {
    "duration": 38,
    "start_time": "2023-12-16T23:40:54.426Z"
   },
   {
    "duration": 9,
    "start_time": "2023-12-16T23:40:54.465Z"
   },
   {
    "duration": 5,
    "start_time": "2023-12-16T23:40:54.475Z"
   },
   {
    "duration": 12,
    "start_time": "2023-12-16T23:40:54.481Z"
   },
   {
    "duration": 7,
    "start_time": "2023-12-16T23:40:54.494Z"
   },
   {
    "duration": 9,
    "start_time": "2023-12-16T23:40:54.502Z"
   },
   {
    "duration": 7,
    "start_time": "2023-12-16T23:40:54.512Z"
   },
   {
    "duration": 17,
    "start_time": "2023-12-16T23:40:54.521Z"
   },
   {
    "duration": 11,
    "start_time": "2023-12-16T23:40:54.552Z"
   },
   {
    "duration": 4,
    "start_time": "2023-12-16T23:40:54.564Z"
   },
   {
    "duration": 20,
    "start_time": "2023-12-16T23:40:54.569Z"
   },
   {
    "duration": 20,
    "start_time": "2023-12-16T23:40:54.590Z"
   },
   {
    "duration": 6,
    "start_time": "2023-12-16T23:40:54.611Z"
   },
   {
    "duration": 22,
    "start_time": "2023-12-16T23:40:54.618Z"
   },
   {
    "duration": 7,
    "start_time": "2023-12-16T23:40:54.641Z"
   },
   {
    "duration": 6,
    "start_time": "2023-12-16T23:40:54.649Z"
   },
   {
    "duration": 10,
    "start_time": "2023-12-16T23:40:54.656Z"
   },
   {
    "duration": 5,
    "start_time": "2023-12-16T23:40:54.668Z"
   },
   {
    "duration": 7,
    "start_time": "2023-12-16T23:40:54.674Z"
   },
   {
    "duration": 5,
    "start_time": "2023-12-16T23:40:54.682Z"
   },
   {
    "duration": 6,
    "start_time": "2023-12-16T23:40:54.688Z"
   },
   {
    "duration": 14,
    "start_time": "2023-12-16T23:40:54.695Z"
   },
   {
    "duration": 6,
    "start_time": "2023-12-16T23:40:54.710Z"
   },
   {
    "duration": 35,
    "start_time": "2023-12-16T23:40:54.717Z"
   },
   {
    "duration": 5,
    "start_time": "2023-12-16T23:40:54.754Z"
   },
   {
    "duration": 8,
    "start_time": "2023-12-16T23:40:54.760Z"
   },
   {
    "duration": 8,
    "start_time": "2023-12-16T23:40:54.769Z"
   },
   {
    "duration": 5,
    "start_time": "2023-12-16T23:40:54.779Z"
   },
   {
    "duration": 16,
    "start_time": "2023-12-16T23:40:54.786Z"
   },
   {
    "duration": 19,
    "start_time": "2023-12-16T23:40:54.804Z"
   },
   {
    "duration": 11,
    "start_time": "2023-12-16T23:40:54.824Z"
   },
   {
    "duration": 23,
    "start_time": "2023-12-16T23:40:54.836Z"
   },
   {
    "duration": 29,
    "start_time": "2023-12-16T23:40:54.860Z"
   },
   {
    "duration": 17,
    "start_time": "2023-12-16T23:40:54.890Z"
   },
   {
    "duration": 28,
    "start_time": "2023-12-16T23:40:54.909Z"
   },
   {
    "duration": 14,
    "start_time": "2023-12-16T23:40:54.939Z"
   },
   {
    "duration": 29,
    "start_time": "2023-12-16T23:40:54.954Z"
   },
   {
    "duration": 7,
    "start_time": "2023-12-16T23:40:54.984Z"
   },
   {
    "duration": 10,
    "start_time": "2023-12-16T23:40:54.992Z"
   },
   {
    "duration": 9,
    "start_time": "2023-12-16T23:40:55.003Z"
   },
   {
    "duration": 17,
    "start_time": "2023-12-16T23:40:55.013Z"
   },
   {
    "duration": 79,
    "start_time": "2023-12-16T23:40:55.032Z"
   },
   {
    "duration": 4,
    "start_time": "2023-12-16T23:40:55.113Z"
   },
   {
    "duration": 25,
    "start_time": "2023-12-16T23:40:55.118Z"
   },
   {
    "duration": 17,
    "start_time": "2023-12-16T23:40:55.144Z"
   },
   {
    "duration": 21,
    "start_time": "2023-12-16T23:40:55.162Z"
   },
   {
    "duration": 17,
    "start_time": "2023-12-16T23:40:55.184Z"
   },
   {
    "duration": 1414,
    "start_time": "2023-12-16T23:40:55.203Z"
   },
   {
    "duration": 1449,
    "start_time": "2023-12-16T23:40:56.618Z"
   },
   {
    "duration": 130,
    "start_time": "2023-12-16T23:40:58.072Z"
   },
   {
    "duration": 132,
    "start_time": "2023-12-16T23:40:58.203Z"
   },
   {
    "duration": 133,
    "start_time": "2023-12-16T23:40:58.336Z"
   },
   {
    "duration": 5,
    "start_time": "2023-12-16T23:40:58.471Z"
   },
   {
    "duration": 37,
    "start_time": "2023-12-16T23:40:58.477Z"
   },
   {
    "duration": 81,
    "start_time": "2023-12-16T23:40:58.515Z"
   },
   {
    "duration": 1048,
    "start_time": "2023-12-16T23:41:25.580Z"
   },
   {
    "duration": 3,
    "start_time": "2023-12-16T23:41:26.629Z"
   },
   {
    "duration": 60,
    "start_time": "2023-12-16T23:41:26.634Z"
   },
   {
    "duration": 30,
    "start_time": "2023-12-16T23:41:26.696Z"
   },
   {
    "duration": 33,
    "start_time": "2023-12-16T23:41:26.727Z"
   },
   {
    "duration": 39,
    "start_time": "2023-12-16T23:41:26.761Z"
   },
   {
    "duration": 30,
    "start_time": "2023-12-16T23:41:26.802Z"
   },
   {
    "duration": 23,
    "start_time": "2023-12-16T23:41:26.833Z"
   },
   {
    "duration": 25,
    "start_time": "2023-12-16T23:41:26.858Z"
   },
   {
    "duration": 10,
    "start_time": "2023-12-16T23:41:26.886Z"
   },
   {
    "duration": 11,
    "start_time": "2023-12-16T23:41:26.898Z"
   },
   {
    "duration": 10,
    "start_time": "2023-12-16T23:41:26.910Z"
   },
   {
    "duration": 8,
    "start_time": "2023-12-16T23:41:26.921Z"
   },
   {
    "duration": 24,
    "start_time": "2023-12-16T23:41:26.930Z"
   },
   {
    "duration": 11,
    "start_time": "2023-12-16T23:41:26.955Z"
   },
   {
    "duration": 9,
    "start_time": "2023-12-16T23:41:26.967Z"
   },
   {
    "duration": 11,
    "start_time": "2023-12-16T23:41:26.977Z"
   },
   {
    "duration": 16,
    "start_time": "2023-12-16T23:41:26.989Z"
   },
   {
    "duration": 2,
    "start_time": "2023-12-16T23:41:27.007Z"
   },
   {
    "duration": 15,
    "start_time": "2023-12-16T23:41:27.010Z"
   },
   {
    "duration": 2,
    "start_time": "2023-12-16T23:41:27.052Z"
   },
   {
    "duration": 18,
    "start_time": "2023-12-16T23:41:27.055Z"
   },
   {
    "duration": 41,
    "start_time": "2023-12-16T23:41:27.074Z"
   },
   {
    "duration": 5,
    "start_time": "2023-12-16T23:41:27.117Z"
   },
   {
    "duration": 8,
    "start_time": "2023-12-16T23:41:27.123Z"
   },
   {
    "duration": 25,
    "start_time": "2023-12-16T23:41:27.132Z"
   },
   {
    "duration": 4,
    "start_time": "2023-12-16T23:41:27.158Z"
   },
   {
    "duration": 3,
    "start_time": "2023-12-16T23:41:27.167Z"
   },
   {
    "duration": 12,
    "start_time": "2023-12-16T23:41:27.171Z"
   },
   {
    "duration": 6,
    "start_time": "2023-12-16T23:41:27.184Z"
   },
   {
    "duration": 12,
    "start_time": "2023-12-16T23:41:27.192Z"
   },
   {
    "duration": 14,
    "start_time": "2023-12-16T23:41:27.206Z"
   },
   {
    "duration": 47,
    "start_time": "2023-12-16T23:41:27.222Z"
   },
   {
    "duration": 11,
    "start_time": "2023-12-16T23:41:27.271Z"
   },
   {
    "duration": 7,
    "start_time": "2023-12-16T23:41:27.283Z"
   },
   {
    "duration": 10,
    "start_time": "2023-12-16T23:41:27.291Z"
   },
   {
    "duration": 9,
    "start_time": "2023-12-16T23:41:27.302Z"
   },
   {
    "duration": 10,
    "start_time": "2023-12-16T23:41:27.313Z"
   },
   {
    "duration": 29,
    "start_time": "2023-12-16T23:41:27.325Z"
   },
   {
    "duration": 18,
    "start_time": "2023-12-16T23:41:27.355Z"
   },
   {
    "duration": 19,
    "start_time": "2023-12-16T23:41:27.375Z"
   },
   {
    "duration": 9,
    "start_time": "2023-12-16T23:41:27.396Z"
   },
   {
    "duration": 12,
    "start_time": "2023-12-16T23:41:27.406Z"
   },
   {
    "duration": 13,
    "start_time": "2023-12-16T23:41:27.419Z"
   },
   {
    "duration": 4,
    "start_time": "2023-12-16T23:41:27.451Z"
   },
   {
    "duration": 7,
    "start_time": "2023-12-16T23:41:27.457Z"
   },
   {
    "duration": 10,
    "start_time": "2023-12-16T23:41:27.466Z"
   },
   {
    "duration": 4,
    "start_time": "2023-12-16T23:41:27.478Z"
   },
   {
    "duration": 5,
    "start_time": "2023-12-16T23:41:27.484Z"
   },
   {
    "duration": 4,
    "start_time": "2023-12-16T23:41:27.491Z"
   },
   {
    "duration": 4,
    "start_time": "2023-12-16T23:41:27.497Z"
   },
   {
    "duration": 5,
    "start_time": "2023-12-16T23:41:27.502Z"
   },
   {
    "duration": 7,
    "start_time": "2023-12-16T23:41:27.509Z"
   },
   {
    "duration": 40,
    "start_time": "2023-12-16T23:41:27.518Z"
   },
   {
    "duration": 21,
    "start_time": "2023-12-16T23:41:27.559Z"
   },
   {
    "duration": 6,
    "start_time": "2023-12-16T23:41:27.581Z"
   },
   {
    "duration": 6,
    "start_time": "2023-12-16T23:41:27.588Z"
   },
   {
    "duration": 3,
    "start_time": "2023-12-16T23:41:27.596Z"
   },
   {
    "duration": 6,
    "start_time": "2023-12-16T23:41:27.600Z"
   },
   {
    "duration": 6,
    "start_time": "2023-12-16T23:41:27.607Z"
   },
   {
    "duration": 9,
    "start_time": "2023-12-16T23:41:27.614Z"
   },
   {
    "duration": 31,
    "start_time": "2023-12-16T23:41:27.625Z"
   },
   {
    "duration": 13,
    "start_time": "2023-12-16T23:41:27.657Z"
   },
   {
    "duration": 11,
    "start_time": "2023-12-16T23:41:27.671Z"
   },
   {
    "duration": 4,
    "start_time": "2023-12-16T23:41:27.683Z"
   },
   {
    "duration": 16,
    "start_time": "2023-12-16T23:41:27.689Z"
   },
   {
    "duration": 18,
    "start_time": "2023-12-16T23:41:27.706Z"
   },
   {
    "duration": 15,
    "start_time": "2023-12-16T23:41:27.752Z"
   },
   {
    "duration": 7,
    "start_time": "2023-12-16T23:41:27.768Z"
   },
   {
    "duration": 15,
    "start_time": "2023-12-16T23:41:27.777Z"
   },
   {
    "duration": 14,
    "start_time": "2023-12-16T23:41:27.793Z"
   },
   {
    "duration": 6,
    "start_time": "2023-12-16T23:41:27.809Z"
   },
   {
    "duration": 16,
    "start_time": "2023-12-16T23:41:27.816Z"
   },
   {
    "duration": 56,
    "start_time": "2023-12-16T23:41:27.834Z"
   },
   {
    "duration": 2,
    "start_time": "2023-12-16T23:41:27.892Z"
   },
   {
    "duration": 26,
    "start_time": "2023-12-16T23:41:27.896Z"
   },
   {
    "duration": 8,
    "start_time": "2023-12-16T23:41:27.924Z"
   },
   {
    "duration": 26,
    "start_time": "2023-12-16T23:41:27.933Z"
   },
   {
    "duration": 19,
    "start_time": "2023-12-16T23:41:27.961Z"
   },
   {
    "duration": 1431,
    "start_time": "2023-12-16T23:41:27.982Z"
   },
   {
    "duration": 1406,
    "start_time": "2023-12-16T23:41:29.415Z"
   },
   {
    "duration": 127,
    "start_time": "2023-12-16T23:41:30.827Z"
   },
   {
    "duration": 143,
    "start_time": "2023-12-16T23:41:30.955Z"
   },
   {
    "duration": 132,
    "start_time": "2023-12-16T23:41:31.100Z"
   },
   {
    "duration": 6,
    "start_time": "2023-12-16T23:41:31.233Z"
   },
   {
    "duration": 47,
    "start_time": "2023-12-16T23:41:31.240Z"
   },
   {
    "duration": 86,
    "start_time": "2023-12-16T23:41:31.288Z"
   },
   {
    "duration": 131,
    "start_time": "2023-12-16T23:43:22.422Z"
   },
   {
    "duration": 1099,
    "start_time": "2023-12-16T23:50:31.521Z"
   },
   {
    "duration": 3,
    "start_time": "2023-12-16T23:50:32.621Z"
   },
   {
    "duration": 74,
    "start_time": "2023-12-16T23:50:32.625Z"
   },
   {
    "duration": 29,
    "start_time": "2023-12-16T23:50:32.700Z"
   },
   {
    "duration": 33,
    "start_time": "2023-12-16T23:50:32.730Z"
   },
   {
    "duration": 39,
    "start_time": "2023-12-16T23:50:32.764Z"
   },
   {
    "duration": 30,
    "start_time": "2023-12-16T23:50:32.804Z"
   },
   {
    "duration": 24,
    "start_time": "2023-12-16T23:50:32.836Z"
   },
   {
    "duration": 26,
    "start_time": "2023-12-16T23:50:32.861Z"
   },
   {
    "duration": 11,
    "start_time": "2023-12-16T23:50:32.889Z"
   },
   {
    "duration": 21,
    "start_time": "2023-12-16T23:50:32.901Z"
   },
   {
    "duration": 9,
    "start_time": "2023-12-16T23:50:32.924Z"
   },
   {
    "duration": 8,
    "start_time": "2023-12-16T23:50:32.935Z"
   },
   {
    "duration": 15,
    "start_time": "2023-12-16T23:50:32.944Z"
   },
   {
    "duration": 25,
    "start_time": "2023-12-16T23:50:32.960Z"
   },
   {
    "duration": 9,
    "start_time": "2023-12-16T23:50:32.987Z"
   },
   {
    "duration": 9,
    "start_time": "2023-12-16T23:50:32.998Z"
   },
   {
    "duration": 15,
    "start_time": "2023-12-16T23:50:33.009Z"
   },
   {
    "duration": 11,
    "start_time": "2023-12-16T23:50:33.025Z"
   },
   {
    "duration": 21,
    "start_time": "2023-12-16T23:50:33.037Z"
   },
   {
    "duration": 7,
    "start_time": "2023-12-16T23:50:33.059Z"
   },
   {
    "duration": 16,
    "start_time": "2023-12-16T23:50:33.067Z"
   },
   {
    "duration": 36,
    "start_time": "2023-12-16T23:50:33.084Z"
   },
   {
    "duration": 6,
    "start_time": "2023-12-16T23:50:33.122Z"
   },
   {
    "duration": 15,
    "start_time": "2023-12-16T23:50:33.129Z"
   },
   {
    "duration": 12,
    "start_time": "2023-12-16T23:50:33.151Z"
   },
   {
    "duration": 4,
    "start_time": "2023-12-16T23:50:33.165Z"
   },
   {
    "duration": 15,
    "start_time": "2023-12-16T23:50:33.173Z"
   },
   {
    "duration": 11,
    "start_time": "2023-12-16T23:50:33.189Z"
   },
   {
    "duration": 6,
    "start_time": "2023-12-16T23:50:33.201Z"
   },
   {
    "duration": 14,
    "start_time": "2023-12-16T23:50:33.209Z"
   },
   {
    "duration": 14,
    "start_time": "2023-12-16T23:50:33.224Z"
   },
   {
    "duration": 32,
    "start_time": "2023-12-16T23:50:33.240Z"
   },
   {
    "duration": 10,
    "start_time": "2023-12-16T23:50:33.273Z"
   },
   {
    "duration": 14,
    "start_time": "2023-12-16T23:50:33.284Z"
   },
   {
    "duration": 15,
    "start_time": "2023-12-16T23:50:33.299Z"
   },
   {
    "duration": 37,
    "start_time": "2023-12-16T23:50:33.316Z"
   },
   {
    "duration": 18,
    "start_time": "2023-12-16T23:50:33.355Z"
   },
   {
    "duration": 22,
    "start_time": "2023-12-16T23:50:33.375Z"
   },
   {
    "duration": 16,
    "start_time": "2023-12-16T23:50:33.399Z"
   },
   {
    "duration": 28,
    "start_time": "2023-12-16T23:50:33.417Z"
   },
   {
    "duration": 19,
    "start_time": "2023-12-16T23:50:33.446Z"
   },
   {
    "duration": 18,
    "start_time": "2023-12-16T23:50:33.466Z"
   },
   {
    "duration": 15,
    "start_time": "2023-12-16T23:50:33.486Z"
   },
   {
    "duration": 11,
    "start_time": "2023-12-16T23:50:33.502Z"
   },
   {
    "duration": 13,
    "start_time": "2023-12-16T23:50:33.514Z"
   },
   {
    "duration": 13,
    "start_time": "2023-12-16T23:50:33.528Z"
   },
   {
    "duration": 21,
    "start_time": "2023-12-16T23:50:33.543Z"
   },
   {
    "duration": 9,
    "start_time": "2023-12-16T23:50:33.565Z"
   },
   {
    "duration": 14,
    "start_time": "2023-12-16T23:50:33.575Z"
   },
   {
    "duration": 7,
    "start_time": "2023-12-16T23:50:33.590Z"
   },
   {
    "duration": 7,
    "start_time": "2023-12-16T23:50:33.598Z"
   },
   {
    "duration": 6,
    "start_time": "2023-12-16T23:50:33.606Z"
   },
   {
    "duration": 11,
    "start_time": "2023-12-16T23:50:33.613Z"
   },
   {
    "duration": 9,
    "start_time": "2023-12-16T23:50:33.625Z"
   },
   {
    "duration": 8,
    "start_time": "2023-12-16T23:50:33.635Z"
   },
   {
    "duration": 10,
    "start_time": "2023-12-16T23:50:33.644Z"
   },
   {
    "duration": 17,
    "start_time": "2023-12-16T23:50:33.655Z"
   },
   {
    "duration": 9,
    "start_time": "2023-12-16T23:50:33.673Z"
   },
   {
    "duration": 11,
    "start_time": "2023-12-16T23:50:33.683Z"
   },
   {
    "duration": 9,
    "start_time": "2023-12-16T23:50:33.695Z"
   },
   {
    "duration": 11,
    "start_time": "2023-12-16T23:50:33.705Z"
   },
   {
    "duration": 11,
    "start_time": "2023-12-16T23:50:33.717Z"
   },
   {
    "duration": 9,
    "start_time": "2023-12-16T23:50:33.730Z"
   },
   {
    "duration": 11,
    "start_time": "2023-12-16T23:50:33.741Z"
   },
   {
    "duration": 17,
    "start_time": "2023-12-16T23:50:33.753Z"
   },
   {
    "duration": 17,
    "start_time": "2023-12-16T23:50:33.772Z"
   },
   {
    "duration": 13,
    "start_time": "2023-12-16T23:50:33.790Z"
   },
   {
    "duration": 7,
    "start_time": "2023-12-16T23:50:33.804Z"
   },
   {
    "duration": 7,
    "start_time": "2023-12-16T23:50:33.813Z"
   },
   {
    "duration": 11,
    "start_time": "2023-12-16T23:50:33.821Z"
   },
   {
    "duration": 22,
    "start_time": "2023-12-16T23:50:33.833Z"
   },
   {
    "duration": 7,
    "start_time": "2023-12-16T23:50:33.856Z"
   },
   {
    "duration": 43,
    "start_time": "2023-12-16T23:50:33.864Z"
   },
   {
    "duration": 2,
    "start_time": "2023-12-16T23:50:33.909Z"
   },
   {
    "duration": 16,
    "start_time": "2023-12-16T23:50:33.913Z"
   },
   {
    "duration": 23,
    "start_time": "2023-12-16T23:50:33.930Z"
   },
   {
    "duration": 17,
    "start_time": "2023-12-16T23:50:33.954Z"
   },
   {
    "duration": 15,
    "start_time": "2023-12-16T23:50:33.972Z"
   },
   {
    "duration": 1046,
    "start_time": "2023-12-16T23:50:33.988Z"
   },
   {
    "duration": 1298,
    "start_time": "2023-12-16T23:50:35.036Z"
   },
   {
    "duration": 125,
    "start_time": "2023-12-16T23:50:36.340Z"
   },
   {
    "duration": 129,
    "start_time": "2023-12-16T23:50:36.466Z"
   },
   {
    "duration": 128,
    "start_time": "2023-12-16T23:50:36.597Z"
   },
   {
    "duration": 5,
    "start_time": "2023-12-16T23:50:36.727Z"
   },
   {
    "duration": 136,
    "start_time": "2023-12-16T23:50:36.734Z"
   },
   {
    "duration": 82,
    "start_time": "2023-12-16T23:50:36.871Z"
   },
   {
    "duration": 131,
    "start_time": "2023-12-16T23:51:56.911Z"
   },
   {
    "duration": 240,
    "start_time": "2023-12-16T23:58:02.362Z"
   },
   {
    "duration": 99,
    "start_time": "2023-12-17T00:01:01.228Z"
   },
   {
    "duration": 15,
    "start_time": "2023-12-17T00:03:58.618Z"
   },
   {
    "duration": 1691,
    "start_time": "2023-12-17T00:11:30.280Z"
   },
   {
    "duration": 1287,
    "start_time": "2023-12-17T00:11:42.556Z"
   },
   {
    "duration": 3,
    "start_time": "2023-12-17T00:11:43.844Z"
   },
   {
    "duration": 56,
    "start_time": "2023-12-17T00:11:43.849Z"
   },
   {
    "duration": 30,
    "start_time": "2023-12-17T00:11:43.907Z"
   },
   {
    "duration": 35,
    "start_time": "2023-12-17T00:11:43.938Z"
   },
   {
    "duration": 40,
    "start_time": "2023-12-17T00:11:43.974Z"
   },
   {
    "duration": 30,
    "start_time": "2023-12-17T00:11:44.015Z"
   },
   {
    "duration": 23,
    "start_time": "2023-12-17T00:11:44.047Z"
   },
   {
    "duration": 25,
    "start_time": "2023-12-17T00:11:44.071Z"
   },
   {
    "duration": 11,
    "start_time": "2023-12-17T00:11:44.098Z"
   },
   {
    "duration": 12,
    "start_time": "2023-12-17T00:11:44.110Z"
   },
   {
    "duration": 11,
    "start_time": "2023-12-17T00:11:44.123Z"
   },
   {
    "duration": 8,
    "start_time": "2023-12-17T00:11:44.135Z"
   },
   {
    "duration": 17,
    "start_time": "2023-12-17T00:11:44.145Z"
   },
   {
    "duration": 10,
    "start_time": "2023-12-17T00:11:44.163Z"
   },
   {
    "duration": 8,
    "start_time": "2023-12-17T00:11:44.174Z"
   },
   {
    "duration": 11,
    "start_time": "2023-12-17T00:11:44.183Z"
   },
   {
    "duration": 20,
    "start_time": "2023-12-17T00:11:44.196Z"
   },
   {
    "duration": 2,
    "start_time": "2023-12-17T00:11:44.217Z"
   },
   {
    "duration": 34,
    "start_time": "2023-12-17T00:11:44.220Z"
   },
   {
    "duration": 5,
    "start_time": "2023-12-17T00:11:44.255Z"
   },
   {
    "duration": 13,
    "start_time": "2023-12-17T00:11:44.261Z"
   },
   {
    "duration": 34,
    "start_time": "2023-12-17T00:11:44.275Z"
   },
   {
    "duration": 6,
    "start_time": "2023-12-17T00:11:44.310Z"
   },
   {
    "duration": 18,
    "start_time": "2023-12-17T00:11:44.318Z"
   },
   {
    "duration": 24,
    "start_time": "2023-12-17T00:11:44.337Z"
   },
   {
    "duration": 4,
    "start_time": "2023-12-17T00:11:44.362Z"
   },
   {
    "duration": 7,
    "start_time": "2023-12-17T00:11:44.370Z"
   },
   {
    "duration": 9,
    "start_time": "2023-12-17T00:11:44.379Z"
   },
   {
    "duration": 6,
    "start_time": "2023-12-17T00:11:44.389Z"
   },
   {
    "duration": 14,
    "start_time": "2023-12-17T00:11:44.396Z"
   },
   {
    "duration": 10,
    "start_time": "2023-12-17T00:11:44.411Z"
   },
   {
    "duration": 42,
    "start_time": "2023-12-17T00:11:44.422Z"
   },
   {
    "duration": 9,
    "start_time": "2023-12-17T00:11:44.465Z"
   },
   {
    "duration": 5,
    "start_time": "2023-12-17T00:11:44.475Z"
   },
   {
    "duration": 11,
    "start_time": "2023-12-17T00:11:44.481Z"
   },
   {
    "duration": 11,
    "start_time": "2023-12-17T00:11:44.493Z"
   },
   {
    "duration": 7,
    "start_time": "2023-12-17T00:11:44.505Z"
   },
   {
    "duration": 5,
    "start_time": "2023-12-17T00:11:44.514Z"
   },
   {
    "duration": 15,
    "start_time": "2023-12-17T00:11:44.520Z"
   },
   {
    "duration": 10,
    "start_time": "2023-12-17T00:11:44.552Z"
   },
   {
    "duration": 5,
    "start_time": "2023-12-17T00:11:44.563Z"
   },
   {
    "duration": 10,
    "start_time": "2023-12-17T00:11:44.569Z"
   },
   {
    "duration": 10,
    "start_time": "2023-12-17T00:11:44.581Z"
   },
   {
    "duration": 8,
    "start_time": "2023-12-17T00:11:44.592Z"
   },
   {
    "duration": 4,
    "start_time": "2023-12-17T00:11:44.601Z"
   },
   {
    "duration": 12,
    "start_time": "2023-12-17T00:11:44.607Z"
   },
   {
    "duration": 36,
    "start_time": "2023-12-17T00:11:44.620Z"
   },
   {
    "duration": 11,
    "start_time": "2023-12-17T00:11:44.657Z"
   },
   {
    "duration": 5,
    "start_time": "2023-12-17T00:11:44.670Z"
   },
   {
    "duration": 4,
    "start_time": "2023-12-17T00:11:44.677Z"
   },
   {
    "duration": 4,
    "start_time": "2023-12-17T00:11:44.683Z"
   },
   {
    "duration": 5,
    "start_time": "2023-12-17T00:11:44.688Z"
   },
   {
    "duration": 11,
    "start_time": "2023-12-17T00:11:44.694Z"
   },
   {
    "duration": 5,
    "start_time": "2023-12-17T00:11:44.707Z"
   },
   {
    "duration": 9,
    "start_time": "2023-12-17T00:11:44.713Z"
   },
   {
    "duration": 4,
    "start_time": "2023-12-17T00:11:44.751Z"
   },
   {
    "duration": 3,
    "start_time": "2023-12-17T00:11:44.756Z"
   },
   {
    "duration": 13,
    "start_time": "2023-12-17T00:11:44.760Z"
   },
   {
    "duration": 5,
    "start_time": "2023-12-17T00:11:44.775Z"
   },
   {
    "duration": 11,
    "start_time": "2023-12-17T00:11:44.781Z"
   },
   {
    "duration": 12,
    "start_time": "2023-12-17T00:11:44.794Z"
   },
   {
    "duration": 11,
    "start_time": "2023-12-17T00:11:44.807Z"
   },
   {
    "duration": 37,
    "start_time": "2023-12-17T00:11:44.819Z"
   },
   {
    "duration": 3,
    "start_time": "2023-12-17T00:11:44.857Z"
   },
   {
    "duration": 8,
    "start_time": "2023-12-17T00:11:44.862Z"
   },
   {
    "duration": 16,
    "start_time": "2023-12-17T00:11:44.871Z"
   },
   {
    "duration": 12,
    "start_time": "2023-12-17T00:11:44.888Z"
   },
   {
    "duration": 9,
    "start_time": "2023-12-17T00:11:44.901Z"
   },
   {
    "duration": 17,
    "start_time": "2023-12-17T00:11:44.912Z"
   },
   {
    "duration": 28,
    "start_time": "2023-12-17T00:11:44.931Z"
   },
   {
    "duration": 10,
    "start_time": "2023-12-17T00:11:44.960Z"
   },
   {
    "duration": 14,
    "start_time": "2023-12-17T00:11:44.971Z"
   },
   {
    "duration": 46,
    "start_time": "2023-12-17T00:11:44.986Z"
   },
   {
    "duration": 3,
    "start_time": "2023-12-17T00:11:45.034Z"
   },
   {
    "duration": 47,
    "start_time": "2023-12-17T00:11:45.052Z"
   },
   {
    "duration": 12,
    "start_time": "2023-12-17T00:11:45.101Z"
   },
   {
    "duration": 24,
    "start_time": "2023-12-17T00:11:45.115Z"
   },
   {
    "duration": 43,
    "start_time": "2023-12-17T00:11:45.141Z"
   },
   {
    "duration": 1194,
    "start_time": "2023-12-17T00:11:45.185Z"
   },
   {
    "duration": 1359,
    "start_time": "2023-12-17T00:11:46.380Z"
   },
   {
    "duration": 123,
    "start_time": "2023-12-17T00:11:47.744Z"
   },
   {
    "duration": 132,
    "start_time": "2023-12-17T00:11:47.869Z"
   },
   {
    "duration": 136,
    "start_time": "2023-12-17T00:11:48.002Z"
   },
   {
    "duration": 5,
    "start_time": "2023-12-17T00:11:48.140Z"
   },
   {
    "duration": 134,
    "start_time": "2023-12-17T00:11:48.157Z"
   },
   {
    "duration": 132,
    "start_time": "2023-12-17T00:11:48.293Z"
   },
   {
    "duration": 15,
    "start_time": "2023-12-17T00:11:48.426Z"
   },
   {
    "duration": 197,
    "start_time": "2023-12-17T00:11:48.442Z"
   },
   {
    "duration": 0,
    "start_time": "2023-12-17T00:11:48.640Z"
   },
   {
    "duration": 0,
    "start_time": "2023-12-17T00:11:48.641Z"
   },
   {
    "duration": 14,
    "start_time": "2023-12-17T00:13:13.795Z"
   },
   {
    "duration": 14,
    "start_time": "2023-12-17T00:13:33.618Z"
   },
   {
    "duration": 14,
    "start_time": "2023-12-17T00:14:41.487Z"
   },
   {
    "duration": 1619,
    "start_time": "2023-12-17T10:31:37.117Z"
   },
   {
    "duration": 4,
    "start_time": "2023-12-17T10:31:38.738Z"
   },
   {
    "duration": 100,
    "start_time": "2023-12-17T10:31:38.744Z"
   },
   {
    "duration": 108,
    "start_time": "2023-12-17T10:31:38.846Z"
   },
   {
    "duration": 92,
    "start_time": "2023-12-17T10:31:38.956Z"
   },
   {
    "duration": 59,
    "start_time": "2023-12-17T10:31:39.050Z"
   },
   {
    "duration": 103,
    "start_time": "2023-12-17T10:31:39.111Z"
   },
   {
    "duration": 59,
    "start_time": "2023-12-17T10:31:39.216Z"
   },
   {
    "duration": 72,
    "start_time": "2023-12-17T10:31:39.276Z"
   },
   {
    "duration": 15,
    "start_time": "2023-12-17T10:31:39.351Z"
   },
   {
    "duration": 11,
    "start_time": "2023-12-17T10:31:39.367Z"
   },
   {
    "duration": 16,
    "start_time": "2023-12-17T10:31:39.380Z"
   },
   {
    "duration": 14,
    "start_time": "2023-12-17T10:31:39.397Z"
   },
   {
    "duration": 11,
    "start_time": "2023-12-17T10:31:39.413Z"
   },
   {
    "duration": 9,
    "start_time": "2023-12-17T10:31:39.426Z"
   },
   {
    "duration": 11,
    "start_time": "2023-12-17T10:31:39.436Z"
   },
   {
    "duration": 12,
    "start_time": "2023-12-17T10:31:39.449Z"
   },
   {
    "duration": 48,
    "start_time": "2023-12-17T10:31:39.463Z"
   },
   {
    "duration": 3,
    "start_time": "2023-12-17T10:31:39.513Z"
   },
   {
    "duration": 18,
    "start_time": "2023-12-17T10:31:39.518Z"
   },
   {
    "duration": 3,
    "start_time": "2023-12-17T10:31:39.537Z"
   },
   {
    "duration": 15,
    "start_time": "2023-12-17T10:31:39.542Z"
   },
   {
    "duration": 65,
    "start_time": "2023-12-17T10:31:39.559Z"
   },
   {
    "duration": 7,
    "start_time": "2023-12-17T10:31:39.626Z"
   },
   {
    "duration": 8,
    "start_time": "2023-12-17T10:31:39.635Z"
   },
   {
    "duration": 16,
    "start_time": "2023-12-17T10:31:39.644Z"
   },
   {
    "duration": 5,
    "start_time": "2023-12-17T10:31:39.662Z"
   },
   {
    "duration": 4,
    "start_time": "2023-12-17T10:31:39.671Z"
   },
   {
    "duration": 43,
    "start_time": "2023-12-17T10:31:39.676Z"
   },
   {
    "duration": 9,
    "start_time": "2023-12-17T10:31:39.721Z"
   },
   {
    "duration": 12,
    "start_time": "2023-12-17T10:31:39.732Z"
   },
   {
    "duration": 12,
    "start_time": "2023-12-17T10:31:39.745Z"
   },
   {
    "duration": 52,
    "start_time": "2023-12-17T10:31:39.759Z"
   },
   {
    "duration": 12,
    "start_time": "2023-12-17T10:31:39.813Z"
   },
   {
    "duration": 7,
    "start_time": "2023-12-17T10:31:39.827Z"
   },
   {
    "duration": 5,
    "start_time": "2023-12-17T10:31:39.835Z"
   },
   {
    "duration": 8,
    "start_time": "2023-12-17T10:31:39.841Z"
   },
   {
    "duration": 14,
    "start_time": "2023-12-17T10:31:39.851Z"
   },
   {
    "duration": 12,
    "start_time": "2023-12-17T10:31:39.867Z"
   },
   {
    "duration": 40,
    "start_time": "2023-12-17T10:31:39.881Z"
   },
   {
    "duration": 14,
    "start_time": "2023-12-17T10:31:39.923Z"
   },
   {
    "duration": 6,
    "start_time": "2023-12-17T10:31:39.938Z"
   },
   {
    "duration": 23,
    "start_time": "2023-12-17T10:31:39.946Z"
   },
   {
    "duration": 13,
    "start_time": "2023-12-17T10:31:39.971Z"
   },
   {
    "duration": 29,
    "start_time": "2023-12-17T10:31:39.985Z"
   },
   {
    "duration": 7,
    "start_time": "2023-12-17T10:31:40.016Z"
   },
   {
    "duration": 19,
    "start_time": "2023-12-17T10:31:40.024Z"
   },
   {
    "duration": 19,
    "start_time": "2023-12-17T10:31:40.045Z"
   },
   {
    "duration": 10,
    "start_time": "2023-12-17T10:31:40.066Z"
   },
   {
    "duration": 8,
    "start_time": "2023-12-17T10:31:40.077Z"
   },
   {
    "duration": 16,
    "start_time": "2023-12-17T10:31:40.087Z"
   },
   {
    "duration": 5,
    "start_time": "2023-12-17T10:31:40.105Z"
   },
   {
    "duration": 6,
    "start_time": "2023-12-17T10:31:40.111Z"
   },
   {
    "duration": 13,
    "start_time": "2023-12-17T10:31:40.119Z"
   },
   {
    "duration": 7,
    "start_time": "2023-12-17T10:31:40.134Z"
   },
   {
    "duration": 5,
    "start_time": "2023-12-17T10:31:40.143Z"
   },
   {
    "duration": 5,
    "start_time": "2023-12-17T10:31:40.149Z"
   },
   {
    "duration": 10,
    "start_time": "2023-12-17T10:31:40.156Z"
   },
   {
    "duration": 7,
    "start_time": "2023-12-17T10:31:40.168Z"
   },
   {
    "duration": 7,
    "start_time": "2023-12-17T10:31:40.211Z"
   },
   {
    "duration": 12,
    "start_time": "2023-12-17T10:31:40.220Z"
   },
   {
    "duration": 20,
    "start_time": "2023-12-17T10:31:40.234Z"
   },
   {
    "duration": 21,
    "start_time": "2023-12-17T10:31:40.256Z"
   },
   {
    "duration": 45,
    "start_time": "2023-12-17T10:31:40.278Z"
   },
   {
    "duration": 8,
    "start_time": "2023-12-17T10:31:40.325Z"
   },
   {
    "duration": 28,
    "start_time": "2023-12-17T10:31:40.335Z"
   },
   {
    "duration": 36,
    "start_time": "2023-12-17T10:31:40.365Z"
   },
   {
    "duration": 30,
    "start_time": "2023-12-17T10:31:40.402Z"
   },
   {
    "duration": 12,
    "start_time": "2023-12-17T10:31:40.434Z"
   },
   {
    "duration": 8,
    "start_time": "2023-12-17T10:31:40.447Z"
   },
   {
    "duration": 20,
    "start_time": "2023-12-17T10:31:40.456Z"
   },
   {
    "duration": 7,
    "start_time": "2023-12-17T10:31:40.477Z"
   },
   {
    "duration": 35,
    "start_time": "2023-12-17T10:31:40.485Z"
   },
   {
    "duration": 51,
    "start_time": "2023-12-17T10:31:40.522Z"
   },
   {
    "duration": 3,
    "start_time": "2023-12-17T10:31:40.575Z"
   },
   {
    "duration": 54,
    "start_time": "2023-12-17T10:31:40.579Z"
   },
   {
    "duration": 9,
    "start_time": "2023-12-17T10:31:40.635Z"
   },
   {
    "duration": 18,
    "start_time": "2023-12-17T10:31:40.646Z"
   },
   {
    "duration": 20,
    "start_time": "2023-12-17T10:31:40.666Z"
   },
   {
    "duration": 1456,
    "start_time": "2023-12-17T10:31:40.712Z"
   },
   {
    "duration": 1557,
    "start_time": "2023-12-17T10:31:42.170Z"
   },
   {
    "duration": 149,
    "start_time": "2023-12-17T10:31:43.732Z"
   },
   {
    "duration": 178,
    "start_time": "2023-12-17T10:31:43.882Z"
   },
   {
    "duration": 157,
    "start_time": "2023-12-17T10:31:44.062Z"
   },
   {
    "duration": 6,
    "start_time": "2023-12-17T10:31:44.221Z"
   },
   {
    "duration": 180,
    "start_time": "2023-12-17T10:31:44.229Z"
   },
   {
    "duration": 159,
    "start_time": "2023-12-17T10:31:44.411Z"
   },
   {
    "duration": 18,
    "start_time": "2023-12-17T10:31:44.572Z"
   },
   {
    "duration": 3062,
    "start_time": "2023-12-17T10:31:44.592Z"
   },
   {
    "duration": 79,
    "start_time": "2023-12-17T10:31:47.656Z"
   },
   {
    "duration": 0,
    "start_time": "2023-12-17T10:31:47.736Z"
   },
   {
    "duration": 10,
    "start_time": "2023-12-17T10:32:30.801Z"
   },
   {
    "duration": 4275,
    "start_time": "2023-12-17T10:33:42.552Z"
   },
   {
    "duration": 115,
    "start_time": "2023-12-17T10:34:40.528Z"
   },
   {
    "duration": 6850,
    "start_time": "2023-12-17T10:35:18.005Z"
   },
   {
    "duration": 5068,
    "start_time": "2023-12-17T10:35:54.951Z"
   },
   {
    "duration": 11,
    "start_time": "2023-12-17T10:36:13.080Z"
   },
   {
    "duration": 6898,
    "start_time": "2023-12-17T10:37:26.849Z"
   },
   {
    "duration": 3198,
    "start_time": "2023-12-17T10:38:11.143Z"
   },
   {
    "duration": 23,
    "start_time": "2023-12-17T10:41:39.000Z"
   },
   {
    "duration": 14,
    "start_time": "2023-12-17T10:41:50.070Z"
   },
   {
    "duration": 12154,
    "start_time": "2023-12-17T10:42:17.842Z"
   },
   {
    "duration": 6,
    "start_time": "2023-12-17T10:45:21.303Z"
   },
   {
    "duration": 7,
    "start_time": "2023-12-17T10:45:46.306Z"
   },
   {
    "duration": 5,
    "start_time": "2023-12-17T10:46:33.976Z"
   },
   {
    "duration": 6633,
    "start_time": "2023-12-17T10:47:19.066Z"
   },
   {
    "duration": 19,
    "start_time": "2023-12-17T10:49:26.724Z"
   },
   {
    "duration": 14,
    "start_time": "2023-12-17T10:49:27.109Z"
   },
   {
    "duration": 11,
    "start_time": "2023-12-17T10:53:25.797Z"
   },
   {
    "duration": 130,
    "start_time": "2023-12-17T11:01:44.953Z"
   },
   {
    "duration": 13,
    "start_time": "2023-12-17T11:02:24.622Z"
   },
   {
    "duration": 46,
    "start_time": "2023-12-17T11:04:02.122Z"
   },
   {
    "duration": 21,
    "start_time": "2023-12-17T11:05:06.623Z"
   },
   {
    "duration": 1417,
    "start_time": "2023-12-17T11:05:29.573Z"
   },
   {
    "duration": 4,
    "start_time": "2023-12-17T11:05:30.992Z"
   },
   {
    "duration": 114,
    "start_time": "2023-12-17T11:05:30.998Z"
   },
   {
    "duration": 34,
    "start_time": "2023-12-17T11:05:31.114Z"
   },
   {
    "duration": 39,
    "start_time": "2023-12-17T11:05:31.150Z"
   },
   {
    "duration": 41,
    "start_time": "2023-12-17T11:05:31.191Z"
   },
   {
    "duration": 48,
    "start_time": "2023-12-17T11:05:31.234Z"
   },
   {
    "duration": 25,
    "start_time": "2023-12-17T11:05:31.284Z"
   },
   {
    "duration": 31,
    "start_time": "2023-12-17T11:05:31.311Z"
   },
   {
    "duration": 12,
    "start_time": "2023-12-17T11:05:31.346Z"
   },
   {
    "duration": 29,
    "start_time": "2023-12-17T11:05:31.360Z"
   },
   {
    "duration": 34,
    "start_time": "2023-12-17T11:05:31.391Z"
   },
   {
    "duration": 42,
    "start_time": "2023-12-17T11:05:31.427Z"
   },
   {
    "duration": 29,
    "start_time": "2023-12-17T11:05:31.471Z"
   },
   {
    "duration": 21,
    "start_time": "2023-12-17T11:05:31.502Z"
   },
   {
    "duration": 26,
    "start_time": "2023-12-17T11:05:31.524Z"
   },
   {
    "duration": 25,
    "start_time": "2023-12-17T11:05:31.551Z"
   },
   {
    "duration": 46,
    "start_time": "2023-12-17T11:05:31.578Z"
   },
   {
    "duration": 13,
    "start_time": "2023-12-17T11:05:31.626Z"
   },
   {
    "duration": 46,
    "start_time": "2023-12-17T11:05:31.642Z"
   },
   {
    "duration": 25,
    "start_time": "2023-12-17T11:05:31.690Z"
   },
   {
    "duration": 31,
    "start_time": "2023-12-17T11:05:31.718Z"
   },
   {
    "duration": 46,
    "start_time": "2023-12-17T11:05:31.751Z"
   },
   {
    "duration": 7,
    "start_time": "2023-12-17T11:05:31.799Z"
   },
   {
    "duration": 42,
    "start_time": "2023-12-17T11:05:31.808Z"
   },
   {
    "duration": 33,
    "start_time": "2023-12-17T11:05:31.852Z"
   },
   {
    "duration": 26,
    "start_time": "2023-12-17T11:05:31.886Z"
   },
   {
    "duration": 6,
    "start_time": "2023-12-17T11:05:31.918Z"
   },
   {
    "duration": 17,
    "start_time": "2023-12-17T11:05:31.926Z"
   },
   {
    "duration": 8,
    "start_time": "2023-12-17T11:05:31.945Z"
   },
   {
    "duration": 42,
    "start_time": "2023-12-17T11:05:31.955Z"
   },
   {
    "duration": 15,
    "start_time": "2023-12-17T11:05:31.999Z"
   },
   {
    "duration": 42,
    "start_time": "2023-12-17T11:05:32.016Z"
   },
   {
    "duration": 13,
    "start_time": "2023-12-17T11:05:32.060Z"
   },
   {
    "duration": 9,
    "start_time": "2023-12-17T11:05:32.074Z"
   },
   {
    "duration": 18,
    "start_time": "2023-12-17T11:05:32.084Z"
   },
   {
    "duration": 14,
    "start_time": "2023-12-17T11:05:32.103Z"
   },
   {
    "duration": 9,
    "start_time": "2023-12-17T11:05:32.121Z"
   },
   {
    "duration": 8,
    "start_time": "2023-12-17T11:05:32.132Z"
   },
   {
    "duration": 16,
    "start_time": "2023-12-17T11:05:32.142Z"
   },
   {
    "duration": 20,
    "start_time": "2023-12-17T11:05:32.160Z"
   },
   {
    "duration": 32,
    "start_time": "2023-12-17T11:05:32.182Z"
   },
   {
    "duration": 14,
    "start_time": "2023-12-17T11:05:32.216Z"
   },
   {
    "duration": 17,
    "start_time": "2023-12-17T11:05:32.232Z"
   },
   {
    "duration": 11,
    "start_time": "2023-12-17T11:05:32.251Z"
   },
   {
    "duration": 7,
    "start_time": "2023-12-17T11:05:32.264Z"
   },
   {
    "duration": 38,
    "start_time": "2023-12-17T11:05:32.273Z"
   },
   {
    "duration": 5,
    "start_time": "2023-12-17T11:05:32.313Z"
   },
   {
    "duration": 9,
    "start_time": "2023-12-17T11:05:32.320Z"
   },
   {
    "duration": 15,
    "start_time": "2023-12-17T11:05:32.330Z"
   },
   {
    "duration": 6,
    "start_time": "2023-12-17T11:05:32.346Z"
   },
   {
    "duration": 5,
    "start_time": "2023-12-17T11:05:32.353Z"
   },
   {
    "duration": 10,
    "start_time": "2023-12-17T11:05:32.359Z"
   },
   {
    "duration": 17,
    "start_time": "2023-12-17T11:05:32.370Z"
   },
   {
    "duration": 9,
    "start_time": "2023-12-17T11:05:32.411Z"
   },
   {
    "duration": 30,
    "start_time": "2023-12-17T11:05:32.421Z"
   },
   {
    "duration": 9,
    "start_time": "2023-12-17T11:05:32.453Z"
   },
   {
    "duration": 8,
    "start_time": "2023-12-17T11:05:32.464Z"
   },
   {
    "duration": 19,
    "start_time": "2023-12-17T11:05:32.474Z"
   },
   {
    "duration": 15,
    "start_time": "2023-12-17T11:05:32.495Z"
   },
   {
    "duration": 10,
    "start_time": "2023-12-17T11:05:32.512Z"
   },
   {
    "duration": 14,
    "start_time": "2023-12-17T11:05:32.524Z"
   },
   {
    "duration": 15,
    "start_time": "2023-12-17T11:05:32.539Z"
   },
   {
    "duration": 12,
    "start_time": "2023-12-17T11:05:32.556Z"
   },
   {
    "duration": 4,
    "start_time": "2023-12-17T11:05:32.570Z"
   },
   {
    "duration": 46,
    "start_time": "2023-12-17T11:05:32.576Z"
   },
   {
    "duration": 32,
    "start_time": "2023-12-17T11:05:32.624Z"
   },
   {
    "duration": 19,
    "start_time": "2023-12-17T11:05:32.658Z"
   },
   {
    "duration": 9,
    "start_time": "2023-12-17T11:05:32.679Z"
   },
   {
    "duration": 31,
    "start_time": "2023-12-17T11:05:32.690Z"
   },
   {
    "duration": 21,
    "start_time": "2023-12-17T11:05:32.723Z"
   },
   {
    "duration": 11,
    "start_time": "2023-12-17T11:05:32.746Z"
   },
   {
    "duration": 11,
    "start_time": "2023-12-17T11:05:32.759Z"
   },
   {
    "duration": 66,
    "start_time": "2023-12-17T11:05:32.772Z"
   },
   {
    "duration": 3,
    "start_time": "2023-12-17T11:05:32.840Z"
   },
   {
    "duration": 22,
    "start_time": "2023-12-17T11:05:32.845Z"
   },
   {
    "duration": 10,
    "start_time": "2023-12-17T11:05:32.868Z"
   },
   {
    "duration": 36,
    "start_time": "2023-12-17T11:05:32.879Z"
   },
   {
    "duration": 18,
    "start_time": "2023-12-17T11:05:32.916Z"
   },
   {
    "duration": 1356,
    "start_time": "2023-12-17T11:05:32.936Z"
   },
   {
    "duration": 1486,
    "start_time": "2023-12-17T11:05:34.294Z"
   },
   {
    "duration": 168,
    "start_time": "2023-12-17T11:05:35.788Z"
   },
   {
    "duration": 156,
    "start_time": "2023-12-17T11:05:35.958Z"
   },
   {
    "duration": 158,
    "start_time": "2023-12-17T11:05:36.116Z"
   },
   {
    "duration": 6,
    "start_time": "2023-12-17T11:05:36.276Z"
   },
   {
    "duration": 161,
    "start_time": "2023-12-17T11:05:36.284Z"
   },
   {
    "duration": 159,
    "start_time": "2023-12-17T11:05:36.447Z"
   },
   {
    "duration": 3069,
    "start_time": "2023-12-17T11:05:36.611Z"
   },
   {
    "duration": 23,
    "start_time": "2023-12-17T11:05:39.682Z"
   },
   {
    "duration": 10,
    "start_time": "2023-12-17T11:05:39.711Z"
   },
   {
    "duration": 12,
    "start_time": "2023-12-17T11:05:39.723Z"
   },
   {
    "duration": 137,
    "start_time": "2023-12-17T11:05:39.737Z"
   },
   {
    "duration": 113,
    "start_time": "2023-12-17T11:05:39.876Z"
   },
   {
    "duration": 0,
    "start_time": "2023-12-17T11:05:39.991Z"
   },
   {
    "duration": 0,
    "start_time": "2023-12-17T11:05:39.992Z"
   },
   {
    "duration": 13,
    "start_time": "2023-12-17T11:06:37.629Z"
   },
   {
    "duration": 11,
    "start_time": "2023-12-17T11:07:09.730Z"
   },
   {
    "duration": 17,
    "start_time": "2023-12-17T11:07:13.600Z"
   },
   {
    "duration": 13,
    "start_time": "2023-12-17T11:08:11.215Z"
   },
   {
    "duration": 2812,
    "start_time": "2023-12-17T11:08:29.217Z"
   },
   {
    "duration": 3311,
    "start_time": "2023-12-17T11:09:06.182Z"
   },
   {
    "duration": 2335,
    "start_time": "2023-12-17T11:12:17.695Z"
   },
   {
    "duration": 2098,
    "start_time": "2023-12-17T11:12:28.166Z"
   },
   {
    "duration": 2574,
    "start_time": "2023-12-17T11:13:05.007Z"
   },
   {
    "duration": 94,
    "start_time": "2023-12-17T11:13:54.431Z"
   },
   {
    "duration": 2345,
    "start_time": "2023-12-17T11:14:09.649Z"
   },
   {
    "duration": 10,
    "start_time": "2023-12-17T11:15:39.642Z"
   },
   {
    "duration": 18,
    "start_time": "2023-12-17T11:15:47.617Z"
   },
   {
    "duration": 3239,
    "start_time": "2023-12-17T11:16:02.577Z"
   },
   {
    "duration": 4576,
    "start_time": "2023-12-17T11:19:43.348Z"
   },
   {
    "duration": 10,
    "start_time": "2023-12-17T11:20:40.623Z"
   },
   {
    "duration": 4609,
    "start_time": "2023-12-17T11:21:52.056Z"
   },
   {
    "duration": 13,
    "start_time": "2023-12-17T11:22:01.305Z"
   },
   {
    "duration": 25,
    "start_time": "2023-12-17T11:25:21.929Z"
   },
   {
    "duration": 8,
    "start_time": "2023-12-17T11:25:27.939Z"
   },
   {
    "duration": 29,
    "start_time": "2023-12-17T11:25:31.709Z"
   },
   {
    "duration": 14,
    "start_time": "2023-12-17T11:25:38.029Z"
   },
   {
    "duration": 7,
    "start_time": "2023-12-17T11:44:03.702Z"
   },
   {
    "duration": 1439,
    "start_time": "2023-12-17T11:52:09.503Z"
   },
   {
    "duration": 3,
    "start_time": "2023-12-17T11:52:10.944Z"
   },
   {
    "duration": 76,
    "start_time": "2023-12-17T11:52:10.949Z"
   },
   {
    "duration": 33,
    "start_time": "2023-12-17T11:52:11.027Z"
   },
   {
    "duration": 36,
    "start_time": "2023-12-17T11:52:11.061Z"
   },
   {
    "duration": 40,
    "start_time": "2023-12-17T11:52:11.098Z"
   },
   {
    "duration": 32,
    "start_time": "2023-12-17T11:52:11.140Z"
   },
   {
    "duration": 26,
    "start_time": "2023-12-17T11:52:11.174Z"
   },
   {
    "duration": 34,
    "start_time": "2023-12-17T11:52:11.201Z"
   },
   {
    "duration": 12,
    "start_time": "2023-12-17T11:52:11.239Z"
   },
   {
    "duration": 12,
    "start_time": "2023-12-17T11:52:11.253Z"
   },
   {
    "duration": 16,
    "start_time": "2023-12-17T11:52:11.267Z"
   },
   {
    "duration": 33,
    "start_time": "2023-12-17T11:52:11.285Z"
   },
   {
    "duration": 12,
    "start_time": "2023-12-17T11:52:11.323Z"
   },
   {
    "duration": 30,
    "start_time": "2023-12-17T11:52:11.336Z"
   },
   {
    "duration": 23,
    "start_time": "2023-12-17T11:52:11.367Z"
   },
   {
    "duration": 37,
    "start_time": "2023-12-17T11:52:11.391Z"
   },
   {
    "duration": 31,
    "start_time": "2023-12-17T11:52:11.430Z"
   },
   {
    "duration": 3,
    "start_time": "2023-12-17T11:52:11.463Z"
   },
   {
    "duration": 25,
    "start_time": "2023-12-17T11:52:11.467Z"
   },
   {
    "duration": 18,
    "start_time": "2023-12-17T11:52:11.494Z"
   },
   {
    "duration": 20,
    "start_time": "2023-12-17T11:52:11.513Z"
   },
   {
    "duration": 37,
    "start_time": "2023-12-17T11:52:11.534Z"
   },
   {
    "duration": 7,
    "start_time": "2023-12-17T11:52:11.572Z"
   },
   {
    "duration": 31,
    "start_time": "2023-12-17T11:52:11.581Z"
   },
   {
    "duration": 19,
    "start_time": "2023-12-17T11:52:11.623Z"
   },
   {
    "duration": 5,
    "start_time": "2023-12-17T11:52:11.643Z"
   },
   {
    "duration": 13,
    "start_time": "2023-12-17T11:52:11.654Z"
   },
   {
    "duration": 10,
    "start_time": "2023-12-17T11:52:11.669Z"
   },
   {
    "duration": 7,
    "start_time": "2023-12-17T11:52:11.680Z"
   },
   {
    "duration": 33,
    "start_time": "2023-12-17T11:52:11.689Z"
   },
   {
    "duration": 11,
    "start_time": "2023-12-17T11:52:11.723Z"
   },
   {
    "duration": 37,
    "start_time": "2023-12-17T11:52:11.736Z"
   },
   {
    "duration": 10,
    "start_time": "2023-12-17T11:52:11.775Z"
   },
   {
    "duration": 6,
    "start_time": "2023-12-17T11:52:11.787Z"
   },
   {
    "duration": 28,
    "start_time": "2023-12-17T11:52:11.794Z"
   },
   {
    "duration": 13,
    "start_time": "2023-12-17T11:52:11.825Z"
   },
   {
    "duration": 20,
    "start_time": "2023-12-17T11:52:11.840Z"
   },
   {
    "duration": 10,
    "start_time": "2023-12-17T11:52:11.862Z"
   },
   {
    "duration": 11,
    "start_time": "2023-12-17T11:52:11.873Z"
   },
   {
    "duration": 12,
    "start_time": "2023-12-17T11:52:11.886Z"
   },
   {
    "duration": 5,
    "start_time": "2023-12-17T11:52:11.900Z"
   },
   {
    "duration": 19,
    "start_time": "2023-12-17T11:52:11.914Z"
   },
   {
    "duration": 21,
    "start_time": "2023-12-17T11:52:11.935Z"
   },
   {
    "duration": 8,
    "start_time": "2023-12-17T11:52:11.958Z"
   },
   {
    "duration": 5,
    "start_time": "2023-12-17T11:52:11.968Z"
   },
   {
    "duration": 5,
    "start_time": "2023-12-17T11:52:11.975Z"
   },
   {
    "duration": 9,
    "start_time": "2023-12-17T11:52:11.982Z"
   },
   {
    "duration": 23,
    "start_time": "2023-12-17T11:52:11.993Z"
   },
   {
    "duration": 11,
    "start_time": "2023-12-17T11:52:12.022Z"
   },
   {
    "duration": 6,
    "start_time": "2023-12-17T11:52:12.035Z"
   },
   {
    "duration": 4,
    "start_time": "2023-12-17T11:52:12.043Z"
   },
   {
    "duration": 13,
    "start_time": "2023-12-17T11:52:12.049Z"
   },
   {
    "duration": 15,
    "start_time": "2023-12-17T11:52:12.063Z"
   },
   {
    "duration": 6,
    "start_time": "2023-12-17T11:52:12.079Z"
   },
   {
    "duration": 8,
    "start_time": "2023-12-17T11:52:12.111Z"
   },
   {
    "duration": 6,
    "start_time": "2023-12-17T11:52:12.123Z"
   },
   {
    "duration": 8,
    "start_time": "2023-12-17T11:52:12.131Z"
   },
   {
    "duration": 7,
    "start_time": "2023-12-17T11:52:12.140Z"
   },
   {
    "duration": 6,
    "start_time": "2023-12-17T11:52:12.148Z"
   },
   {
    "duration": 10,
    "start_time": "2023-12-17T11:52:12.155Z"
   },
   {
    "duration": 14,
    "start_time": "2023-12-17T11:52:12.166Z"
   },
   {
    "duration": 49,
    "start_time": "2023-12-17T11:52:12.181Z"
   },
   {
    "duration": 12,
    "start_time": "2023-12-17T11:52:12.232Z"
   },
   {
    "duration": 4,
    "start_time": "2023-12-17T11:52:12.245Z"
   },
   {
    "duration": 24,
    "start_time": "2023-12-17T11:52:12.250Z"
   },
   {
    "duration": 18,
    "start_time": "2023-12-17T11:52:12.276Z"
   },
   {
    "duration": 34,
    "start_time": "2023-12-17T11:52:12.296Z"
   },
   {
    "duration": 9,
    "start_time": "2023-12-17T11:52:12.332Z"
   },
   {
    "duration": 17,
    "start_time": "2023-12-17T11:52:12.342Z"
   },
   {
    "duration": 11,
    "start_time": "2023-12-17T11:52:12.361Z"
   },
   {
    "duration": 9,
    "start_time": "2023-12-17T11:52:12.373Z"
   },
   {
    "duration": 30,
    "start_time": "2023-12-17T11:52:12.384Z"
   },
   {
    "duration": 74,
    "start_time": "2023-12-17T11:52:12.416Z"
   },
   {
    "duration": 4,
    "start_time": "2023-12-17T11:52:12.492Z"
   },
   {
    "duration": 34,
    "start_time": "2023-12-17T11:52:12.497Z"
   },
   {
    "duration": 7,
    "start_time": "2023-12-17T11:52:12.533Z"
   },
   {
    "duration": 19,
    "start_time": "2023-12-17T11:52:12.543Z"
   },
   {
    "duration": 19,
    "start_time": "2023-12-17T11:52:12.563Z"
   },
   {
    "duration": 1363,
    "start_time": "2023-12-17T11:52:12.615Z"
   },
   {
    "duration": 1569,
    "start_time": "2023-12-17T11:52:13.980Z"
   },
   {
    "duration": 145,
    "start_time": "2023-12-17T11:52:15.554Z"
   },
   {
    "duration": 165,
    "start_time": "2023-12-17T11:52:15.700Z"
   },
   {
    "duration": 187,
    "start_time": "2023-12-17T11:52:15.866Z"
   },
   {
    "duration": 6,
    "start_time": "2023-12-17T11:52:16.055Z"
   },
   {
    "duration": 184,
    "start_time": "2023-12-17T11:52:16.063Z"
   },
   {
    "duration": 165,
    "start_time": "2023-12-17T11:52:16.249Z"
   },
   {
    "duration": 3108,
    "start_time": "2023-12-17T11:52:16.424Z"
   },
   {
    "duration": 11,
    "start_time": "2023-12-17T11:52:19.534Z"
   },
   {
    "duration": 18,
    "start_time": "2023-12-17T11:52:19.548Z"
   },
   {
    "duration": 19,
    "start_time": "2023-12-17T11:52:19.568Z"
   },
   {
    "duration": 4583,
    "start_time": "2023-12-17T11:52:19.590Z"
   },
   {
    "duration": 14,
    "start_time": "2023-12-17T11:52:24.174Z"
   },
   {
    "duration": 139,
    "start_time": "2023-12-17T11:52:24.189Z"
   },
   {
    "duration": 0,
    "start_time": "2023-12-17T11:52:24.330Z"
   },
   {
    "duration": 0,
    "start_time": "2023-12-17T11:52:24.331Z"
   },
   {
    "duration": 7,
    "start_time": "2023-12-17T11:52:50.276Z"
   },
   {
    "duration": 12,
    "start_time": "2023-12-17T11:59:14.673Z"
   },
   {
    "duration": 1448,
    "start_time": "2023-12-17T11:59:23.924Z"
   },
   {
    "duration": 4,
    "start_time": "2023-12-17T11:59:25.373Z"
   },
   {
    "duration": 65,
    "start_time": "2023-12-17T11:59:25.378Z"
   },
   {
    "duration": 34,
    "start_time": "2023-12-17T11:59:25.445Z"
   },
   {
    "duration": 43,
    "start_time": "2023-12-17T11:59:25.481Z"
   },
   {
    "duration": 45,
    "start_time": "2023-12-17T11:59:25.527Z"
   },
   {
    "duration": 32,
    "start_time": "2023-12-17T11:59:25.574Z"
   },
   {
    "duration": 28,
    "start_time": "2023-12-17T11:59:25.608Z"
   },
   {
    "duration": 27,
    "start_time": "2023-12-17T11:59:25.637Z"
   },
   {
    "duration": 12,
    "start_time": "2023-12-17T11:59:25.666Z"
   },
   {
    "duration": 13,
    "start_time": "2023-12-17T11:59:25.679Z"
   },
   {
    "duration": 27,
    "start_time": "2023-12-17T11:59:25.694Z"
   },
   {
    "duration": 14,
    "start_time": "2023-12-17T11:59:25.724Z"
   },
   {
    "duration": 15,
    "start_time": "2023-12-17T11:59:25.742Z"
   },
   {
    "duration": 11,
    "start_time": "2023-12-17T11:59:25.759Z"
   },
   {
    "duration": 12,
    "start_time": "2023-12-17T11:59:25.772Z"
   },
   {
    "duration": 41,
    "start_time": "2023-12-17T11:59:25.786Z"
   },
   {
    "duration": 28,
    "start_time": "2023-12-17T11:59:25.829Z"
   },
   {
    "duration": 3,
    "start_time": "2023-12-17T11:59:25.859Z"
   },
   {
    "duration": 17,
    "start_time": "2023-12-17T11:59:25.863Z"
   },
   {
    "duration": 3,
    "start_time": "2023-12-17T11:59:25.881Z"
   },
   {
    "duration": 45,
    "start_time": "2023-12-17T11:59:25.886Z"
   },
   {
    "duration": 37,
    "start_time": "2023-12-17T11:59:25.933Z"
   },
   {
    "duration": 7,
    "start_time": "2023-12-17T11:59:25.971Z"
   },
   {
    "duration": 12,
    "start_time": "2023-12-17T11:59:25.979Z"
   },
   {
    "duration": 37,
    "start_time": "2023-12-17T11:59:25.992Z"
   },
   {
    "duration": 4,
    "start_time": "2023-12-17T11:59:26.031Z"
   },
   {
    "duration": 4,
    "start_time": "2023-12-17T11:59:26.036Z"
   },
   {
    "duration": 15,
    "start_time": "2023-12-17T11:59:26.042Z"
   },
   {
    "duration": 7,
    "start_time": "2023-12-17T11:59:26.058Z"
   },
   {
    "duration": 11,
    "start_time": "2023-12-17T11:59:26.066Z"
   },
   {
    "duration": 49,
    "start_time": "2023-12-17T11:59:26.078Z"
   },
   {
    "duration": 25,
    "start_time": "2023-12-17T11:59:26.129Z"
   },
   {
    "duration": 11,
    "start_time": "2023-12-17T11:59:26.155Z"
   },
   {
    "duration": 6,
    "start_time": "2023-12-17T11:59:26.168Z"
   },
   {
    "duration": 4,
    "start_time": "2023-12-17T11:59:26.176Z"
   },
   {
    "duration": 44,
    "start_time": "2023-12-17T11:59:26.181Z"
   },
   {
    "duration": 13,
    "start_time": "2023-12-17T11:59:26.227Z"
   },
   {
    "duration": 7,
    "start_time": "2023-12-17T11:59:26.242Z"
   },
   {
    "duration": 12,
    "start_time": "2023-12-17T11:59:26.251Z"
   },
   {
    "duration": 12,
    "start_time": "2023-12-17T11:59:26.269Z"
   },
   {
    "duration": 6,
    "start_time": "2023-12-17T11:59:26.282Z"
   },
   {
    "duration": 16,
    "start_time": "2023-12-17T11:59:26.314Z"
   },
   {
    "duration": 13,
    "start_time": "2023-12-17T11:59:26.332Z"
   },
   {
    "duration": 4,
    "start_time": "2023-12-17T11:59:26.347Z"
   },
   {
    "duration": 5,
    "start_time": "2023-12-17T11:59:26.352Z"
   },
   {
    "duration": 5,
    "start_time": "2023-12-17T11:59:26.359Z"
   },
   {
    "duration": 4,
    "start_time": "2023-12-17T11:59:26.365Z"
   },
   {
    "duration": 41,
    "start_time": "2023-12-17T11:59:26.371Z"
   },
   {
    "duration": 9,
    "start_time": "2023-12-17T11:59:26.413Z"
   },
   {
    "duration": 8,
    "start_time": "2023-12-17T11:59:26.423Z"
   },
   {
    "duration": 5,
    "start_time": "2023-12-17T11:59:26.433Z"
   },
   {
    "duration": 5,
    "start_time": "2023-12-17T11:59:26.440Z"
   },
   {
    "duration": 12,
    "start_time": "2023-12-17T11:59:26.447Z"
   },
   {
    "duration": 8,
    "start_time": "2023-12-17T11:59:26.460Z"
   },
   {
    "duration": 5,
    "start_time": "2023-12-17T11:59:26.469Z"
   },
   {
    "duration": 7,
    "start_time": "2023-12-17T11:59:26.513Z"
   },
   {
    "duration": 2,
    "start_time": "2023-12-17T11:59:26.522Z"
   },
   {
    "duration": 8,
    "start_time": "2023-12-17T11:59:26.528Z"
   },
   {
    "duration": 5,
    "start_time": "2023-12-17T11:59:26.537Z"
   },
   {
    "duration": 9,
    "start_time": "2023-12-17T11:59:26.544Z"
   },
   {
    "duration": 17,
    "start_time": "2023-12-17T11:59:26.554Z"
   },
   {
    "duration": 51,
    "start_time": "2023-12-17T11:59:26.572Z"
   },
   {
    "duration": 12,
    "start_time": "2023-12-17T11:59:26.625Z"
   },
   {
    "duration": 3,
    "start_time": "2023-12-17T11:59:26.639Z"
   },
   {
    "duration": 10,
    "start_time": "2023-12-17T11:59:26.644Z"
   },
   {
    "duration": 21,
    "start_time": "2023-12-17T11:59:26.655Z"
   },
   {
    "duration": 50,
    "start_time": "2023-12-17T11:59:26.678Z"
   },
   {
    "duration": 9,
    "start_time": "2023-12-17T11:59:26.729Z"
   },
   {
    "duration": 7,
    "start_time": "2023-12-17T11:59:26.740Z"
   },
   {
    "duration": 8,
    "start_time": "2023-12-17T11:59:26.748Z"
   },
   {
    "duration": 7,
    "start_time": "2023-12-17T11:59:26.757Z"
   },
   {
    "duration": 10,
    "start_time": "2023-12-17T11:59:26.766Z"
   },
   {
    "duration": 57,
    "start_time": "2023-12-17T11:59:26.811Z"
   },
   {
    "duration": 3,
    "start_time": "2023-12-17T11:59:26.869Z"
   },
   {
    "duration": 19,
    "start_time": "2023-12-17T11:59:26.873Z"
   },
   {
    "duration": 36,
    "start_time": "2023-12-17T11:59:26.893Z"
   },
   {
    "duration": 19,
    "start_time": "2023-12-17T11:59:26.930Z"
   },
   {
    "duration": 21,
    "start_time": "2023-12-17T11:59:26.950Z"
   },
   {
    "duration": 1453,
    "start_time": "2023-12-17T11:59:26.972Z"
   },
   {
    "duration": 1604,
    "start_time": "2023-12-17T11:59:28.427Z"
   },
   {
    "duration": 153,
    "start_time": "2023-12-17T11:59:30.033Z"
   },
   {
    "duration": 166,
    "start_time": "2023-12-17T11:59:30.188Z"
   },
   {
    "duration": 176,
    "start_time": "2023-12-17T11:59:30.355Z"
   },
   {
    "duration": 6,
    "start_time": "2023-12-17T11:59:30.534Z"
   },
   {
    "duration": 214,
    "start_time": "2023-12-17T11:59:30.541Z"
   },
   {
    "duration": 181,
    "start_time": "2023-12-17T11:59:30.757Z"
   },
   {
    "duration": 3153,
    "start_time": "2023-12-17T11:59:30.940Z"
   },
   {
    "duration": 26,
    "start_time": "2023-12-17T11:59:34.094Z"
   },
   {
    "duration": 18,
    "start_time": "2023-12-17T11:59:34.122Z"
   },
   {
    "duration": 12,
    "start_time": "2023-12-17T11:59:34.141Z"
   },
   {
    "duration": 4659,
    "start_time": "2023-12-17T11:59:34.155Z"
   },
   {
    "duration": 68,
    "start_time": "2023-12-17T11:59:38.815Z"
   },
   {
    "duration": 0,
    "start_time": "2023-12-17T11:59:38.885Z"
   },
   {
    "duration": 0,
    "start_time": "2023-12-17T11:59:38.887Z"
   },
   {
    "duration": 0,
    "start_time": "2023-12-17T11:59:38.888Z"
   },
   {
    "duration": 0,
    "start_time": "2023-12-17T11:59:38.890Z"
   },
   {
    "duration": 0,
    "start_time": "2023-12-17T11:59:38.891Z"
   },
   {
    "duration": 5,
    "start_time": "2023-12-17T12:00:02.891Z"
   },
   {
    "duration": 7,
    "start_time": "2023-12-17T12:00:45.953Z"
   },
   {
    "duration": 19,
    "start_time": "2023-12-17T12:01:08.632Z"
   },
   {
    "duration": 7,
    "start_time": "2023-12-17T12:01:10.786Z"
   },
   {
    "duration": 8,
    "start_time": "2023-12-17T12:01:38.766Z"
   },
   {
    "duration": 7,
    "start_time": "2023-12-17T12:02:07.435Z"
   },
   {
    "duration": 7,
    "start_time": "2023-12-17T12:03:57.217Z"
   },
   {
    "duration": 4,
    "start_time": "2023-12-17T12:04:39.996Z"
   },
   {
    "duration": 4,
    "start_time": "2023-12-17T12:04:50.243Z"
   },
   {
    "duration": 66,
    "start_time": "2023-12-17T12:15:50.191Z"
   },
   {
    "duration": 11,
    "start_time": "2023-12-17T12:18:35.537Z"
   },
   {
    "duration": 4,
    "start_time": "2023-12-17T12:21:21.962Z"
   },
   {
    "duration": 127,
    "start_time": "2023-12-17T12:21:54.910Z"
   },
   {
    "duration": 2,
    "start_time": "2023-12-17T12:22:09.401Z"
   },
   {
    "duration": 9,
    "start_time": "2023-12-17T12:22:44.178Z"
   },
   {
    "duration": 3,
    "start_time": "2023-12-17T12:23:00.378Z"
   },
   {
    "duration": 2,
    "start_time": "2023-12-17T12:23:04.233Z"
   },
   {
    "duration": 2,
    "start_time": "2023-12-17T12:24:21.002Z"
   },
   {
    "duration": 726,
    "start_time": "2023-12-17T12:24:23.104Z"
   },
   {
    "duration": 9,
    "start_time": "2023-12-17T12:24:55.877Z"
   },
   {
    "duration": 3,
    "start_time": "2023-12-17T12:25:03.694Z"
   },
   {
    "duration": 3,
    "start_time": "2023-12-17T12:26:56.458Z"
   },
   {
    "duration": 2,
    "start_time": "2023-12-17T12:27:22.857Z"
   },
   {
    "duration": 708,
    "start_time": "2023-12-17T12:27:55.167Z"
   },
   {
    "duration": 12,
    "start_time": "2023-12-17T12:28:24.851Z"
   },
   {
    "duration": 174738,
    "start_time": "2023-12-17T12:28:33.289Z"
   },
   {
    "duration": 3,
    "start_time": "2023-12-17T12:31:28.029Z"
   },
   {
    "duration": 3,
    "start_time": "2023-12-17T12:32:02.053Z"
   },
   {
    "duration": 20282,
    "start_time": "2023-12-17T12:32:02.458Z"
   },
   {
    "duration": 3,
    "start_time": "2023-12-17T12:32:24.673Z"
   },
   {
    "duration": 255245,
    "start_time": "2023-12-17T12:32:25.005Z"
   },
   {
    "duration": 0,
    "start_time": "2023-12-17T12:36:40.312Z"
   },
   {
    "duration": 3,
    "start_time": "2023-12-17T12:36:51.916Z"
   },
   {
    "duration": 79402,
    "start_time": "2023-12-17T12:36:52.141Z"
   },
   {
    "duration": 3,
    "start_time": "2023-12-17T12:38:58.381Z"
   },
   {
    "duration": 150852,
    "start_time": "2023-12-17T12:38:58.557Z"
   },
   {
    "duration": 16,
    "start_time": "2023-12-17T12:41:29.411Z"
   },
   {
    "duration": 4,
    "start_time": "2023-12-17T12:41:29.432Z"
   },
   {
    "duration": 8306780,
    "start_time": "2023-12-17T12:41:29.437Z"
   },
   {
    "duration": 3,
    "start_time": "2023-12-17T14:59:56.219Z"
   },
   {
    "duration": 12,
    "start_time": "2023-12-17T16:01:50.082Z"
   },
   {
    "duration": 8,
    "start_time": "2023-12-17T16:02:25.096Z"
   },
   {
    "duration": 2,
    "start_time": "2023-12-17T16:02:28.960Z"
   },
   {
    "duration": 16,
    "start_time": "2023-12-17T16:02:30.067Z"
   },
   {
    "duration": 11,
    "start_time": "2023-12-17T17:54:32.221Z"
   },
   {
    "duration": 4,
    "start_time": "2023-12-17T17:54:38.685Z"
   },
   {
    "duration": 8,
    "start_time": "2023-12-17T17:54:47.615Z"
   },
   {
    "duration": 4,
    "start_time": "2023-12-17T17:54:52.940Z"
   },
   {
    "duration": 5,
    "start_time": "2023-12-17T17:54:56.921Z"
   },
   {
    "duration": 32725,
    "start_time": "2023-12-18T20:21:18.798Z"
   },
   {
    "duration": 0,
    "start_time": "2023-12-18T20:21:51.525Z"
   },
   {
    "duration": 0,
    "start_time": "2023-12-18T20:21:51.602Z"
   },
   {
    "duration": 0,
    "start_time": "2023-12-18T20:21:51.603Z"
   },
   {
    "duration": 1,
    "start_time": "2023-12-18T20:21:52.102Z"
   },
   {
    "duration": 0,
    "start_time": "2023-12-18T20:21:52.104Z"
   },
   {
    "duration": 0,
    "start_time": "2023-12-18T20:21:52.106Z"
   },
   {
    "duration": 0,
    "start_time": "2023-12-18T20:21:52.107Z"
   },
   {
    "duration": 0,
    "start_time": "2023-12-18T20:21:52.109Z"
   },
   {
    "duration": 0,
    "start_time": "2023-12-18T20:21:52.110Z"
   },
   {
    "duration": 0,
    "start_time": "2023-12-18T20:21:52.111Z"
   },
   {
    "duration": 0,
    "start_time": "2023-12-18T20:21:52.113Z"
   },
   {
    "duration": 0,
    "start_time": "2023-12-18T20:21:52.114Z"
   },
   {
    "duration": 0,
    "start_time": "2023-12-18T20:21:52.115Z"
   },
   {
    "duration": 0,
    "start_time": "2023-12-18T20:21:52.117Z"
   },
   {
    "duration": 0,
    "start_time": "2023-12-18T20:21:52.119Z"
   },
   {
    "duration": 0,
    "start_time": "2023-12-18T20:21:52.120Z"
   },
   {
    "duration": 0,
    "start_time": "2023-12-18T20:21:52.121Z"
   },
   {
    "duration": 0,
    "start_time": "2023-12-18T20:21:52.200Z"
   },
   {
    "duration": 0,
    "start_time": "2023-12-18T20:21:52.201Z"
   },
   {
    "duration": 0,
    "start_time": "2023-12-18T20:21:52.202Z"
   },
   {
    "duration": 0,
    "start_time": "2023-12-18T20:21:52.204Z"
   },
   {
    "duration": 0,
    "start_time": "2023-12-18T20:21:52.205Z"
   },
   {
    "duration": 0,
    "start_time": "2023-12-18T20:21:52.206Z"
   },
   {
    "duration": 0,
    "start_time": "2023-12-18T20:21:52.208Z"
   },
   {
    "duration": 0,
    "start_time": "2023-12-18T20:21:52.209Z"
   },
   {
    "duration": 0,
    "start_time": "2023-12-18T20:21:52.210Z"
   },
   {
    "duration": 0,
    "start_time": "2023-12-18T20:21:52.212Z"
   },
   {
    "duration": 0,
    "start_time": "2023-12-18T20:21:52.213Z"
   },
   {
    "duration": 0,
    "start_time": "2023-12-18T20:21:52.215Z"
   },
   {
    "duration": 0,
    "start_time": "2023-12-18T20:21:52.216Z"
   },
   {
    "duration": 0,
    "start_time": "2023-12-18T20:21:52.217Z"
   },
   {
    "duration": 0,
    "start_time": "2023-12-18T20:21:52.218Z"
   },
   {
    "duration": 1599,
    "start_time": "2023-12-18T20:49:05.853Z"
   },
   {
    "duration": 3,
    "start_time": "2023-12-18T20:49:07.454Z"
   },
   {
    "duration": 101,
    "start_time": "2023-12-18T20:49:07.458Z"
   },
   {
    "duration": 116,
    "start_time": "2023-12-18T20:49:07.560Z"
   },
   {
    "duration": 96,
    "start_time": "2023-12-18T20:49:07.677Z"
   },
   {
    "duration": 64,
    "start_time": "2023-12-18T20:49:07.774Z"
   },
   {
    "duration": 106,
    "start_time": "2023-12-18T20:49:07.839Z"
   },
   {
    "duration": 63,
    "start_time": "2023-12-18T20:49:07.947Z"
   },
   {
    "duration": 82,
    "start_time": "2023-12-18T20:49:08.012Z"
   },
   {
    "duration": 15,
    "start_time": "2023-12-18T20:49:08.096Z"
   },
   {
    "duration": 18,
    "start_time": "2023-12-18T20:49:08.113Z"
   },
   {
    "duration": 9,
    "start_time": "2023-12-18T20:49:08.132Z"
   },
   {
    "duration": 24,
    "start_time": "2023-12-18T20:49:08.143Z"
   },
   {
    "duration": 19,
    "start_time": "2023-12-18T20:49:08.168Z"
   },
   {
    "duration": 12,
    "start_time": "2023-12-18T20:49:08.188Z"
   },
   {
    "duration": 10,
    "start_time": "2023-12-18T20:49:08.201Z"
   },
   {
    "duration": 8,
    "start_time": "2023-12-18T20:49:08.213Z"
   },
   {
    "duration": 15,
    "start_time": "2023-12-18T20:49:08.222Z"
   },
   {
    "duration": 2,
    "start_time": "2023-12-18T20:49:08.239Z"
   },
   {
    "duration": 28,
    "start_time": "2023-12-18T20:49:08.242Z"
   },
   {
    "duration": 22,
    "start_time": "2023-12-18T20:49:08.272Z"
   },
   {
    "duration": 17,
    "start_time": "2023-12-18T20:49:08.296Z"
   },
   {
    "duration": 34,
    "start_time": "2023-12-18T20:49:08.315Z"
   },
   {
    "duration": 6,
    "start_time": "2023-12-18T20:49:08.351Z"
   },
   {
    "duration": 10,
    "start_time": "2023-12-18T20:49:08.358Z"
   },
   {
    "duration": 30,
    "start_time": "2023-12-18T20:49:08.370Z"
   },
   {
    "duration": 4,
    "start_time": "2023-12-18T20:49:08.401Z"
   },
   {
    "duration": 3,
    "start_time": "2023-12-18T20:49:08.409Z"
   },
   {
    "duration": 11,
    "start_time": "2023-12-18T20:49:08.413Z"
   },
   {
    "duration": 6,
    "start_time": "2023-12-18T20:49:08.425Z"
   },
   {
    "duration": 11,
    "start_time": "2023-12-18T20:49:08.433Z"
   },
   {
    "duration": 34,
    "start_time": "2023-12-18T20:49:08.446Z"
   },
   {
    "duration": 35,
    "start_time": "2023-12-18T20:49:08.482Z"
   },
   {
    "duration": 10,
    "start_time": "2023-12-18T20:49:08.519Z"
   },
   {
    "duration": 32,
    "start_time": "2023-12-18T20:49:08.531Z"
   },
   {
    "duration": 17,
    "start_time": "2023-12-18T20:49:08.565Z"
   },
   {
    "duration": 25,
    "start_time": "2023-12-18T20:49:08.583Z"
   },
   {
    "duration": 15,
    "start_time": "2023-12-18T20:49:08.610Z"
   },
   {
    "duration": 22,
    "start_time": "2023-12-18T20:49:08.626Z"
   },
   {
    "duration": 22,
    "start_time": "2023-12-18T20:49:08.650Z"
   },
   {
    "duration": 34,
    "start_time": "2023-12-18T20:49:08.674Z"
   },
   {
    "duration": 20,
    "start_time": "2023-12-18T20:49:08.710Z"
   },
   {
    "duration": 29,
    "start_time": "2023-12-18T20:49:08.732Z"
   },
   {
    "duration": 28,
    "start_time": "2023-12-18T20:49:08.763Z"
   },
   {
    "duration": 21,
    "start_time": "2023-12-18T20:49:08.792Z"
   },
   {
    "duration": 14,
    "start_time": "2023-12-18T20:49:08.815Z"
   },
   {
    "duration": 7,
    "start_time": "2023-12-18T20:49:08.830Z"
   },
   {
    "duration": 12,
    "start_time": "2023-12-18T20:49:08.839Z"
   },
   {
    "duration": 24,
    "start_time": "2023-12-18T20:49:08.852Z"
   },
   {
    "duration": 20,
    "start_time": "2023-12-18T20:49:08.877Z"
   },
   {
    "duration": 13,
    "start_time": "2023-12-18T20:49:08.898Z"
   },
   {
    "duration": 15,
    "start_time": "2023-12-18T20:49:08.912Z"
   },
   {
    "duration": 6,
    "start_time": "2023-12-18T20:49:08.928Z"
   },
   {
    "duration": 14,
    "start_time": "2023-12-18T20:49:08.935Z"
   },
   {
    "duration": 17,
    "start_time": "2023-12-18T20:49:08.951Z"
   },
   {
    "duration": 6,
    "start_time": "2023-12-18T20:49:08.970Z"
   },
   {
    "duration": 19,
    "start_time": "2023-12-18T20:49:08.977Z"
   },
   {
    "duration": 22,
    "start_time": "2023-12-18T20:49:08.998Z"
   },
   {
    "duration": 9,
    "start_time": "2023-12-18T20:49:09.022Z"
   },
   {
    "duration": 11,
    "start_time": "2023-12-18T20:49:09.032Z"
   },
   {
    "duration": 14,
    "start_time": "2023-12-18T20:49:09.045Z"
   },
   {
    "duration": 21,
    "start_time": "2023-12-18T20:49:09.061Z"
   },
   {
    "duration": 20,
    "start_time": "2023-12-18T20:49:09.084Z"
   },
   {
    "duration": 11,
    "start_time": "2023-12-18T20:49:09.107Z"
   },
   {
    "duration": 4,
    "start_time": "2023-12-18T20:49:09.119Z"
   },
   {
    "duration": 14,
    "start_time": "2023-12-18T20:49:09.124Z"
   },
   {
    "duration": 20,
    "start_time": "2023-12-18T20:49:09.139Z"
   },
   {
    "duration": 16,
    "start_time": "2023-12-18T20:49:09.187Z"
   },
   {
    "duration": 10,
    "start_time": "2023-12-18T20:49:09.204Z"
   },
   {
    "duration": 6,
    "start_time": "2023-12-18T20:49:09.215Z"
   },
   {
    "duration": 13,
    "start_time": "2023-12-18T20:49:09.223Z"
   },
   {
    "duration": 6,
    "start_time": "2023-12-18T20:49:09.237Z"
   },
   {
    "duration": 8,
    "start_time": "2023-12-18T20:49:09.244Z"
   },
   {
    "duration": 73,
    "start_time": "2023-12-18T20:49:09.253Z"
   },
   {
    "duration": 2,
    "start_time": "2023-12-18T20:49:09.327Z"
   },
   {
    "duration": 22,
    "start_time": "2023-12-18T20:49:09.330Z"
   },
   {
    "duration": 27,
    "start_time": "2023-12-18T20:49:09.354Z"
   },
   {
    "duration": 14,
    "start_time": "2023-12-18T20:49:09.392Z"
   },
   {
    "duration": 17,
    "start_time": "2023-12-18T20:49:09.408Z"
   },
   {
    "duration": 1321,
    "start_time": "2023-12-18T20:49:09.427Z"
   },
   {
    "duration": 1557,
    "start_time": "2023-12-18T20:49:10.750Z"
   },
   {
    "duration": 145,
    "start_time": "2023-12-18T20:49:12.313Z"
   },
   {
    "duration": 190,
    "start_time": "2023-12-18T20:49:12.460Z"
   },
   {
    "duration": 166,
    "start_time": "2023-12-18T20:49:12.651Z"
   },
   {
    "duration": 6,
    "start_time": "2023-12-18T20:49:12.819Z"
   },
   {
    "duration": 438,
    "start_time": "2023-12-18T20:49:12.827Z"
   },
   {
    "duration": 164,
    "start_time": "2023-12-18T20:49:13.266Z"
   },
   {
    "duration": 2989,
    "start_time": "2023-12-18T20:49:13.432Z"
   },
   {
    "duration": 10,
    "start_time": "2023-12-18T20:49:16.422Z"
   },
   {
    "duration": 19,
    "start_time": "2023-12-18T20:49:16.433Z"
   },
   {
    "duration": 15,
    "start_time": "2023-12-18T20:49:16.453Z"
   },
   {
    "duration": 4153,
    "start_time": "2023-12-18T20:49:16.470Z"
   },
   {
    "duration": 7,
    "start_time": "2023-12-18T20:49:20.624Z"
   },
   {
    "duration": 46,
    "start_time": "2023-12-18T20:49:20.632Z"
   },
   {
    "duration": 19,
    "start_time": "2023-12-18T20:49:20.679Z"
   },
   {
    "duration": 50,
    "start_time": "2023-12-18T20:49:20.700Z"
   },
   {
    "duration": 25,
    "start_time": "2023-12-18T20:49:20.751Z"
   },
   {
    "duration": 31,
    "start_time": "2023-12-18T20:49:20.778Z"
   },
   {
    "duration": 28,
    "start_time": "2023-12-18T20:49:20.810Z"
   },
   {
    "duration": 12,
    "start_time": "2023-12-18T20:49:20.839Z"
   },
   {
    "duration": 6,
    "start_time": "2023-12-18T20:49:20.852Z"
   },
   {
    "duration": 678,
    "start_time": "2023-12-18T20:49:20.859Z"
   },
   {
    "duration": 3,
    "start_time": "2023-12-18T20:49:21.538Z"
   },
   {
    "duration": 3,
    "start_time": "2023-12-18T20:49:21.543Z"
   },
   {
    "duration": 143422,
    "start_time": "2023-12-18T20:49:21.547Z"
   },
   {
    "duration": 3,
    "start_time": "2023-12-18T20:51:44.970Z"
   },
   {
    "duration": 10,
    "start_time": "2023-12-18T20:51:44.974Z"
   },
   {
    "duration": 781903,
    "start_time": "2023-12-18T20:51:44.994Z"
   },
   {
    "duration": 3,
    "start_time": "2023-12-18T21:04:46.898Z"
   },
   {
    "duration": 6,
    "start_time": "2023-12-18T21:04:46.903Z"
   },
   {
    "duration": 3,
    "start_time": "2023-12-18T21:04:46.911Z"
   },
   {
    "duration": 20,
    "start_time": "2023-12-18T21:04:46.915Z"
   },
   {
    "duration": 3,
    "start_time": "2023-12-18T21:04:46.936Z"
   },
   {
    "duration": 1602,
    "start_time": "2023-12-19T19:07:15.168Z"
   },
   {
    "duration": 3,
    "start_time": "2023-12-19T19:07:16.772Z"
   },
   {
    "duration": 112,
    "start_time": "2023-12-19T19:07:16.776Z"
   },
   {
    "duration": 111,
    "start_time": "2023-12-19T19:07:16.890Z"
   },
   {
    "duration": 100,
    "start_time": "2023-12-19T19:07:17.003Z"
   },
   {
    "duration": 60,
    "start_time": "2023-12-19T19:07:17.105Z"
   },
   {
    "duration": 101,
    "start_time": "2023-12-19T19:07:17.166Z"
   },
   {
    "duration": 61,
    "start_time": "2023-12-19T19:07:17.268Z"
   },
   {
    "duration": 72,
    "start_time": "2023-12-19T19:07:17.331Z"
   },
   {
    "duration": 12,
    "start_time": "2023-12-19T19:07:19.838Z"
   },
   {
    "duration": 11,
    "start_time": "2023-12-19T19:07:20.181Z"
   },
   {
    "duration": 12,
    "start_time": "2023-12-19T19:07:20.531Z"
   },
   {
    "duration": 9,
    "start_time": "2023-12-19T19:07:20.863Z"
   },
   {
    "duration": 10,
    "start_time": "2023-12-19T19:07:21.186Z"
   },
   {
    "duration": 11,
    "start_time": "2023-12-19T19:07:21.527Z"
   },
   {
    "duration": 11,
    "start_time": "2023-12-19T19:07:21.900Z"
   },
   {
    "duration": 10,
    "start_time": "2023-12-19T19:07:22.378Z"
   },
   {
    "duration": 20,
    "start_time": "2023-12-19T19:07:23.700Z"
   },
   {
    "duration": 3,
    "start_time": "2023-12-19T19:07:24.225Z"
   },
   {
    "duration": 14,
    "start_time": "2023-12-19T19:07:24.576Z"
   },
   {
    "duration": 3,
    "start_time": "2023-12-19T19:07:24.962Z"
   },
   {
    "duration": 12,
    "start_time": "2023-12-19T19:07:25.345Z"
   },
   {
    "duration": 35,
    "start_time": "2023-12-19T19:07:25.738Z"
   },
   {
    "duration": 7,
    "start_time": "2023-12-19T19:07:26.135Z"
   },
   {
    "duration": 8,
    "start_time": "2023-12-19T19:07:26.503Z"
   },
   {
    "duration": 14,
    "start_time": "2023-12-19T19:07:26.735Z"
   },
   {
    "duration": 4,
    "start_time": "2023-12-19T19:07:27.081Z"
   },
   {
    "duration": 3,
    "start_time": "2023-12-19T19:07:27.461Z"
   },
   {
    "duration": 10,
    "start_time": "2023-12-19T19:07:27.627Z"
   },
   {
    "duration": 7,
    "start_time": "2023-12-19T19:07:27.883Z"
   },
   {
    "duration": 12,
    "start_time": "2023-12-19T19:07:28.265Z"
   },
   {
    "duration": 10,
    "start_time": "2023-12-19T19:07:28.951Z"
   },
   {
    "duration": 23,
    "start_time": "2023-12-19T19:07:28.963Z"
   },
   {
    "duration": 12,
    "start_time": "2023-12-19T19:07:29.182Z"
   },
   {
    "duration": 6,
    "start_time": "2023-12-19T19:07:29.558Z"
   },
   {
    "duration": 5,
    "start_time": "2023-12-19T19:07:29.925Z"
   },
   {
    "duration": 6,
    "start_time": "2023-12-19T19:07:30.175Z"
   },
   {
    "duration": 9,
    "start_time": "2023-12-19T19:07:30.635Z"
   },
   {
    "duration": 6,
    "start_time": "2023-12-19T19:07:31.019Z"
   },
   {
    "duration": 12,
    "start_time": "2023-12-19T19:07:31.396Z"
   },
   {
    "duration": 12,
    "start_time": "2023-12-19T19:07:31.785Z"
   },
   {
    "duration": 5,
    "start_time": "2023-12-19T19:07:32.154Z"
   },
   {
    "duration": 12,
    "start_time": "2023-12-19T19:07:32.542Z"
   },
   {
    "duration": 12,
    "start_time": "2023-12-19T19:07:32.868Z"
   },
   {
    "duration": 5,
    "start_time": "2023-12-19T19:07:33.258Z"
   },
   {
    "duration": 5,
    "start_time": "2023-12-19T19:07:33.651Z"
   },
   {
    "duration": 5,
    "start_time": "2023-12-19T19:07:34.017Z"
   },
   {
    "duration": 5,
    "start_time": "2023-12-19T19:07:34.399Z"
   },
   {
    "duration": 5,
    "start_time": "2023-12-19T19:07:34.763Z"
   },
   {
    "duration": 5,
    "start_time": "2023-12-19T19:07:35.117Z"
   },
   {
    "duration": 4,
    "start_time": "2023-12-19T19:07:35.486Z"
   },
   {
    "duration": 4,
    "start_time": "2023-12-19T19:07:35.855Z"
   },
   {
    "duration": 4,
    "start_time": "2023-12-19T19:07:36.218Z"
   },
   {
    "duration": 9,
    "start_time": "2023-12-19T19:07:36.595Z"
   },
   {
    "duration": 7,
    "start_time": "2023-12-19T19:07:36.964Z"
   },
   {
    "duration": 5,
    "start_time": "2023-12-19T19:07:37.370Z"
   },
   {
    "duration": 5,
    "start_time": "2023-12-19T19:07:37.735Z"
   },
   {
    "duration": 3,
    "start_time": "2023-12-19T19:07:38.122Z"
   },
   {
    "duration": 6,
    "start_time": "2023-12-19T19:07:38.392Z"
   },
   {
    "duration": 6,
    "start_time": "2023-12-19T19:07:38.530Z"
   },
   {
    "duration": 9,
    "start_time": "2023-12-19T19:07:38.917Z"
   },
   {
    "duration": 15,
    "start_time": "2023-12-19T19:07:39.698Z"
   },
   {
    "duration": 15,
    "start_time": "2023-12-19T19:07:40.263Z"
   },
   {
    "duration": 11,
    "start_time": "2023-12-19T19:07:40.909Z"
   },
   {
    "duration": 4,
    "start_time": "2023-12-19T19:07:41.296Z"
   },
   {
    "duration": 10,
    "start_time": "2023-12-19T19:07:41.707Z"
   },
   {
    "duration": 22,
    "start_time": "2023-12-19T19:07:41.859Z"
   },
   {
    "duration": 22,
    "start_time": "2023-12-19T19:07:42.266Z"
   },
   {
    "duration": 9,
    "start_time": "2023-12-19T19:07:42.539Z"
   },
   {
    "duration": 7,
    "start_time": "2023-12-19T19:07:42.920Z"
   },
   {
    "duration": 9,
    "start_time": "2023-12-19T19:07:43.322Z"
   },
   {
    "duration": 7,
    "start_time": "2023-12-19T19:07:43.702Z"
   },
   {
    "duration": 8,
    "start_time": "2023-12-19T19:07:44.119Z"
   },
   {
    "duration": 47,
    "start_time": "2023-12-19T19:07:44.535Z"
   },
   {
    "duration": 2,
    "start_time": "2023-12-19T19:07:45.114Z"
   },
   {
    "duration": 17,
    "start_time": "2023-12-19T19:07:45.897Z"
   },
   {
    "duration": 8,
    "start_time": "2023-12-19T19:07:47.091Z"
   },
   {
    "duration": 15,
    "start_time": "2023-12-19T19:07:47.450Z"
   },
   {
    "duration": 18,
    "start_time": "2023-12-19T19:07:47.683Z"
   },
   {
    "duration": 1423,
    "start_time": "2023-12-19T19:07:47.836Z"
   },
   {
    "duration": 1485,
    "start_time": "2023-12-19T19:07:49.261Z"
   },
   {
    "duration": 138,
    "start_time": "2023-12-19T19:07:50.748Z"
   },
   {
    "duration": 1582,
    "start_time": "2023-12-19T19:09:41.465Z"
   },
   {
    "duration": 3285,
    "start_time": "2023-12-19T19:09:52.664Z"
   },
   {
    "duration": 1857,
    "start_time": "2023-12-19T19:10:04.427Z"
   },
   {
    "duration": 132,
    "start_time": "2023-12-19T19:10:15.369Z"
   },
   {
    "duration": 136,
    "start_time": "2023-12-19T19:10:15.735Z"
   },
   {
    "duration": 140,
    "start_time": "2023-12-19T19:10:16.116Z"
   },
   {
    "duration": 5,
    "start_time": "2023-12-19T19:10:16.505Z"
   },
   {
    "duration": 151,
    "start_time": "2023-12-19T19:10:16.864Z"
   },
   {
    "duration": 142,
    "start_time": "2023-12-19T19:10:17.228Z"
   },
   {
    "duration": 2875,
    "start_time": "2023-12-19T19:10:17.693Z"
   },
   {
    "duration": 9,
    "start_time": "2023-12-19T19:10:20.570Z"
   },
   {
    "duration": 40,
    "start_time": "2023-12-19T19:10:20.581Z"
   },
   {
    "duration": 9,
    "start_time": "2023-12-19T19:10:20.623Z"
   },
   {
    "duration": 4234,
    "start_time": "2023-12-19T19:10:20.634Z"
   },
   {
    "duration": 7,
    "start_time": "2023-12-19T19:10:24.870Z"
   },
   {
    "duration": 21,
    "start_time": "2023-12-19T19:10:24.878Z"
   },
   {
    "duration": 5,
    "start_time": "2023-12-19T19:10:24.901Z"
   },
   {
    "duration": 7,
    "start_time": "2023-12-19T19:10:24.907Z"
   },
   {
    "duration": 6,
    "start_time": "2023-12-19T19:10:24.915Z"
   },
   {
    "duration": 13,
    "start_time": "2023-12-19T19:10:24.922Z"
   },
   {
    "duration": 11,
    "start_time": "2023-12-19T19:10:25.071Z"
   },
   {
    "duration": 3,
    "start_time": "2023-12-19T19:10:34.164Z"
   },
   {
    "duration": 140347,
    "start_time": "2023-12-19T19:10:34.345Z"
   },
   {
    "duration": 3,
    "start_time": "2023-12-19T19:12:54.694Z"
   },
   {
    "duration": 41,
    "start_time": "2023-12-19T19:12:54.698Z"
   },
   {
    "duration": 28,
    "start_time": "2023-12-19T19:12:54.741Z"
   },
   {
    "duration": 33,
    "start_time": "2023-12-19T19:12:54.771Z"
   },
   {
    "duration": 14,
    "start_time": "2023-12-19T19:12:54.805Z"
   },
   {
    "duration": 26,
    "start_time": "2023-12-19T19:12:54.820Z"
   },
   {
    "duration": 690,
    "start_time": "2023-12-19T19:19:26.156Z"
   }
  ],
  "kernelspec": {
   "display_name": "Python 3 (ipykernel)",
   "language": "python",
   "name": "python3"
  },
  "language_info": {
   "codemirror_mode": {
    "name": "ipython",
    "version": 3
   },
   "file_extension": ".py",
   "mimetype": "text/x-python",
   "name": "python",
   "nbconvert_exporter": "python",
   "pygments_lexer": "ipython3",
   "version": "3.12.0"
  },
  "toc": {
   "base_numbering": 1,
   "nav_menu": {},
   "number_sections": true,
   "sideBar": true,
   "skip_h1_title": true,
   "title_cell": "Table of Contents",
   "title_sidebar": "Contents",
   "toc_cell": false,
   "toc_position": {
    "height": "calc(100% - 180px)",
    "left": "10px",
    "top": "150px",
    "width": "189px"
   },
   "toc_section_display": true,
   "toc_window_display": true
  }
 },
 "nbformat": 4,
 "nbformat_minor": 5
}
